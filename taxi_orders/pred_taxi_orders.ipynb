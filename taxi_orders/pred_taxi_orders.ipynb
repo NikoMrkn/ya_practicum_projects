{
 "cells": [
  {
   "cell_type": "markdown",
   "metadata": {},
   "source": [
    "#  Прогнозирование заказов такси"
   ]
  },
  {
   "cell_type": "markdown",
   "metadata": {},
   "source": [
    "Компания собрала исторические данные о заказах такси в аэропортах. Чтобы привлекать больше водителей в период пиковой нагрузки, нужно спрогнозировать количество заказов такси на следующий час. Задача построить модель для такого предсказания.\n",
    "\n",
    "Значение метрики *RMSE* на тестовой выборке должно быть не больше 48.\n",
    "\n",
    "Нужно:\n",
    "\n",
    "1. Загрузить данные и выполнить их ресемплирование по одному часу.\n",
    "2. Проанализировать данные.\n",
    "3. Обучить разные модели (LinearRegression, RandomForestRegressor, LGBMRegressor) с различными гиперпараметрами. Сделать тестовую выборку размером 10% от исходных данных.\n",
    "4. Проверить данные на тестовой выборке и сделать выводы."
   ]
  },
  {
   "cell_type": "code",
   "execution_count": 1,
   "metadata": {},
   "outputs": [
    {
     "name": "stdout",
     "output_type": "stream",
     "text": [
      "Note: you may need to restart the kernel to use updated packages.\n",
      "Note: you may need to restart the kernel to use updated packages.\n"
     ]
    }
   ],
   "source": [
    "%pip install scikit-learn -q -U \n",
    "%pip install lightgbm -q"
   ]
  },
  {
   "cell_type": "code",
   "execution_count": 2,
   "metadata": {},
   "outputs": [],
   "source": [
    "import pandas as pd\n",
    "import numpy as np\n",
    "import warnings\n",
    "import seaborn as sns\n",
    "import matplotlib.pyplot as plt\n",
    "\n",
    "from sklearn.model_selection import train_test_split, TimeSeriesSplit\n",
    "\n",
    "from sklearn.pipeline import Pipeline\n",
    "from sklearn.compose import ColumnTransformer\n",
    "\n",
    "from sklearn.impute import SimpleImputer\n",
    "\n",
    "from sklearn.preprocessing import StandardScaler\n",
    "\n",
    "\n",
    "from statsmodels.tsa.seasonal import seasonal_decompose\n",
    "\n",
    "from sklearn.model_selection import GridSearchCV\n",
    "from sklearn.metrics import root_mean_squared_error\n",
    "\n",
    "from lightgbm import LGBMRegressor\n",
    "from sklearn.ensemble import RandomForestRegressor\n",
    "from sklearn.linear_model import LinearRegression"
   ]
  },
  {
   "cell_type": "code",
   "execution_count": 3,
   "metadata": {},
   "outputs": [],
   "source": [
    "warnings.filterwarnings('ignore')"
   ]
  },
  {
   "cell_type": "code",
   "execution_count": 4,
   "metadata": {},
   "outputs": [],
   "source": [
    "RANDOM_STATE = 42"
   ]
  },
  {
   "cell_type": "markdown",
   "metadata": {},
   "source": [
    "## Подготовка"
   ]
  },
  {
   "cell_type": "code",
   "execution_count": 5,
   "metadata": {},
   "outputs": [
    {
     "name": "stdout",
     "output_type": "stream",
     "text": [
      "<class 'pandas.core.frame.DataFrame'>\n",
      "DatetimeIndex: 26496 entries, 2018-03-01 00:00:00 to 2018-08-31 23:50:00\n",
      "Data columns (total 1 columns):\n",
      " #   Column      Non-Null Count  Dtype\n",
      "---  ------      --------------  -----\n",
      " 0   num_orders  26496 non-null  int64\n",
      "dtypes: int64(1)\n",
      "memory usage: 414.0 KB\n"
     ]
    },
    {
     "data": {
      "text/html": [
       "<div>\n",
       "<style scoped>\n",
       "    .dataframe tbody tr th:only-of-type {\n",
       "        vertical-align: middle;\n",
       "    }\n",
       "\n",
       "    .dataframe tbody tr th {\n",
       "        vertical-align: top;\n",
       "    }\n",
       "\n",
       "    .dataframe thead th {\n",
       "        text-align: right;\n",
       "    }\n",
       "</style>\n",
       "<table border=\"1\" class=\"dataframe\">\n",
       "  <thead>\n",
       "    <tr style=\"text-align: right;\">\n",
       "      <th></th>\n",
       "      <th>num_orders</th>\n",
       "    </tr>\n",
       "    <tr>\n",
       "      <th>datetime</th>\n",
       "      <th></th>\n",
       "    </tr>\n",
       "  </thead>\n",
       "  <tbody>\n",
       "    <tr>\n",
       "      <th>2018-03-01 00:00:00</th>\n",
       "      <td>9</td>\n",
       "    </tr>\n",
       "    <tr>\n",
       "      <th>2018-03-01 00:10:00</th>\n",
       "      <td>14</td>\n",
       "    </tr>\n",
       "    <tr>\n",
       "      <th>2018-03-01 00:20:00</th>\n",
       "      <td>28</td>\n",
       "    </tr>\n",
       "    <tr>\n",
       "      <th>2018-03-01 00:30:00</th>\n",
       "      <td>20</td>\n",
       "    </tr>\n",
       "    <tr>\n",
       "      <th>2018-03-01 00:40:00</th>\n",
       "      <td>32</td>\n",
       "    </tr>\n",
       "  </tbody>\n",
       "</table>\n",
       "</div>"
      ],
      "text/plain": [
       "                     num_orders\n",
       "datetime                       \n",
       "2018-03-01 00:00:00           9\n",
       "2018-03-01 00:10:00          14\n",
       "2018-03-01 00:20:00          28\n",
       "2018-03-01 00:30:00          20\n",
       "2018-03-01 00:40:00          32"
      ]
     },
     "metadata": {},
     "output_type": "display_data"
    }
   ],
   "source": [
    "df = pd.read_csv(r'../datasets/taxi.csv', index_col=[0], parse_dates=[0])\n",
    "df.sort_index(inplace=True)\n",
    "df.info()\n",
    "display(df.head())"
   ]
  },
  {
   "cell_type": "code",
   "execution_count": 6,
   "metadata": {},
   "outputs": [],
   "source": [
    "df = df.resample('1h').sum()"
   ]
  },
  {
   "cell_type": "code",
   "execution_count": 7,
   "metadata": {},
   "outputs": [
    {
     "data": {
      "text/html": [
       "<div>\n",
       "<style scoped>\n",
       "    .dataframe tbody tr th:only-of-type {\n",
       "        vertical-align: middle;\n",
       "    }\n",
       "\n",
       "    .dataframe tbody tr th {\n",
       "        vertical-align: top;\n",
       "    }\n",
       "\n",
       "    .dataframe thead th {\n",
       "        text-align: right;\n",
       "    }\n",
       "</style>\n",
       "<table border=\"1\" class=\"dataframe\">\n",
       "  <thead>\n",
       "    <tr style=\"text-align: right;\">\n",
       "      <th></th>\n",
       "      <th>num_orders</th>\n",
       "    </tr>\n",
       "    <tr>\n",
       "      <th>datetime</th>\n",
       "      <th></th>\n",
       "    </tr>\n",
       "  </thead>\n",
       "  <tbody>\n",
       "    <tr>\n",
       "      <th>2018-03-01 00:00:00</th>\n",
       "      <td>124</td>\n",
       "    </tr>\n",
       "    <tr>\n",
       "      <th>2018-03-01 01:00:00</th>\n",
       "      <td>85</td>\n",
       "    </tr>\n",
       "    <tr>\n",
       "      <th>2018-03-01 02:00:00</th>\n",
       "      <td>71</td>\n",
       "    </tr>\n",
       "    <tr>\n",
       "      <th>2018-03-01 03:00:00</th>\n",
       "      <td>66</td>\n",
       "    </tr>\n",
       "    <tr>\n",
       "      <th>2018-03-01 04:00:00</th>\n",
       "      <td>43</td>\n",
       "    </tr>\n",
       "  </tbody>\n",
       "</table>\n",
       "</div>"
      ],
      "text/plain": [
       "                     num_orders\n",
       "datetime                       \n",
       "2018-03-01 00:00:00         124\n",
       "2018-03-01 01:00:00          85\n",
       "2018-03-01 02:00:00          71\n",
       "2018-03-01 03:00:00          66\n",
       "2018-03-01 04:00:00          43"
      ]
     },
     "execution_count": 7,
     "metadata": {},
     "output_type": "execute_result"
    }
   ],
   "source": [
    "df.head()"
   ]
  },
  {
   "cell_type": "markdown",
   "metadata": {},
   "source": [
    "Были загружены данные и проведено первичное ознакомление"
   ]
  },
  {
   "cell_type": "markdown",
   "metadata": {},
   "source": [
    "## Анализ"
   ]
  },
  {
   "cell_type": "code",
   "execution_count": 8,
   "metadata": {},
   "outputs": [
    {
     "data": {
      "text/html": [
       "<div>\n",
       "<style scoped>\n",
       "    .dataframe tbody tr th:only-of-type {\n",
       "        vertical-align: middle;\n",
       "    }\n",
       "\n",
       "    .dataframe tbody tr th {\n",
       "        vertical-align: top;\n",
       "    }\n",
       "\n",
       "    .dataframe thead th {\n",
       "        text-align: right;\n",
       "    }\n",
       "</style>\n",
       "<table border=\"1\" class=\"dataframe\">\n",
       "  <thead>\n",
       "    <tr style=\"text-align: right;\">\n",
       "      <th></th>\n",
       "      <th>num_orders</th>\n",
       "    </tr>\n",
       "  </thead>\n",
       "  <tbody>\n",
       "    <tr>\n",
       "      <th>count</th>\n",
       "      <td>4416.000000</td>\n",
       "    </tr>\n",
       "    <tr>\n",
       "      <th>mean</th>\n",
       "      <td>84.422781</td>\n",
       "    </tr>\n",
       "    <tr>\n",
       "      <th>std</th>\n",
       "      <td>45.023853</td>\n",
       "    </tr>\n",
       "    <tr>\n",
       "      <th>min</th>\n",
       "      <td>0.000000</td>\n",
       "    </tr>\n",
       "    <tr>\n",
       "      <th>25%</th>\n",
       "      <td>54.000000</td>\n",
       "    </tr>\n",
       "    <tr>\n",
       "      <th>50%</th>\n",
       "      <td>78.000000</td>\n",
       "    </tr>\n",
       "    <tr>\n",
       "      <th>75%</th>\n",
       "      <td>107.000000</td>\n",
       "    </tr>\n",
       "    <tr>\n",
       "      <th>max</th>\n",
       "      <td>462.000000</td>\n",
       "    </tr>\n",
       "  </tbody>\n",
       "</table>\n",
       "</div>"
      ],
      "text/plain": [
       "        num_orders\n",
       "count  4416.000000\n",
       "mean     84.422781\n",
       "std      45.023853\n",
       "min       0.000000\n",
       "25%      54.000000\n",
       "50%      78.000000\n",
       "75%     107.000000\n",
       "max     462.000000"
      ]
     },
     "execution_count": 8,
     "metadata": {},
     "output_type": "execute_result"
    }
   ],
   "source": [
    "df.describe()"
   ]
  },
  {
   "cell_type": "code",
   "execution_count": 9,
   "metadata": {},
   "outputs": [
    {
     "data": {
      "image/png": "[encoded data removed]",
      "text/plain": [
       "<Figure size 1600x1000 with 1 Axes>"
      ]
     },
     "metadata": {},
     "output_type": "display_data"
    }
   ],
   "source": [
    "df_plot = df.copy()\n",
    "df_plot['mean_1d'] = df['num_orders'].rolling(window=24).mean()\n",
    "df_plot[\"mean_1w\"] = df['num_orders'].rolling(window=24*7).mean()\n",
    "df_plot[\"std_1d\"] = df['num_orders'].rolling(window=24).std()\n",
    "\n",
    "plt.figure(figsize=(16, 10))\n",
    "plt.plot(df_plot.index, df_plot['num_orders'], label='каждый час', alpha=0.4)\n",
    "plt.plot(df_plot.index, df_plot['mean_1d'], label='среднее по дням', linewidth=2)\n",
    "plt.plot(df_plot.index, df_plot['mean_1w'],label='среднее по неделям' , linewidth=2)\n",
    "plt.fill_between(df_plot.index, \n",
    "                 df_plot['mean_1d'] - df_plot['std_1d'],\n",
    "                 df_plot['mean_1d'] + df_plot['std_1d'],\n",
    "                 label='стандартное отклонение по дням',\n",
    "                 color='purple',\n",
    "                 alpha=0.2)   \n",
    "plt.legend()\n",
    "plt.grid(True)\n",
    "plt.show()"
   ]
  },
  {
   "cell_type": "markdown",
   "metadata": {},
   "source": [
    "<img src=\"https://upload.wikimedia.org/wikipedia/commons/b/ba/Warning_sign_4.0.png\" align=left width=44, heigth=33>\n",
    "<div class=\"alert alert-warning\">\n",
    "Советую очень осторожно трактовать гистограмму или диаграмму размаха для наших данных. Дело в том, что характеристики даных меняются со временем (и среднее и дисперсия). Поэтому гистограмма покажет тебе только \"среднее по больнице\" без какой-либо динамики.\n",
    "</div>"
   ]
  },
  {
   "cell_type": "code",
   "execution_count": 10,
   "metadata": {},
   "outputs": [
    {
     "data": {
      "image/png": "[encoded data removed]",
      "text/plain": [
       "<Figure size 1000x800 with 1 Axes>"
      ]
     },
     "metadata": {},
     "output_type": "display_data"
    },
    {
     "data": {
      "image/png": "[encoded data removed]",
      "text/plain": [
       "<Figure size 1000x800 with 1 Axes>"
      ]
     },
     "metadata": {},
     "output_type": "display_data"
    },
    {
     "data": {
      "image/png": "[encoded data removed]",
      "text/plain": [
       "<Figure size 1000x800 with 1 Axes>"
      ]
     },
     "metadata": {},
     "output_type": "display_data"
    }
   ],
   "source": [
    "decomposed = seasonal_decompose(df)\n",
    "decomposed_d = seasonal_decompose(df.resample('1D').sum())\n",
    "\n",
    "plt.figure(figsize=(10, 8))\n",
    "decomposed.trend.plot(ax=plt.gca());\n",
    "plt.show()\n",
    "\n",
    "plt.figure(figsize=(10, 8))\n",
    "decomposed.seasonal['2018-03-01':'2018-03-03'].plot(ax=plt.gca());\n",
    "plt.grid()\n",
    "\n",
    "plt.figure(figsize=(10, 8))\n",
    "decomposed_d.seasonal['2018-03-01':'2018-03-28'].plot(ax=plt.gca());\n",
    "plt.grid()\n",
    "\n",
    "plt.show()"
   ]
  },
  {
   "cell_type": "markdown",
   "metadata": {},
   "source": [
    "Видим достаточно высокое стандартное отклонение у целевого признака.<br>\n",
    "Видим общий тренда на увеличение заказов по дням.<br>\n",
    "Наблюдаются сезонность у целевого признака в разрезе дня пик в нулях, дальше идет снижение, потом постепенный рост.\n",
    "Также наблюдается сезонность понедельная."
   ]
  },
  {
   "cell_type": "markdown",
   "metadata": {},
   "source": [
    "## Обучение"
   ]
  },
  {
   "cell_type": "code",
   "execution_count": 11,
   "metadata": {},
   "outputs": [],
   "source": [
    "def make_features(data, max_lag, rolling_mean_size):\n",
    "    \"\"\"\n",
    "    Добавляет в DF новые признаки\n",
    "    \"\"\"\n",
    "    data['dayofweek'] = data.index.dayofweek\n",
    "    data['hour'] = data.index.hour\n",
    "    \n",
    "    for lag in range(1, max_lag + 1):\n",
    "        data['lag_{}'.format(lag)] = data.num_orders.shift(lag)\n",
    "\n",
    "    data['rolling_mean'] = data.num_orders.shift().rolling(rolling_mean_size).mean()"
   ]
  },
  {
   "cell_type": "code",
   "execution_count": 12,
   "metadata": {},
   "outputs": [],
   "source": [
    "#Добавляем новые признаки в датасет\n",
    "make_features(df, 24, 24)"
   ]
  },
  {
   "cell_type": "code",
   "execution_count": 13,
   "metadata": {
    "scrolled": true
   },
   "outputs": [
    {
     "data": {
      "text/html": [
       "<div>\n",
       "<style scoped>\n",
       "    .dataframe tbody tr th:only-of-type {\n",
       "        vertical-align: middle;\n",
       "    }\n",
       "\n",
       "    .dataframe tbody tr th {\n",
       "        vertical-align: top;\n",
       "    }\n",
       "\n",
       "    .dataframe thead th {\n",
       "        text-align: right;\n",
       "    }\n",
       "</style>\n",
       "<table border=\"1\" class=\"dataframe\">\n",
       "  <thead>\n",
       "    <tr style=\"text-align: right;\">\n",
       "      <th></th>\n",
       "      <th>num_orders</th>\n",
       "      <th>dayofweek</th>\n",
       "      <th>hour</th>\n",
       "      <th>lag_1</th>\n",
       "      <th>lag_2</th>\n",
       "      <th>lag_3</th>\n",
       "      <th>lag_4</th>\n",
       "      <th>lag_5</th>\n",
       "      <th>lag_6</th>\n",
       "      <th>lag_7</th>\n",
       "      <th>...</th>\n",
       "      <th>lag_16</th>\n",
       "      <th>lag_17</th>\n",
       "      <th>lag_18</th>\n",
       "      <th>lag_19</th>\n",
       "      <th>lag_20</th>\n",
       "      <th>lag_21</th>\n",
       "      <th>lag_22</th>\n",
       "      <th>lag_23</th>\n",
       "      <th>lag_24</th>\n",
       "      <th>rolling_mean</th>\n",
       "    </tr>\n",
       "    <tr>\n",
       "      <th>datetime</th>\n",
       "      <th></th>\n",
       "      <th></th>\n",
       "      <th></th>\n",
       "      <th></th>\n",
       "      <th></th>\n",
       "      <th></th>\n",
       "      <th></th>\n",
       "      <th></th>\n",
       "      <th></th>\n",
       "      <th></th>\n",
       "      <th></th>\n",
       "      <th></th>\n",
       "      <th></th>\n",
       "      <th></th>\n",
       "      <th></th>\n",
       "      <th></th>\n",
       "      <th></th>\n",
       "      <th></th>\n",
       "      <th></th>\n",
       "      <th></th>\n",
       "      <th></th>\n",
       "    </tr>\n",
       "  </thead>\n",
       "  <tbody>\n",
       "    <tr>\n",
       "      <th>2018-03-01 00:00:00</th>\n",
       "      <td>124</td>\n",
       "      <td>3</td>\n",
       "      <td>0</td>\n",
       "      <td>NaN</td>\n",
       "      <td>NaN</td>\n",
       "      <td>NaN</td>\n",
       "      <td>NaN</td>\n",
       "      <td>NaN</td>\n",
       "      <td>NaN</td>\n",
       "      <td>NaN</td>\n",
       "      <td>...</td>\n",
       "      <td>NaN</td>\n",
       "      <td>NaN</td>\n",
       "      <td>NaN</td>\n",
       "      <td>NaN</td>\n",
       "      <td>NaN</td>\n",
       "      <td>NaN</td>\n",
       "      <td>NaN</td>\n",
       "      <td>NaN</td>\n",
       "      <td>NaN</td>\n",
       "      <td>NaN</td>\n",
       "    </tr>\n",
       "    <tr>\n",
       "      <th>2018-03-01 01:00:00</th>\n",
       "      <td>85</td>\n",
       "      <td>3</td>\n",
       "      <td>1</td>\n",
       "      <td>124.0</td>\n",
       "      <td>NaN</td>\n",
       "      <td>NaN</td>\n",
       "      <td>NaN</td>\n",
       "      <td>NaN</td>\n",
       "      <td>NaN</td>\n",
       "      <td>NaN</td>\n",
       "      <td>...</td>\n",
       "      <td>NaN</td>\n",
       "      <td>NaN</td>\n",
       "      <td>NaN</td>\n",
       "      <td>NaN</td>\n",
       "      <td>NaN</td>\n",
       "      <td>NaN</td>\n",
       "      <td>NaN</td>\n",
       "      <td>NaN</td>\n",
       "      <td>NaN</td>\n",
       "      <td>NaN</td>\n",
       "    </tr>\n",
       "    <tr>\n",
       "      <th>2018-03-01 02:00:00</th>\n",
       "      <td>71</td>\n",
       "      <td>3</td>\n",
       "      <td>2</td>\n",
       "      <td>85.0</td>\n",
       "      <td>124.0</td>\n",
       "      <td>NaN</td>\n",
       "      <td>NaN</td>\n",
       "      <td>NaN</td>\n",
       "      <td>NaN</td>\n",
       "      <td>NaN</td>\n",
       "      <td>...</td>\n",
       "      <td>NaN</td>\n",
       "      <td>NaN</td>\n",
       "      <td>NaN</td>\n",
       "      <td>NaN</td>\n",
       "      <td>NaN</td>\n",
       "      <td>NaN</td>\n",
       "      <td>NaN</td>\n",
       "      <td>NaN</td>\n",
       "      <td>NaN</td>\n",
       "      <td>NaN</td>\n",
       "    </tr>\n",
       "    <tr>\n",
       "      <th>2018-03-01 03:00:00</th>\n",
       "      <td>66</td>\n",
       "      <td>3</td>\n",
       "      <td>3</td>\n",
       "      <td>71.0</td>\n",
       "      <td>85.0</td>\n",
       "      <td>124.0</td>\n",
       "      <td>NaN</td>\n",
       "      <td>NaN</td>\n",
       "      <td>NaN</td>\n",
       "      <td>NaN</td>\n",
       "      <td>...</td>\n",
       "      <td>NaN</td>\n",
       "      <td>NaN</td>\n",
       "      <td>NaN</td>\n",
       "      <td>NaN</td>\n",
       "      <td>NaN</td>\n",
       "      <td>NaN</td>\n",
       "      <td>NaN</td>\n",
       "      <td>NaN</td>\n",
       "      <td>NaN</td>\n",
       "      <td>NaN</td>\n",
       "    </tr>\n",
       "    <tr>\n",
       "      <th>2018-03-01 04:00:00</th>\n",
       "      <td>43</td>\n",
       "      <td>3</td>\n",
       "      <td>4</td>\n",
       "      <td>66.0</td>\n",
       "      <td>71.0</td>\n",
       "      <td>85.0</td>\n",
       "      <td>124.0</td>\n",
       "      <td>NaN</td>\n",
       "      <td>NaN</td>\n",
       "      <td>NaN</td>\n",
       "      <td>...</td>\n",
       "      <td>NaN</td>\n",
       "      <td>NaN</td>\n",
       "      <td>NaN</td>\n",
       "      <td>NaN</td>\n",
       "      <td>NaN</td>\n",
       "      <td>NaN</td>\n",
       "      <td>NaN</td>\n",
       "      <td>NaN</td>\n",
       "      <td>NaN</td>\n",
       "      <td>NaN</td>\n",
       "    </tr>\n",
       "  </tbody>\n",
       "</table>\n",
       "<p>5 rows × 28 columns</p>\n",
       "</div>"
      ],
      "text/plain": [
       "                     num_orders  dayofweek  hour  lag_1  lag_2  lag_3  lag_4  \\\n",
       "datetime                                                                       \n",
       "2018-03-01 00:00:00         124          3     0    NaN    NaN    NaN    NaN   \n",
       "2018-03-01 01:00:00          85          3     1  124.0    NaN    NaN    NaN   \n",
       "2018-03-01 02:00:00          71          3     2   85.0  124.0    NaN    NaN   \n",
       "2018-03-01 03:00:00          66          3     3   71.0   85.0  124.0    NaN   \n",
       "2018-03-01 04:00:00          43          3     4   66.0   71.0   85.0  124.0   \n",
       "\n",
       "                     lag_5  lag_6  lag_7  ...  lag_16  lag_17  lag_18  lag_19  \\\n",
       "datetime                                  ...                                   \n",
       "2018-03-01 00:00:00    NaN    NaN    NaN  ...     NaN     NaN     NaN     NaN   \n",
       "2018-03-01 01:00:00    NaN    NaN    NaN  ...     NaN     NaN     NaN     NaN   \n",
       "2018-03-01 02:00:00    NaN    NaN    NaN  ...     NaN     NaN     NaN     NaN   \n",
       "2018-03-01 03:00:00    NaN    NaN    NaN  ...     NaN     NaN     NaN     NaN   \n",
       "2018-03-01 04:00:00    NaN    NaN    NaN  ...     NaN     NaN     NaN     NaN   \n",
       "\n",
       "                     lag_20  lag_21  lag_22  lag_23  lag_24  rolling_mean  \n",
       "datetime                                                                   \n",
       "2018-03-01 00:00:00     NaN     NaN     NaN     NaN     NaN           NaN  \n",
       "2018-03-01 01:00:00     NaN     NaN     NaN     NaN     NaN           NaN  \n",
       "2018-03-01 02:00:00     NaN     NaN     NaN     NaN     NaN           NaN  \n",
       "2018-03-01 03:00:00     NaN     NaN     NaN     NaN     NaN           NaN  \n",
       "2018-03-01 04:00:00     NaN     NaN     NaN     NaN     NaN           NaN  \n",
       "\n",
       "[5 rows x 28 columns]"
      ]
     },
     "execution_count": 13,
     "metadata": {},
     "output_type": "execute_result"
    }
   ],
   "source": [
    "df.head()"
   ]
  },
  {
   "cell_type": "code",
   "execution_count": 14,
   "metadata": {},
   "outputs": [
    {
     "name": "stdout",
     "output_type": "stream",
     "text": [
      "Размер тренировочной выборки (3950, 28)\n",
      "Размер тестовой выборки (442, 28)\n"
     ]
    }
   ],
   "source": [
    "train, test = train_test_split(df, shuffle=False, test_size=0.1)\n",
    "train = train.dropna()\n",
    "\n",
    "print(f'Размер тренировочной выборки {train.shape}')\n",
    "print(f'Размер тестовой выборки {test.shape}')"
   ]
  },
  {
   "cell_type": "code",
   "execution_count": 15,
   "metadata": {},
   "outputs": [],
   "source": [
    "X_train, y_train = train.drop('num_orders', axis=1), train.num_orders\n",
    "X_test, y_test = test.drop('num_orders', axis=1), test.num_orders"
   ]
  },
  {
   "cell_type": "code",
   "execution_count": 16,
   "metadata": {},
   "outputs": [],
   "source": [
    "num_columns = X_train.select_dtypes(include='number').columns.to_list()\n",
    "\n",
    "data_preprocessor_linear = ColumnTransformer(\n",
    "    [\n",
    "        ('num', StandardScaler(), num_columns)\n",
    "    ],\n",
    "    remainder='passthrough'\n",
    ")"
   ]
  },
  {
   "cell_type": "code",
   "execution_count": 17,
   "metadata": {},
   "outputs": [],
   "source": [
    "pipe_final = Pipeline(\n",
    "    [\n",
    "        ('preprocessor', data_preprocessor_linear),\n",
    "        ('models', LinearRegression())\n",
    "    ]\n",
    ")    "
   ]
  },
  {
   "cell_type": "code",
   "execution_count": 18,
   "metadata": {},
   "outputs": [],
   "source": [
    "param_grid = [\n",
    "    {\n",
    "        'models':[LinearRegression()],\n",
    "        'preprocessor__num': [StandardScaler()]\n",
    "    },\n",
    "    {\n",
    "        'models': [LGBMRegressor()],\n",
    "        'models__num_leaves': range(5, 10),\n",
    "        'models__max_depth': range(3, 10),\n",
    "        'preprocessor__num': ['passthrough']\n",
    "    },\n",
    "    {\n",
    "        'models': [RandomForestRegressor(random_state=RANDOM_STATE)],\n",
    "        'models__max_depth': range(97, 103),\n",
    "        'models__min_samples_split': range(3, 8),\n",
    "        'models__min_samples_leaf': range(1, 6),\n",
    "        'preprocessor__num': ['passthrough']\n",
    "    }\n",
    "]    "
   ]
  },
  {
   "cell_type": "code",
   "execution_count": 19,
   "metadata": {},
   "outputs": [],
   "source": [
    "#Добавляем объект TimeSeriesSplit, чтобы выборки не перемешивались при кроссвалидации\n",
    "tscv = TimeSeriesSplit(n_splits=3)"
   ]
  },
  {
   "cell_type": "code",
   "execution_count": 20,
   "metadata": {
    "scrolled": true
   },
   "outputs": [
    {
     "name": "stdout",
     "output_type": "stream",
     "text": [
      "Fitting 3 folds for each of 186 candidates, totalling 558 fits\n",
      "[LightGBM] [Info] Auto-choosing col-wise multi-threading, the overhead of testing was 0.000847 seconds.\n",
      "You can set `force_col_wise=true` to remove the overhead.\n",
      "[LightGBM] [Info] Total Bins 4836\n",
      "[LightGBM] [Info] Number of data points in the train set: 3950, number of used features: 27\n",
      "[LightGBM] [Info] Start training from score 78.421013\n",
      "[LightGBM] [Warning] No further splits with positive gain, best gain: -inf\n",
      "CPU times: total: 3 s\n",
      "Wall time: 4min 36s\n"
     ]
    }
   ],
   "source": [
    "%%time\n",
    "gscv = GridSearchCV(\n",
    "        pipe_final,\n",
    "        param_grid,\n",
    "        scoring='neg_root_mean_squared_error',\n",
    "        n_jobs=-1,\n",
    "        error_score='raise',\n",
    "        cv=tscv,\n",
    "        verbose=3\n",
    "    ).fit(X_train, y_train)"
   ]
  },
  {
   "cell_type": "code",
   "execution_count": 21,
   "metadata": {},
   "outputs": [
    {
     "name": "stdout",
     "output_type": "stream",
     "text": [
      "RMSE на тренировочной выборке лучше модели: 26.09\n",
      "Параметры лучшего pipeline: {'models': LGBMRegressor(), 'models__max_depth': 4, 'models__num_leaves': 7, 'preprocessor__num': 'passthrough'}\n"
     ]
    }
   ],
   "source": [
    "print(f'RMSE на тренировочной выборке лучше модели: {(-1 * gscv.best_score_):.2f}')\n",
    "print(f'Параметры лучшего pipeline: {gscv.best_params_}')"
   ]
  },
  {
   "cell_type": "markdown",
   "metadata": {},
   "source": [
    "На тренировочных данных лучше всего обучилась модель LGBMRegressor, RMSE на тренировочной выборке у неё 26.09."
   ]
  },
  {
   "cell_type": "markdown",
   "metadata": {},
   "source": [
    "## Тестирование"
   ]
  },
  {
   "cell_type": "code",
   "execution_count": 22,
   "metadata": {},
   "outputs": [],
   "source": [
    "#Сделаем предсказания на тренировочных данных\n",
    "y_pred = gscv.best_estimator_.predict(X_test)"
   ]
  },
  {
   "cell_type": "code",
   "execution_count": 23,
   "metadata": {},
   "outputs": [
    {
     "name": "stdout",
     "output_type": "stream",
     "text": [
      "RMSE на тестовой выборке равен: 43.39\n"
     ]
    }
   ],
   "source": [
    "print(f\"RMSE на тестовой выборке равен: {root_mean_squared_error(y_test, y_pred):.2f}\")"
   ]
  },
  {
   "cell_type": "code",
   "execution_count": 24,
   "metadata": {
    "scrolled": false
   },
   "outputs": [
    {
     "data": {
      "image/png": "[encoded data removed]",
      "text/plain": [
       "<Figure size 1000x800 with 1 Axes>"
      ]
     },
     "metadata": {},
     "output_type": "display_data"
    }
   ],
   "source": [
    "plt.figure(figsize=(10, 8))\n",
    "plt.plot(y_test.index, y_test, label='изначальные значения', alpha=0.7)\n",
    "plt.plot(y_test.index, y_pred, label='предсказания модели')\n",
    "plt.xticks(rotation=30)\n",
    "plt.legend()\n",
    "plt.grid()"
   ]
  },
  {
   "cell_type": "markdown",
   "metadata": {},
   "source": [
    "Видим, что значения предсказания относительно близки к реальным значениям. Единственное, модель хуже всего уловила так называемые выбросы в данных"
   ]
  },
  {
   "cell_type": "code",
   "execution_count": 25,
   "metadata": {},
   "outputs": [
    {
     "name": "stdout",
     "output_type": "stream",
     "text": [
      "RMSE со смещением на 1 день: 56.241703269041125\n"
     ]
    }
   ],
   "source": [
    "y_test_copy = pd.DataFrame(y_test.copy())\n",
    "y_test_copy['lag24'] = y_test_copy['num_orders'].shift(24)\n",
    "y_test_copy.dropna(inplace=True)\n",
    "print(f\"RMSE со смещением на 1 день: {root_mean_squared_error(y_test_copy['num_orders'], y_test_copy['lag24'])}\")"
   ]
  },
  {
   "cell_type": "markdown",
   "metadata": {},
   "source": [
    "Видим, что полученная модель справляется лучше, если бы мы брали данные со смещением в 1 день.<br>\n",
    "Также наилучшая модель справилась с задачей и мы получили метрику RMSE ниже 48, она равна 43.39."
   ]
  },
  {
   "cell_type": "markdown",
   "metadata": {},
   "source": [
    "**Вывод**<br>\n",
    "- Были загружены данные и приведены к нужному формату. Проведено ресемплирование данных по часам. Добавлены новые признаки.\n",
    "- Проанализированы данные: найден общий тренд увеличения кол-ва заказов, также сезонность по дням и неделям. Также у целевого показателя высокое стандартное отклонение, что говорит о высоком разбросе данных, относительно среднего.\n",
    "- Обучены три модели: LinearRegression, LGBMRegressor, RandomForestRegressor. На этапе обучения лучше всего справилась модель LGBMRegressor, RMSE на тренировочной выборке у неё меньше всего и равно 24.61.\n",
    "- Была применена лучшая модель для тестовых данных. RMSE получилось 41.66. Также проанализировали предсказания модели, относительно реальных значений. Увидели, что модель не лучшим образом определяет выбросы, но в целом предсказания в рамках допустимого отклонения. Также проверили вариант, если бы мы брали значения со смещением в один день. Показатели модели лучше."
   ]
  }
 ],
 "metadata": {
  "ExecuteTimeLog": [
   {
    "duration": 1243,
    "start_time": "2025-06-10T09:10:54.322Z"
   },
   {
    "duration": 0,
    "start_time": "2025-06-10T09:10:55.566Z"
   },
   {
    "duration": 8907,
    "start_time": "2025-06-10T09:11:10.108Z"
   },
   {
    "duration": 14,
    "start_time": "2025-06-10T09:11:19.710Z"
   },
   {
    "duration": 3,
    "start_time": "2025-06-10T09:11:21.816Z"
   },
   {
    "duration": 5226,
    "start_time": "2025-06-10T09:12:52.477Z"
   },
   {
    "duration": 1048,
    "start_time": "2025-06-10T09:12:57.705Z"
   },
   {
    "duration": 3,
    "start_time": "2025-06-10T09:12:58.755Z"
   },
   {
    "duration": 50,
    "start_time": "2025-06-10T09:13:49.562Z"
   },
   {
    "duration": 51,
    "start_time": "2025-06-10T09:23:11.018Z"
   },
   {
    "duration": 4,
    "start_time": "2025-06-10T09:23:25.478Z"
   },
   {
    "duration": 98,
    "start_time": "2025-06-10T09:27:43.059Z"
   },
   {
    "duration": 13,
    "start_time": "2025-06-10T09:35:24.145Z"
   },
   {
    "duration": 5034,
    "start_time": "2025-06-10T09:35:37.969Z"
   },
   {
    "duration": 1029,
    "start_time": "2025-06-10T09:35:43.006Z"
   },
   {
    "duration": 101,
    "start_time": "2025-06-10T09:35:44.037Z"
   },
   {
    "duration": 0,
    "start_time": "2025-06-10T09:35:44.140Z"
   },
   {
    "duration": 0,
    "start_time": "2025-06-10T09:35:44.141Z"
   },
   {
    "duration": 0,
    "start_time": "2025-06-10T09:35:44.143Z"
   },
   {
    "duration": 9,
    "start_time": "2025-06-10T09:35:51.634Z"
   },
   {
    "duration": 3,
    "start_time": "2025-06-10T09:39:09.381Z"
   },
   {
    "duration": 25075,
    "start_time": "2025-06-10T09:51:30.770Z"
   },
   {
    "duration": 5293,
    "start_time": "2025-06-10T09:52:29.898Z"
   },
   {
    "duration": 4,
    "start_time": "2025-06-10T09:52:35.193Z"
   },
   {
    "duration": 11,
    "start_time": "2025-06-10T09:52:35.199Z"
   },
   {
    "duration": 17,
    "start_time": "2025-06-10T09:52:35.211Z"
   },
   {
    "duration": 10,
    "start_time": "2025-06-10T09:53:02.470Z"
   },
   {
    "duration": 9,
    "start_time": "2025-06-10T09:53:09.422Z"
   },
   {
    "duration": 66,
    "start_time": "2025-06-10T09:56:36.233Z"
   },
   {
    "duration": 53,
    "start_time": "2025-06-10T09:57:13.196Z"
   },
   {
    "duration": 5243,
    "start_time": "2025-06-10T09:57:29.954Z"
   },
   {
    "duration": 1298,
    "start_time": "2025-06-10T09:57:35.200Z"
   },
   {
    "duration": 5,
    "start_time": "2025-06-10T09:57:36.500Z"
   },
   {
    "duration": 72,
    "start_time": "2025-06-10T09:57:36.506Z"
   },
   {
    "duration": 80,
    "start_time": "2025-06-10T09:57:36.580Z"
   },
   {
    "duration": 4,
    "start_time": "2025-06-10T09:57:36.661Z"
   },
   {
    "duration": 6,
    "start_time": "2025-06-10T09:58:09.486Z"
   },
   {
    "duration": 9,
    "start_time": "2025-06-10T09:58:16.845Z"
   },
   {
    "duration": 104,
    "start_time": "2025-06-10T09:58:55.036Z"
   },
   {
    "duration": 347,
    "start_time": "2025-06-10T09:59:29.369Z"
   },
   {
    "duration": 43,
    "start_time": "2025-06-10T09:59:56.014Z"
   },
   {
    "duration": 15,
    "start_time": "2025-06-10T10:00:22.602Z"
   },
   {
    "duration": 975,
    "start_time": "2025-06-10T10:00:30.578Z"
   },
   {
    "duration": 109,
    "start_time": "2025-06-10T10:00:42.242Z"
   },
   {
    "duration": 4,
    "start_time": "2025-06-10T10:01:57.929Z"
   },
   {
    "duration": 106,
    "start_time": "2025-06-10T10:02:06.755Z"
   },
   {
    "duration": 456,
    "start_time": "2025-06-10T10:02:23.124Z"
   },
   {
    "duration": 4,
    "start_time": "2025-06-10T10:03:15.093Z"
   },
   {
    "duration": 14,
    "start_time": "2025-06-10T10:03:17.521Z"
   },
   {
    "duration": 4,
    "start_time": "2025-06-10T10:03:26.457Z"
   },
   {
    "duration": 10,
    "start_time": "2025-06-10T10:03:31.413Z"
   },
   {
    "duration": 11,
    "start_time": "2025-06-10T10:04:15.153Z"
   },
   {
    "duration": 5395,
    "start_time": "2025-06-10T10:04:26.404Z"
   },
   {
    "duration": 1429,
    "start_time": "2025-06-10T10:04:31.801Z"
   },
   {
    "duration": 2,
    "start_time": "2025-06-10T10:04:33.231Z"
   },
   {
    "duration": 73,
    "start_time": "2025-06-10T10:04:33.235Z"
   },
   {
    "duration": 5,
    "start_time": "2025-06-10T10:04:33.310Z"
   },
   {
    "duration": 26,
    "start_time": "2025-06-10T10:04:33.317Z"
   },
   {
    "duration": 127,
    "start_time": "2025-06-10T10:04:33.344Z"
   },
   {
    "duration": 2092,
    "start_time": "2025-06-10T10:06:39.437Z"
   },
   {
    "duration": 146,
    "start_time": "2025-06-10T10:07:11.017Z"
   },
   {
    "duration": 148,
    "start_time": "2025-06-10T10:07:40.998Z"
   },
   {
    "duration": 86,
    "start_time": "2025-06-10T10:08:20.097Z"
   },
   {
    "duration": 270,
    "start_time": "2025-06-10T10:08:24.971Z"
   },
   {
    "duration": 230,
    "start_time": "2025-06-10T10:08:34.869Z"
   },
   {
    "duration": 6,
    "start_time": "2025-06-10T10:09:33.649Z"
   },
   {
    "duration": 296,
    "start_time": "2025-06-10T10:13:00.779Z"
   },
   {
    "duration": 185,
    "start_time": "2025-06-10T10:13:32.256Z"
   },
   {
    "duration": 194,
    "start_time": "2025-06-10T10:13:39.503Z"
   },
   {
    "duration": 174,
    "start_time": "2025-06-10T10:13:43.746Z"
   },
   {
    "duration": 184,
    "start_time": "2025-06-10T10:13:46.352Z"
   },
   {
    "duration": 92,
    "start_time": "2025-06-10T10:13:48.816Z"
   },
   {
    "duration": 176,
    "start_time": "2025-06-10T10:13:51.197Z"
   },
   {
    "duration": 182,
    "start_time": "2025-06-10T10:13:57.963Z"
   },
   {
    "duration": 173,
    "start_time": "2025-06-10T10:14:09.354Z"
   },
   {
    "duration": 184,
    "start_time": "2025-06-10T10:16:21.988Z"
   },
   {
    "duration": 179,
    "start_time": "2025-06-10T10:16:32.321Z"
   },
   {
    "duration": 502,
    "start_time": "2025-06-10T10:17:00.398Z"
   },
   {
    "duration": 160,
    "start_time": "2025-06-10T10:17:21.784Z"
   },
   {
    "duration": 184,
    "start_time": "2025-06-10T10:17:45.645Z"
   },
   {
    "duration": 255,
    "start_time": "2025-06-10T10:18:09.287Z"
   },
   {
    "duration": 146,
    "start_time": "2025-06-10T10:18:15.845Z"
   },
   {
    "duration": 13,
    "start_time": "2025-06-10T10:20:24.670Z"
   },
   {
    "duration": 108,
    "start_time": "2025-06-10T10:20:54.865Z"
   },
   {
    "duration": 251,
    "start_time": "2025-06-10T10:22:45.994Z"
   },
   {
    "duration": 243,
    "start_time": "2025-06-10T10:23:06.015Z"
   },
   {
    "duration": 264,
    "start_time": "2025-06-10T10:23:16.253Z"
   },
   {
    "duration": 251,
    "start_time": "2025-06-10T10:23:21.258Z"
   },
   {
    "duration": 356,
    "start_time": "2025-06-10T10:23:26.113Z"
   },
   {
    "duration": 254,
    "start_time": "2025-06-10T10:25:56.829Z"
   },
   {
    "duration": 84,
    "start_time": "2025-06-10T10:28:51.363Z"
   },
   {
    "duration": 255,
    "start_time": "2025-06-10T10:28:55.167Z"
   },
   {
    "duration": 382,
    "start_time": "2025-06-10T10:29:00.366Z"
   },
   {
    "duration": 256,
    "start_time": "2025-06-10T10:29:04.337Z"
   },
   {
    "duration": 255,
    "start_time": "2025-06-10T10:29:09.922Z"
   },
   {
    "duration": 21,
    "start_time": "2025-06-10T10:29:29.081Z"
   },
   {
    "duration": 20,
    "start_time": "2025-06-10T10:29:36.617Z"
   },
   {
    "duration": 5984,
    "start_time": "2025-06-10T10:29:50.592Z"
   },
   {
    "duration": 1502,
    "start_time": "2025-06-10T10:29:56.579Z"
   },
   {
    "duration": 3,
    "start_time": "2025-06-10T10:29:58.083Z"
   },
   {
    "duration": 72,
    "start_time": "2025-06-10T10:29:58.087Z"
   },
   {
    "duration": 5,
    "start_time": "2025-06-10T10:29:58.161Z"
   },
   {
    "duration": 6,
    "start_time": "2025-06-10T10:29:58.167Z"
   },
   {
    "duration": 316,
    "start_time": "2025-06-10T10:29:58.174Z"
   },
   {
    "duration": 18,
    "start_time": "2025-06-10T10:29:58.492Z"
   },
   {
    "duration": 252,
    "start_time": "2025-06-10T10:31:50.258Z"
   },
   {
    "duration": 5346,
    "start_time": "2025-06-10T10:36:48.007Z"
   },
   {
    "duration": 1482,
    "start_time": "2025-06-10T10:36:53.356Z"
   },
   {
    "duration": 4,
    "start_time": "2025-06-10T10:36:54.840Z"
   },
   {
    "duration": 60,
    "start_time": "2025-06-10T10:36:54.846Z"
   },
   {
    "duration": 7,
    "start_time": "2025-06-10T10:36:54.908Z"
   },
   {
    "duration": 449,
    "start_time": "2025-06-10T10:36:54.917Z"
   },
   {
    "duration": 6,
    "start_time": "2025-06-10T10:37:24.859Z"
   },
   {
    "duration": 8,
    "start_time": "2025-06-10T10:37:34.051Z"
   },
   {
    "duration": 439,
    "start_time": "2025-06-10T10:37:53.852Z"
   },
   {
    "duration": 283,
    "start_time": "2025-06-10T10:38:35.433Z"
   },
   {
    "duration": 352,
    "start_time": "2025-06-10T10:38:50.085Z"
   },
   {
    "duration": 340,
    "start_time": "2025-06-10T10:41:20.080Z"
   },
   {
    "duration": 329,
    "start_time": "2025-06-10T10:41:37.822Z"
   },
   {
    "duration": 325,
    "start_time": "2025-06-10T10:41:47.092Z"
   },
   {
    "duration": 274,
    "start_time": "2025-06-10T10:45:49.495Z"
   },
   {
    "duration": 195,
    "start_time": "2025-06-10T10:46:40.532Z"
   },
   {
    "duration": 185,
    "start_time": "2025-06-10T10:46:43.592Z"
   },
   {
    "duration": 280,
    "start_time": "2025-06-10T10:46:56.460Z"
   },
   {
    "duration": 333,
    "start_time": "2025-06-10T10:47:03.823Z"
   },
   {
    "duration": 250,
    "start_time": "2025-06-10T10:47:15.738Z"
   },
   {
    "duration": 267,
    "start_time": "2025-06-10T10:51:30.868Z"
   },
   {
    "duration": 272,
    "start_time": "2025-06-10T10:51:35.425Z"
   },
   {
    "duration": 280,
    "start_time": "2025-06-10T10:51:43.558Z"
   },
   {
    "duration": 404,
    "start_time": "2025-06-10T10:51:50.384Z"
   },
   {
    "duration": 508,
    "start_time": "2025-06-10T10:52:03.264Z"
   },
   {
    "duration": 250,
    "start_time": "2025-06-10T10:52:13.781Z"
   },
   {
    "duration": 94,
    "start_time": "2025-06-10T10:52:45.751Z"
   },
   {
    "duration": 186,
    "start_time": "2025-06-10T10:52:48.823Z"
   },
   {
    "duration": 247,
    "start_time": "2025-06-10T10:53:16.588Z"
   },
   {
    "duration": 239,
    "start_time": "2025-06-10T10:54:20.630Z"
   },
   {
    "duration": 250,
    "start_time": "2025-06-10T10:54:54.200Z"
   },
   {
    "duration": 239,
    "start_time": "2025-06-10T10:54:59.826Z"
   },
   {
    "duration": 268,
    "start_time": "2025-06-10T10:55:14.047Z"
   },
   {
    "duration": 264,
    "start_time": "2025-06-10T10:55:24.188Z"
   },
   {
    "duration": 246,
    "start_time": "2025-06-10T10:55:32.112Z"
   },
   {
    "duration": 11,
    "start_time": "2025-06-10T10:55:53.990Z"
   },
   {
    "duration": 46,
    "start_time": "2025-06-10T10:59:14.268Z"
   },
   {
    "duration": 6,
    "start_time": "2025-06-10T10:59:17.851Z"
   },
   {
    "duration": 6,
    "start_time": "2025-06-10T10:59:23.161Z"
   },
   {
    "duration": 5294,
    "start_time": "2025-06-10T10:59:32.863Z"
   },
   {
    "duration": 1377,
    "start_time": "2025-06-10T10:59:38.160Z"
   },
   {
    "duration": 2,
    "start_time": "2025-06-10T10:59:39.539Z"
   },
   {
    "duration": 55,
    "start_time": "2025-06-10T10:59:39.543Z"
   },
   {
    "duration": 5,
    "start_time": "2025-06-10T10:59:39.599Z"
   },
   {
    "duration": 87,
    "start_time": "2025-06-10T10:59:39.606Z"
   },
   {
    "duration": 17,
    "start_time": "2025-06-10T10:59:39.694Z"
   },
   {
    "duration": 253,
    "start_time": "2025-06-10T10:59:39.713Z"
   },
   {
    "duration": 5,
    "start_time": "2025-06-10T11:07:55.025Z"
   },
   {
    "duration": 1301,
    "start_time": "2025-06-10T11:08:08.921Z"
   },
   {
    "duration": 5,
    "start_time": "2025-06-10T11:08:50.667Z"
   },
   {
    "duration": 7,
    "start_time": "2025-06-10T11:08:51.174Z"
   },
   {
    "duration": 17,
    "start_time": "2025-06-10T11:08:56.532Z"
   },
   {
    "duration": 8,
    "start_time": "2025-06-10T11:13:34.079Z"
   },
   {
    "duration": 9,
    "start_time": "2025-06-10T11:38:13.339Z"
   },
   {
    "duration": 4,
    "start_time": "2025-06-10T11:40:53.051Z"
   },
   {
    "duration": 3,
    "start_time": "2025-06-10T11:41:24.093Z"
   },
   {
    "duration": 4,
    "start_time": "2025-06-10T11:49:11.842Z"
   },
   {
    "duration": 9746,
    "start_time": "2025-06-11T08:56:34.816Z"
   },
   {
    "duration": 1565,
    "start_time": "2025-06-11T08:56:44.564Z"
   },
   {
    "duration": 7,
    "start_time": "2025-06-11T08:56:46.130Z"
   },
   {
    "duration": 99,
    "start_time": "2025-06-11T08:56:46.139Z"
   },
   {
    "duration": 9,
    "start_time": "2025-06-11T08:56:46.240Z"
   },
   {
    "duration": 56,
    "start_time": "2025-06-11T08:56:46.250Z"
   },
   {
    "duration": 50,
    "start_time": "2025-06-11T08:56:46.308Z"
   },
   {
    "duration": 418,
    "start_time": "2025-06-11T08:56:46.360Z"
   },
   {
    "duration": 5,
    "start_time": "2025-06-11T08:56:46.779Z"
   },
   {
    "duration": 93,
    "start_time": "2025-06-11T08:56:46.786Z"
   },
   {
    "duration": 46,
    "start_time": "2025-06-11T08:56:46.880Z"
   },
   {
    "duration": 27,
    "start_time": "2025-06-11T08:56:46.928Z"
   },
   {
    "duration": 90,
    "start_time": "2025-06-11T08:56:46.957Z"
   },
   {
    "duration": 28,
    "start_time": "2025-06-11T08:56:47.049Z"
   },
   {
    "duration": 23,
    "start_time": "2025-06-11T08:56:47.078Z"
   },
   {
    "duration": 23,
    "start_time": "2025-06-11T08:56:47.103Z"
   },
   {
    "duration": 95,
    "start_time": "2025-06-11T08:56:47.127Z"
   },
   {
    "duration": 0,
    "start_time": "2025-06-11T08:56:47.224Z"
   },
   {
    "duration": 651,
    "start_time": "2025-06-11T08:57:35.301Z"
   },
   {
    "duration": 3,
    "start_time": "2025-06-11T08:58:52.681Z"
   },
   {
    "duration": 3,
    "start_time": "2025-06-11T08:59:04.885Z"
   },
   {
    "duration": 3,
    "start_time": "2025-06-11T09:00:34.960Z"
   },
   {
    "duration": 99204,
    "start_time": "2025-06-11T09:00:50.241Z"
   },
   {
    "duration": 89,
    "start_time": "2025-06-11T09:02:29.448Z"
   },
   {
    "duration": 4,
    "start_time": "2025-06-11T09:03:08.286Z"
   },
   {
    "duration": 123,
    "start_time": "2025-06-11T09:31:56.775Z"
   },
   {
    "duration": 4,
    "start_time": "2025-06-11T09:32:07.109Z"
   },
   {
    "duration": 241013,
    "start_time": "2025-06-11T09:32:55.188Z"
   },
   {
    "duration": 4,
    "start_time": "2025-06-11T09:37:52.635Z"
   },
   {
    "duration": 40,
    "start_time": "2025-06-11T09:41:45.554Z"
   },
   {
    "duration": 7,
    "start_time": "2025-06-11T09:44:39.067Z"
   },
   {
    "duration": 8,
    "start_time": "2025-06-11T09:44:53.691Z"
   },
   {
    "duration": 3,
    "start_time": "2025-06-11T09:46:58.465Z"
   },
   {
    "duration": 3,
    "start_time": "2025-06-11T09:47:10.109Z"
   },
   {
    "duration": 5648,
    "start_time": "2025-06-11T09:54:19.846Z"
   },
   {
    "duration": 1286,
    "start_time": "2025-06-11T09:54:25.496Z"
   },
   {
    "duration": 3,
    "start_time": "2025-06-11T09:54:26.784Z"
   },
   {
    "duration": 165,
    "start_time": "2025-06-11T09:54:26.789Z"
   },
   {
    "duration": 68,
    "start_time": "2025-06-11T09:54:26.956Z"
   },
   {
    "duration": 8,
    "start_time": "2025-06-11T09:54:27.026Z"
   },
   {
    "duration": 220,
    "start_time": "2025-06-11T09:54:27.036Z"
   },
   {
    "duration": 28,
    "start_time": "2025-06-11T09:54:27.258Z"
   },
   {
    "duration": 386,
    "start_time": "2025-06-11T09:54:27.288Z"
   },
   {
    "duration": 4,
    "start_time": "2025-06-11T09:54:27.677Z"
   },
   {
    "duration": 20,
    "start_time": "2025-06-11T09:54:27.682Z"
   },
   {
    "duration": 38,
    "start_time": "2025-06-11T09:54:27.704Z"
   },
   {
    "duration": 17,
    "start_time": "2025-06-11T09:54:27.744Z"
   },
   {
    "duration": 20,
    "start_time": "2025-06-11T09:54:27.763Z"
   },
   {
    "duration": 30,
    "start_time": "2025-06-11T09:54:27.785Z"
   },
   {
    "duration": 21,
    "start_time": "2025-06-11T09:54:27.816Z"
   },
   {
    "duration": 10,
    "start_time": "2025-06-11T09:54:27.839Z"
   },
   {
    "duration": 493,
    "start_time": "2025-06-11T09:54:27.851Z"
   },
   {
    "duration": 3,
    "start_time": "2025-06-11T09:54:28.346Z"
   },
   {
    "duration": 13,
    "start_time": "2025-06-11T09:54:28.350Z"
   },
   {
    "duration": 73575,
    "start_time": "2025-06-11T09:54:28.364Z"
   },
   {
    "duration": 5,
    "start_time": "2025-06-11T09:55:41.940Z"
   },
   {
    "duration": 13,
    "start_time": "2025-06-11T09:55:41.946Z"
   },
   {
    "duration": 239563,
    "start_time": "2025-06-11T09:55:41.961Z"
   },
   {
    "duration": 3,
    "start_time": "2025-06-11T09:59:41.526Z"
   },
   {
    "duration": 38,
    "start_time": "2025-06-11T09:59:41.537Z"
   },
   {
    "duration": 6,
    "start_time": "2025-06-11T09:59:41.577Z"
   },
   {
    "duration": 5631,
    "start_time": "2025-06-11T10:09:20.510Z"
   },
   {
    "duration": 1392,
    "start_time": "2025-06-11T10:09:26.144Z"
   },
   {
    "duration": 2,
    "start_time": "2025-06-11T10:09:27.538Z"
   },
   {
    "duration": 21,
    "start_time": "2025-06-11T10:09:27.542Z"
   },
   {
    "duration": 58,
    "start_time": "2025-06-11T10:09:27.566Z"
   },
   {
    "duration": 9,
    "start_time": "2025-06-11T10:09:27.626Z"
   },
   {
    "duration": 30,
    "start_time": "2025-06-11T10:09:27.636Z"
   },
   {
    "duration": 13,
    "start_time": "2025-06-11T10:09:27.668Z"
   },
   {
    "duration": 405,
    "start_time": "2025-06-11T10:09:27.682Z"
   },
   {
    "duration": 4,
    "start_time": "2025-06-11T10:09:28.089Z"
   },
   {
    "duration": 18,
    "start_time": "2025-06-11T10:09:28.095Z"
   },
   {
    "duration": 26,
    "start_time": "2025-06-11T10:09:28.115Z"
   },
   {
    "duration": 8,
    "start_time": "2025-06-11T10:09:28.143Z"
   },
   {
    "duration": 12,
    "start_time": "2025-06-11T10:09:28.154Z"
   },
   {
    "duration": 6,
    "start_time": "2025-06-11T10:09:28.168Z"
   },
   {
    "duration": 13,
    "start_time": "2025-06-11T10:09:28.176Z"
   },
   {
    "duration": 6,
    "start_time": "2025-06-11T10:09:28.191Z"
   },
   {
    "duration": 538,
    "start_time": "2025-06-11T10:09:28.198Z"
   },
   {
    "duration": 4,
    "start_time": "2025-06-11T10:09:28.738Z"
   },
   {
    "duration": 28,
    "start_time": "2025-06-11T10:09:28.743Z"
   },
   {
    "duration": 77066,
    "start_time": "2025-06-11T10:09:28.772Z"
   },
   {
    "duration": 4,
    "start_time": "2025-06-11T10:10:45.839Z"
   },
   {
    "duration": 37,
    "start_time": "2025-06-11T10:10:45.844Z"
   },
   {
    "duration": 239645,
    "start_time": "2025-06-11T10:10:45.882Z"
   },
   {
    "duration": 8,
    "start_time": "2025-06-11T10:14:45.528Z"
   },
   {
    "duration": 42,
    "start_time": "2025-06-11T10:14:45.538Z"
   },
   {
    "duration": 19,
    "start_time": "2025-06-11T10:14:45.582Z"
   },
   {
    "duration": 9616,
    "start_time": "2025-06-11T11:28:51.654Z"
   },
   {
    "duration": 1613,
    "start_time": "2025-06-11T11:29:01.273Z"
   },
   {
    "duration": 10,
    "start_time": "2025-06-11T11:29:02.888Z"
   },
   {
    "duration": 33,
    "start_time": "2025-06-11T11:29:02.900Z"
   },
   {
    "duration": 85,
    "start_time": "2025-06-11T11:29:02.936Z"
   },
   {
    "duration": 9,
    "start_time": "2025-06-11T11:29:03.023Z"
   },
   {
    "duration": 10,
    "start_time": "2025-06-11T11:29:03.033Z"
   },
   {
    "duration": 56,
    "start_time": "2025-06-11T11:29:03.044Z"
   },
   {
    "duration": 388,
    "start_time": "2025-06-11T11:29:03.102Z"
   },
   {
    "duration": 5,
    "start_time": "2025-06-11T11:29:03.492Z"
   },
   {
    "duration": 34,
    "start_time": "2025-06-11T11:29:03.499Z"
   },
   {
    "duration": 14,
    "start_time": "2025-06-11T11:29:03.534Z"
   },
   {
    "duration": 228,
    "start_time": "2025-06-11T11:29:03.551Z"
   },
   {
    "duration": 24,
    "start_time": "2025-06-11T11:29:03.782Z"
   },
   {
    "duration": 24,
    "start_time": "2025-06-11T11:29:03.808Z"
   },
   {
    "duration": 30,
    "start_time": "2025-06-11T11:29:03.834Z"
   },
   {
    "duration": 10,
    "start_time": "2025-06-11T11:29:03.866Z"
   },
   {
    "duration": 664,
    "start_time": "2025-06-11T11:29:03.877Z"
   },
   {
    "duration": 4,
    "start_time": "2025-06-11T11:29:04.543Z"
   },
   {
    "duration": 93,
    "start_time": "2025-06-11T11:29:04.548Z"
   },
   {
    "duration": 80308,
    "start_time": "2025-06-11T11:29:04.643Z"
   },
   {
    "duration": 5,
    "start_time": "2025-06-11T11:30:25.039Z"
   },
   {
    "duration": 16,
    "start_time": "2025-06-11T11:30:25.046Z"
   },
   {
    "duration": 223095,
    "start_time": "2025-06-11T11:30:25.064Z"
   },
   {
    "duration": 3,
    "start_time": "2025-06-11T11:34:08.162Z"
   },
   {
    "duration": 49,
    "start_time": "2025-06-11T11:34:08.167Z"
   },
   {
    "duration": 25,
    "start_time": "2025-06-11T11:34:08.218Z"
   },
   {
    "duration": 8708,
    "start_time": "2025-06-11T18:46:12.557Z"
   },
   {
    "duration": 1438,
    "start_time": "2025-06-11T18:46:21.267Z"
   },
   {
    "duration": 2,
    "start_time": "2025-06-11T18:46:22.707Z"
   },
   {
    "duration": 23,
    "start_time": "2025-06-11T18:46:22.711Z"
   },
   {
    "duration": 50,
    "start_time": "2025-06-11T18:46:22.735Z"
   },
   {
    "duration": 7,
    "start_time": "2025-06-11T18:46:22.786Z"
   },
   {
    "duration": 8,
    "start_time": "2025-06-11T18:46:22.795Z"
   },
   {
    "duration": 10,
    "start_time": "2025-06-11T18:46:22.804Z"
   },
   {
    "duration": 322,
    "start_time": "2025-06-11T18:46:22.816Z"
   },
   {
    "duration": 113,
    "start_time": "2025-06-11T18:46:23.140Z"
   },
   {
    "duration": 0,
    "start_time": "2025-06-11T18:46:23.255Z"
   },
   {
    "duration": 0,
    "start_time": "2025-06-11T18:46:23.256Z"
   },
   {
    "duration": 0,
    "start_time": "2025-06-11T18:46:23.257Z"
   },
   {
    "duration": 0,
    "start_time": "2025-06-11T18:46:23.261Z"
   },
   {
    "duration": 0,
    "start_time": "2025-06-11T18:46:23.263Z"
   },
   {
    "duration": 0,
    "start_time": "2025-06-11T18:46:23.264Z"
   },
   {
    "duration": 0,
    "start_time": "2025-06-11T18:46:23.265Z"
   },
   {
    "duration": 0,
    "start_time": "2025-06-11T18:46:23.266Z"
   },
   {
    "duration": 0,
    "start_time": "2025-06-11T18:46:23.267Z"
   },
   {
    "duration": 0,
    "start_time": "2025-06-11T18:46:23.268Z"
   },
   {
    "duration": 0,
    "start_time": "2025-06-11T18:46:23.269Z"
   },
   {
    "duration": 0,
    "start_time": "2025-06-11T18:46:23.270Z"
   },
   {
    "duration": 0,
    "start_time": "2025-06-11T18:46:23.271Z"
   },
   {
    "duration": 0,
    "start_time": "2025-06-11T18:46:23.272Z"
   },
   {
    "duration": 0,
    "start_time": "2025-06-11T18:46:23.273Z"
   },
   {
    "duration": 0,
    "start_time": "2025-06-11T18:46:23.274Z"
   },
   {
    "duration": 0,
    "start_time": "2025-06-11T18:46:23.276Z"
   },
   {
    "duration": 0,
    "start_time": "2025-06-11T18:46:23.277Z"
   },
   {
    "duration": 7,
    "start_time": "2025-06-11T18:48:58.907Z"
   },
   {
    "duration": 185,
    "start_time": "2025-06-11T18:50:43.266Z"
   },
   {
    "duration": 197,
    "start_time": "2025-06-11T18:51:49.956Z"
   },
   {
    "duration": 195,
    "start_time": "2025-06-11T18:52:06.986Z"
   },
   {
    "duration": 680,
    "start_time": "2025-06-11T18:53:29.800Z"
   },
   {
    "duration": 426,
    "start_time": "2025-06-11T18:53:42.492Z"
   },
   {
    "duration": 522,
    "start_time": "2025-06-11T18:57:44.613Z"
   },
   {
    "duration": 328,
    "start_time": "2025-06-11T18:58:06.434Z"
   },
   {
    "duration": 8,
    "start_time": "2025-06-11T18:59:13.991Z"
   },
   {
    "duration": 253,
    "start_time": "2025-06-11T19:08:51.583Z"
   },
   {
    "duration": 268,
    "start_time": "2025-06-11T19:09:32.559Z"
   },
   {
    "duration": 266,
    "start_time": "2025-06-11T19:09:51.283Z"
   },
   {
    "duration": 306,
    "start_time": "2025-06-11T19:10:10.801Z"
   },
   {
    "duration": 307,
    "start_time": "2025-06-11T19:10:55.380Z"
   },
   {
    "duration": 340,
    "start_time": "2025-06-11T19:11:11.275Z"
   },
   {
    "duration": 373,
    "start_time": "2025-06-11T19:11:41.681Z"
   },
   {
    "duration": 381,
    "start_time": "2025-06-11T19:12:02.926Z"
   },
   {
    "duration": 376,
    "start_time": "2025-06-11T19:13:50.879Z"
   },
   {
    "duration": 8,
    "start_time": "2025-06-11T19:23:58.278Z"
   },
   {
    "duration": 15,
    "start_time": "2025-06-11T19:24:21.353Z"
   },
   {
    "duration": 8,
    "start_time": "2025-06-11T19:24:52.173Z"
   },
   {
    "duration": 13,
    "start_time": "2025-06-11T19:24:52.739Z"
   },
   {
    "duration": 8,
    "start_time": "2025-06-11T19:25:19.095Z"
   },
   {
    "duration": 16,
    "start_time": "2025-06-11T19:25:19.845Z"
   },
   {
    "duration": 8,
    "start_time": "2025-06-11T19:25:30.635Z"
   },
   {
    "duration": 8,
    "start_time": "2025-06-11T19:25:35.354Z"
   },
   {
    "duration": 17,
    "start_time": "2025-06-11T19:25:35.731Z"
   },
   {
    "duration": 9,
    "start_time": "2025-06-11T19:27:03.790Z"
   },
   {
    "duration": 20,
    "start_time": "2025-06-11T19:27:04.804Z"
   },
   {
    "duration": 167,
    "start_time": "2025-06-11T19:27:53.572Z"
   },
   {
    "duration": 180,
    "start_time": "2025-06-11T19:28:00.111Z"
   },
   {
    "duration": 193,
    "start_time": "2025-06-11T19:28:04.176Z"
   },
   {
    "duration": 189,
    "start_time": "2025-06-11T19:28:06.941Z"
   },
   {
    "duration": 183,
    "start_time": "2025-06-11T19:28:11.187Z"
   },
   {
    "duration": 213,
    "start_time": "2025-06-11T19:28:50.013Z"
   },
   {
    "duration": 210,
    "start_time": "2025-06-11T19:30:02.764Z"
   },
   {
    "duration": 202,
    "start_time": "2025-06-11T19:30:18.232Z"
   },
   {
    "duration": 207,
    "start_time": "2025-06-11T19:30:25.698Z"
   },
   {
    "duration": 217,
    "start_time": "2025-06-11T19:30:28.539Z"
   },
   {
    "duration": 207,
    "start_time": "2025-06-11T19:30:31.317Z"
   },
   {
    "duration": 203,
    "start_time": "2025-06-11T19:31:10.264Z"
   },
   {
    "duration": 205,
    "start_time": "2025-06-11T19:31:17.079Z"
   },
   {
    "duration": 207,
    "start_time": "2025-06-11T19:31:21.089Z"
   },
   {
    "duration": 206,
    "start_time": "2025-06-11T19:31:24.782Z"
   },
   {
    "duration": 206,
    "start_time": "2025-06-11T19:31:31.331Z"
   },
   {
    "duration": 218,
    "start_time": "2025-06-11T19:31:49.794Z"
   },
   {
    "duration": 211,
    "start_time": "2025-06-11T19:32:03.489Z"
   },
   {
    "duration": 247,
    "start_time": "2025-06-11T19:32:27.726Z"
   },
   {
    "duration": 247,
    "start_time": "2025-06-11T19:32:39.127Z"
   },
   {
    "duration": 234,
    "start_time": "2025-06-11T19:32:42.802Z"
   },
   {
    "duration": 228,
    "start_time": "2025-06-11T19:32:56.238Z"
   },
   {
    "duration": 246,
    "start_time": "2025-06-11T19:32:59.831Z"
   },
   {
    "duration": 509,
    "start_time": "2025-06-11T19:33:22.784Z"
   },
   {
    "duration": 249,
    "start_time": "2025-06-11T19:34:47.286Z"
   },
   {
    "duration": 254,
    "start_time": "2025-06-11T19:37:54.275Z"
   },
   {
    "duration": 266,
    "start_time": "2025-06-11T19:38:24.662Z"
   },
   {
    "duration": 267,
    "start_time": "2025-06-11T19:39:03.337Z"
   },
   {
    "duration": 241,
    "start_time": "2025-06-11T19:39:21.072Z"
   },
   {
    "duration": 205,
    "start_time": "2025-06-11T19:39:24.897Z"
   },
   {
    "duration": 237,
    "start_time": "2025-06-11T19:39:54.621Z"
   },
   {
    "duration": 237,
    "start_time": "2025-06-11T19:39:59.466Z"
   },
   {
    "duration": 238,
    "start_time": "2025-06-11T19:40:04.255Z"
   },
   {
    "duration": 236,
    "start_time": "2025-06-11T19:40:19.794Z"
   },
   {
    "duration": 268,
    "start_time": "2025-06-11T19:40:36.766Z"
   },
   {
    "duration": 270,
    "start_time": "2025-06-11T19:40:55.359Z"
   },
   {
    "duration": 270,
    "start_time": "2025-06-11T19:41:02.856Z"
   },
   {
    "duration": 11,
    "start_time": "2025-06-11T19:42:24.881Z"
   },
   {
    "duration": 5021,
    "start_time": "2025-06-11T19:42:50.216Z"
   },
   {
    "duration": 1340,
    "start_time": "2025-06-11T19:42:55.240Z"
   },
   {
    "duration": 3,
    "start_time": "2025-06-11T19:42:56.581Z"
   },
   {
    "duration": 3,
    "start_time": "2025-06-11T19:42:56.586Z"
   },
   {
    "duration": 53,
    "start_time": "2025-06-11T19:42:56.591Z"
   },
   {
    "duration": 8,
    "start_time": "2025-06-11T19:42:56.645Z"
   },
   {
    "duration": 9,
    "start_time": "2025-06-11T19:42:56.654Z"
   },
   {
    "duration": 10,
    "start_time": "2025-06-11T19:42:56.664Z"
   },
   {
    "duration": 395,
    "start_time": "2025-06-11T19:42:56.676Z"
   },
   {
    "duration": 416,
    "start_time": "2025-06-11T19:42:57.072Z"
   },
   {
    "duration": 110,
    "start_time": "2025-06-11T19:42:57.489Z"
   },
   {
    "duration": 0,
    "start_time": "2025-06-11T19:42:57.601Z"
   },
   {
    "duration": 0,
    "start_time": "2025-06-11T19:42:57.602Z"
   },
   {
    "duration": 0,
    "start_time": "2025-06-11T19:42:57.603Z"
   },
   {
    "duration": 0,
    "start_time": "2025-06-11T19:42:57.604Z"
   },
   {
    "duration": 0,
    "start_time": "2025-06-11T19:42:57.605Z"
   },
   {
    "duration": 0,
    "start_time": "2025-06-11T19:42:57.606Z"
   },
   {
    "duration": 0,
    "start_time": "2025-06-11T19:42:57.607Z"
   },
   {
    "duration": 0,
    "start_time": "2025-06-11T19:42:57.608Z"
   },
   {
    "duration": 0,
    "start_time": "2025-06-11T19:42:57.609Z"
   },
   {
    "duration": 0,
    "start_time": "2025-06-11T19:42:57.610Z"
   },
   {
    "duration": 0,
    "start_time": "2025-06-11T19:42:57.611Z"
   },
   {
    "duration": 0,
    "start_time": "2025-06-11T19:42:57.612Z"
   },
   {
    "duration": 0,
    "start_time": "2025-06-11T19:42:57.613Z"
   },
   {
    "duration": 0,
    "start_time": "2025-06-11T19:42:57.614Z"
   },
   {
    "duration": 0,
    "start_time": "2025-06-11T19:42:57.615Z"
   },
   {
    "duration": 0,
    "start_time": "2025-06-11T19:42:57.616Z"
   },
   {
    "duration": 0,
    "start_time": "2025-06-11T19:42:57.617Z"
   },
   {
    "duration": 0,
    "start_time": "2025-06-11T19:42:57.618Z"
   },
   {
    "duration": 3,
    "start_time": "2025-06-11T19:56:12.757Z"
   },
   {
    "duration": 3,
    "start_time": "2025-06-11T19:57:08.321Z"
   },
   {
    "duration": 3,
    "start_time": "2025-06-11T19:57:13.010Z"
   },
   {
    "duration": 90,
    "start_time": "2025-06-11T19:58:31.396Z"
   },
   {
    "duration": 4902,
    "start_time": "2025-06-11T19:58:45.266Z"
   },
   {
    "duration": 1244,
    "start_time": "2025-06-11T19:58:50.170Z"
   },
   {
    "duration": 3,
    "start_time": "2025-06-11T19:58:51.415Z"
   },
   {
    "duration": 12,
    "start_time": "2025-06-11T19:58:51.419Z"
   },
   {
    "duration": 58,
    "start_time": "2025-06-11T19:58:51.433Z"
   },
   {
    "duration": 7,
    "start_time": "2025-06-11T19:58:51.493Z"
   },
   {
    "duration": 8,
    "start_time": "2025-06-11T19:58:51.501Z"
   },
   {
    "duration": 14,
    "start_time": "2025-06-11T19:58:51.510Z"
   },
   {
    "duration": 389,
    "start_time": "2025-06-11T19:58:51.525Z"
   },
   {
    "duration": 434,
    "start_time": "2025-06-11T19:58:51.916Z"
   },
   {
    "duration": 4,
    "start_time": "2025-06-11T19:58:52.351Z"
   },
   {
    "duration": 71,
    "start_time": "2025-06-11T19:58:52.362Z"
   },
   {
    "duration": 19,
    "start_time": "2025-06-11T19:58:52.435Z"
   },
   {
    "duration": 58,
    "start_time": "2025-06-11T19:58:52.457Z"
   },
   {
    "duration": 4,
    "start_time": "2025-06-11T19:58:52.517Z"
   },
   {
    "duration": 5,
    "start_time": "2025-06-11T19:58:52.522Z"
   },
   {
    "duration": 23,
    "start_time": "2025-06-11T19:58:52.528Z"
   },
   {
    "duration": 4,
    "start_time": "2025-06-11T19:58:52.553Z"
   },
   {
    "duration": 4,
    "start_time": "2025-06-11T19:58:52.558Z"
   },
   {
    "duration": 17,
    "start_time": "2025-06-11T19:58:52.564Z"
   },
   {
    "duration": 270,
    "start_time": "2025-06-11T19:58:52.583Z"
   },
   {
    "duration": 0,
    "start_time": "2025-06-11T19:58:52.862Z"
   },
   {
    "duration": 0,
    "start_time": "2025-06-11T19:58:52.863Z"
   },
   {
    "duration": 0,
    "start_time": "2025-06-11T19:58:52.864Z"
   },
   {
    "duration": 0,
    "start_time": "2025-06-11T19:58:52.865Z"
   },
   {
    "duration": 0,
    "start_time": "2025-06-11T19:58:52.866Z"
   },
   {
    "duration": 0,
    "start_time": "2025-06-11T19:58:52.867Z"
   },
   {
    "duration": 0,
    "start_time": "2025-06-11T19:58:52.868Z"
   },
   {
    "duration": 0,
    "start_time": "2025-06-11T19:58:52.868Z"
   },
   {
    "duration": 16,
    "start_time": "2025-06-11T19:59:23.162Z"
   },
   {
    "duration": 52,
    "start_time": "2025-06-11T19:59:39.411Z"
   },
   {
    "duration": 92,
    "start_time": "2025-06-11T20:01:07.458Z"
   },
   {
    "duration": 208,
    "start_time": "2025-06-11T20:01:59.054Z"
   },
   {
    "duration": 5,
    "start_time": "2025-06-11T20:02:05.225Z"
   },
   {
    "duration": 4,
    "start_time": "2025-06-11T20:02:11.464Z"
   },
   {
    "duration": 61,
    "start_time": "2025-06-11T20:02:15.503Z"
   },
   {
    "duration": 5,
    "start_time": "2025-06-11T20:02:16.121Z"
   },
   {
    "duration": 8686,
    "start_time": "2025-06-12T10:34:25.939Z"
   },
   {
    "duration": 1382,
    "start_time": "2025-06-12T10:34:34.627Z"
   },
   {
    "duration": 3,
    "start_time": "2025-06-12T10:34:36.010Z"
   },
   {
    "duration": 43,
    "start_time": "2025-06-12T10:34:36.014Z"
   },
   {
    "duration": 67,
    "start_time": "2025-06-12T10:34:36.058Z"
   },
   {
    "duration": 8,
    "start_time": "2025-06-12T10:34:36.126Z"
   },
   {
    "duration": 15,
    "start_time": "2025-06-12T10:34:36.135Z"
   },
   {
    "duration": 10,
    "start_time": "2025-06-12T10:34:36.152Z"
   },
   {
    "duration": 363,
    "start_time": "2025-06-12T10:34:36.163Z"
   },
   {
    "duration": 573,
    "start_time": "2025-06-12T10:34:36.529Z"
   },
   {
    "duration": 114,
    "start_time": "2025-06-12T10:34:37.103Z"
   },
   {
    "duration": 0,
    "start_time": "2025-06-12T10:34:37.219Z"
   },
   {
    "duration": 0,
    "start_time": "2025-06-12T10:34:37.220Z"
   },
   {
    "duration": 0,
    "start_time": "2025-06-12T10:34:37.221Z"
   },
   {
    "duration": 0,
    "start_time": "2025-06-12T10:34:37.222Z"
   },
   {
    "duration": 0,
    "start_time": "2025-06-12T10:34:37.223Z"
   },
   {
    "duration": 0,
    "start_time": "2025-06-12T10:34:37.224Z"
   },
   {
    "duration": 0,
    "start_time": "2025-06-12T10:34:37.225Z"
   },
   {
    "duration": 0,
    "start_time": "2025-06-12T10:34:37.226Z"
   },
   {
    "duration": 0,
    "start_time": "2025-06-12T10:34:37.227Z"
   },
   {
    "duration": 0,
    "start_time": "2025-06-12T10:34:37.227Z"
   },
   {
    "duration": 0,
    "start_time": "2025-06-12T10:34:37.229Z"
   },
   {
    "duration": 0,
    "start_time": "2025-06-12T10:34:37.229Z"
   },
   {
    "duration": 0,
    "start_time": "2025-06-12T10:34:37.230Z"
   },
   {
    "duration": 0,
    "start_time": "2025-06-12T10:34:37.231Z"
   },
   {
    "duration": 0,
    "start_time": "2025-06-12T10:34:37.232Z"
   },
   {
    "duration": 0,
    "start_time": "2025-06-12T10:34:37.233Z"
   },
   {
    "duration": 0,
    "start_time": "2025-06-12T10:34:37.234Z"
   },
   {
    "duration": 0,
    "start_time": "2025-06-12T10:34:37.235Z"
   },
   {
    "duration": 0,
    "start_time": "2025-06-12T10:34:37.236Z"
   },
   {
    "duration": 582,
    "start_time": "2025-06-12T10:34:59.836Z"
   },
   {
    "duration": 599,
    "start_time": "2025-06-12T10:35:08.215Z"
   },
   {
    "duration": 661,
    "start_time": "2025-06-12T10:35:38.298Z"
   },
   {
    "duration": 535,
    "start_time": "2025-06-12T10:35:47.886Z"
   },
   {
    "duration": 477,
    "start_time": "2025-06-12T10:36:06.892Z"
   },
   {
    "duration": 582,
    "start_time": "2025-06-12T10:37:06.917Z"
   },
   {
    "duration": 770,
    "start_time": "2025-06-12T10:37:36.019Z"
   },
   {
    "duration": 16,
    "start_time": "2025-06-12T10:38:17.245Z"
   },
   {
    "duration": 509,
    "start_time": "2025-06-12T10:38:26.372Z"
   },
   {
    "duration": 482,
    "start_time": "2025-06-12T10:38:43.619Z"
   },
   {
    "duration": 531,
    "start_time": "2025-06-12T10:39:12.274Z"
   },
   {
    "duration": 540,
    "start_time": "2025-06-12T10:39:27.952Z"
   },
   {
    "duration": 571,
    "start_time": "2025-06-12T10:39:55.680Z"
   },
   {
    "duration": 9,
    "start_time": "2025-06-12T10:43:33.420Z"
   },
   {
    "duration": 4927,
    "start_time": "2025-06-12T10:44:14.328Z"
   },
   {
    "duration": 1276,
    "start_time": "2025-06-12T10:44:19.257Z"
   },
   {
    "duration": 3,
    "start_time": "2025-06-12T10:44:20.534Z"
   },
   {
    "duration": 4,
    "start_time": "2025-06-12T10:44:20.538Z"
   },
   {
    "duration": 51,
    "start_time": "2025-06-12T10:44:20.543Z"
   },
   {
    "duration": 6,
    "start_time": "2025-06-12T10:44:20.596Z"
   },
   {
    "duration": 6,
    "start_time": "2025-06-12T10:44:20.603Z"
   },
   {
    "duration": 10,
    "start_time": "2025-06-12T10:44:20.610Z"
   },
   {
    "duration": 381,
    "start_time": "2025-06-12T10:44:20.621Z"
   },
   {
    "duration": 615,
    "start_time": "2025-06-12T10:44:21.004Z"
   },
   {
    "duration": 3,
    "start_time": "2025-06-12T10:44:21.621Z"
   },
   {
    "duration": 18,
    "start_time": "2025-06-12T10:44:21.626Z"
   },
   {
    "duration": 33,
    "start_time": "2025-06-12T10:44:21.645Z"
   },
   {
    "duration": 9,
    "start_time": "2025-06-12T10:44:21.681Z"
   },
   {
    "duration": 14,
    "start_time": "2025-06-12T10:44:21.691Z"
   },
   {
    "duration": 15,
    "start_time": "2025-06-12T10:44:21.706Z"
   },
   {
    "duration": 15,
    "start_time": "2025-06-12T10:44:21.723Z"
   },
   {
    "duration": 9,
    "start_time": "2025-06-12T10:44:21.739Z"
   },
   {
    "duration": 9,
    "start_time": "2025-06-12T10:44:21.749Z"
   },
   {
    "duration": 111,
    "start_time": "2025-06-12T10:44:21.759Z"
   },
   {
    "duration": 95,
    "start_time": "2025-06-12T10:44:21.872Z"
   },
   {
    "duration": 96,
    "start_time": "2025-06-12T10:44:21.969Z"
   },
   {
    "duration": 105,
    "start_time": "2025-06-12T10:44:22.067Z"
   },
   {
    "duration": 0,
    "start_time": "2025-06-12T10:44:22.174Z"
   },
   {
    "duration": 0,
    "start_time": "2025-06-12T10:44:22.175Z"
   },
   {
    "duration": 0,
    "start_time": "2025-06-12T10:44:22.176Z"
   },
   {
    "duration": 0,
    "start_time": "2025-06-12T10:44:22.176Z"
   },
   {
    "duration": 0,
    "start_time": "2025-06-12T10:44:22.177Z"
   },
   {
    "duration": 0,
    "start_time": "2025-06-12T10:44:22.178Z"
   },
   {
    "duration": 0,
    "start_time": "2025-06-12T10:44:22.179Z"
   },
   {
    "duration": 26,
    "start_time": "2025-06-12T10:44:29.999Z"
   },
   {
    "duration": 3,
    "start_time": "2025-06-12T10:45:19.576Z"
   },
   {
    "duration": 148,
    "start_time": "2025-06-12T10:48:10.439Z"
   },
   {
    "duration": 4,
    "start_time": "2025-06-12T10:48:21.716Z"
   },
   {
    "duration": 15,
    "start_time": "2025-06-12T10:48:51.288Z"
   },
   {
    "duration": 4,
    "start_time": "2025-06-12T10:49:04.184Z"
   },
   {
    "duration": 5145,
    "start_time": "2025-06-12T10:50:59.611Z"
   },
   {
    "duration": 1288,
    "start_time": "2025-06-12T10:51:04.758Z"
   },
   {
    "duration": 3,
    "start_time": "2025-06-12T10:51:06.048Z"
   },
   {
    "duration": 52,
    "start_time": "2025-06-12T10:51:06.052Z"
   },
   {
    "duration": 64,
    "start_time": "2025-06-12T10:51:06.107Z"
   },
   {
    "duration": 44,
    "start_time": "2025-06-12T10:51:06.173Z"
   },
   {
    "duration": 17,
    "start_time": "2025-06-12T10:51:06.219Z"
   },
   {
    "duration": 21,
    "start_time": "2025-06-12T10:51:06.238Z"
   },
   {
    "duration": 391,
    "start_time": "2025-06-12T10:51:06.260Z"
   },
   {
    "duration": 648,
    "start_time": "2025-06-12T10:51:06.652Z"
   },
   {
    "duration": 4,
    "start_time": "2025-06-12T10:51:07.301Z"
   },
   {
    "duration": 28,
    "start_time": "2025-06-12T10:51:07.306Z"
   },
   {
    "duration": 28,
    "start_time": "2025-06-12T10:51:07.335Z"
   },
   {
    "duration": 31,
    "start_time": "2025-06-12T10:51:07.365Z"
   },
   {
    "duration": 5,
    "start_time": "2025-06-12T10:51:07.397Z"
   },
   {
    "duration": 8,
    "start_time": "2025-06-12T10:51:07.403Z"
   },
   {
    "duration": 99,
    "start_time": "2025-06-12T10:51:07.412Z"
   },
   {
    "duration": 16,
    "start_time": "2025-06-12T10:51:07.513Z"
   },
   {
    "duration": 9,
    "start_time": "2025-06-12T10:51:07.531Z"
   },
   {
    "duration": 35,
    "start_time": "2025-06-12T10:51:07.542Z"
   },
   {
    "duration": 90,
    "start_time": "2025-06-12T10:51:07.578Z"
   },
   {
    "duration": 101,
    "start_time": "2025-06-12T10:51:07.670Z"
   },
   {
    "duration": 228,
    "start_time": "2025-06-12T10:51:07.772Z"
   },
   {
    "duration": 9,
    "start_time": "2025-06-12T10:51:08.001Z"
   },
   {
    "duration": 0,
    "start_time": "2025-06-12T10:51:08.011Z"
   },
   {
    "duration": 4,
    "start_time": "2025-06-12T10:54:55.379Z"
   },
   {
    "duration": 267651,
    "start_time": "2025-06-12T10:54:57.068Z"
   },
   {
    "duration": 4,
    "start_time": "2025-06-12T11:00:31.656Z"
   },
   {
    "duration": 5,
    "start_time": "2025-06-12T11:01:49.208Z"
   },
   {
    "duration": 4802,
    "start_time": "2025-06-12T11:06:51.499Z"
   },
   {
    "duration": 1221,
    "start_time": "2025-06-12T11:06:56.303Z"
   },
   {
    "duration": 3,
    "start_time": "2025-06-12T11:06:57.525Z"
   },
   {
    "duration": 11,
    "start_time": "2025-06-12T11:06:57.529Z"
   },
   {
    "duration": 59,
    "start_time": "2025-06-12T11:06:57.542Z"
   },
   {
    "duration": 6,
    "start_time": "2025-06-12T11:06:57.603Z"
   },
   {
    "duration": 6,
    "start_time": "2025-06-12T11:06:57.610Z"
   },
   {
    "duration": 11,
    "start_time": "2025-06-12T11:06:57.617Z"
   },
   {
    "duration": 393,
    "start_time": "2025-06-12T11:06:57.629Z"
   },
   {
    "duration": 602,
    "start_time": "2025-06-12T11:06:58.024Z"
   },
   {
    "duration": 4,
    "start_time": "2025-06-12T11:06:58.627Z"
   },
   {
    "duration": 20,
    "start_time": "2025-06-12T11:06:58.632Z"
   },
   {
    "duration": 18,
    "start_time": "2025-06-12T11:06:58.661Z"
   },
   {
    "duration": 8,
    "start_time": "2025-06-12T11:06:58.681Z"
   },
   {
    "duration": 4,
    "start_time": "2025-06-12T11:06:58.690Z"
   },
   {
    "duration": 5,
    "start_time": "2025-06-12T11:06:58.695Z"
   },
   {
    "duration": 3,
    "start_time": "2025-06-12T11:06:58.701Z"
   },
   {
    "duration": 3,
    "start_time": "2025-06-12T11:06:58.705Z"
   },
   {
    "duration": 3,
    "start_time": "2025-06-12T11:06:58.709Z"
   },
   {
    "duration": 150,
    "start_time": "2025-06-12T11:06:58.713Z"
   },
   {
    "duration": 6,
    "start_time": "2025-06-12T11:06:58.865Z"
   },
   {
    "duration": 91,
    "start_time": "2025-06-12T11:06:58.873Z"
   },
   {
    "duration": 273141,
    "start_time": "2025-06-12T11:06:58.966Z"
   },
   {
    "duration": 5,
    "start_time": "2025-06-12T11:11:32.108Z"
   },
   {
    "duration": 123,
    "start_time": "2025-06-12T11:11:32.115Z"
   },
   {
    "duration": 0,
    "start_time": "2025-06-12T11:11:32.239Z"
   },
   {
    "duration": 5002,
    "start_time": "2025-06-12T11:15:20.822Z"
   },
   {
    "duration": 1193,
    "start_time": "2025-06-12T11:15:25.827Z"
   },
   {
    "duration": 3,
    "start_time": "2025-06-12T11:15:27.021Z"
   },
   {
    "duration": 21,
    "start_time": "2025-06-12T11:15:27.025Z"
   },
   {
    "duration": 64,
    "start_time": "2025-06-12T11:15:27.048Z"
   },
   {
    "duration": 7,
    "start_time": "2025-06-12T11:15:27.114Z"
   },
   {
    "duration": 72,
    "start_time": "2025-06-12T11:15:27.122Z"
   },
   {
    "duration": 38,
    "start_time": "2025-06-12T11:15:27.195Z"
   },
   {
    "duration": 380,
    "start_time": "2025-06-12T11:15:27.235Z"
   },
   {
    "duration": 667,
    "start_time": "2025-06-12T11:15:27.616Z"
   },
   {
    "duration": 4,
    "start_time": "2025-06-12T11:15:28.284Z"
   },
   {
    "duration": 32,
    "start_time": "2025-06-12T11:15:28.289Z"
   },
   {
    "duration": 20,
    "start_time": "2025-06-12T11:15:28.322Z"
   },
   {
    "duration": 25,
    "start_time": "2025-06-12T11:15:28.346Z"
   },
   {
    "duration": 5,
    "start_time": "2025-06-12T11:15:28.373Z"
   },
   {
    "duration": 11,
    "start_time": "2025-06-12T11:15:28.380Z"
   },
   {
    "duration": 3,
    "start_time": "2025-06-12T11:15:28.393Z"
   },
   {
    "duration": 8,
    "start_time": "2025-06-12T11:15:28.398Z"
   },
   {
    "duration": 7,
    "start_time": "2025-06-12T11:15:28.408Z"
   },
   {
    "duration": 248,
    "start_time": "2025-06-12T11:15:28.417Z"
   },
   {
    "duration": 5,
    "start_time": "2025-06-12T11:15:28.667Z"
   },
   {
    "duration": 10,
    "start_time": "2025-06-12T11:15:28.764Z"
   },
   {
    "duration": 288853,
    "start_time": "2025-06-12T11:15:28.776Z"
   },
   {
    "duration": 4,
    "start_time": "2025-06-12T11:20:17.631Z"
   },
   {
    "duration": 117,
    "start_time": "2025-06-12T11:20:17.637Z"
   },
   {
    "duration": 0,
    "start_time": "2025-06-12T11:20:17.755Z"
   },
   {
    "duration": 4964,
    "start_time": "2025-06-12T11:21:52.643Z"
   },
   {
    "duration": 1208,
    "start_time": "2025-06-12T11:21:57.609Z"
   },
   {
    "duration": 3,
    "start_time": "2025-06-12T11:21:58.819Z"
   },
   {
    "duration": 4,
    "start_time": "2025-06-12T11:21:58.824Z"
   },
   {
    "duration": 73,
    "start_time": "2025-06-12T11:21:58.829Z"
   },
   {
    "duration": 7,
    "start_time": "2025-06-12T11:21:58.903Z"
   },
   {
    "duration": 6,
    "start_time": "2025-06-12T11:21:58.911Z"
   },
   {
    "duration": 10,
    "start_time": "2025-06-12T11:21:58.918Z"
   },
   {
    "duration": 385,
    "start_time": "2025-06-12T11:21:58.930Z"
   },
   {
    "duration": 638,
    "start_time": "2025-06-12T11:21:59.317Z"
   },
   {
    "duration": 5,
    "start_time": "2025-06-12T11:21:59.957Z"
   },
   {
    "duration": 22,
    "start_time": "2025-06-12T11:21:59.964Z"
   },
   {
    "duration": 21,
    "start_time": "2025-06-12T11:21:59.987Z"
   },
   {
    "duration": 10,
    "start_time": "2025-06-12T11:22:00.009Z"
   },
   {
    "duration": 61,
    "start_time": "2025-06-12T11:22:00.020Z"
   },
   {
    "duration": 30,
    "start_time": "2025-06-12T11:22:00.083Z"
   },
   {
    "duration": 65,
    "start_time": "2025-06-12T11:22:00.115Z"
   },
   {
    "duration": 40,
    "start_time": "2025-06-12T11:22:00.181Z"
   },
   {
    "duration": 35,
    "start_time": "2025-06-12T11:22:00.223Z"
   },
   {
    "duration": 206,
    "start_time": "2025-06-12T11:22:00.259Z"
   },
   {
    "duration": 6,
    "start_time": "2025-06-12T11:22:00.467Z"
   },
   {
    "duration": 93,
    "start_time": "2025-06-12T11:22:00.475Z"
   },
   {
    "duration": 919366,
    "start_time": "2025-06-12T11:22:00.571Z"
   },
   {
    "duration": 6,
    "start_time": "2025-06-12T11:37:19.938Z"
   },
   {
    "duration": 127,
    "start_time": "2025-06-12T11:37:19.945Z"
   },
   {
    "duration": 0,
    "start_time": "2025-06-12T11:37:20.074Z"
   },
   {
    "duration": 2,
    "start_time": "2025-06-12T11:40:46.934Z"
   },
   {
    "duration": 5030,
    "start_time": "2025-06-12T11:44:34.717Z"
   },
   {
    "duration": 1284,
    "start_time": "2025-06-12T11:44:39.749Z"
   },
   {
    "duration": 2,
    "start_time": "2025-06-12T11:44:41.034Z"
   },
   {
    "duration": 17,
    "start_time": "2025-06-12T11:44:41.038Z"
   },
   {
    "duration": 53,
    "start_time": "2025-06-12T11:44:41.057Z"
   },
   {
    "duration": 7,
    "start_time": "2025-06-12T11:44:41.111Z"
   },
   {
    "duration": 6,
    "start_time": "2025-06-12T11:44:41.119Z"
   },
   {
    "duration": 9,
    "start_time": "2025-06-12T11:44:41.127Z"
   },
   {
    "duration": 405,
    "start_time": "2025-06-12T11:44:41.138Z"
   },
   {
    "duration": 645,
    "start_time": "2025-06-12T11:44:41.544Z"
   },
   {
    "duration": 3,
    "start_time": "2025-06-12T11:44:42.191Z"
   },
   {
    "duration": 24,
    "start_time": "2025-06-12T11:44:42.195Z"
   },
   {
    "duration": 20,
    "start_time": "2025-06-12T11:44:42.220Z"
   },
   {
    "duration": 57,
    "start_time": "2025-06-12T11:44:42.242Z"
   },
   {
    "duration": 4,
    "start_time": "2025-06-12T11:44:42.300Z"
   },
   {
    "duration": 15,
    "start_time": "2025-06-12T11:44:42.305Z"
   },
   {
    "duration": 5,
    "start_time": "2025-06-12T11:44:42.321Z"
   },
   {
    "duration": 150,
    "start_time": "2025-06-12T11:44:42.327Z"
   },
   {
    "duration": 7,
    "start_time": "2025-06-12T11:44:42.480Z"
   },
   {
    "duration": 29,
    "start_time": "2025-06-12T11:44:42.575Z"
   },
   {
    "duration": 7,
    "start_time": "2025-06-12T11:44:42.605Z"
   },
   {
    "duration": 4850,
    "start_time": "2025-06-12T11:47:19.140Z"
   },
   {
    "duration": 1260,
    "start_time": "2025-06-12T11:47:23.992Z"
   },
   {
    "duration": 3,
    "start_time": "2025-06-12T11:47:25.253Z"
   },
   {
    "duration": 36,
    "start_time": "2025-06-12T11:47:25.257Z"
   },
   {
    "duration": 76,
    "start_time": "2025-06-12T11:47:25.295Z"
   },
   {
    "duration": 7,
    "start_time": "2025-06-12T11:47:25.372Z"
   },
   {
    "duration": 24,
    "start_time": "2025-06-12T11:47:25.381Z"
   },
   {
    "duration": 11,
    "start_time": "2025-06-12T11:47:25.406Z"
   },
   {
    "duration": 377,
    "start_time": "2025-06-12T11:47:25.418Z"
   },
   {
    "duration": 648,
    "start_time": "2025-06-12T11:47:25.796Z"
   },
   {
    "duration": 4,
    "start_time": "2025-06-12T11:47:26.446Z"
   },
   {
    "duration": 46,
    "start_time": "2025-06-12T11:47:26.462Z"
   },
   {
    "duration": 22,
    "start_time": "2025-06-12T11:47:26.510Z"
   },
   {
    "duration": 12,
    "start_time": "2025-06-12T11:47:26.535Z"
   },
   {
    "duration": 34,
    "start_time": "2025-06-12T11:47:26.548Z"
   },
   {
    "duration": 38,
    "start_time": "2025-06-12T11:47:26.584Z"
   },
   {
    "duration": 7,
    "start_time": "2025-06-12T11:47:26.623Z"
   },
   {
    "duration": 34,
    "start_time": "2025-06-12T11:47:26.631Z"
   },
   {
    "duration": 100,
    "start_time": "2025-06-12T11:47:26.667Z"
   },
   {
    "duration": 5,
    "start_time": "2025-06-12T11:47:26.769Z"
   },
   {
    "duration": 214,
    "start_time": "2025-06-12T11:47:26.776Z"
   },
   {
    "duration": 0,
    "start_time": "2025-06-12T11:47:26.992Z"
   },
   {
    "duration": 0,
    "start_time": "2025-06-12T11:47:26.993Z"
   },
   {
    "duration": 0,
    "start_time": "2025-06-12T11:47:26.994Z"
   },
   {
    "duration": 0,
    "start_time": "2025-06-12T11:47:26.995Z"
   },
   {
    "duration": 2,
    "start_time": "2025-06-12T11:47:38.009Z"
   },
   {
    "duration": 107872,
    "start_time": "2025-06-12T11:47:38.749Z"
   },
   {
    "duration": 4,
    "start_time": "2025-06-12T11:50:08.102Z"
   },
   {
    "duration": 4,
    "start_time": "2025-06-12T11:50:19.274Z"
   },
   {
    "duration": 3,
    "start_time": "2025-06-12T11:50:20.282Z"
   },
   {
    "duration": 107634,
    "start_time": "2025-06-12T11:50:20.776Z"
   },
   {
    "duration": 4,
    "start_time": "2025-06-12T11:57:41.423Z"
   },
   {
    "duration": 3,
    "start_time": "2025-06-12T11:57:42.438Z"
   },
   {
    "duration": 31808,
    "start_time": "2025-06-12T11:57:42.892Z"
   },
   {
    "duration": 3,
    "start_time": "2025-06-12T11:58:38.887Z"
   },
   {
    "duration": 2,
    "start_time": "2025-06-12T11:58:39.551Z"
   },
   {
    "duration": 21888,
    "start_time": "2025-06-12T11:58:39.975Z"
   },
   {
    "duration": 4,
    "start_time": "2025-06-12T11:59:12.354Z"
   },
   {
    "duration": 4,
    "start_time": "2025-06-12T12:00:21.806Z"
   },
   {
    "duration": 3,
    "start_time": "2025-06-12T12:00:22.568Z"
   },
   {
    "duration": 396467,
    "start_time": "2025-06-12T12:00:23.005Z"
   },
   {
    "duration": 4,
    "start_time": "2025-06-12T12:07:06.779Z"
   },
   {
    "duration": 4,
    "start_time": "2025-06-12T12:08:36.597Z"
   },
   {
    "duration": 3,
    "start_time": "2025-06-12T12:08:37.981Z"
   },
   {
    "duration": 4862,
    "start_time": "2025-06-12T12:09:45.071Z"
   },
   {
    "duration": 1298,
    "start_time": "2025-06-12T12:09:49.936Z"
   },
   {
    "duration": 4,
    "start_time": "2025-06-12T12:09:51.235Z"
   },
   {
    "duration": 12,
    "start_time": "2025-06-12T12:09:51.240Z"
   },
   {
    "duration": 66,
    "start_time": "2025-06-12T12:09:51.254Z"
   },
   {
    "duration": 7,
    "start_time": "2025-06-12T12:09:51.321Z"
   },
   {
    "duration": 57,
    "start_time": "2025-06-12T12:09:51.330Z"
   },
   {
    "duration": 30,
    "start_time": "2025-06-12T12:09:51.389Z"
   },
   {
    "duration": 406,
    "start_time": "2025-06-12T12:09:51.421Z"
   },
   {
    "duration": 636,
    "start_time": "2025-06-12T12:09:51.828Z"
   },
   {
    "duration": 4,
    "start_time": "2025-06-12T12:09:52.465Z"
   },
   {
    "duration": 37,
    "start_time": "2025-06-12T12:09:52.470Z"
   },
   {
    "duration": 31,
    "start_time": "2025-06-12T12:09:52.508Z"
   },
   {
    "duration": 8,
    "start_time": "2025-06-12T12:09:52.541Z"
   },
   {
    "duration": 11,
    "start_time": "2025-06-12T12:09:52.551Z"
   },
   {
    "duration": 21,
    "start_time": "2025-06-12T12:09:52.563Z"
   },
   {
    "duration": 12,
    "start_time": "2025-06-12T12:09:52.585Z"
   },
   {
    "duration": 70,
    "start_time": "2025-06-12T12:09:52.598Z"
   },
   {
    "duration": 96,
    "start_time": "2025-06-12T12:09:52.671Z"
   },
   {
    "duration": 90,
    "start_time": "2025-06-12T12:09:52.768Z"
   },
   {
    "duration": 0,
    "start_time": "2025-06-12T12:09:52.860Z"
   },
   {
    "duration": 0,
    "start_time": "2025-06-12T12:09:52.861Z"
   },
   {
    "duration": 0,
    "start_time": "2025-06-12T12:09:52.862Z"
   },
   {
    "duration": 0,
    "start_time": "2025-06-12T12:09:52.863Z"
   },
   {
    "duration": 0,
    "start_time": "2025-06-12T12:09:52.864Z"
   },
   {
    "duration": 3,
    "start_time": "2025-06-12T12:09:59.236Z"
   },
   {
    "duration": 2,
    "start_time": "2025-06-12T12:10:00.830Z"
   },
   {
    "duration": 62191,
    "start_time": "2025-06-12T12:10:03.128Z"
   },
   {
    "duration": 6,
    "start_time": "2025-06-12T12:11:05.321Z"
   },
   {
    "duration": 4,
    "start_time": "2025-06-12T12:13:05.188Z"
   },
   {
    "duration": 3,
    "start_time": "2025-06-12T12:14:56.504Z"
   },
   {
    "duration": 4,
    "start_time": "2025-06-12T12:14:57.570Z"
   },
   {
    "duration": 1691324,
    "start_time": "2025-06-12T12:14:58.143Z"
   },
   {
    "duration": 3,
    "start_time": "2025-06-12T12:43:09.479Z"
   },
   {
    "duration": 9165,
    "start_time": "2025-06-12T16:06:05.022Z"
   },
   {
    "duration": 1624,
    "start_time": "2025-06-12T16:06:14.189Z"
   },
   {
    "duration": 3,
    "start_time": "2025-06-12T16:06:15.814Z"
   },
   {
    "duration": 10,
    "start_time": "2025-06-12T16:06:15.819Z"
   },
   {
    "duration": 67,
    "start_time": "2025-06-12T16:06:15.831Z"
   },
   {
    "duration": 11,
    "start_time": "2025-06-12T16:06:15.899Z"
   },
   {
    "duration": 94,
    "start_time": "2025-06-12T16:06:15.912Z"
   },
   {
    "duration": 19,
    "start_time": "2025-06-12T16:06:16.008Z"
   },
   {
    "duration": 442,
    "start_time": "2025-06-12T16:06:16.028Z"
   },
   {
    "duration": 724,
    "start_time": "2025-06-12T16:06:16.472Z"
   },
   {
    "duration": 5,
    "start_time": "2025-06-12T16:06:17.197Z"
   },
   {
    "duration": 37,
    "start_time": "2025-06-12T16:06:17.203Z"
   },
   {
    "duration": 26,
    "start_time": "2025-06-12T16:06:17.241Z"
   },
   {
    "duration": 10,
    "start_time": "2025-06-12T16:06:17.270Z"
   },
   {
    "duration": 5,
    "start_time": "2025-06-12T16:06:17.282Z"
   },
   {
    "duration": 6,
    "start_time": "2025-06-12T16:06:17.288Z"
   },
   {
    "duration": 91,
    "start_time": "2025-06-12T16:06:17.296Z"
   },
   {
    "duration": 78,
    "start_time": "2025-06-12T16:06:17.389Z"
   },
   {
    "duration": 91,
    "start_time": "2025-06-12T16:06:17.469Z"
   },
   {
    "duration": 9,
    "start_time": "2025-06-12T16:06:17.562Z"
   },
   {
    "duration": 5,
    "start_time": "2025-06-12T16:06:17.573Z"
   },
   {
    "duration": 91041,
    "start_time": "2025-06-12T16:06:17.580Z"
   },
   {
    "duration": 4,
    "start_time": "2025-06-12T16:07:48.623Z"
   },
   {
    "duration": 138,
    "start_time": "2025-06-12T16:07:48.629Z"
   },
   {
    "duration": 0,
    "start_time": "2025-06-12T16:07:48.769Z"
   },
   {
    "duration": 5637,
    "start_time": "2025-06-12T16:08:44.454Z"
   },
   {
    "duration": 1364,
    "start_time": "2025-06-12T16:08:50.094Z"
   },
   {
    "duration": 3,
    "start_time": "2025-06-12T16:08:51.460Z"
   },
   {
    "duration": 9,
    "start_time": "2025-06-12T16:08:51.465Z"
   },
   {
    "duration": 65,
    "start_time": "2025-06-12T16:08:51.476Z"
   },
   {
    "duration": 19,
    "start_time": "2025-06-12T16:08:51.543Z"
   },
   {
    "duration": 9,
    "start_time": "2025-06-12T16:08:51.565Z"
   },
   {
    "duration": 27,
    "start_time": "2025-06-12T16:08:51.576Z"
   },
   {
    "duration": 462,
    "start_time": "2025-06-12T16:08:51.605Z"
   },
   {
    "duration": 749,
    "start_time": "2025-06-12T16:08:52.081Z"
   },
   {
    "duration": 5,
    "start_time": "2025-06-12T16:08:52.831Z"
   },
   {
    "duration": 33,
    "start_time": "2025-06-12T16:08:52.838Z"
   },
   {
    "duration": 29,
    "start_time": "2025-06-12T16:08:52.873Z"
   },
   {
    "duration": 90,
    "start_time": "2025-06-12T16:08:52.904Z"
   },
   {
    "duration": 6,
    "start_time": "2025-06-12T16:08:52.996Z"
   },
   {
    "duration": 8,
    "start_time": "2025-06-12T16:08:53.004Z"
   },
   {
    "duration": 9,
    "start_time": "2025-06-12T16:08:53.014Z"
   },
   {
    "duration": 145,
    "start_time": "2025-06-12T16:08:53.025Z"
   },
   {
    "duration": 90,
    "start_time": "2025-06-12T16:08:53.172Z"
   },
   {
    "duration": 6,
    "start_time": "2025-06-12T16:08:53.264Z"
   },
   {
    "duration": 4,
    "start_time": "2025-06-12T16:08:53.272Z"
   },
   {
    "duration": 2760482,
    "start_time": "2025-06-12T16:08:53.277Z"
   },
   {
    "duration": 4,
    "start_time": "2025-06-12T16:54:53.761Z"
   },
   {
    "duration": 134,
    "start_time": "2025-06-12T16:54:53.767Z"
   },
   {
    "duration": 0,
    "start_time": "2025-06-12T16:54:53.903Z"
   },
   {
    "duration": 14,
    "start_time": "2025-06-12T16:56:39.159Z"
   },
   {
    "duration": 5,
    "start_time": "2025-06-12T16:56:46.740Z"
   },
   {
    "duration": 35,
    "start_time": "2025-06-12T17:30:55.249Z"
   },
   {
    "duration": 7,
    "start_time": "2025-06-12T17:31:04.685Z"
   },
   {
    "duration": 214,
    "start_time": "2025-06-12T17:31:53.251Z"
   },
   {
    "duration": 251,
    "start_time": "2025-06-12T17:32:15.250Z"
   },
   {
    "duration": 228,
    "start_time": "2025-06-12T17:33:00.102Z"
   },
   {
    "duration": 225,
    "start_time": "2025-06-12T17:34:44.090Z"
   },
   {
    "duration": 243,
    "start_time": "2025-06-12T17:34:57.167Z"
   },
   {
    "duration": 251,
    "start_time": "2025-06-12T17:35:04.796Z"
   },
   {
    "duration": 277,
    "start_time": "2025-06-12T17:40:20.699Z"
   },
   {
    "duration": 396,
    "start_time": "2025-06-12T17:41:23.949Z"
   },
   {
    "duration": 300,
    "start_time": "2025-06-12T17:41:54.947Z"
   },
   {
    "duration": 278,
    "start_time": "2025-06-12T17:41:58.317Z"
   },
   {
    "duration": 215,
    "start_time": "2025-06-12T17:42:12.838Z"
   },
   {
    "duration": 279,
    "start_time": "2025-06-12T17:42:19.561Z"
   },
   {
    "duration": 14,
    "start_time": "2025-06-12T17:59:53.043Z"
   },
   {
    "duration": 16,
    "start_time": "2025-06-12T18:00:58.060Z"
   },
   {
    "duration": 9,
    "start_time": "2025-06-12T18:01:02.617Z"
   },
   {
    "duration": 336,
    "start_time": "2025-06-12T18:01:12.067Z"
   },
   {
    "duration": 10,
    "start_time": "2025-06-12T18:01:23.914Z"
   },
   {
    "duration": 15,
    "start_time": "2025-06-12T18:01:40.028Z"
   },
   {
    "duration": 10,
    "start_time": "2025-06-12T18:01:43.408Z"
   },
   {
    "duration": 10,
    "start_time": "2025-06-12T18:03:00.687Z"
   },
   {
    "duration": 9,
    "start_time": "2025-06-12T18:03:20.544Z"
   },
   {
    "duration": 10,
    "start_time": "2025-06-12T18:03:28.926Z"
   },
   {
    "duration": 18,
    "start_time": "2025-06-12T18:03:40.044Z"
   },
   {
    "duration": 33,
    "start_time": "2025-06-12T18:05:31.964Z"
   },
   {
    "duration": 26,
    "start_time": "2025-06-12T18:05:51.662Z"
   },
   {
    "duration": 6278,
    "start_time": "2025-06-12T18:07:09.374Z"
   },
   {
    "duration": 1480,
    "start_time": "2025-06-12T18:07:15.655Z"
   },
   {
    "duration": 4,
    "start_time": "2025-06-12T18:07:17.136Z"
   },
   {
    "duration": 3,
    "start_time": "2025-06-12T18:07:17.141Z"
   },
   {
    "duration": 76,
    "start_time": "2025-06-12T18:07:17.146Z"
   },
   {
    "duration": 7,
    "start_time": "2025-06-12T18:07:17.224Z"
   },
   {
    "duration": 5,
    "start_time": "2025-06-12T18:07:17.234Z"
   },
   {
    "duration": 16,
    "start_time": "2025-06-12T18:07:17.241Z"
   },
   {
    "duration": 479,
    "start_time": "2025-06-12T18:07:17.268Z"
   },
   {
    "duration": 848,
    "start_time": "2025-06-12T18:07:17.749Z"
   },
   {
    "duration": 4,
    "start_time": "2025-06-12T18:07:18.599Z"
   },
   {
    "duration": 26,
    "start_time": "2025-06-12T18:07:18.605Z"
   },
   {
    "duration": 56,
    "start_time": "2025-06-12T18:07:18.633Z"
   },
   {
    "duration": 10,
    "start_time": "2025-06-12T18:07:18.693Z"
   },
   {
    "duration": 6,
    "start_time": "2025-06-12T18:07:18.705Z"
   },
   {
    "duration": 7,
    "start_time": "2025-06-12T18:07:18.712Z"
   },
   {
    "duration": 10,
    "start_time": "2025-06-12T18:07:18.720Z"
   },
   {
    "duration": 127,
    "start_time": "2025-06-12T18:07:18.731Z"
   },
   {
    "duration": 110,
    "start_time": "2025-06-12T18:07:18.859Z"
   },
   {
    "duration": 8,
    "start_time": "2025-06-12T18:07:18.971Z"
   },
   {
    "duration": 3,
    "start_time": "2025-06-12T18:07:18.982Z"
   },
   {
    "duration": 5459,
    "start_time": "2025-06-12T18:33:25.999Z"
   },
   {
    "duration": 1361,
    "start_time": "2025-06-12T18:33:31.461Z"
   },
   {
    "duration": 4,
    "start_time": "2025-06-12T18:33:32.823Z"
   },
   {
    "duration": 101,
    "start_time": "2025-06-12T18:33:32.829Z"
   },
   {
    "duration": 74,
    "start_time": "2025-06-12T18:33:32.932Z"
   },
   {
    "duration": 8,
    "start_time": "2025-06-12T18:33:33.008Z"
   },
   {
    "duration": 14,
    "start_time": "2025-06-12T18:33:33.018Z"
   },
   {
    "duration": 12,
    "start_time": "2025-06-12T18:33:33.033Z"
   },
   {
    "duration": 477,
    "start_time": "2025-06-12T18:33:33.046Z"
   },
   {
    "duration": 808,
    "start_time": "2025-06-12T18:33:33.525Z"
   },
   {
    "duration": 4,
    "start_time": "2025-06-12T18:33:34.334Z"
   },
   {
    "duration": 36,
    "start_time": "2025-06-12T18:33:34.340Z"
   },
   {
    "duration": 23,
    "start_time": "2025-06-12T18:33:34.378Z"
   },
   {
    "duration": 9,
    "start_time": "2025-06-12T18:33:34.403Z"
   },
   {
    "duration": 23,
    "start_time": "2025-06-12T18:33:34.414Z"
   },
   {
    "duration": 6,
    "start_time": "2025-06-12T18:33:34.439Z"
   },
   {
    "duration": 15,
    "start_time": "2025-06-12T18:33:34.446Z"
   },
   {
    "duration": 295,
    "start_time": "2025-06-12T18:33:34.463Z"
   },
   {
    "duration": 7,
    "start_time": "2025-06-12T18:33:34.760Z"
   },
   {
    "duration": 10,
    "start_time": "2025-06-12T18:33:34.770Z"
   },
   {
    "duration": 5,
    "start_time": "2025-06-12T18:33:34.782Z"
   },
   {
    "duration": 2875993,
    "start_time": "2025-06-12T18:33:34.789Z"
   },
   {
    "duration": 4,
    "start_time": "2025-06-12T19:21:30.784Z"
   },
   {
    "duration": 80,
    "start_time": "2025-06-12T19:21:30.790Z"
   },
   {
    "duration": 18,
    "start_time": "2025-06-12T19:21:30.874Z"
   },
   {
    "duration": 367,
    "start_time": "2025-06-12T19:21:30.894Z"
   },
   {
    "duration": 82,
    "start_time": "2025-06-12T19:21:31.266Z"
   },
   {
    "duration": 16,
    "start_time": "2025-06-12T19:23:42.555Z"
   },
   {
    "duration": 13,
    "start_time": "2025-06-12T19:23:52.660Z"
   },
   {
    "duration": 10,
    "start_time": "2025-06-12T19:25:00.756Z"
   },
   {
    "duration": 9629,
    "start_time": "2025-06-13T14:06:48.238Z"
   },
   {
    "duration": 1577,
    "start_time": "2025-06-13T14:06:57.869Z"
   },
   {
    "duration": 3,
    "start_time": "2025-06-13T14:06:59.448Z"
   },
   {
    "duration": 19,
    "start_time": "2025-06-13T14:06:59.453Z"
   },
   {
    "duration": 57,
    "start_time": "2025-06-13T14:06:59.475Z"
   },
   {
    "duration": 8,
    "start_time": "2025-06-13T14:06:59.534Z"
   },
   {
    "duration": 9,
    "start_time": "2025-06-13T14:06:59.544Z"
   },
   {
    "duration": 12,
    "start_time": "2025-06-13T14:06:59.555Z"
   },
   {
    "duration": 458,
    "start_time": "2025-06-13T14:06:59.568Z"
   },
   {
    "duration": 776,
    "start_time": "2025-06-13T14:07:00.028Z"
   },
   {
    "duration": 4,
    "start_time": "2025-06-13T14:07:00.806Z"
   },
   {
    "duration": 34,
    "start_time": "2025-06-13T14:07:00.812Z"
   },
   {
    "duration": 25,
    "start_time": "2025-06-13T14:07:00.848Z"
   },
   {
    "duration": 11,
    "start_time": "2025-06-13T14:07:00.875Z"
   },
   {
    "duration": 5,
    "start_time": "2025-06-13T14:07:00.888Z"
   },
   {
    "duration": 13,
    "start_time": "2025-06-13T14:07:00.894Z"
   },
   {
    "duration": 5,
    "start_time": "2025-06-13T14:07:00.908Z"
   },
   {
    "duration": 98,
    "start_time": "2025-06-13T14:07:00.938Z"
   },
   {
    "duration": 0,
    "start_time": "2025-06-13T14:07:01.037Z"
   },
   {
    "duration": 0,
    "start_time": "2025-06-13T14:07:01.039Z"
   },
   {
    "duration": 0,
    "start_time": "2025-06-13T14:07:01.040Z"
   },
   {
    "duration": 0,
    "start_time": "2025-06-13T14:07:01.041Z"
   },
   {
    "duration": 0,
    "start_time": "2025-06-13T14:07:01.042Z"
   },
   {
    "duration": 0,
    "start_time": "2025-06-13T14:07:01.043Z"
   },
   {
    "duration": 0,
    "start_time": "2025-06-13T14:07:01.044Z"
   },
   {
    "duration": 4,
    "start_time": "2025-06-13T14:07:09.481Z"
   },
   {
    "duration": 2,
    "start_time": "2025-06-13T14:07:12.223Z"
   },
   {
    "duration": 206,
    "start_time": "2025-06-13T14:07:13.494Z"
   },
   {
    "duration": 5,
    "start_time": "2025-06-13T14:07:42.373Z"
   },
   {
    "duration": 3,
    "start_time": "2025-06-13T14:07:45.613Z"
   },
   {
    "duration": 89,
    "start_time": "2025-06-13T14:07:46.815Z"
   },
   {
    "duration": 4,
    "start_time": "2025-06-13T14:08:29.900Z"
   },
   {
    "duration": 4,
    "start_time": "2025-06-13T14:08:30.334Z"
   },
   {
    "duration": 3,
    "start_time": "2025-06-13T14:08:32.168Z"
   },
   {
    "duration": 2434818,
    "start_time": "2025-06-13T14:08:33.047Z"
   },
   {
    "duration": 5,
    "start_time": "2025-06-13T14:52:14.223Z"
   },
   {
    "duration": 73,
    "start_time": "2025-06-13T14:52:34.699Z"
   },
   {
    "duration": 5578,
    "start_time": "2025-06-13T15:28:14.979Z"
   },
   {
    "duration": 1434,
    "start_time": "2025-06-13T15:28:20.560Z"
   },
   {
    "duration": 3,
    "start_time": "2025-06-13T15:28:21.995Z"
   },
   {
    "duration": 35,
    "start_time": "2025-06-13T15:28:22.000Z"
   },
   {
    "duration": 65,
    "start_time": "2025-06-13T15:28:22.037Z"
   },
   {
    "duration": 8,
    "start_time": "2025-06-13T15:28:22.104Z"
   },
   {
    "duration": 32,
    "start_time": "2025-06-13T15:28:22.113Z"
   },
   {
    "duration": 30,
    "start_time": "2025-06-13T15:28:22.146Z"
   },
   {
    "duration": 429,
    "start_time": "2025-06-13T15:28:22.177Z"
   },
   {
    "duration": 736,
    "start_time": "2025-06-13T15:28:22.608Z"
   },
   {
    "duration": 5,
    "start_time": "2025-06-13T15:28:23.345Z"
   },
   {
    "duration": 32,
    "start_time": "2025-06-13T15:28:23.351Z"
   },
   {
    "duration": 24,
    "start_time": "2025-06-13T15:28:23.384Z"
   },
   {
    "duration": 28,
    "start_time": "2025-06-13T15:28:23.410Z"
   },
   {
    "duration": 5,
    "start_time": "2025-06-13T15:28:23.439Z"
   },
   {
    "duration": 20,
    "start_time": "2025-06-13T15:28:23.446Z"
   },
   {
    "duration": 14,
    "start_time": "2025-06-13T15:28:23.467Z"
   },
   {
    "duration": 13,
    "start_time": "2025-06-13T15:28:23.482Z"
   },
   {
    "duration": 113,
    "start_time": "2025-06-13T15:28:23.496Z"
   },
   {
    "duration": 5648,
    "start_time": "2025-06-13T16:09:26.319Z"
   },
   {
    "duration": 1388,
    "start_time": "2025-06-13T16:09:31.970Z"
   },
   {
    "duration": 3,
    "start_time": "2025-06-13T16:09:33.360Z"
   },
   {
    "duration": 16,
    "start_time": "2025-06-13T16:09:33.364Z"
   },
   {
    "duration": 95,
    "start_time": "2025-06-13T16:09:33.383Z"
   },
   {
    "duration": 9,
    "start_time": "2025-06-13T16:09:33.479Z"
   },
   {
    "duration": 28,
    "start_time": "2025-06-13T16:09:33.490Z"
   },
   {
    "duration": 12,
    "start_time": "2025-06-13T16:09:33.520Z"
   },
   {
    "duration": 418,
    "start_time": "2025-06-13T16:09:33.538Z"
   },
   {
    "duration": 808,
    "start_time": "2025-06-13T16:09:33.958Z"
   },
   {
    "duration": 5,
    "start_time": "2025-06-13T16:09:34.768Z"
   },
   {
    "duration": 35,
    "start_time": "2025-06-13T16:09:34.775Z"
   },
   {
    "duration": 35,
    "start_time": "2025-06-13T16:09:34.812Z"
   },
   {
    "duration": 31,
    "start_time": "2025-06-13T16:09:34.851Z"
   },
   {
    "duration": 5,
    "start_time": "2025-06-13T16:09:34.884Z"
   },
   {
    "duration": 31,
    "start_time": "2025-06-13T16:09:34.891Z"
   },
   {
    "duration": 18,
    "start_time": "2025-06-13T16:09:34.924Z"
   },
   {
    "duration": 8,
    "start_time": "2025-06-13T16:09:34.944Z"
   },
   {
    "duration": 24,
    "start_time": "2025-06-13T16:09:34.953Z"
   },
   {
    "duration": 1275366,
    "start_time": "2025-06-13T16:09:34.979Z"
   },
   {
    "duration": 4,
    "start_time": "2025-06-13T16:30:50.346Z"
   },
   {
    "duration": 8,
    "start_time": "2025-06-13T16:30:50.351Z"
   },
   {
    "duration": 4,
    "start_time": "2025-06-13T16:30:50.439Z"
   },
   {
    "duration": 307,
    "start_time": "2025-06-13T16:30:50.445Z"
   },
   {
    "duration": 9,
    "start_time": "2025-06-13T16:30:50.754Z"
   }
  ],
  "kernelspec": {
   "display_name": "practicum",
   "language": "python",
   "name": "python3"
  },
  "language_info": {
   "codemirror_mode": {
    "name": "ipython",
    "version": 3
   },
   "file_extension": ".py",
   "mimetype": "text/x-python",
   "name": "python",
   "nbconvert_exporter": "python",
   "pygments_lexer": "ipython3",
   "version": "3.9.21"
  },
  "toc": {
   "base_numbering": 1,
   "nav_menu": {},
   "number_sections": true,
   "sideBar": true,
   "skip_h1_title": true,
   "title_cell": "Содержание",
   "title_sidebar": "Contents",
   "toc_cell": true,
   "toc_position": {
    "height": "calc(100% - 180px)",
    "left": "10px",
    "top": "150px",
    "width": "188.188px"
   },
   "toc_section_display": true,
   "toc_window_display": true
  }
 },
 "nbformat": 4,
 "nbformat_minor": 2
}
