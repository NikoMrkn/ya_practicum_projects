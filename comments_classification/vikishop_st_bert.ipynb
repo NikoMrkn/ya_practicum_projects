{
 "cells": [
  {
   "cell_type": "markdown",
   "id": "be740d61",
   "metadata": {},
   "source": [
    "**Проект для «Викишоп» c ST и BERT**\n",
    "\n",
    "**Описание проекта:** \n",
    "Интернет-магазин «Викишоп» запускает новый сервис. Теперь пользователи могут редактировать и дополнять описания товаров, как в вики-сообществах. То есть клиенты предлагают свои правки и комментируют изменения других. Магазину нужен инструмент, который будет искать токсичные комментарии и отправлять их на модерацию. \n",
    "Обучите модель классифицировать комментарии на позитивные и негативные. В вашем распоряжении набор данных с разметкой о токсичности правок.\n",
    "Постройте модель со значением метрики качества F1 не меньше 0.75. \n",
    "\n",
    "\n",
    "**Цель исследования:** Обучить модель классифицировать комментарии на позитивные и негативные. \n",
    "\n",
    "**Ход исследования:**\n",
    "- предобработка данных\n",
    "- создание эмбеддингов\n",
    "- обучение моделей: LR, RFC, LGMBC\n",
    "- определение лучшей и подсчет метрики F1 на лучшей модели\n"
   ]
  },
  {
   "cell_type": "code",
   "execution_count": 1,
   "id": "0952e14f",
   "metadata": {},
   "outputs": [
    {
     "name": "stdout",
     "output_type": "stream",
     "text": [
      "Note: you may need to restart the kernel to use updated packages.\n",
      "Note: you may need to restart the kernel to use updated packages.\n",
      "Note: you may need to restart the kernel to use updated packages.\n"
     ]
    }
   ],
   "source": [
    "%pip install scikit-learn -q -U \n",
    "%pip install sentence-transformers lightgbm optuna transformers tqdm -q\n",
    "%pip install torch torchvision torchaudio --index-url https://download.pytorch.org/whl/cu118 -q"
   ]
  },
  {
   "cell_type": "code",
   "execution_count": 2,
   "id": "2f354677",
   "metadata": {},
   "outputs": [],
   "source": [
    "import pandas as pd\n",
    "import numpy as np\n",
    "import warnings\n",
    "import torch\n",
    "import optuna\n",
    "\n",
    "from typing import List\n",
    "\n",
    "from tqdm import tqdm\n",
    "\n",
    "from sentence_transformers import SentenceTransformer\n",
    "from transformers.tokenization_utils_base import BatchEncoding\n",
    "from transformers import AutoTokenizer, AutoModel\n",
    "from torch.utils.data import Dataset, DataLoader\n",
    "\n",
    "from sklearn.metrics import f1_score\n",
    "from sklearn.model_selection import train_test_split\n",
    "from sklearn.linear_model import LogisticRegression\n",
    "from sklearn.ensemble import RandomForestClassifier\n",
    "\n",
    "from lightgbm import LGBMClassifier\n",
    "from lightgbm import early_stopping"
   ]
  },
  {
   "cell_type": "code",
   "execution_count": 3,
   "id": "5c565574",
   "metadata": {},
   "outputs": [],
   "source": [
    "TEST_SIZE = 0.2\n",
    "RANDOM_STATE = 42\n",
    "BATCH_SIZE = 32"
   ]
  },
  {
   "cell_type": "code",
   "execution_count": 4,
   "id": "c3a45c0e",
   "metadata": {},
   "outputs": [],
   "source": [
    "warnings.filterwarnings('ignore')\n",
    "pd.set_option('display.max_colwidth', None)"
   ]
  },
  {
   "cell_type": "markdown",
   "id": "0c239d70",
   "metadata": {},
   "source": [
    "## Первичная предобработка данных"
   ]
  },
  {
   "cell_type": "code",
   "execution_count": 5,
   "id": "1f20a383",
   "metadata": {},
   "outputs": [
    {
     "name": "stdout",
     "output_type": "stream",
     "text": [
      "<class 'pandas.core.frame.DataFrame'>\n",
      "RangeIndex: 159292 entries, 0 to 159291\n",
      "Data columns (total 3 columns):\n",
      " #   Column      Non-Null Count   Dtype \n",
      "---  ------      --------------   ----- \n",
      " 0   Unnamed: 0  159292 non-null  int64 \n",
      " 1   text        159292 non-null  object\n",
      " 2   toxic       159292 non-null  int64 \n",
      "dtypes: int64(2), object(1)\n",
      "memory usage: 3.6+ MB\n"
     ]
    },
    {
     "data": {
      "text/html": [
       "<div>\n",
       "<style scoped>\n",
       "    .dataframe tbody tr th:only-of-type {\n",
       "        vertical-align: middle;\n",
       "    }\n",
       "\n",
       "    .dataframe tbody tr th {\n",
       "        vertical-align: top;\n",
       "    }\n",
       "\n",
       "    .dataframe thead th {\n",
       "        text-align: right;\n",
       "    }\n",
       "</style>\n",
       "<table border=\"1\" class=\"dataframe\">\n",
       "  <thead>\n",
       "    <tr style=\"text-align: right;\">\n",
       "      <th></th>\n",
       "      <th>Unnamed: 0</th>\n",
       "      <th>text</th>\n",
       "      <th>toxic</th>\n",
       "    </tr>\n",
       "  </thead>\n",
       "  <tbody>\n",
       "    <tr>\n",
       "      <th>0</th>\n",
       "      <td>0</td>\n",
       "      <td>Explanation\\nWhy the edits made under my username Hardcore Metallica Fan were reverted? They weren't vandalisms, just closure on some GAs after I voted at New York Dolls FAC. And please don't remove the template from the talk page since I'm retired now.89.205.38.27</td>\n",
       "      <td>0</td>\n",
       "    </tr>\n",
       "    <tr>\n",
       "      <th>1</th>\n",
       "      <td>1</td>\n",
       "      <td>D'aww! He matches this background colour I'm seemingly stuck with. Thanks.  (talk) 21:51, January 11, 2016 (UTC)</td>\n",
       "      <td>0</td>\n",
       "    </tr>\n",
       "    <tr>\n",
       "      <th>2</th>\n",
       "      <td>2</td>\n",
       "      <td>Hey man, I'm really not trying to edit war. It's just that this guy is constantly removing relevant information and talking to me through edits instead of my talk page. He seems to care more about the formatting than the actual info.</td>\n",
       "      <td>0</td>\n",
       "    </tr>\n",
       "    <tr>\n",
       "      <th>3</th>\n",
       "      <td>3</td>\n",
       "      <td>\"\\nMore\\nI can't make any real suggestions on improvement - I wondered if the section statistics should be later on, or a subsection of \"\"types of accidents\"\"  -I think the references may need tidying so that they are all in the exact same format ie date format etc. I can do that later on, if no-one else does first - if you have any preferences for formatting style on references or want to do it yourself please let me know.\\n\\nThere appears to be a backlog on articles for review so I guess there may be a delay until a reviewer turns up. It's listed in the relevant form eg Wikipedia:Good_article_nominations#Transport  \"</td>\n",
       "      <td>0</td>\n",
       "    </tr>\n",
       "    <tr>\n",
       "      <th>4</th>\n",
       "      <td>4</td>\n",
       "      <td>You, sir, are my hero. Any chance you remember what page that's on?</td>\n",
       "      <td>0</td>\n",
       "    </tr>\n",
       "  </tbody>\n",
       "</table>\n",
       "</div>"
      ],
      "text/plain": [
       "   Unnamed: 0  \\\n",
       "0           0   \n",
       "1           1   \n",
       "2           2   \n",
       "3           3   \n",
       "4           4   \n",
       "\n",
       "                                                                                                                                                                                                                                                                                                                                                                                                                                                                                                                                                                                                                                                 text  \\\n",
       "0                                                                                                                                                                                                                                                                                                                                                                           Explanation\\nWhy the edits made under my username Hardcore Metallica Fan were reverted? They weren't vandalisms, just closure on some GAs after I voted at New York Dolls FAC. And please don't remove the template from the talk page since I'm retired now.89.205.38.27   \n",
       "1                                                                                                                                                                                                                                                                                                                                                                                                                                                                                                                                    D'aww! He matches this background colour I'm seemingly stuck with. Thanks.  (talk) 21:51, January 11, 2016 (UTC)   \n",
       "2                                                                                                                                                                                                                                                                                                                                                                                                           Hey man, I'm really not trying to edit war. It's just that this guy is constantly removing relevant information and talking to me through edits instead of my talk page. He seems to care more about the formatting than the actual info.   \n",
       "3  \"\\nMore\\nI can't make any real suggestions on improvement - I wondered if the section statistics should be later on, or a subsection of \"\"types of accidents\"\"  -I think the references may need tidying so that they are all in the exact same format ie date format etc. I can do that later on, if no-one else does first - if you have any preferences for formatting style on references or want to do it yourself please let me know.\\n\\nThere appears to be a backlog on articles for review so I guess there may be a delay until a reviewer turns up. It's listed in the relevant form eg Wikipedia:Good_article_nominations#Transport  \"   \n",
       "4                                                                                                                                                                                                                                                                                                                                                                                                                                                                                                                                                                                 You, sir, are my hero. Any chance you remember what page that's on?   \n",
       "\n",
       "   toxic  \n",
       "0      0  \n",
       "1      0  \n",
       "2      0  \n",
       "3      0  \n",
       "4      0  "
      ]
     },
     "metadata": {},
     "output_type": "display_data"
    }
   ],
   "source": [
    "data = pd.read_csv(r'../datasets/toxic_comments.csv')\n",
    "\n",
    "data.info()\n",
    "display(data.head())"
   ]
  },
  {
   "cell_type": "code",
   "execution_count": 6,
   "id": "d449323d",
   "metadata": {},
   "outputs": [],
   "source": [
    "data = data.drop('Unnamed: 0', axis=1)"
   ]
  },
  {
   "cell_type": "code",
   "execution_count": 7,
   "id": "44fe184d",
   "metadata": {},
   "outputs": [
    {
     "data": {
      "text/html": [
       "<div>\n",
       "<style scoped>\n",
       "    .dataframe tbody tr th:only-of-type {\n",
       "        vertical-align: middle;\n",
       "    }\n",
       "\n",
       "    .dataframe tbody tr th {\n",
       "        vertical-align: top;\n",
       "    }\n",
       "\n",
       "    .dataframe thead th {\n",
       "        text-align: right;\n",
       "    }\n",
       "</style>\n",
       "<table border=\"1\" class=\"dataframe\">\n",
       "  <thead>\n",
       "    <tr style=\"text-align: right;\">\n",
       "      <th></th>\n",
       "      <th>text</th>\n",
       "      <th>toxic</th>\n",
       "    </tr>\n",
       "  </thead>\n",
       "  <tbody>\n",
       "    <tr>\n",
       "      <th>0</th>\n",
       "      <td>Explanation\\nWhy the edits made under my username Hardcore Metallica Fan were reverted? They weren't vandalisms, just closure on some GAs after I voted at New York Dolls FAC. And please don't remove the template from the talk page since I'm retired now.89.205.38.27</td>\n",
       "      <td>0</td>\n",
       "    </tr>\n",
       "    <tr>\n",
       "      <th>1</th>\n",
       "      <td>D'aww! He matches this background colour I'm seemingly stuck with. Thanks.  (talk) 21:51, January 11, 2016 (UTC)</td>\n",
       "      <td>0</td>\n",
       "    </tr>\n",
       "    <tr>\n",
       "      <th>2</th>\n",
       "      <td>Hey man, I'm really not trying to edit war. It's just that this guy is constantly removing relevant information and talking to me through edits instead of my talk page. He seems to care more about the formatting than the actual info.</td>\n",
       "      <td>0</td>\n",
       "    </tr>\n",
       "    <tr>\n",
       "      <th>3</th>\n",
       "      <td>\"\\nMore\\nI can't make any real suggestions on improvement - I wondered if the section statistics should be later on, or a subsection of \"\"types of accidents\"\"  -I think the references may need tidying so that they are all in the exact same format ie date format etc. I can do that later on, if no-one else does first - if you have any preferences for formatting style on references or want to do it yourself please let me know.\\n\\nThere appears to be a backlog on articles for review so I guess there may be a delay until a reviewer turns up. It's listed in the relevant form eg Wikipedia:Good_article_nominations#Transport  \"</td>\n",
       "      <td>0</td>\n",
       "    </tr>\n",
       "    <tr>\n",
       "      <th>4</th>\n",
       "      <td>You, sir, are my hero. Any chance you remember what page that's on?</td>\n",
       "      <td>0</td>\n",
       "    </tr>\n",
       "  </tbody>\n",
       "</table>\n",
       "</div>"
      ],
      "text/plain": [
       "                                                                                                                                                                                                                                                                                                                                                                                                                                                                                                                                                                                                                                                 text  \\\n",
       "0                                                                                                                                                                                                                                                                                                                                                                           Explanation\\nWhy the edits made under my username Hardcore Metallica Fan were reverted? They weren't vandalisms, just closure on some GAs after I voted at New York Dolls FAC. And please don't remove the template from the talk page since I'm retired now.89.205.38.27   \n",
       "1                                                                                                                                                                                                                                                                                                                                                                                                                                                                                                                                    D'aww! He matches this background colour I'm seemingly stuck with. Thanks.  (talk) 21:51, January 11, 2016 (UTC)   \n",
       "2                                                                                                                                                                                                                                                                                                                                                                                                           Hey man, I'm really not trying to edit war. It's just that this guy is constantly removing relevant information and talking to me through edits instead of my talk page. He seems to care more about the formatting than the actual info.   \n",
       "3  \"\\nMore\\nI can't make any real suggestions on improvement - I wondered if the section statistics should be later on, or a subsection of \"\"types of accidents\"\"  -I think the references may need tidying so that they are all in the exact same format ie date format etc. I can do that later on, if no-one else does first - if you have any preferences for formatting style on references or want to do it yourself please let me know.\\n\\nThere appears to be a backlog on articles for review so I guess there may be a delay until a reviewer turns up. It's listed in the relevant form eg Wikipedia:Good_article_nominations#Transport  \"   \n",
       "4                                                                                                                                                                                                                                                                                                                                                                                                                                                                                                                                                                                 You, sir, are my hero. Any chance you remember what page that's on?   \n",
       "\n",
       "   toxic  \n",
       "0      0  \n",
       "1      0  \n",
       "2      0  \n",
       "3      0  \n",
       "4      0  "
      ]
     },
     "execution_count": 7,
     "metadata": {},
     "output_type": "execute_result"
    }
   ],
   "source": [
    "data.head()"
   ]
  },
  {
   "cell_type": "code",
   "execution_count": 8,
   "id": "495fd9cd",
   "metadata": {},
   "outputs": [
    {
     "data": {
      "text/plain": [
       "0"
      ]
     },
     "execution_count": 8,
     "metadata": {},
     "output_type": "execute_result"
    }
   ],
   "source": [
    "data.duplicated().sum()"
   ]
  },
  {
   "cell_type": "code",
   "execution_count": 9,
   "id": "18387702",
   "metadata": {
    "scrolled": true
   },
   "outputs": [
    {
     "name": "stdout",
     "output_type": "stream",
     "text": [
      "0    143106\n",
      "1     16186\n",
      "Name: toxic, dtype: int64\n",
      "\n",
      "0    0.898388\n",
      "1    0.101612\n",
      "Name: toxic, dtype: float64\n"
     ]
    }
   ],
   "source": [
    "print(data['toxic'].value_counts())\n",
    "print()\n",
    "print(data['toxic'].value_counts(normalize=True))"
   ]
  },
  {
   "cell_type": "markdown",
   "id": "b8d542b1",
   "metadata": {},
   "source": [
    "Проверили данные на дубликаты и избавились от проблемного столбца, который отвечал за индексацию. (в нем не все значения идут по порядку)<br>\n",
    "Также можем наблюдать сильный дисбаланс в классах. Одного класса практически 90% от всей выборки."
   ]
  },
  {
   "cell_type": "code",
   "execution_count": 10,
   "id": "0573e07b",
   "metadata": {},
   "outputs": [],
   "source": [
    "def stratified_sample(df: pd.DataFrame, target_col: str, total_n: int) -> pd.DataFrame:\n",
    "    return (\n",
    "        df\n",
    "        .groupby(target_col, group_keys=False)\n",
    "        .apply(lambda x: x.sample(int(len(x) / len(df) * total_n), random_state=RANDOM_STATE))\n",
    "        .reset_index(drop=True)\n",
    "    )"
   ]
  },
  {
   "cell_type": "code",
   "execution_count": 11,
   "id": "a4ccc2fd",
   "metadata": {},
   "outputs": [
    {
     "name": "stdout",
     "output_type": "stream",
     "text": [
      "0    0.8984\n",
      "1    0.1016\n",
      "Name: toxic, dtype: float64\n"
     ]
    },
    {
     "data": {
      "text/plain": [
       "(2500, 2)"
      ]
     },
     "execution_count": 11,
     "metadata": {},
     "output_type": "execute_result"
    }
   ],
   "source": [
    "mini_df = stratified_sample(data, 'toxic', 2_501)\n",
    "print(mini_df['toxic'].value_counts(normalize=True))\n",
    "mini_df.shape"
   ]
  },
  {
   "cell_type": "markdown",
   "id": "8afa5fa5",
   "metadata": {},
   "source": [
    "Так как проект для учебных целей сократим выборку с сохранением пропорций классов, чтобы энергозатратные модели отработали быстрее"
   ]
  },
  {
   "cell_type": "markdown",
   "id": "99de3506",
   "metadata": {},
   "source": [
    "## Применение модели SentenceTransformer"
   ]
  },
  {
   "cell_type": "code",
   "execution_count": 12,
   "id": "72c985b5",
   "metadata": {
    "scrolled": true
   },
   "outputs": [
    {
     "name": "stdout",
     "output_type": "stream",
     "text": [
      "Используемое устройство: cuda\n"
     ]
    }
   ],
   "source": [
    "device = 'cuda' if torch.cuda.is_available() else 'cpu'\n",
    "print(f'Используемое устройство: {device}')"
   ]
  },
  {
   "cell_type": "code",
   "execution_count": 13,
   "id": "cfd907c7",
   "metadata": {},
   "outputs": [
    {
     "data": {
      "application/vnd.jupyter.widget-view+json": {
       "model_id": "d0a43e788ec643b08fa2f80ce624d31c",
       "version_major": 2,
       "version_minor": 0
      },
      "text/plain": [
       "Batches:   0%|          | 0/79 [00:00<?, ?it/s]"
      ]
     },
     "metadata": {},
     "output_type": "display_data"
    },
    {
     "name": "stdout",
     "output_type": "stream",
     "text": [
      "Форма эмбеддингов: (2500, 384)\n"
     ]
    }
   ],
   "source": [
    "model_st = SentenceTransformer(\"all-MiniLM-L6-v2\", device=device)\n",
    "\n",
    "embeddings = model_st.encode(\n",
    "                    mini_df['text'].to_list(),\n",
    "                    convert_to_numpy=True,\n",
    "                    normalize_embeddings=True,\n",
    "                    show_progress_bar=True\n",
    "                    )\n",
    "\n",
    "print(f'Форма эмбеддингов: {embeddings.shape}')"
   ]
  },
  {
   "cell_type": "code",
   "execution_count": 14,
   "id": "aad8cda8",
   "metadata": {},
   "outputs": [
    {
     "name": "stdout",
     "output_type": "stream",
     "text": [
      "Количество дубликатов: 0\n",
      "Количество дубликатов после удаления: 0\n"
     ]
    }
   ],
   "source": [
    "temp_df = pd.DataFrame(\n",
    "    np.hstack((embeddings, mini_df['toxic'].to_numpy() \\\n",
    "                                        .reshape(-1, 1)))\n",
    "    )\n",
    "print(f'Количество дубликатов: {temp_df.duplicated().sum()}')\n",
    "temp_df.drop_duplicates(inplace=True)\n",
    "print(f'Количество дубликатов после удаления: {temp_df.duplicated().sum()}')\n",
    "\n",
    "X_clean = temp_df.iloc[:, :-1].to_numpy()\n",
    "y_clean = temp_df.iloc[:, -1].to_numpy()"
   ]
  },
  {
   "cell_type": "code",
   "execution_count": 15,
   "id": "fd75c9d9",
   "metadata": {},
   "outputs": [],
   "source": [
    "X_train_full, X_test, y_train_full, y_test = train_test_split(\n",
    "    X_clean, y_clean, \n",
    "    random_state=RANDOM_STATE, \n",
    "    stratify=y_clean, test_size=TEST_SIZE)\n",
    "X_train, X_val, y_train, y_val = train_test_split(\n",
    "    X_train_full, y_train_full, \n",
    "    random_state=RANDOM_STATE, \n",
    "    stratify=y_train_full, test_size=TEST_SIZE)"
   ]
  },
  {
   "cell_type": "code",
   "execution_count": 16,
   "id": "265b0377",
   "metadata": {},
   "outputs": [
    {
     "name": "stdout",
     "output_type": "stream",
     "text": [
      "(1600, 384) (500, 384) (400, 384)\n"
     ]
    }
   ],
   "source": [
    "print(X_train.shape, X_test.shape, X_val.shape)"
   ]
  },
  {
   "cell_type": "markdown",
   "id": "eef38004",
   "metadata": {},
   "source": [
    "### Обучение моделей"
   ]
  },
  {
   "cell_type": "markdown",
   "id": "2fa995a2",
   "metadata": {},
   "source": [
    "#### LR"
   ]
  },
  {
   "cell_type": "code",
   "execution_count": 17,
   "id": "30cfb6af",
   "metadata": {},
   "outputs": [],
   "source": [
    "def obj_logreg(trial):\n",
    "    params = {\n",
    "        'random_state': RANDOM_STATE,\n",
    "        'C': trial.suggest_float('C', 0.1, 2)\n",
    "    }\n",
    "\n",
    "    model = LogisticRegression(**params).fit(X_train, y_train)\n",
    "\n",
    "    y_preds = model.predict(X_val)\n",
    "    f1 = f1_score(y_val, y_preds, average='binary')\n",
    "    return f1"
   ]
  },
  {
   "cell_type": "code",
   "execution_count": 18,
   "id": "85c91741",
   "metadata": {},
   "outputs": [
    {
     "name": "stderr",
     "output_type": "stream",
     "text": [
      "[I 2025-07-05 21:36:50,580] A new study created in memory with name: no-name-b2ee461f-7d97-48b4-b652-7c10ab9e5c4e\n",
      "[I 2025-07-05 21:36:50,602] Trial 0 finished with value: 0.6333333333333333 and parameters: {'C': 1.480688432722877}. Best is trial 0 with value: 0.6333333333333333.\n",
      "[I 2025-07-05 21:36:50,626] Trial 1 finished with value: 0.6101694915254238 and parameters: {'C': 1.305990380470312}. Best is trial 0 with value: 0.6333333333333333.\n",
      "[I 2025-07-05 21:36:50,642] Trial 2 finished with value: 0.5614035087719298 and parameters: {'C': 0.9102678223617086}. Best is trial 0 with value: 0.6333333333333333.\n",
      "[I 2025-07-05 21:36:50,658] Trial 3 finished with value: 0.09302325581395349 and parameters: {'C': 0.24600445978795052}. Best is trial 0 with value: 0.6333333333333333.\n",
      "[I 2025-07-05 21:36:50,671] Trial 4 finished with value: 0.4230769230769231 and parameters: {'C': 0.5656964163128269}. Best is trial 0 with value: 0.6333333333333333.\n",
      "[I 2025-07-05 21:36:50,688] Trial 5 finished with value: 0.5614035087719298 and parameters: {'C': 0.869992466693554}. Best is trial 0 with value: 0.6333333333333333.\n",
      "[I 2025-07-05 21:36:50,708] Trial 6 finished with value: 0.6229508196721312 and parameters: {'C': 1.7548338930638177}. Best is trial 0 with value: 0.6333333333333333.\n",
      "[I 2025-07-05 21:36:50,726] Trial 7 finished with value: 0.48148148148148145 and parameters: {'C': 0.6102030569720814}. Best is trial 0 with value: 0.6333333333333333.\n",
      "[I 2025-07-05 21:36:50,747] Trial 8 finished with value: 0.6229508196721312 and parameters: {'C': 1.8356333366436395}. Best is trial 0 with value: 0.6333333333333333.\n",
      "[I 2025-07-05 21:36:50,764] Trial 9 finished with value: 0.09302325581395349 and parameters: {'C': 0.26532791667206695}. Best is trial 0 with value: 0.6333333333333333.\n"
     ]
    }
   ],
   "source": [
    "study_logreg = optuna.create_study(direction='maximize')\n",
    "study_logreg.optimize(obj_logreg, n_trials=10)"
   ]
  },
  {
   "cell_type": "markdown",
   "id": "fedd9410",
   "metadata": {},
   "source": [
    "#### RFC"
   ]
  },
  {
   "cell_type": "code",
   "execution_count": 19,
   "id": "c9bd4332",
   "metadata": {},
   "outputs": [],
   "source": [
    "def obj_rfc(trial):\n",
    "    params = {\n",
    "        'n_estimators': trial.suggest_int('n_estimators', 100, 200),\n",
    "        'class_weight': 'balanced',\n",
    "        'criterion': trial.suggest_categorical('criterion', ['log_loss', 'gini', 'entropy']),\n",
    "        'random_state': RANDOM_STATE,\n",
    "        'min_samples_split': trial.suggest_int('min_samples_split', 2, 25),\n",
    "        'min_samples_leaf': trial.suggest_int('min_samples_leaf', 1, 20),\n",
    "        'max_depth': trial.suggest_int('max_depth', 10, 40),\n",
    "        'max_features': trial.suggest_categorical('max_features', ['sqrt', 'log2']),\n",
    "    }\n",
    "\n",
    "    model = RandomForestClassifier(**params).fit(X_train, y_train)\n",
    "\n",
    "    preds = model.predict(X_val)\n",
    "\n",
    "    return f1_score(y_val, preds, average='binary')"
   ]
  },
  {
   "cell_type": "code",
   "execution_count": 20,
   "id": "515451a5",
   "metadata": {},
   "outputs": [
    {
     "name": "stderr",
     "output_type": "stream",
     "text": [
      "[I 2025-07-05 21:36:50,824] A new study created in memory with name: no-name-65a8a808-22ae-4781-a2c5-a13f67d8d84c\n",
      "[I 2025-07-05 21:36:51,919] Trial 0 finished with value: 0.17777777777777778 and parameters: {'n_estimators': 101, 'criterion': 'log_loss', 'min_samples_split': 5, 'min_samples_leaf': 5, 'max_depth': 40, 'max_features': 'log2'}. Best is trial 0 with value: 0.17777777777777778.\n",
      "[I 2025-07-05 21:36:54,475] Trial 1 finished with value: 0.38461538461538464 and parameters: {'n_estimators': 124, 'criterion': 'log_loss', 'min_samples_split': 14, 'min_samples_leaf': 8, 'max_depth': 20, 'max_features': 'sqrt'}. Best is trial 1 with value: 0.38461538461538464.\n",
      "[I 2025-07-05 21:36:56,628] Trial 2 finished with value: 0.2857142857142857 and parameters: {'n_estimators': 102, 'criterion': 'entropy', 'min_samples_split': 15, 'min_samples_leaf': 6, 'max_depth': 35, 'max_features': 'sqrt'}. Best is trial 1 with value: 0.38461538461538464.\n",
      "[I 2025-07-05 21:36:59,490] Trial 3 finished with value: 0.2857142857142857 and parameters: {'n_estimators': 133, 'criterion': 'entropy', 'min_samples_split': 20, 'min_samples_leaf': 4, 'max_depth': 20, 'max_features': 'sqrt'}. Best is trial 1 with value: 0.38461538461538464.\n",
      "[I 2025-07-05 21:37:00,400] Trial 4 finished with value: 0.2916666666666667 and parameters: {'n_estimators': 115, 'criterion': 'gini', 'min_samples_split': 2, 'min_samples_leaf': 6, 'max_depth': 39, 'max_features': 'log2'}. Best is trial 1 with value: 0.38461538461538464.\n",
      "[I 2025-07-05 21:37:02,591] Trial 5 finished with value: 0.5263157894736842 and parameters: {'n_estimators': 113, 'criterion': 'log_loss', 'min_samples_split': 15, 'min_samples_leaf': 13, 'max_depth': 22, 'max_features': 'sqrt'}. Best is trial 5 with value: 0.5263157894736842.\n",
      "[I 2025-07-05 21:37:06,551] Trial 6 finished with value: 0.39215686274509803 and parameters: {'n_estimators': 183, 'criterion': 'log_loss', 'min_samples_split': 2, 'min_samples_leaf': 5, 'max_depth': 12, 'max_features': 'sqrt'}. Best is trial 5 with value: 0.5263157894736842.\n",
      "[I 2025-07-05 21:37:07,729] Trial 7 finished with value: 0.5714285714285714 and parameters: {'n_estimators': 130, 'criterion': 'entropy', 'min_samples_split': 16, 'min_samples_leaf': 18, 'max_depth': 18, 'max_features': 'log2'}. Best is trial 7 with value: 0.5714285714285714.\n",
      "[I 2025-07-05 21:37:09,436] Trial 8 finished with value: 0.5172413793103449 and parameters: {'n_estimators': 120, 'criterion': 'gini', 'min_samples_split': 14, 'min_samples_leaf': 13, 'max_depth': 38, 'max_features': 'sqrt'}. Best is trial 7 with value: 0.5714285714285714.\n",
      "[I 2025-07-05 21:37:13,469] Trial 9 finished with value: 0.4444444444444444 and parameters: {'n_estimators': 192, 'criterion': 'entropy', 'min_samples_split': 10, 'min_samples_leaf': 8, 'max_depth': 19, 'max_features': 'sqrt'}. Best is trial 7 with value: 0.5714285714285714.\n",
      "[I 2025-07-05 21:37:14,926] Trial 10 finished with value: 0.5806451612903226 and parameters: {'n_estimators': 163, 'criterion': 'entropy', 'min_samples_split': 22, 'min_samples_leaf': 19, 'max_depth': 11, 'max_features': 'log2'}. Best is trial 10 with value: 0.5806451612903226.\n",
      "[I 2025-07-05 21:37:16,375] Trial 11 finished with value: 0.5714285714285714 and parameters: {'n_estimators': 162, 'criterion': 'entropy', 'min_samples_split': 25, 'min_samples_leaf': 20, 'max_depth': 10, 'max_features': 'log2'}. Best is trial 10 with value: 0.5806451612903226.\n",
      "[I 2025-07-05 21:37:17,730] Trial 12 finished with value: 0.5806451612903226 and parameters: {'n_estimators': 152, 'criterion': 'entropy', 'min_samples_split': 21, 'min_samples_leaf': 20, 'max_depth': 15, 'max_features': 'log2'}. Best is trial 10 with value: 0.5806451612903226.\n",
      "[I 2025-07-05 21:37:19,175] Trial 13 finished with value: 0.576271186440678 and parameters: {'n_estimators': 156, 'criterion': 'entropy', 'min_samples_split': 25, 'min_samples_leaf': 17, 'max_depth': 14, 'max_features': 'log2'}. Best is trial 10 with value: 0.5806451612903226.\n",
      "[I 2025-07-05 21:37:21,050] Trial 14 finished with value: 0.21739130434782608 and parameters: {'n_estimators': 168, 'criterion': 'entropy', 'min_samples_split': 19, 'min_samples_leaf': 1, 'max_depth': 28, 'max_features': 'log2'}. Best is trial 10 with value: 0.5806451612903226.\n",
      "[I 2025-07-05 21:37:22,388] Trial 15 finished with value: 0.5 and parameters: {'n_estimators': 143, 'criterion': 'entropy', 'min_samples_split': 21, 'min_samples_leaf': 15, 'max_depth': 15, 'max_features': 'log2'}. Best is trial 10 with value: 0.5806451612903226.\n",
      "[I 2025-07-05 21:37:23,540] Trial 16 finished with value: 0.6363636363636364 and parameters: {'n_estimators': 173, 'criterion': 'gini', 'min_samples_split': 22, 'min_samples_leaf': 20, 'max_depth': 26, 'max_features': 'log2'}. Best is trial 16 with value: 0.6363636363636364.\n",
      "[I 2025-07-05 21:37:24,738] Trial 17 finished with value: 0.5806451612903226 and parameters: {'n_estimators': 174, 'criterion': 'gini', 'min_samples_split': 10, 'min_samples_leaf': 17, 'max_depth': 28, 'max_features': 'log2'}. Best is trial 16 with value: 0.6363636363636364.\n",
      "[I 2025-07-05 21:37:26,140] Trial 18 finished with value: 0.43636363636363634 and parameters: {'n_estimators': 197, 'criterion': 'gini', 'min_samples_split': 23, 'min_samples_leaf': 14, 'max_depth': 26, 'max_features': 'log2'}. Best is trial 16 with value: 0.6363636363636364.\n",
      "[I 2025-07-05 21:37:27,457] Trial 19 finished with value: 0.4727272727272727 and parameters: {'n_estimators': 178, 'criterion': 'gini', 'min_samples_split': 18, 'min_samples_leaf': 11, 'max_depth': 31, 'max_features': 'log2'}. Best is trial 16 with value: 0.6363636363636364.\n",
      "[I 2025-07-05 21:37:28,414] Trial 20 finished with value: 0.5333333333333333 and parameters: {'n_estimators': 142, 'criterion': 'gini', 'min_samples_split': 11, 'min_samples_leaf': 18, 'max_depth': 24, 'max_features': 'log2'}. Best is trial 16 with value: 0.6363636363636364.\n",
      "[I 2025-07-05 21:37:29,764] Trial 21 finished with value: 0.5806451612903226 and parameters: {'n_estimators': 152, 'criterion': 'entropy', 'min_samples_split': 22, 'min_samples_leaf': 20, 'max_depth': 16, 'max_features': 'log2'}. Best is trial 16 with value: 0.6363636363636364.\n",
      "[I 2025-07-05 21:37:31,240] Trial 22 finished with value: 0.5714285714285714 and parameters: {'n_estimators': 165, 'criterion': 'entropy', 'min_samples_split': 23, 'min_samples_leaf': 20, 'max_depth': 12, 'max_features': 'log2'}. Best is trial 16 with value: 0.6363636363636364.\n",
      "[I 2025-07-05 21:37:32,515] Trial 23 finished with value: 0.5333333333333333 and parameters: {'n_estimators': 184, 'criterion': 'gini', 'min_samples_split': 18, 'min_samples_leaf': 16, 'max_depth': 31, 'max_features': 'log2'}. Best is trial 16 with value: 0.6363636363636364.\n",
      "[I 2025-07-05 21:37:33,812] Trial 24 finished with value: 0.5483870967741935 and parameters: {'n_estimators': 143, 'criterion': 'entropy', 'min_samples_split': 17, 'min_samples_leaf': 19, 'max_depth': 11, 'max_features': 'log2'}. Best is trial 16 with value: 0.6363636363636364.\n"
     ]
    }
   ],
   "source": [
    "study_rfc = optuna.create_study(direction='maximize')\n",
    "study_rfc.optimize(obj_rfc, n_trials=25)"
   ]
  },
  {
   "cell_type": "markdown",
   "id": "f93ad006",
   "metadata": {},
   "source": [
    "#### LGBMC"
   ]
  },
  {
   "cell_type": "code",
   "execution_count": 21,
   "id": "5e89685d",
   "metadata": {},
   "outputs": [],
   "source": [
    "def obj_lgbmc(trial):\n",
    "    params = {\n",
    "        'objective': 'binary',\n",
    "        'metric': 'auc',\n",
    "        'random_state': RANDOM_STATE,\n",
    "        'n_estimators': 10000, \n",
    "        'verbose': -1,\n",
    "        'learning_rate': trial.suggest_float('learning_rate', 0.01, 0.3),\n",
    "        'num_leaves': trial.suggest_int('num_leaves', 20, 3000),\n",
    "        'max_depth': trial.suggest_int('max_depth', 3, 15),\n",
    "        'min_child_samples': trial.suggest_int('min_child_samples', 5, 100),\n",
    "        'subsample': trial.suggest_float('subsample', 0.4, 1.0),\n",
    "        'colsample_bytree': trial.suggest_float('colsample_bytree', 0.4, 1.0)\n",
    "    }\n",
    "\n",
    "    model = LGBMClassifier(**params)\n",
    "    model.fit(\n",
    "        X_train, y_train,\n",
    "        eval_set=[(X_val, y_val)],\n",
    "        callbacks=[early_stopping(stopping_rounds=100)],\n",
    "    )\n",
    "    preds = model.predict(X_val)\n",
    "\n",
    "    return f1_score(y_val, preds, average='binary')\n",
    "\n"
   ]
  },
  {
   "cell_type": "code",
   "execution_count": 22,
   "id": "e35f0f0a",
   "metadata": {},
   "outputs": [
    {
     "name": "stderr",
     "output_type": "stream",
     "text": [
      "[I 2025-07-05 21:37:33,854] A new study created in memory with name: no-name-21034ecf-73ff-483d-9062-f0a4b5d84eca\n"
     ]
    },
    {
     "name": "stdout",
     "output_type": "stream",
     "text": [
      "Training until validation scores don't improve for 100 rounds\n"
     ]
    },
    {
     "name": "stderr",
     "output_type": "stream",
     "text": [
      "[I 2025-07-05 21:37:34,736] Trial 0 finished with value: 0.6129032258064516 and parameters: {'learning_rate': 0.2964428483809943, 'num_leaves': 887, 'max_depth': 13, 'min_child_samples': 70, 'subsample': 0.46878563849778887, 'colsample_bytree': 0.4087034875590403}. Best is trial 0 with value: 0.6129032258064516.\n"
     ]
    },
    {
     "name": "stdout",
     "output_type": "stream",
     "text": [
      "Early stopping, best iteration is:\n",
      "[57]\tvalid_0's auc: 0.920443\n",
      "Training until validation scores don't improve for 100 rounds\n"
     ]
    },
    {
     "name": "stderr",
     "output_type": "stream",
     "text": [
      "[I 2025-07-05 21:37:36,147] Trial 1 finished with value: 0.5517241379310345 and parameters: {'learning_rate': 0.044079906937748506, 'num_leaves': 173, 'max_depth': 13, 'min_child_samples': 99, 'subsample': 0.9094544712763762, 'colsample_bytree': 0.5293593591015506}. Best is trial 0 with value: 0.6129032258064516.\n"
     ]
    },
    {
     "name": "stdout",
     "output_type": "stream",
     "text": [
      "Early stopping, best iteration is:\n",
      "[275]\tvalid_0's auc: 0.914532\n",
      "Training until validation scores don't improve for 100 rounds\n",
      "Early stopping, best iteration is:\n",
      "[76]\tvalid_0's auc: 0.908689\n"
     ]
    },
    {
     "name": "stderr",
     "output_type": "stream",
     "text": [
      "[I 2025-07-05 21:37:37,828] Trial 2 finished with value: 0.41509433962264153 and parameters: {'learning_rate': 0.17502362324414514, 'num_leaves': 1884, 'max_depth': 5, 'min_child_samples': 40, 'subsample': 0.5630939256781816, 'colsample_bytree': 0.9326520075572211}. Best is trial 0 with value: 0.6129032258064516.\n"
     ]
    },
    {
     "name": "stdout",
     "output_type": "stream",
     "text": [
      "Training until validation scores don't improve for 100 rounds\n",
      "Early stopping, best iteration is:\n",
      "[111]\tvalid_0's auc: 0.909097\n"
     ]
    },
    {
     "name": "stderr",
     "output_type": "stream",
     "text": [
      "[I 2025-07-05 21:37:39,716] Trial 3 finished with value: 0.5517241379310345 and parameters: {'learning_rate': 0.14822877748572488, 'num_leaves': 1875, 'max_depth': 15, 'min_child_samples': 72, 'subsample': 0.7253926420193648, 'colsample_bytree': 0.6286142733308644}. Best is trial 0 with value: 0.6129032258064516.\n"
     ]
    },
    {
     "name": "stdout",
     "output_type": "stream",
     "text": [
      "Training until validation scores don't improve for 100 rounds\n"
     ]
    },
    {
     "name": "stderr",
     "output_type": "stream",
     "text": [
      "[I 2025-07-05 21:37:42,195] Trial 4 finished with value: 0.5573770491803278 and parameters: {'learning_rate': 0.13855291015198, 'num_leaves': 1077, 'max_depth': 13, 'min_child_samples': 84, 'subsample': 0.7095237558825863, 'colsample_bytree': 0.9923123796632726}. Best is trial 0 with value: 0.6129032258064516.\n"
     ]
    },
    {
     "name": "stdout",
     "output_type": "stream",
     "text": [
      "Early stopping, best iteration is:\n",
      "[258]\tvalid_0's auc: 0.900265\n",
      "Training until validation scores don't improve for 100 rounds\n"
     ]
    },
    {
     "name": "stderr",
     "output_type": "stream",
     "text": [
      "[I 2025-07-05 21:37:44,921] Trial 5 finished with value: 0.5517241379310345 and parameters: {'learning_rate': 0.0503503619257042, 'num_leaves': 706, 'max_depth': 15, 'min_child_samples': 76, 'subsample': 0.6497296511410293, 'colsample_bytree': 0.8550140052814973}. Best is trial 0 with value: 0.6129032258064516.\n"
     ]
    },
    {
     "name": "stdout",
     "output_type": "stream",
     "text": [
      "Early stopping, best iteration is:\n",
      "[255]\tvalid_0's auc: 0.91032\n",
      "Training until validation scores don't improve for 100 rounds\n",
      "Early stopping, best iteration is:\n",
      "[91]\tvalid_0's auc: 0.902915\n"
     ]
    },
    {
     "name": "stderr",
     "output_type": "stream",
     "text": [
      "[I 2025-07-05 21:37:46,299] Trial 6 finished with value: 0.6 and parameters: {'learning_rate': 0.2681333201878062, 'num_leaves': 1817, 'max_depth': 12, 'min_child_samples': 39, 'subsample': 0.9663723584977324, 'colsample_bytree': 0.4098093076701013}. Best is trial 0 with value: 0.6129032258064516.\n"
     ]
    },
    {
     "name": "stdout",
     "output_type": "stream",
     "text": [
      "Training until validation scores don't improve for 100 rounds\n",
      "Early stopping, best iteration is:\n",
      "[65]\tvalid_0's auc: 0.895102\n"
     ]
    },
    {
     "name": "stderr",
     "output_type": "stream",
     "text": [
      "[I 2025-07-05 21:37:47,636] Trial 7 finished with value: 0.5263157894736842 and parameters: {'learning_rate': 0.29572093838316466, 'num_leaves': 2288, 'max_depth': 13, 'min_child_samples': 57, 'subsample': 0.8457470609841795, 'colsample_bytree': 0.5214554866669106}. Best is trial 0 with value: 0.6129032258064516.\n"
     ]
    },
    {
     "name": "stdout",
     "output_type": "stream",
     "text": [
      "Training until validation scores don't improve for 100 rounds\n",
      "Early stopping, best iteration is:\n",
      "[151]\tvalid_0's auc: 0.913921\n"
     ]
    },
    {
     "name": "stderr",
     "output_type": "stream",
     "text": [
      "[I 2025-07-05 21:37:49,116] Trial 8 finished with value: 0.5263157894736842 and parameters: {'learning_rate': 0.06370456387266822, 'num_leaves': 2832, 'max_depth': 4, 'min_child_samples': 64, 'subsample': 0.44426374321088435, 'colsample_bytree': 0.40357262280082923}. Best is trial 0 with value: 0.6129032258064516.\n"
     ]
    },
    {
     "name": "stdout",
     "output_type": "stream",
     "text": [
      "Training until validation scores don't improve for 100 rounds\n",
      "Early stopping, best iteration is:\n",
      "[203]\tvalid_0's auc: 0.90604\n"
     ]
    },
    {
     "name": "stderr",
     "output_type": "stream",
     "text": [
      "[I 2025-07-05 21:37:50,811] Trial 9 finished with value: 0.5263157894736842 and parameters: {'learning_rate': 0.04054319889821671, 'num_leaves': 2904, 'max_depth': 3, 'min_child_samples': 8, 'subsample': 0.7966184743614002, 'colsample_bytree': 0.6103514411607986}. Best is trial 0 with value: 0.6129032258064516.\n"
     ]
    },
    {
     "name": "stdout",
     "output_type": "stream",
     "text": [
      "Training until validation scores don't improve for 100 rounds\n"
     ]
    },
    {
     "name": "stderr",
     "output_type": "stream",
     "text": [
      "[I 2025-07-05 21:37:52,738] Trial 10 finished with value: 0.4528301886792453 and parameters: {'learning_rate': 0.22585191399913523, 'num_leaves': 992, 'max_depth': 8, 'min_child_samples': 14, 'subsample': 0.40432526922380013, 'colsample_bytree': 0.7796282301807699}. Best is trial 0 with value: 0.6129032258064516.\n"
     ]
    },
    {
     "name": "stdout",
     "output_type": "stream",
     "text": [
      "Early stopping, best iteration is:\n",
      "[207]\tvalid_0's auc: 0.894558\n",
      "Training until validation scores don't improve for 100 rounds\n"
     ]
    },
    {
     "name": "stderr",
     "output_type": "stream",
     "text": [
      "[I 2025-07-05 21:37:53,875] Trial 11 finished with value: 0.4482758620689655 and parameters: {'learning_rate': 0.2872040768897032, 'num_leaves': 1442, 'max_depth': 10, 'min_child_samples': 33, 'subsample': 0.9873714516744122, 'colsample_bytree': 0.4018069297950196}. Best is trial 0 with value: 0.6129032258064516.\n"
     ]
    },
    {
     "name": "stdout",
     "output_type": "stream",
     "text": [
      "Early stopping, best iteration is:\n",
      "[44]\tvalid_0's auc: 0.89877\n",
      "Training until validation scores don't improve for 100 rounds\n"
     ]
    },
    {
     "name": "stderr",
     "output_type": "stream",
     "text": [
      "[I 2025-07-05 21:37:55,105] Trial 12 finished with value: 0.576271186440678 and parameters: {'learning_rate': 0.24582020581488417, 'num_leaves': 349, 'max_depth': 10, 'min_child_samples': 40, 'subsample': 0.5608299214460762, 'colsample_bytree': 0.4859313225480934}. Best is trial 0 with value: 0.6129032258064516.\n"
     ]
    },
    {
     "name": "stdout",
     "output_type": "stream",
     "text": [
      "Early stopping, best iteration is:\n",
      "[339]\tvalid_0's auc: 0.920171\n",
      "Training until validation scores don't improve for 100 rounds\n"
     ]
    },
    {
     "name": "stderr",
     "output_type": "stream",
     "text": [
      "[I 2025-07-05 21:37:56,984] Trial 13 finished with value: 0.5357142857142857 and parameters: {'learning_rate': 0.23567085993632098, 'num_leaves': 1419, 'max_depth': 11, 'min_child_samples': 27, 'subsample': 0.5278834163513705, 'colsample_bytree': 0.6614047962157218}. Best is trial 0 with value: 0.6129032258064516.\n"
     ]
    },
    {
     "name": "stdout",
     "output_type": "stream",
     "text": [
      "Early stopping, best iteration is:\n",
      "[259]\tvalid_0's auc: 0.913377\n",
      "Training until validation scores don't improve for 100 rounds\n",
      "Early stopping, best iteration is:\n",
      "[88]\tvalid_0's auc: 0.925199\n"
     ]
    },
    {
     "name": "stderr",
     "output_type": "stream",
     "text": [
      "[I 2025-07-05 21:37:58,610] Trial 14 finished with value: 0.576271186440678 and parameters: {'learning_rate': 0.1961752787384082, 'num_leaves': 2125, 'max_depth': 12, 'min_child_samples': 51, 'subsample': 0.9735506952853414, 'colsample_bytree': 0.4634243817052158}. Best is trial 0 with value: 0.6129032258064516.\n"
     ]
    },
    {
     "name": "stdout",
     "output_type": "stream",
     "text": [
      "Training until validation scores don't improve for 100 rounds\n"
     ]
    },
    {
     "name": "stderr",
     "output_type": "stream",
     "text": [
      "[I 2025-07-05 21:37:59,771] Trial 15 finished with value: 0.5517241379310345 and parameters: {'learning_rate': 0.2767682600822392, 'num_leaves': 658, 'max_depth': 8, 'min_child_samples': 49, 'subsample': 0.6305470605977068, 'colsample_bytree': 0.5756072923188211}. Best is trial 0 with value: 0.6129032258064516.\n"
     ]
    },
    {
     "name": "stdout",
     "output_type": "stream",
     "text": [
      "Early stopping, best iteration is:\n",
      "[124]\tvalid_0's auc: 0.897683\n",
      "Training until validation scores don't improve for 100 rounds\n"
     ]
    },
    {
     "name": "stderr",
     "output_type": "stream",
     "text": [
      "[I 2025-07-05 21:38:00,915] Trial 16 finished with value: 0.6129032258064516 and parameters: {'learning_rate': 0.2605051157323687, 'num_leaves': 1129, 'max_depth': 7, 'min_child_samples': 91, 'subsample': 0.7828003096355203, 'colsample_bytree': 0.6959398134263958}. Best is trial 0 with value: 0.6129032258064516.\n"
     ]
    },
    {
     "name": "stdout",
     "output_type": "stream",
     "text": [
      "Early stopping, best iteration is:\n",
      "[114]\tvalid_0's auc: 0.922277\n",
      "Training until validation scores don't improve for 100 rounds\n"
     ]
    },
    {
     "name": "stderr",
     "output_type": "stream",
     "text": [
      "[I 2025-07-05 21:38:02,133] Trial 17 finished with value: 0.5666666666666667 and parameters: {'learning_rate': 0.11539643755193328, 'num_leaves': 1064, 'max_depth': 6, 'min_child_samples': 100, 'subsample': 0.7964311146636417, 'colsample_bytree': 0.7816785561299159}. Best is trial 0 with value: 0.6129032258064516.\n"
     ]
    },
    {
     "name": "stdout",
     "output_type": "stream",
     "text": [
      "Early stopping, best iteration is:\n",
      "[52]\tvalid_0's auc: 0.903458\n",
      "Training until validation scores don't improve for 100 rounds\n"
     ]
    },
    {
     "name": "stderr",
     "output_type": "stream",
     "text": [
      "[I 2025-07-05 21:38:03,389] Trial 18 finished with value: 0.5901639344262295 and parameters: {'learning_rate': 0.2023893956894213, 'num_leaves': 621, 'max_depth': 6, 'min_child_samples': 86, 'subsample': 0.5026635240653048, 'colsample_bytree': 0.7499142016704148}. Best is trial 0 with value: 0.6129032258064516.\n"
     ]
    },
    {
     "name": "stdout",
     "output_type": "stream",
     "text": [
      "Early stopping, best iteration is:\n",
      "[117]\tvalid_0's auc: 0.90407\n",
      "Training until validation scores don't improve for 100 rounds\n"
     ]
    },
    {
     "name": "stderr",
     "output_type": "stream",
     "text": [
      "[I 2025-07-05 21:38:04,147] Trial 19 finished with value: 0.49122807017543857 and parameters: {'learning_rate': 0.2544658814864953, 'num_leaves': 57, 'max_depth': 8, 'min_child_samples': 87, 'subsample': 0.6213249740525749, 'colsample_bytree': 0.7173605890384489}. Best is trial 0 with value: 0.6129032258064516.\n"
     ]
    },
    {
     "name": "stdout",
     "output_type": "stream",
     "text": [
      "Early stopping, best iteration is:\n",
      "[22]\tvalid_0's auc: 0.931177\n",
      "Training until validation scores don't improve for 100 rounds\n"
     ]
    },
    {
     "name": "stderr",
     "output_type": "stream",
     "text": [
      "[I 2025-07-05 21:38:05,439] Trial 20 finished with value: 0.5901639344262295 and parameters: {'learning_rate': 0.29891183083290357, 'num_leaves': 1105, 'max_depth': 7, 'min_child_samples': 69, 'subsample': 0.7703372380106982, 'colsample_bytree': 0.8265218072582425}. Best is trial 0 with value: 0.6129032258064516.\n"
     ]
    },
    {
     "name": "stdout",
     "output_type": "stream",
     "text": [
      "Early stopping, best iteration is:\n",
      "[139]\tvalid_0's auc: 0.901896\n",
      "Training until validation scores don't improve for 100 rounds\n"
     ]
    },
    {
     "name": "stderr",
     "output_type": "stream",
     "text": [
      "[I 2025-07-05 21:38:06,927] Trial 21 finished with value: 0.5263157894736842 and parameters: {'learning_rate': 0.2684364038403322, 'num_leaves': 1632, 'max_depth': 11, 'min_child_samples': 23, 'subsample': 0.8670403258214722, 'colsample_bytree': 0.45270324306146625}. Best is trial 0 with value: 0.6129032258064516.\n"
     ]
    },
    {
     "name": "stdout",
     "output_type": "stream",
     "text": [
      "Early stopping, best iteration is:\n",
      "[89]\tvalid_0's auc: 0.902099\n",
      "Training until validation scores don't improve for 100 rounds\n",
      "Early stopping, best iteration is:\n",
      "[187]\tvalid_0's auc: 0.913173\n"
     ]
    },
    {
     "name": "stderr",
     "output_type": "stream",
     "text": [
      "[I 2025-07-05 21:38:08,810] Trial 22 finished with value: 0.6229508196721312 and parameters: {'learning_rate': 0.2143938987851304, 'num_leaves': 2561, 'max_depth': 14, 'min_child_samples': 60, 'subsample': 0.9276473302618113, 'colsample_bytree': 0.5581082025258487}. Best is trial 22 with value: 0.6229508196721312.\n"
     ]
    },
    {
     "name": "stdout",
     "output_type": "stream",
     "text": [
      "Training until validation scores don't improve for 100 rounds\n",
      "Early stopping, best iteration is:\n",
      "[78]\tvalid_0's auc: 0.904545\n"
     ]
    },
    {
     "name": "stderr",
     "output_type": "stream",
     "text": [
      "[I 2025-07-05 21:38:10,647] Trial 23 finished with value: 0.5 and parameters: {'learning_rate': 0.20698451633742382, 'num_leaves': 2624, 'max_depth': 14, 'min_child_samples': 61, 'subsample': 0.8790194412382781, 'colsample_bytree': 0.5746419481325565}. Best is trial 22 with value: 0.6229508196721312.\n"
     ]
    },
    {
     "name": "stdout",
     "output_type": "stream",
     "text": [
      "Training until validation scores don't improve for 100 rounds\n",
      "Early stopping, best iteration is:\n",
      "[110]\tvalid_0's auc: 0.912018\n"
     ]
    },
    {
     "name": "stderr",
     "output_type": "stream",
     "text": [
      "[I 2025-07-05 21:38:12,844] Trial 24 finished with value: 0.5806451612903226 and parameters: {'learning_rate': 0.23143639751001902, 'num_leaves': 2367, 'max_depth': 14, 'min_child_samples': 76, 'subsample': 0.9249220355981248, 'colsample_bytree': 0.7037134496964397}. Best is trial 22 with value: 0.6229508196721312.\n"
     ]
    }
   ],
   "source": [
    "study_lgbmc = optuna.create_study(direction='maximize')\n",
    "study_lgbmc.optimize(obj_lgbmc, n_trials=25)"
   ]
  },
  {
   "cell_type": "code",
   "execution_count": 23,
   "id": "195a3a2c",
   "metadata": {},
   "outputs": [
    {
     "name": "stdout",
     "output_type": "stream",
     "text": [
      "LR: 0.6333\n",
      "RFC: 0.6364\n",
      "LGBM: 0.6230\n"
     ]
    }
   ],
   "source": [
    "print(f'LR: {study_logreg.best_value:.4f}')\n",
    "print(f'RFC: {study_rfc.best_value:.4f}')\n",
    "print(f'LGBM: {study_lgbmc.best_value:.4f}')"
   ]
  },
  {
   "cell_type": "markdown",
   "id": "d094e3b0",
   "metadata": {},
   "source": [
    "Как мы можем заметить, модели обученные на эмбеддингах от SentenceTransformer отработали не лучшем образом. Их метрика f1 ниже необходимого 0.75. Вероятнее всего, проблема в том, что данная модель обучалась на задачах, специфичных для семантического сходства предложений (Natural Language Inference, Semantic Textual Similarity), что делает эмбеддинги более подходящими для сравнения предложений, а не классификации тональности сообщений.<br><br>\n",
    "Поэтому создадим эмбеддинги с помощью дообученной модели BERT."
   ]
  },
  {
   "cell_type": "markdown",
   "id": "543a9ed0",
   "metadata": {},
   "source": [
    "## Токенизация и применение модели BERT"
   ]
  },
  {
   "cell_type": "code",
   "execution_count": 24,
   "id": "5e51a398",
   "metadata": {},
   "outputs": [
    {
     "name": "stdout",
     "output_type": "stream",
     "text": [
      "Используемое устройство: cuda\n"
     ]
    }
   ],
   "source": [
    "#Если есть GPU, то создаем объект device и прописываем его равным cuda\n",
    "device = torch.device('cuda' if torch.cuda.is_available() else 'cpu')\n",
    "print('Используемое устройство:', device)"
   ]
  },
  {
   "cell_type": "code",
   "execution_count": 25,
   "id": "04b38721",
   "metadata": {},
   "outputs": [
    {
     "data": {
      "text/plain": [
       "BertModel(\n",
       "  (embeddings): BertEmbeddings(\n",
       "    (word_embeddings): Embedding(30522, 768, padding_idx=0)\n",
       "    (position_embeddings): Embedding(512, 768)\n",
       "    (token_type_embeddings): Embedding(2, 768)\n",
       "    (LayerNorm): LayerNorm((768,), eps=1e-12, elementwise_affine=True)\n",
       "    (dropout): Dropout(p=0.1, inplace=False)\n",
       "  )\n",
       "  (encoder): BertEncoder(\n",
       "    (layer): ModuleList(\n",
       "      (0-11): 12 x BertLayer(\n",
       "        (attention): BertAttention(\n",
       "          (self): BertSdpaSelfAttention(\n",
       "            (query): Linear(in_features=768, out_features=768, bias=True)\n",
       "            (key): Linear(in_features=768, out_features=768, bias=True)\n",
       "            (value): Linear(in_features=768, out_features=768, bias=True)\n",
       "            (dropout): Dropout(p=0.1, inplace=False)\n",
       "          )\n",
       "          (output): BertSelfOutput(\n",
       "            (dense): Linear(in_features=768, out_features=768, bias=True)\n",
       "            (LayerNorm): LayerNorm((768,), eps=1e-12, elementwise_affine=True)\n",
       "            (dropout): Dropout(p=0.1, inplace=False)\n",
       "          )\n",
       "        )\n",
       "        (intermediate): BertIntermediate(\n",
       "          (dense): Linear(in_features=768, out_features=3072, bias=True)\n",
       "          (intermediate_act_fn): GELUActivation()\n",
       "        )\n",
       "        (output): BertOutput(\n",
       "          (dense): Linear(in_features=3072, out_features=768, bias=True)\n",
       "          (LayerNorm): LayerNorm((768,), eps=1e-12, elementwise_affine=True)\n",
       "          (dropout): Dropout(p=0.1, inplace=False)\n",
       "        )\n",
       "      )\n",
       "    )\n",
       "  )\n",
       "  (pooler): BertPooler(\n",
       "    (dense): Linear(in_features=768, out_features=768, bias=True)\n",
       "    (activation): Tanh()\n",
       "  )\n",
       ")"
      ]
     },
     "execution_count": 25,
     "metadata": {},
     "output_type": "execute_result"
    }
   ],
   "source": [
    "tokenizer = AutoTokenizer.from_pretrained('unitary/toxic-bert')\n",
    "model_bert = AutoModel.from_pretrained('unitary/toxic-bert')\n",
    "\n",
    "model_bert.to(device) # переключаем модель на GPU, если он есть\n",
    "model_bert.eval() # переключаем модель для инференса"
   ]
  },
  {
   "cell_type": "code",
   "execution_count": 26,
   "id": "0235dc31",
   "metadata": {},
   "outputs": [],
   "source": [
    "#Класс для преобразования списка строк в специальный объект для DataLoader\n",
    "class TextDataset(Dataset):\n",
    "    def __init__(self, text: List[str]) -> None:\n",
    "        self.text = text\n",
    "\n",
    "    def __len__(self) -> int:\n",
    "        return len(self.text)\n",
    "    \n",
    "    def __getitem__(self, index: int) -> str:\n",
    "        return self.text[index]\n",
    "\n",
    "def tokenize(batch: List[str]) -> BatchEncoding:\n",
    "    return tokenizer(\n",
    "        batch,\n",
    "        return_tensors='pt',\n",
    "        padding=True,\n",
    "        truncation=True\n",
    "    )\n",
    "\n",
    "def get_embeddings(text: List[str], batch_size: int = BATCH_SIZE) -> np.ndarray:\n",
    "    dataset = TextDataset(text)\n",
    "    dataloader = DataLoader(dataset, batch_size=batch_size, collate_fn=tokenize)\n",
    "\n",
    "    all_embeddings = []\n",
    "\n",
    "    with torch.no_grad():\n",
    "        for batch in tqdm(dataloader, desc='Извлечение эмбеддингов'):\n",
    "            batch = batch.to(device)\n",
    "            embeddings = model_bert(**batch).last_hidden_state[:, 0, :]\n",
    "\n",
    "            if device.type == 'cuda':\n",
    "                all_embeddings.append(embeddings.cpu())\n",
    "            else: \n",
    "                all_embeddings.append(embeddings)\n",
    "    \n",
    "    return torch.cat(all_embeddings, dim=0).numpy()"
   ]
  },
  {
   "cell_type": "code",
   "execution_count": 27,
   "id": "8b7d29fa",
   "metadata": {},
   "outputs": [
    {
     "name": "stderr",
     "output_type": "stream",
     "text": [
      "Извлечение эмбеддингов: 100%|██████████| 79/79 [02:15<00:00,  1.71s/it]"
     ]
    },
    {
     "name": "stdout",
     "output_type": "stream",
     "text": [
      "Форма эмбеддингов BERT (2500, 768)\n"
     ]
    },
    {
     "name": "stderr",
     "output_type": "stream",
     "text": [
      "\n"
     ]
    }
   ],
   "source": [
    "embeddings_bert = get_embeddings(mini_df['text'])\n",
    "\n",
    "print('Форма эмбеддингов BERT', embeddings_bert.shape)"
   ]
  },
  {
   "cell_type": "code",
   "execution_count": 28,
   "id": "42a1a2b7",
   "metadata": {},
   "outputs": [],
   "source": [
    "X_train_full, X_test, y_train_full, y_test = train_test_split(\n",
    "                                                embeddings_bert, mini_df['toxic'],\n",
    "                                                random_state=RANDOM_STATE, \n",
    "                                                stratify=mini_df['toxic'], test_size=TEST_SIZE)\n",
    "X_train, X_val, y_train, y_val = train_test_split(\n",
    "                                    X_train_full, y_train_full,\n",
    "                                    random_state=RANDOM_STATE,\n",
    "                                    stratify=y_train_full, test_size=TEST_SIZE)"
   ]
  },
  {
   "cell_type": "markdown",
   "id": "2351cbb9",
   "metadata": {},
   "source": [
    "### Обучение моделей"
   ]
  },
  {
   "cell_type": "code",
   "execution_count": 29,
   "id": "5a191cea",
   "metadata": {},
   "outputs": [
    {
     "name": "stderr",
     "output_type": "stream",
     "text": [
      "[I 2025-07-05 21:40:29,497] A new study created in memory with name: no-name-8f21abcb-8555-4343-80ff-0a0d26ee0ce5\n",
      "[I 2025-07-05 21:40:29,597] Trial 0 finished with value: 0.9411764705882353 and parameters: {'C': 0.37826947792983645}. Best is trial 0 with value: 0.9411764705882353.\n",
      "[I 2025-07-05 21:40:29,648] Trial 1 finished with value: 0.9411764705882353 and parameters: {'C': 0.4157276879938434}. Best is trial 0 with value: 0.9411764705882353.\n",
      "[I 2025-07-05 21:40:29,701] Trial 2 finished with value: 0.9411764705882353 and parameters: {'C': 1.3279524711005537}. Best is trial 0 with value: 0.9411764705882353.\n",
      "[I 2025-07-05 21:40:29,762] Trial 3 finished with value: 0.9411764705882353 and parameters: {'C': 1.8456196387850619}. Best is trial 0 with value: 0.9411764705882353.\n",
      "[I 2025-07-05 21:40:29,821] Trial 4 finished with value: 0.9411764705882353 and parameters: {'C': 1.9531960411725946}. Best is trial 0 with value: 0.9411764705882353.\n",
      "[I 2025-07-05 21:40:29,888] Trial 5 finished with value: 0.9411764705882353 and parameters: {'C': 1.5946238463366305}. Best is trial 0 with value: 0.9411764705882353.\n",
      "[I 2025-07-05 21:40:29,936] Trial 6 finished with value: 0.9411764705882353 and parameters: {'C': 0.2985363055235525}. Best is trial 0 with value: 0.9411764705882353.\n",
      "[I 2025-07-05 21:40:29,985] Trial 7 finished with value: 0.9411764705882353 and parameters: {'C': 0.8983977898740748}. Best is trial 0 with value: 0.9411764705882353.\n",
      "[I 2025-07-05 21:40:30,042] Trial 8 finished with value: 0.9411764705882353 and parameters: {'C': 1.5007368927656028}. Best is trial 0 with value: 0.9411764705882353.\n",
      "[I 2025-07-05 21:40:30,112] Trial 9 finished with value: 0.9411764705882353 and parameters: {'C': 1.6143889799380935}. Best is trial 0 with value: 0.9411764705882353.\n",
      "[I 2025-07-05 21:40:30,113] A new study created in memory with name: no-name-7a533c30-ffbf-42a1-ad97-83b19819676b\n",
      "[I 2025-07-05 21:40:30,742] Trial 0 finished with value: 0.9318181818181818 and parameters: {'n_estimators': 113, 'criterion': 'log_loss', 'min_samples_split': 24, 'min_samples_leaf': 3, 'max_depth': 30, 'max_features': 'log2'}. Best is trial 0 with value: 0.9318181818181818.\n",
      "[I 2025-07-05 21:40:32,664] Trial 1 finished with value: 0.9318181818181818 and parameters: {'n_estimators': 186, 'criterion': 'gini', 'min_samples_split': 22, 'min_samples_leaf': 5, 'max_depth': 21, 'max_features': 'sqrt'}. Best is trial 0 with value: 0.9318181818181818.\n",
      "[I 2025-07-05 21:40:34,305] Trial 2 finished with value: 0.9425287356321839 and parameters: {'n_estimators': 131, 'criterion': 'entropy', 'min_samples_split': 2, 'min_samples_leaf': 9, 'max_depth': 16, 'max_features': 'sqrt'}. Best is trial 2 with value: 0.9425287356321839.\n",
      "[I 2025-07-05 21:40:35,018] Trial 3 finished with value: 0.9647058823529412 and parameters: {'n_estimators': 130, 'criterion': 'entropy', 'min_samples_split': 10, 'min_samples_leaf': 4, 'max_depth': 13, 'max_features': 'log2'}. Best is trial 3 with value: 0.9647058823529412.\n",
      "[I 2025-07-05 21:40:35,888] Trial 4 finished with value: 0.9534883720930233 and parameters: {'n_estimators': 158, 'criterion': 'entropy', 'min_samples_split': 11, 'min_samples_leaf': 5, 'max_depth': 12, 'max_features': 'log2'}. Best is trial 3 with value: 0.9647058823529412.\n",
      "[I 2025-07-05 21:40:36,747] Trial 5 finished with value: 0.9111111111111111 and parameters: {'n_estimators': 167, 'criterion': 'log_loss', 'min_samples_split': 14, 'min_samples_leaf': 18, 'max_depth': 19, 'max_features': 'log2'}. Best is trial 3 with value: 0.9647058823529412.\n",
      "[I 2025-07-05 21:40:38,728] Trial 6 finished with value: 0.9213483146067416 and parameters: {'n_estimators': 155, 'criterion': 'log_loss', 'min_samples_split': 18, 'min_samples_leaf': 14, 'max_depth': 26, 'max_features': 'sqrt'}. Best is trial 3 with value: 0.9647058823529412.\n",
      "[I 2025-07-05 21:40:39,314] Trial 7 finished with value: 0.9534883720930233 and parameters: {'n_estimators': 106, 'criterion': 'log_loss', 'min_samples_split': 2, 'min_samples_leaf': 7, 'max_depth': 37, 'max_features': 'log2'}. Best is trial 3 with value: 0.9647058823529412.\n",
      "[I 2025-07-05 21:40:41,170] Trial 8 finished with value: 0.9111111111111111 and parameters: {'n_estimators': 195, 'criterion': 'gini', 'min_samples_split': 18, 'min_samples_leaf': 14, 'max_depth': 18, 'max_features': 'sqrt'}. Best is trial 3 with value: 0.9647058823529412.\n",
      "[I 2025-07-05 21:40:42,973] Trial 9 finished with value: 0.9425287356321839 and parameters: {'n_estimators': 142, 'criterion': 'entropy', 'min_samples_split': 12, 'min_samples_leaf': 8, 'max_depth': 36, 'max_features': 'sqrt'}. Best is trial 3 with value: 0.9647058823529412.\n",
      "[I 2025-07-05 21:40:43,683] Trial 10 finished with value: 0.9647058823529412 and parameters: {'n_estimators': 124, 'criterion': 'entropy', 'min_samples_split': 7, 'min_samples_leaf': 1, 'max_depth': 11, 'max_features': 'log2'}. Best is trial 3 with value: 0.9647058823529412.\n",
      "[I 2025-07-05 21:40:44,415] Trial 11 finished with value: 0.9647058823529412 and parameters: {'n_estimators': 126, 'criterion': 'entropy', 'min_samples_split': 5, 'min_samples_leaf': 1, 'max_depth': 11, 'max_features': 'log2'}. Best is trial 3 with value: 0.9647058823529412.\n",
      "[I 2025-07-05 21:40:45,131] Trial 12 finished with value: 0.9534883720930233 and parameters: {'n_estimators': 124, 'criterion': 'entropy', 'min_samples_split': 8, 'min_samples_leaf': 1, 'max_depth': 10, 'max_features': 'log2'}. Best is trial 3 with value: 0.9647058823529412.\n",
      "[I 2025-07-05 21:40:45,902] Trial 13 finished with value: 0.9647058823529412 and parameters: {'n_estimators': 138, 'criterion': 'entropy', 'min_samples_split': 8, 'min_samples_leaf': 4, 'max_depth': 15, 'max_features': 'log2'}. Best is trial 3 with value: 0.9647058823529412.\n",
      "[I 2025-07-05 21:40:46,450] Trial 14 finished with value: 0.9213483146067416 and parameters: {'n_estimators': 101, 'criterion': 'entropy', 'min_samples_split': 8, 'min_samples_leaf': 12, 'max_depth': 24, 'max_features': 'log2'}. Best is trial 3 with value: 0.9647058823529412.\n",
      "[I 2025-07-05 21:40:47,133] Trial 15 finished with value: 0.9647058823529412 and parameters: {'n_estimators': 117, 'criterion': 'entropy', 'min_samples_split': 15, 'min_samples_leaf': 1, 'max_depth': 14, 'max_features': 'log2'}. Best is trial 3 with value: 0.9647058823529412.\n",
      "[I 2025-07-05 21:40:47,787] Trial 16 finished with value: 0.9318181818181818 and parameters: {'n_estimators': 140, 'criterion': 'gini', 'min_samples_split': 5, 'min_samples_leaf': 6, 'max_depth': 30, 'max_features': 'log2'}. Best is trial 3 with value: 0.9647058823529412.\n",
      "[I 2025-07-05 21:40:48,731] Trial 17 finished with value: 0.9534883720930233 and parameters: {'n_estimators': 167, 'criterion': 'entropy', 'min_samples_split': 10, 'min_samples_leaf': 3, 'max_depth': 23, 'max_features': 'log2'}. Best is trial 3 with value: 0.9647058823529412.\n",
      "[I 2025-07-05 21:40:49,373] Trial 18 finished with value: 0.9213483146067416 and parameters: {'n_estimators': 116, 'criterion': 'entropy', 'min_samples_split': 5, 'min_samples_leaf': 11, 'max_depth': 10, 'max_features': 'log2'}. Best is trial 3 with value: 0.9647058823529412.\n",
      "[I 2025-07-05 21:40:49,939] Trial 19 finished with value: 0.8817204301075269 and parameters: {'n_estimators': 132, 'criterion': 'gini', 'min_samples_split': 18, 'min_samples_leaf': 20, 'max_depth': 14, 'max_features': 'log2'}. Best is trial 3 with value: 0.9647058823529412.\n",
      "[I 2025-07-05 21:40:50,787] Trial 20 finished with value: 0.9534883720930233 and parameters: {'n_estimators': 150, 'criterion': 'entropy', 'min_samples_split': 16, 'min_samples_leaf': 3, 'max_depth': 18, 'max_features': 'log2'}. Best is trial 3 with value: 0.9647058823529412.\n",
      "[I 2025-07-05 21:40:51,510] Trial 21 finished with value: 0.9647058823529412 and parameters: {'n_estimators': 126, 'criterion': 'entropy', 'min_samples_split': 6, 'min_samples_leaf': 1, 'max_depth': 10, 'max_features': 'log2'}. Best is trial 3 with value: 0.9647058823529412.\n",
      "[I 2025-07-05 21:40:52,205] Trial 22 finished with value: 0.963855421686747 and parameters: {'n_estimators': 119, 'criterion': 'entropy', 'min_samples_split': 4, 'min_samples_leaf': 1, 'max_depth': 12, 'max_features': 'log2'}. Best is trial 3 with value: 0.9647058823529412.\n",
      "[I 2025-07-05 21:40:52,815] Trial 23 finished with value: 0.9647058823529412 and parameters: {'n_estimators': 108, 'criterion': 'entropy', 'min_samples_split': 9, 'min_samples_leaf': 3, 'max_depth': 13, 'max_features': 'log2'}. Best is trial 3 with value: 0.9647058823529412.\n",
      "[I 2025-07-05 21:40:53,538] Trial 24 finished with value: 0.9534883720930233 and parameters: {'n_estimators': 130, 'criterion': 'entropy', 'min_samples_split': 12, 'min_samples_leaf': 6, 'max_depth': 16, 'max_features': 'log2'}. Best is trial 3 with value: 0.9647058823529412.\n",
      "[I 2025-07-05 21:40:54,379] Trial 25 finished with value: 0.9647058823529412 and parameters: {'n_estimators': 146, 'criterion': 'entropy', 'min_samples_split': 7, 'min_samples_leaf': 2, 'max_depth': 20, 'max_features': 'log2'}. Best is trial 3 with value: 0.9647058823529412.\n",
      "[I 2025-07-05 21:40:56,114] Trial 26 finished with value: 0.9425287356321839 and parameters: {'n_estimators': 136, 'criterion': 'entropy', 'min_samples_split': 4, 'min_samples_leaf': 9, 'max_depth': 27, 'max_features': 'sqrt'}. Best is trial 3 with value: 0.9647058823529412.\n",
      "[I 2025-07-05 21:40:56,807] Trial 27 finished with value: 0.9647058823529412 and parameters: {'n_estimators': 124, 'criterion': 'entropy', 'min_samples_split': 10, 'min_samples_leaf': 4, 'max_depth': 12, 'max_features': 'log2'}. Best is trial 3 with value: 0.9647058823529412.\n",
      "[I 2025-07-05 21:40:57,425] Trial 28 finished with value: 0.9534883720930233 and parameters: {'n_estimators': 108, 'criterion': 'log_loss', 'min_samples_split': 6, 'min_samples_leaf': 5, 'max_depth': 17, 'max_features': 'log2'}. Best is trial 3 with value: 0.9647058823529412.\n",
      "[I 2025-07-05 21:40:57,937] Trial 29 finished with value: 0.9761904761904762 and parameters: {'n_estimators': 101, 'criterion': 'gini', 'min_samples_split': 3, 'min_samples_leaf': 2, 'max_depth': 31, 'max_features': 'log2'}. Best is trial 29 with value: 0.9761904761904762.\n",
      "[I 2025-07-05 21:40:58,423] Trial 30 finished with value: 0.9534883720930233 and parameters: {'n_estimators': 100, 'criterion': 'gini', 'min_samples_split': 3, 'min_samples_leaf': 3, 'max_depth': 33, 'max_features': 'log2'}. Best is trial 29 with value: 0.9761904761904762.\n",
      "[I 2025-07-05 21:40:58,990] Trial 31 finished with value: 0.9647058823529412 and parameters: {'n_estimators': 112, 'criterion': 'gini', 'min_samples_split': 6, 'min_samples_leaf': 2, 'max_depth': 32, 'max_features': 'log2'}. Best is trial 29 with value: 0.9761904761904762.\n",
      "[I 2025-07-05 21:40:59,591] Trial 32 finished with value: 0.9647058823529412 and parameters: {'n_estimators': 119, 'criterion': 'gini', 'min_samples_split': 4, 'min_samples_leaf': 2, 'max_depth': 22, 'max_features': 'log2'}. Best is trial 29 with value: 0.9761904761904762.\n",
      "[I 2025-07-05 21:41:00,177] Trial 33 finished with value: 0.9318181818181818 and parameters: {'n_estimators': 125, 'criterion': 'gini', 'min_samples_split': 24, 'min_samples_leaf': 4, 'max_depth': 40, 'max_features': 'log2'}. Best is trial 29 with value: 0.9761904761904762.\n",
      "[I 2025-07-05 21:41:01,336] Trial 34 finished with value: 0.9318181818181818 and parameters: {'n_estimators': 111, 'criterion': 'gini', 'min_samples_split': 7, 'min_samples_leaf': 6, 'max_depth': 28, 'max_features': 'sqrt'}. Best is trial 29 with value: 0.9761904761904762.\n",
      "[I 2025-07-05 21:41:02,089] Trial 35 finished with value: 0.9523809523809523 and parameters: {'n_estimators': 132, 'criterion': 'log_loss', 'min_samples_split': 2, 'min_samples_leaf': 2, 'max_depth': 12, 'max_features': 'log2'}. Best is trial 29 with value: 0.9761904761904762.\n",
      "[I 2025-07-05 21:41:03,068] Trial 36 finished with value: 0.9534883720930233 and parameters: {'n_estimators': 178, 'criterion': 'entropy', 'min_samples_split': 12, 'min_samples_leaf': 5, 'max_depth': 29, 'max_features': 'log2'}. Best is trial 29 with value: 0.9761904761904762.\n",
      "[I 2025-07-05 21:41:05,009] Trial 37 finished with value: 0.963855421686747 and parameters: {'n_estimators': 160, 'criterion': 'gini', 'min_samples_split': 3, 'min_samples_leaf': 1, 'max_depth': 33, 'max_features': 'sqrt'}. Best is trial 29 with value: 0.9761904761904762.\n",
      "[I 2025-07-05 21:41:05,824] Trial 38 finished with value: 0.9647058823529412 and parameters: {'n_estimators': 146, 'criterion': 'log_loss', 'min_samples_split': 9, 'min_samples_leaf': 4, 'max_depth': 20, 'max_features': 'log2'}. Best is trial 29 with value: 0.9761904761904762.\n",
      "[I 2025-07-05 21:41:07,165] Trial 39 finished with value: 0.9425287356321839 and parameters: {'n_estimators': 103, 'criterion': 'entropy', 'min_samples_split': 10, 'min_samples_leaf': 8, 'max_depth': 16, 'max_features': 'sqrt'}. Best is trial 29 with value: 0.9761904761904762.\n",
      "[I 2025-07-05 21:41:07,166] A new study created in memory with name: no-name-f8f34dcb-55a5-489a-af4c-bb756066f8d1\n"
     ]
    },
    {
     "name": "stdout",
     "output_type": "stream",
     "text": [
      "Training until validation scores don't improve for 100 rounds\n",
      "Early stopping, best iteration is:\n",
      "[19]\tvalid_0's auc: 0.998098\n"
     ]
    },
    {
     "name": "stderr",
     "output_type": "stream",
     "text": [
      "[I 2025-07-05 21:41:09,015] Trial 0 finished with value: 0.9523809523809523 and parameters: {'learning_rate': 0.2634543850813775, 'num_leaves': 1347, 'max_depth': 10, 'min_child_samples': 58, 'subsample': 0.9501748218594166, 'colsample_bytree': 0.9557901608980008}. Best is trial 0 with value: 0.9523809523809523.\n"
     ]
    },
    {
     "name": "stdout",
     "output_type": "stream",
     "text": [
      "Training until validation scores don't improve for 100 rounds\n",
      "Early stopping, best iteration is:\n",
      "[43]\tvalid_0's auc: 0.998369\n"
     ]
    },
    {
     "name": "stderr",
     "output_type": "stream",
     "text": [
      "[I 2025-07-05 21:41:11,550] Trial 1 finished with value: 0.9411764705882353 and parameters: {'learning_rate': 0.1263274979911734, 'num_leaves': 2161, 'max_depth': 9, 'min_child_samples': 86, 'subsample': 0.8038516859766771, 'colsample_bytree': 0.5693906357726732}. Best is trial 0 with value: 0.9523809523809523.\n"
     ]
    },
    {
     "name": "stdout",
     "output_type": "stream",
     "text": [
      "Training until validation scores don't improve for 100 rounds\n"
     ]
    },
    {
     "name": "stderr",
     "output_type": "stream",
     "text": [
      "[I 2025-07-05 21:41:12,452] Trial 2 finished with value: 0.9523809523809523 and parameters: {'learning_rate': 0.2925611958442956, 'num_leaves': 737, 'max_depth': 3, 'min_child_samples': 67, 'subsample': 0.9666588498906995, 'colsample_bytree': 0.888240428312266}. Best is trial 0 with value: 0.9523809523809523.\n"
     ]
    },
    {
     "name": "stdout",
     "output_type": "stream",
     "text": [
      "Early stopping, best iteration is:\n",
      "[10]\tvalid_0's auc: 0.998098\n",
      "Training until validation scores don't improve for 100 rounds\n"
     ]
    },
    {
     "name": "stderr",
     "output_type": "stream",
     "text": [
      "[I 2025-07-05 21:41:13,745] Trial 3 finished with value: 0.9397590361445783 and parameters: {'learning_rate': 0.1892321658487759, 'num_leaves': 83, 'max_depth': 11, 'min_child_samples': 49, 'subsample': 0.7955882158837679, 'colsample_bytree': 0.640836909990516}. Best is trial 0 with value: 0.9523809523809523.\n"
     ]
    },
    {
     "name": "stdout",
     "output_type": "stream",
     "text": [
      "Early stopping, best iteration is:\n",
      "[21]\tvalid_0's auc: 0.998302\n",
      "Training until validation scores don't improve for 100 rounds\n"
     ]
    },
    {
     "name": "stderr",
     "output_type": "stream",
     "text": [
      "[I 2025-07-05 21:41:15,572] Trial 4 finished with value: 0.0 and parameters: {'learning_rate': 0.017788200393072957, 'num_leaves': 813, 'max_depth': 10, 'min_child_samples': 91, 'subsample': 0.9438166955992039, 'colsample_bytree': 0.8889905617447076}. Best is trial 0 with value: 0.9523809523809523.\n"
     ]
    },
    {
     "name": "stdout",
     "output_type": "stream",
     "text": [
      "Early stopping, best iteration is:\n",
      "[17]\tvalid_0's auc: 0.998471\n",
      "Training until validation scores don't improve for 100 rounds\n"
     ]
    },
    {
     "name": "stderr",
     "output_type": "stream",
     "text": [
      "[I 2025-07-05 21:41:18,753] Trial 5 finished with value: 0.9382716049382716 and parameters: {'learning_rate': 0.02104832460024622, 'num_leaves': 110, 'max_depth': 14, 'min_child_samples': 49, 'subsample': 0.5672415414226113, 'colsample_bytree': 0.8747062166329755}. Best is trial 0 with value: 0.9523809523809523.\n"
     ]
    },
    {
     "name": "stdout",
     "output_type": "stream",
     "text": [
      "Early stopping, best iteration is:\n",
      "[69]\tvalid_0's auc: 0.998505\n",
      "Training until validation scores don't improve for 100 rounds\n"
     ]
    },
    {
     "name": "stderr",
     "output_type": "stream",
     "text": [
      "[I 2025-07-05 21:41:20,185] Trial 6 finished with value: 0.8947368421052632 and parameters: {'learning_rate': 0.09434657001322222, 'num_leaves': 352, 'max_depth': 8, 'min_child_samples': 12, 'subsample': 0.642601516808554, 'colsample_bytree': 0.4306121333106867}. Best is trial 0 with value: 0.9523809523809523.\n"
     ]
    },
    {
     "name": "stdout",
     "output_type": "stream",
     "text": [
      "Early stopping, best iteration is:\n",
      "[8]\tvalid_0's auc: 0.998641\n",
      "Training until validation scores don't improve for 100 rounds\n",
      "Early stopping, best iteration is:\n",
      "[60]\tvalid_0's auc: 0.998369\n"
     ]
    },
    {
     "name": "stderr",
     "output_type": "stream",
     "text": [
      "[I 2025-07-05 21:41:23,721] Trial 7 finished with value: 0.9647058823529412 and parameters: {'learning_rate': 0.11097156431537976, 'num_leaves': 2458, 'max_depth': 10, 'min_child_samples': 88, 'subsample': 0.5164292144507693, 'colsample_bytree': 0.8919736717475896}. Best is trial 7 with value: 0.9647058823529412.\n"
     ]
    },
    {
     "name": "stdout",
     "output_type": "stream",
     "text": [
      "Training until validation scores don't improve for 100 rounds\n"
     ]
    },
    {
     "name": "stderr",
     "output_type": "stream",
     "text": [
      "[I 2025-07-05 21:41:25,020] Trial 8 finished with value: 0.926829268292683 and parameters: {'learning_rate': 0.09000844686263894, 'num_leaves': 416, 'max_depth': 10, 'min_child_samples': 65, 'subsample': 0.47310307400665214, 'colsample_bytree': 0.4448716482760691}. Best is trial 7 with value: 0.9647058823529412.\n"
     ]
    },
    {
     "name": "stdout",
     "output_type": "stream",
     "text": [
      "Early stopping, best iteration is:\n",
      "[25]\tvalid_0's auc: 0.998166\n",
      "Training until validation scores don't improve for 100 rounds\n"
     ]
    },
    {
     "name": "stderr",
     "output_type": "stream",
     "text": [
      "[I 2025-07-05 21:41:26,049] Trial 9 finished with value: 0.9285714285714286 and parameters: {'learning_rate': 0.22628079177504973, 'num_leaves': 770, 'max_depth': 3, 'min_child_samples': 23, 'subsample': 0.5994819152837563, 'colsample_bytree': 0.9034499776671926}. Best is trial 7 with value: 0.9647058823529412.\n"
     ]
    },
    {
     "name": "stdout",
     "output_type": "stream",
     "text": [
      "Early stopping, best iteration is:\n",
      "[21]\tvalid_0's auc: 0.997894\n",
      "Training until validation scores don't improve for 100 rounds\n",
      "Early stopping, best iteration is:\n",
      "[101]\tvalid_0's auc: 0.998302\n"
     ]
    },
    {
     "name": "stderr",
     "output_type": "stream",
     "text": [
      "[I 2025-07-05 21:41:29,043] Trial 10 finished with value: 0.9647058823529412 and parameters: {'learning_rate': 0.17239766356584701, 'num_leaves': 2857, 'max_depth': 6, 'min_child_samples': 99, 'subsample': 0.47711515405895, 'colsample_bytree': 0.786290902603123}. Best is trial 7 with value: 0.9647058823529412.\n"
     ]
    },
    {
     "name": "stdout",
     "output_type": "stream",
     "text": [
      "Training until validation scores don't improve for 100 rounds\n",
      "Early stopping, best iteration is:\n",
      "[27]\tvalid_0's auc: 0.99803\n"
     ]
    },
    {
     "name": "stderr",
     "output_type": "stream",
     "text": [
      "[I 2025-07-05 21:41:32,268] Trial 11 finished with value: 0.9523809523809523 and parameters: {'learning_rate': 0.15955604326232883, 'num_leaves': 2941, 'max_depth': 6, 'min_child_samples': 98, 'subsample': 0.40208580936400806, 'colsample_bytree': 0.7646105444020879}. Best is trial 7 with value: 0.9647058823529412.\n"
     ]
    },
    {
     "name": "stdout",
     "output_type": "stream",
     "text": [
      "Training until validation scores don't improve for 100 rounds\n",
      "Early stopping, best iteration is:\n",
      "[17]\tvalid_0's auc: 0.998234\n"
     ]
    },
    {
     "name": "stderr",
     "output_type": "stream",
     "text": [
      "[I 2025-07-05 21:41:35,276] Trial 12 finished with value: 0.9285714285714286 and parameters: {'learning_rate': 0.1877374808266274, 'num_leaves': 2975, 'max_depth': 6, 'min_child_samples': 80, 'subsample': 0.515769487713045, 'colsample_bytree': 0.7765362757825128}. Best is trial 7 with value: 0.9647058823529412.\n"
     ]
    },
    {
     "name": "stdout",
     "output_type": "stream",
     "text": [
      "Training until validation scores don't improve for 100 rounds\n",
      "Early stopping, best iteration is:\n",
      "[81]\tvalid_0's auc: 0.998437\n"
     ]
    },
    {
     "name": "stderr",
     "output_type": "stream",
     "text": [
      "[I 2025-07-05 21:41:38,226] Trial 13 finished with value: 0.9523809523809523 and parameters: {'learning_rate': 0.08420084449861258, 'num_leaves': 2371, 'max_depth': 6, 'min_child_samples': 100, 'subsample': 0.40942188991914125, 'colsample_bytree': 0.784316628267664}. Best is trial 7 with value: 0.9647058823529412.\n"
     ]
    },
    {
     "name": "stdout",
     "output_type": "stream",
     "text": [
      "Training until validation scores don't improve for 100 rounds\n",
      "Early stopping, best iteration is:\n",
      "[23]\tvalid_0's auc: 0.998709\n"
     ]
    },
    {
     "name": "stderr",
     "output_type": "stream",
     "text": [
      "[I 2025-07-05 21:41:41,409] Trial 14 finished with value: 0.9397590361445783 and parameters: {'learning_rate': 0.15590599664319665, 'num_leaves': 2374, 'max_depth': 13, 'min_child_samples': 75, 'subsample': 0.6881885304550613, 'colsample_bytree': 0.9831445282541971}. Best is trial 7 with value: 0.9647058823529412.\n"
     ]
    },
    {
     "name": "stdout",
     "output_type": "stream",
     "text": [
      "Training until validation scores don't improve for 100 rounds\n",
      "Early stopping, best iteration is:\n",
      "[23]\tvalid_0's auc: 0.998234\n"
     ]
    },
    {
     "name": "stderr",
     "output_type": "stream",
     "text": [
      "[I 2025-07-05 21:41:43,681] Trial 15 finished with value: 0.9382716049382716 and parameters: {'learning_rate': 0.061885947026937706, 'num_leaves': 1888, 'max_depth': 7, 'min_child_samples': 41, 'subsample': 0.4957129068838566, 'colsample_bytree': 0.6818158031526547}. Best is trial 7 with value: 0.9647058823529412.\n"
     ]
    },
    {
     "name": "stdout",
     "output_type": "stream",
     "text": [
      "Training until validation scores don't improve for 100 rounds\n",
      "Early stopping, best iteration is:\n",
      "[26]\tvalid_0's auc: 0.998166\n"
     ]
    },
    {
     "name": "stderr",
     "output_type": "stream",
     "text": [
      "[I 2025-07-05 21:41:46,545] Trial 16 finished with value: 0.9285714285714286 and parameters: {'learning_rate': 0.21376963543156158, 'num_leaves': 2652, 'max_depth': 12, 'min_child_samples': 76, 'subsample': 0.5446979561774591, 'colsample_bytree': 0.8195223118239529}. Best is trial 7 with value: 0.9647058823529412.\n"
     ]
    },
    {
     "name": "stdout",
     "output_type": "stream",
     "text": [
      "Training until validation scores don't improve for 100 rounds\n",
      "Early stopping, best iteration is:\n",
      "[27]\tvalid_0's auc: 0.998403\n"
     ]
    },
    {
     "name": "stderr",
     "output_type": "stream",
     "text": [
      "[I 2025-07-05 21:41:49,222] Trial 17 finished with value: 0.9411764705882353 and parameters: {'learning_rate': 0.12201993871809648, 'num_leaves': 1664, 'max_depth': 15, 'min_child_samples': 92, 'subsample': 0.7582234138068462, 'colsample_bytree': 0.598489030103935}. Best is trial 7 with value: 0.9647058823529412.\n"
     ]
    },
    {
     "name": "stdout",
     "output_type": "stream",
     "text": [
      "Training until validation scores don't improve for 100 rounds\n",
      "Early stopping, best iteration is:\n",
      "[21]\tvalid_0's auc: 0.998437\n"
     ]
    },
    {
     "name": "stderr",
     "output_type": "stream",
     "text": [
      "[I 2025-07-05 21:41:51,209] Trial 18 finished with value: 0.9411764705882353 and parameters: {'learning_rate': 0.12522184923450466, 'num_leaves': 2630, 'max_depth': 4, 'min_child_samples': 85, 'subsample': 0.4652497438250021, 'colsample_bytree': 0.708975667554347}. Best is trial 7 with value: 0.9647058823529412.\n"
     ]
    },
    {
     "name": "stdout",
     "output_type": "stream",
     "text": [
      "Training until validation scores don't improve for 100 rounds\n",
      "Early stopping, best iteration is:\n",
      "[12]\tvalid_0's auc: 0.998369\n"
     ]
    },
    {
     "name": "stderr",
     "output_type": "stream",
     "text": [
      "[I 2025-07-05 21:41:53,509] Trial 19 finished with value: 0.9523809523809523 and parameters: {'learning_rate': 0.240190800275787, 'num_leaves': 2012, 'max_depth': 8, 'min_child_samples': 35, 'subsample': 0.5976095011119135, 'colsample_bytree': 0.8325524884043297}. Best is trial 7 with value: 0.9647058823529412.\n"
     ]
    },
    {
     "name": "stdout",
     "output_type": "stream",
     "text": [
      "Training until validation scores don't improve for 100 rounds\n",
      "Early stopping, best iteration is:\n",
      "[14]\tvalid_0's auc: 0.997962\n"
     ]
    },
    {
     "name": "stderr",
     "output_type": "stream",
     "text": [
      "[I 2025-07-05 21:41:54,697] Trial 20 finished with value: 0.9285714285714286 and parameters: {'learning_rate': 0.1824362188030948, 'num_leaves': 1284, 'max_depth': 4, 'min_child_samples': 66, 'subsample': 0.6738687807799387, 'colsample_bytree': 0.5107917339531232}. Best is trial 7 with value: 0.9647058823529412.\n"
     ]
    },
    {
     "name": "stdout",
     "output_type": "stream",
     "text": [
      "Training until validation scores don't improve for 100 rounds\n",
      "Early stopping, best iteration is:\n",
      "[4]\tvalid_0's auc: 0.997588\n"
     ]
    },
    {
     "name": "stderr",
     "output_type": "stream",
     "text": [
      "[I 2025-07-05 21:41:56,701] Trial 21 finished with value: 0.926829268292683 and parameters: {'learning_rate': 0.2790522300397588, 'num_leaves': 1328, 'max_depth': 11, 'min_child_samples': 58, 'subsample': 0.905507452132824, 'colsample_bytree': 0.993472402018228}. Best is trial 7 with value: 0.9647058823529412.\n"
     ]
    },
    {
     "name": "stdout",
     "output_type": "stream",
     "text": [
      "Training until validation scores don't improve for 100 rounds\n",
      "Early stopping, best iteration is:\n",
      "[10]\tvalid_0's auc: 0.998268\n"
     ]
    },
    {
     "name": "stderr",
     "output_type": "stream",
     "text": [
      "[I 2025-07-05 21:41:58,866] Trial 22 finished with value: 0.9397590361445783 and parameters: {'learning_rate': 0.2603957878880654, 'num_leaves': 1644, 'max_depth': 9, 'min_child_samples': 93, 'subsample': 0.8619119460720579, 'colsample_bytree': 0.9450397539276231}. Best is trial 7 with value: 0.9647058823529412.\n"
     ]
    },
    {
     "name": "stdout",
     "output_type": "stream",
     "text": [
      "Training until validation scores don't improve for 100 rounds\n",
      "Early stopping, best iteration is:\n",
      "[45]\tvalid_0's auc: 0.99769\n"
     ]
    },
    {
     "name": "stderr",
     "output_type": "stream",
     "text": [
      "[I 2025-07-05 21:42:00,851] Trial 23 finished with value: 0.9647058823529412 and parameters: {'learning_rate': 0.2539504168696469, 'num_leaves': 1091, 'max_depth': 12, 'min_child_samples': 31, 'subsample': 0.7310408642631182, 'colsample_bytree': 0.9363864239141154}. Best is trial 7 with value: 0.9647058823529412.\n"
     ]
    },
    {
     "name": "stdout",
     "output_type": "stream",
     "text": [
      "Training until validation scores don't improve for 100 rounds\n",
      "Early stopping, best iteration is:\n",
      "[20]\tvalid_0's auc: 0.998505\n"
     ]
    },
    {
     "name": "stderr",
     "output_type": "stream",
     "text": [
      "[I 2025-07-05 21:42:03,948] Trial 24 finished with value: 0.925 and parameters: {'learning_rate': 0.05506779335705626, 'num_leaves': 1094, 'max_depth': 12, 'min_child_samples': 28, 'subsample': 0.7362915150144906, 'colsample_bytree': 0.8340235936704397}. Best is trial 7 with value: 0.9647058823529412.\n"
     ]
    },
    {
     "name": "stdout",
     "output_type": "stream",
     "text": [
      "Training until validation scores don't improve for 100 rounds\n",
      "Early stopping, best iteration is:\n",
      "[7]\tvalid_0's auc: 0.998369\n"
     ]
    },
    {
     "name": "stderr",
     "output_type": "stream",
     "text": [
      "[I 2025-07-05 21:42:06,943] Trial 25 finished with value: 0.926829268292683 and parameters: {'learning_rate': 0.21624298670474895, 'num_leaves': 2615, 'max_depth': 13, 'min_child_samples': 27, 'subsample': 0.6281556498028049, 'colsample_bytree': 0.7167241819230419}. Best is trial 7 with value: 0.9647058823529412.\n"
     ]
    },
    {
     "name": "stdout",
     "output_type": "stream",
     "text": [
      "Training until validation scores don't improve for 100 rounds\n",
      "Early stopping, best iteration is:\n",
      "[16]\tvalid_0's auc: 0.998302\n"
     ]
    },
    {
     "name": "stderr",
     "output_type": "stream",
     "text": [
      "[I 2025-07-05 21:42:10,885] Trial 26 finished with value: 0.963855421686747 and parameters: {'learning_rate': 0.14107110663479738, 'num_leaves': 2781, 'max_depth': 8, 'min_child_samples': 6, 'subsample': 0.44138164541607694, 'colsample_bytree': 0.8660421143184558}. Best is trial 7 with value: 0.9647058823529412.\n"
     ]
    },
    {
     "name": "stdout",
     "output_type": "stream",
     "text": [
      "Training until validation scores don't improve for 100 rounds\n",
      "Early stopping, best iteration is:\n",
      "[26]\tvalid_0's auc: 0.998369\n"
     ]
    },
    {
     "name": "stderr",
     "output_type": "stream",
     "text": [
      "[I 2025-07-05 21:42:13,353] Trial 27 finished with value: 0.9397590361445783 and parameters: {'learning_rate': 0.17655801706391885, 'num_leaves': 2373, 'max_depth': 5, 'min_child_samples': 40, 'subsample': 0.5199128482132904, 'colsample_bytree': 0.9217579432236903}. Best is trial 7 with value: 0.9647058823529412.\n"
     ]
    },
    {
     "name": "stdout",
     "output_type": "stream",
     "text": [
      "Training until validation scores don't improve for 100 rounds\n",
      "Early stopping, best iteration is:\n",
      "[11]\tvalid_0's auc: 0.999117\n"
     ]
    },
    {
     "name": "stderr",
     "output_type": "stream",
     "text": [
      "[I 2025-07-05 21:42:15,346] Trial 28 finished with value: 0.9647058823529412 and parameters: {'learning_rate': 0.24046109099701377, 'num_leaves': 1072, 'max_depth': 11, 'min_child_samples': 18, 'subsample': 0.7238067807348587, 'colsample_bytree': 0.7497801273932366}. Best is trial 7 with value: 0.9647058823529412.\n"
     ]
    },
    {
     "name": "stdout",
     "output_type": "stream",
     "text": [
      "Training until validation scores don't improve for 100 rounds\n",
      "Early stopping, best iteration is:\n",
      "[39]\tvalid_0's auc: 0.998098\n"
     ]
    },
    {
     "name": "stderr",
     "output_type": "stream",
     "text": [
      "[I 2025-07-05 21:42:17,693] Trial 29 finished with value: 0.9523809523809523 and parameters: {'learning_rate': 0.2614559573059055, 'num_leaves': 2138, 'max_depth': 9, 'min_child_samples': 55, 'subsample': 0.5674503208111924, 'colsample_bytree': 0.9524697521916953}. Best is trial 7 with value: 0.9647058823529412.\n"
     ]
    },
    {
     "name": "stdout",
     "output_type": "stream",
     "text": [
      "Training until validation scores don't improve for 100 rounds\n",
      "Early stopping, best iteration is:\n",
      "[71]\tvalid_0's auc: 0.99769\n"
     ]
    },
    {
     "name": "stderr",
     "output_type": "stream",
     "text": [
      "[I 2025-07-05 21:42:19,587] Trial 30 finished with value: 0.9647058823529412 and parameters: {'learning_rate': 0.2992936717509548, 'num_leaves': 1750, 'max_depth': 12, 'min_child_samples': 72, 'subsample': 0.8543437458926757, 'colsample_bytree': 0.8053736498288943}. Best is trial 7 with value: 0.9647058823529412.\n"
     ]
    },
    {
     "name": "stdout",
     "output_type": "stream",
     "text": [
      "Training until validation scores don't improve for 100 rounds\n"
     ]
    },
    {
     "name": "stderr",
     "output_type": "stream",
     "text": [
      "[I 2025-07-05 21:42:21,518] Trial 31 finished with value: 0.9534883720930233 and parameters: {'learning_rate': 0.24274112273498674, 'num_leaves': 1033, 'max_depth': 11, 'min_child_samples': 19, 'subsample': 0.7239020904719183, 'colsample_bytree': 0.7385988702917484}. Best is trial 7 with value: 0.9647058823529412.\n"
     ]
    },
    {
     "name": "stdout",
     "output_type": "stream",
     "text": [
      "Early stopping, best iteration is:\n",
      "[16]\tvalid_0's auc: 0.998302\n",
      "Training until validation scores don't improve for 100 rounds\n",
      "Early stopping, best iteration is:\n",
      "[18]\tvalid_0's auc: 0.998302\n"
     ]
    },
    {
     "name": "stderr",
     "output_type": "stream",
     "text": [
      "[I 2025-07-05 21:42:23,514] Trial 32 finished with value: 0.9647058823529412 and parameters: {'learning_rate': 0.24380322733148835, 'num_leaves': 1455, 'max_depth': 10, 'min_child_samples': 17, 'subsample': 0.7866419163424446, 'colsample_bytree': 0.6571944164916933}. Best is trial 7 with value: 0.9647058823529412.\n"
     ]
    },
    {
     "name": "stdout",
     "output_type": "stream",
     "text": [
      "Training until validation scores don't improve for 100 rounds\n",
      "Early stopping, best iteration is:\n",
      "[17]\tvalid_0's auc: 0.99803\n"
     ]
    },
    {
     "name": "stderr",
     "output_type": "stream",
     "text": [
      "[I 2025-07-05 21:42:25,704] Trial 33 finished with value: 0.9397590361445783 and parameters: {'learning_rate': 0.27572631873968784, 'num_leaves': 1079, 'max_depth': 13, 'min_child_samples': 5, 'subsample': 0.654297800478449, 'colsample_bytree': 0.7586063100336431}. Best is trial 7 with value: 0.9647058823529412.\n"
     ]
    },
    {
     "name": "stdout",
     "output_type": "stream",
     "text": [
      "Training until validation scores don't improve for 100 rounds\n"
     ]
    },
    {
     "name": "stderr",
     "output_type": "stream",
     "text": [
      "[I 2025-07-05 21:42:28,188] Trial 34 finished with value: 0.9382716049382716 and parameters: {'learning_rate': 0.11166616222947393, 'num_leaves': 548, 'max_depth': 11, 'min_child_samples': 34, 'subsample': 0.7040215384395291, 'colsample_bytree': 0.8510549209561489}. Best is trial 7 with value: 0.9647058823529412.\n"
     ]
    },
    {
     "name": "stdout",
     "output_type": "stream",
     "text": [
      "Early stopping, best iteration is:\n",
      "[11]\tvalid_0's auc: 0.998369\n",
      "Training until validation scores don't improve for 100 rounds\n",
      "Early stopping, best iteration is:\n",
      "[12]\tvalid_0's auc: 0.998166\n"
     ]
    },
    {
     "name": "stderr",
     "output_type": "stream",
     "text": [
      "[I 2025-07-05 21:42:30,532] Trial 35 finished with value: 0.9397590361445783 and parameters: {'learning_rate': 0.2050966977695905, 'num_leaves': 1218, 'max_depth': 10, 'min_child_samples': 13, 'subsample': 0.8289086016937657, 'colsample_bytree': 0.9262358689121787}. Best is trial 7 with value: 0.9647058823529412.\n"
     ]
    },
    {
     "name": "stdout",
     "output_type": "stream",
     "text": [
      "Training until validation scores don't improve for 100 rounds\n",
      "Early stopping, best iteration is:\n",
      "[33]\tvalid_0's auc: 0.998505\n"
     ]
    },
    {
     "name": "stderr",
     "output_type": "stream",
     "text": [
      "[I 2025-07-05 21:42:33,219] Trial 36 finished with value: 0.9411764705882353 and parameters: {'learning_rate': 0.1652613497658827, 'num_leaves': 1523, 'max_depth': 14, 'min_child_samples': 87, 'subsample': 0.7857787195802586, 'colsample_bytree': 0.8000529029795209}. Best is trial 7 with value: 0.9647058823529412.\n"
     ]
    },
    {
     "name": "stdout",
     "output_type": "stream",
     "text": [
      "Training until validation scores don't improve for 100 rounds\n"
     ]
    },
    {
     "name": "stderr",
     "output_type": "stream",
     "text": [
      "[I 2025-07-05 21:42:34,688] Trial 37 finished with value: 0.9523809523809523 and parameters: {'learning_rate': 0.20104907631313518, 'num_leaves': 947, 'max_depth': 9, 'min_child_samples': 43, 'subsample': 0.7590267477674737, 'colsample_bytree': 0.6192484446797765}. Best is trial 7 with value: 0.9647058823529412.\n"
     ]
    },
    {
     "name": "stdout",
     "output_type": "stream",
     "text": [
      "Early stopping, best iteration is:\n",
      "[14]\tvalid_0's auc: 0.997962\n",
      "Training until validation scores don't improve for 100 rounds\n"
     ]
    },
    {
     "name": "stderr",
     "output_type": "stream",
     "text": [
      "[I 2025-07-05 21:42:36,677] Trial 38 finished with value: 0.9397590361445783 and parameters: {'learning_rate': 0.1428942141058671, 'num_leaves': 843, 'max_depth': 7, 'min_child_samples': 83, 'subsample': 0.9909313486730564, 'colsample_bytree': 0.8865733273281082}. Best is trial 7 with value: 0.9647058823529412.\n"
     ]
    },
    {
     "name": "stdout",
     "output_type": "stream",
     "text": [
      "Early stopping, best iteration is:\n",
      "[32]\tvalid_0's auc: 0.998641\n",
      "Training until validation scores don't improve for 100 rounds\n"
     ]
    },
    {
     "name": "stderr",
     "output_type": "stream",
     "text": [
      "[I 2025-07-05 21:42:38,319] Trial 39 finished with value: 0.9397590361445783 and parameters: {'learning_rate': 0.27793877039612064, 'num_leaves': 650, 'max_depth': 11, 'min_child_samples': 61, 'subsample': 0.6115989006527659, 'colsample_bytree': 0.9091416657044236}. Best is trial 7 with value: 0.9647058823529412.\n"
     ]
    },
    {
     "name": "stdout",
     "output_type": "stream",
     "text": [
      "Early stopping, best iteration is:\n",
      "[21]\tvalid_0's auc: 0.997282\n"
     ]
    }
   ],
   "source": [
    "study_logreg_bert = optuna.create_study(direction='maximize')\n",
    "study_logreg_bert.optimize(obj_logreg, n_trials=10)\n",
    "\n",
    "study_rfc_bert = optuna.create_study(direction='maximize')\n",
    "study_rfc_bert.optimize(obj_rfc, n_trials=40)\n",
    "\n",
    "study_lgbmc_bert = optuna.create_study(direction='maximize')\n",
    "study_lgbmc_bert.optimize(obj_lgbmc, n_trials=40)"
   ]
  },
  {
   "cell_type": "code",
   "execution_count": 30,
   "id": "bfa4c0cb",
   "metadata": {},
   "outputs": [
    {
     "name": "stdout",
     "output_type": "stream",
     "text": [
      "Метрика f1 на модели LR: 0.9412\n",
      "Метрика f1 на модели RFC: 0.9762\n",
      "Метрика f1 на модели LGBMC: 0.9647\n"
     ]
    }
   ],
   "source": [
    "print(f'Метрика f1 на модели LR: {study_logreg_bert.best_value:.4f}')\n",
    "print(f'Метрика f1 на модели RFC: {study_rfc_bert.best_value:.4f}')\n",
    "print(f'Метрика f1 на модели LGBMC: {study_lgbmc_bert.best_value:.4f}')"
   ]
  },
  {
   "cell_type": "markdown",
   "id": "136fd265",
   "metadata": {},
   "source": [
    "Лучше всего на валидационной выборке показала себя модель Random Forest. Метрика f1 равна 0.9762."
   ]
  },
  {
   "cell_type": "markdown",
   "id": "cebb4257",
   "metadata": {},
   "source": [
    "## Предсказание на тестовой выборке"
   ]
  },
  {
   "cell_type": "code",
   "execution_count": 32,
   "id": "bb946959",
   "metadata": {},
   "outputs": [
    {
     "name": "stdout",
     "output_type": "stream",
     "text": [
      "Метрика f1 на тестовой выборке 0.9434\n"
     ]
    }
   ],
   "source": [
    "model_final = RandomForestClassifier(**study_rfc_bert.best_params).fit(X_train, y_train)\n",
    "\n",
    "test_preds = model_final.predict(X_test)\n",
    "\n",
    "f1_final = f1_score(y_test, test_preds, average='binary')\n",
    "print(f'Метрика f1 на тестовой выборке {f1_final:.4f}')"
   ]
  },
  {
   "cell_type": "markdown",
   "id": "db613374",
   "metadata": {},
   "source": [
    "Метрика f1 на тестовой выборке больше 0.7. Задачу можно считать выполненной. Метрика лучшей модели равна: 0.94"
   ]
  },
  {
   "cell_type": "markdown",
   "id": "63dc903f",
   "metadata": {},
   "source": [
    "## Вывод\n",
    "\n",
    "- Были загружены и обработаны данные\n",
    "- Текста преобразованы в эмбеддинги с помощью SentenceTransformer. Обучены три модели: LR, RFC, LGBMC. Метрика на валидационнной выборке неудовлетворительная.\n",
    "- Токенизировали и преобразовали данные с помощью модели BERT. Те же самые модели были обучены. Все три модели на валидационной выборке получили метрику выше 0.75. Лучше всего показала себя модель Random Forest.\n",
    "- Предсказана метрика на тестовой выборке с помощью модели Random Forest. F1 равно 0.94, что больше 0.75"
   ]
  }
 ],
 "metadata": {
  "kernelspec": {
   "display_name": "practicum",
   "language": "python",
   "name": "python3"
  },
  "language_info": {
   "codemirror_mode": {
    "name": "ipython",
    "version": 3
   },
   "file_extension": ".py",
   "mimetype": "text/x-python",
   "name": "python",
   "nbconvert_exporter": "python",
   "pygments_lexer": "ipython3",
   "version": "3.9.21"
  },
  "toc": {
   "base_numbering": 1,
   "nav_menu": {},
   "number_sections": true,
   "sideBar": true,
   "skip_h1_title": true,
   "title_cell": "Table of Contents",
   "title_sidebar": "Contents",
   "toc_cell": false,
   "toc_position": {},
   "toc_section_display": true,
   "toc_window_display": true
  }
 },
 "nbformat": 4,
 "nbformat_minor": 5
}
