{
 "cells": [
  {
   "cell_type": "markdown",
   "metadata": {},
   "source": [
    "**Заголовок** Определение стоимости автомобилей\n",
    "\n",
    "**Описание проекта:**<br>Сервис по продаже автомобилей с пробегом «Не бит, не крашен» разрабатывает приложение для привлечения новых клиентов. В нём можно быстро узнать рыночную стоимость своего автомобиля. В распоряжении исторические данные: технические характеристики, комплектации и цены автомобилей. Задача: построить модель для определения стоимости. \n",
    "\n",
    "Заказчику важны:\n",
    "\n",
    "- качество предсказания;\n",
    "- скорость предсказания;\n",
    "- время обучения.\n",
    "\n",
    "**Цель исследования:** Подготовить данные для предсказания. Обучить модели, определить наилучшую. Сделать предсказания на лучшей модели.\n",
    "\n",
    "**Ход исследования:**\n",
    "- Подготовка данных: загрузка и изучение общей информации из представленного датасета.\n",
    "- Предобработка данных: преобразование данных в нужные типы, работа с пропусками и дубликатами, добавление нужных столбцов. Работа с выбросами и аномалиями.\n",
    "- Обучение двух моделей: Линейной регресии и модели градиентного бустинга, а если быть точнее - LightGBM\n",
    "- Определение лучшей модели и предсказание на тестовой выборке.\n",
    "\n",
    "**Общий вывод:** резюмирование полученных результатов, формулировка ключевых выводов и рекомендаций."
   ]
  },
  {
   "cell_type": "code",
   "execution_count": 1,
   "metadata": {},
   "outputs": [
    {
     "name": "stdout",
     "output_type": "stream",
     "text": [
      "Note: you may need to restart the kernel to use updated packages.\n",
      "Note: you may need to restart the kernel to use updated packages.\n"
     ]
    }
   ],
   "source": [
    "%pip install scikit-learn -q -U \n",
    "%pip install lightgbm -q"
   ]
  },
  {
   "cell_type": "code",
   "execution_count": 2,
   "metadata": {},
   "outputs": [],
   "source": [
    "import pandas as pd\n",
    "import numpy as np\n",
    "import warnings\n",
    "import time\n",
    "\n",
    "from sklearn.model_selection import train_test_split\n",
    "\n",
    "from sklearn.pipeline import Pipeline\n",
    "from sklearn.compose import ColumnTransformer\n",
    "\n",
    "from sklearn.impute import SimpleImputer\n",
    "\n",
    "from sklearn.preprocessing import (\n",
    "    OneHotEncoder,\n",
    "    MinMaxScaler,\n",
    "    StandardScaler,\n",
    "    RobustScaler\n",
    ")\n",
    "\n",
    "from sklearn.model_selection import RandomizedSearchCV\n",
    "from sklearn.metrics import root_mean_squared_error\n",
    "\n",
    "from lightgbm import LGBMRegressor\n",
    "from sklearn.linear_model import LinearRegression"
   ]
  },
  {
   "cell_type": "code",
   "execution_count": 3,
   "metadata": {},
   "outputs": [],
   "source": [
    "warnings.filterwarnings('ignore')"
   ]
  },
  {
   "cell_type": "code",
   "execution_count": 4,
   "metadata": {},
   "outputs": [],
   "source": [
    "TEST_SIZE = 0.25\n",
    "RANDOM_STATE = 42"
   ]
  },
  {
   "cell_type": "markdown",
   "metadata": {},
   "source": [
    "## Подготовка данных"
   ]
  },
  {
   "cell_type": "code",
   "execution_count": 5,
   "metadata": {
    "scrolled": true
   },
   "outputs": [
    {
     "name": "stdout",
     "output_type": "stream",
     "text": [
      "<class 'pandas.core.frame.DataFrame'>\n",
      "RangeIndex: 354369 entries, 0 to 354368\n",
      "Data columns (total 16 columns):\n",
      " #   Column             Non-Null Count   Dtype \n",
      "---  ------             --------------   ----- \n",
      " 0   DateCrawled        354369 non-null  object\n",
      " 1   Price              354369 non-null  int64 \n",
      " 2   VehicleType        316879 non-null  object\n",
      " 3   RegistrationYear   354369 non-null  int64 \n",
      " 4   Gearbox            334536 non-null  object\n",
      " 5   Power              354369 non-null  int64 \n",
      " 6   Model              334664 non-null  object\n",
      " 7   Kilometer          354369 non-null  int64 \n",
      " 8   RegistrationMonth  354369 non-null  int64 \n",
      " 9   FuelType           321474 non-null  object\n",
      " 10  Brand              354369 non-null  object\n",
      " 11  Repaired           283215 non-null  object\n",
      " 12  DateCreated        354369 non-null  object\n",
      " 13  NumberOfPictures   354369 non-null  int64 \n",
      " 14  PostalCode         354369 non-null  int64 \n",
      " 15  LastSeen           354369 non-null  object\n",
      "dtypes: int64(7), object(9)\n",
      "memory usage: 43.3+ MB\n"
     ]
    },
    {
     "data": {
      "text/html": [
       "<div>\n",
       "<style scoped>\n",
       "    .dataframe tbody tr th:only-of-type {\n",
       "        vertical-align: middle;\n",
       "    }\n",
       "\n",
       "    .dataframe tbody tr th {\n",
       "        vertical-align: top;\n",
       "    }\n",
       "\n",
       "    .dataframe thead th {\n",
       "        text-align: right;\n",
       "    }\n",
       "</style>\n",
       "<table border=\"1\" class=\"dataframe\">\n",
       "  <thead>\n",
       "    <tr style=\"text-align: right;\">\n",
       "      <th></th>\n",
       "      <th>DateCrawled</th>\n",
       "      <th>Price</th>\n",
       "      <th>VehicleType</th>\n",
       "      <th>RegistrationYear</th>\n",
       "      <th>Gearbox</th>\n",
       "      <th>Power</th>\n",
       "      <th>Model</th>\n",
       "      <th>Kilometer</th>\n",
       "      <th>RegistrationMonth</th>\n",
       "      <th>FuelType</th>\n",
       "      <th>Brand</th>\n",
       "      <th>Repaired</th>\n",
       "      <th>DateCreated</th>\n",
       "      <th>NumberOfPictures</th>\n",
       "      <th>PostalCode</th>\n",
       "      <th>LastSeen</th>\n",
       "    </tr>\n",
       "  </thead>\n",
       "  <tbody>\n",
       "    <tr>\n",
       "      <th>0</th>\n",
       "      <td>2016-03-24 11:52:17</td>\n",
       "      <td>480</td>\n",
       "      <td>NaN</td>\n",
       "      <td>1993</td>\n",
       "      <td>manual</td>\n",
       "      <td>0</td>\n",
       "      <td>golf</td>\n",
       "      <td>150000</td>\n",
       "      <td>0</td>\n",
       "      <td>petrol</td>\n",
       "      <td>volkswagen</td>\n",
       "      <td>NaN</td>\n",
       "      <td>2016-03-24 00:00:00</td>\n",
       "      <td>0</td>\n",
       "      <td>70435</td>\n",
       "      <td>2016-04-07 03:16:57</td>\n",
       "    </tr>\n",
       "    <tr>\n",
       "      <th>1</th>\n",
       "      <td>2016-03-24 10:58:45</td>\n",
       "      <td>18300</td>\n",
       "      <td>coupe</td>\n",
       "      <td>2011</td>\n",
       "      <td>manual</td>\n",
       "      <td>190</td>\n",
       "      <td>NaN</td>\n",
       "      <td>125000</td>\n",
       "      <td>5</td>\n",
       "      <td>gasoline</td>\n",
       "      <td>audi</td>\n",
       "      <td>yes</td>\n",
       "      <td>2016-03-24 00:00:00</td>\n",
       "      <td>0</td>\n",
       "      <td>66954</td>\n",
       "      <td>2016-04-07 01:46:50</td>\n",
       "    </tr>\n",
       "    <tr>\n",
       "      <th>2</th>\n",
       "      <td>2016-03-14 12:52:21</td>\n",
       "      <td>9800</td>\n",
       "      <td>suv</td>\n",
       "      <td>2004</td>\n",
       "      <td>auto</td>\n",
       "      <td>163</td>\n",
       "      <td>grand</td>\n",
       "      <td>125000</td>\n",
       "      <td>8</td>\n",
       "      <td>gasoline</td>\n",
       "      <td>jeep</td>\n",
       "      <td>NaN</td>\n",
       "      <td>2016-03-14 00:00:00</td>\n",
       "      <td>0</td>\n",
       "      <td>90480</td>\n",
       "      <td>2016-04-05 12:47:46</td>\n",
       "    </tr>\n",
       "    <tr>\n",
       "      <th>3</th>\n",
       "      <td>2016-03-17 16:54:04</td>\n",
       "      <td>1500</td>\n",
       "      <td>small</td>\n",
       "      <td>2001</td>\n",
       "      <td>manual</td>\n",
       "      <td>75</td>\n",
       "      <td>golf</td>\n",
       "      <td>150000</td>\n",
       "      <td>6</td>\n",
       "      <td>petrol</td>\n",
       "      <td>volkswagen</td>\n",
       "      <td>no</td>\n",
       "      <td>2016-03-17 00:00:00</td>\n",
       "      <td>0</td>\n",
       "      <td>91074</td>\n",
       "      <td>2016-03-17 17:40:17</td>\n",
       "    </tr>\n",
       "    <tr>\n",
       "      <th>4</th>\n",
       "      <td>2016-03-31 17:25:20</td>\n",
       "      <td>3600</td>\n",
       "      <td>small</td>\n",
       "      <td>2008</td>\n",
       "      <td>manual</td>\n",
       "      <td>69</td>\n",
       "      <td>fabia</td>\n",
       "      <td>90000</td>\n",
       "      <td>7</td>\n",
       "      <td>gasoline</td>\n",
       "      <td>skoda</td>\n",
       "      <td>no</td>\n",
       "      <td>2016-03-31 00:00:00</td>\n",
       "      <td>0</td>\n",
       "      <td>60437</td>\n",
       "      <td>2016-04-06 10:17:21</td>\n",
       "    </tr>\n",
       "  </tbody>\n",
       "</table>\n",
       "</div>"
      ],
      "text/plain": [
       "           DateCrawled  Price VehicleType  RegistrationYear Gearbox  Power  \\\n",
       "0  2016-03-24 11:52:17    480         NaN              1993  manual      0   \n",
       "1  2016-03-24 10:58:45  18300       coupe              2011  manual    190   \n",
       "2  2016-03-14 12:52:21   9800         suv              2004    auto    163   \n",
       "3  2016-03-17 16:54:04   1500       small              2001  manual     75   \n",
       "4  2016-03-31 17:25:20   3600       small              2008  manual     69   \n",
       "\n",
       "   Model  Kilometer  RegistrationMonth  FuelType       Brand Repaired  \\\n",
       "0   golf     150000                  0    petrol  volkswagen      NaN   \n",
       "1    NaN     125000                  5  gasoline        audi      yes   \n",
       "2  grand     125000                  8  gasoline        jeep      NaN   \n",
       "3   golf     150000                  6    petrol  volkswagen       no   \n",
       "4  fabia      90000                  7  gasoline       skoda       no   \n",
       "\n",
       "           DateCreated  NumberOfPictures  PostalCode             LastSeen  \n",
       "0  2016-03-24 00:00:00                 0       70435  2016-04-07 03:16:57  \n",
       "1  2016-03-24 00:00:00                 0       66954  2016-04-07 01:46:50  \n",
       "2  2016-03-14 00:00:00                 0       90480  2016-04-05 12:47:46  \n",
       "3  2016-03-17 00:00:00                 0       91074  2016-03-17 17:40:17  \n",
       "4  2016-03-31 00:00:00                 0       60437  2016-04-06 10:17:21  "
      ]
     },
     "metadata": {},
     "output_type": "display_data"
    }
   ],
   "source": [
    "df_autos = pd.read_csv(r'../datasets/autos.csv')\n",
    "df_autos.info()\n",
    "display(df_autos.head())"
   ]
  },
  {
   "cell_type": "code",
   "execution_count": 6,
   "metadata": {},
   "outputs": [],
   "source": [
    "df_autos.DateCrawled = pd.to_datetime(df_autos.DateCrawled, format='%Y-%m-%d %H:%M:%S')\n",
    "df_autos.DateCreated = pd.to_datetime(df_autos.DateCreated, format='%Y-%m-%d %H:%M:%S')\n",
    "df_autos.LastSeen = pd.to_datetime(df_autos.LastSeen, format='%Y-%m-%d %H:%M:%S')"
   ]
  },
  {
   "cell_type": "code",
   "execution_count": 7,
   "metadata": {},
   "outputs": [],
   "source": [
    "df_autos.columns = df_autos.columns.str.replace(r'(?<!^)(?=[A-Z])', '_', regex=True).str.lower()"
   ]
  },
  {
   "cell_type": "code",
   "execution_count": 8,
   "metadata": {
    "scrolled": true
   },
   "outputs": [
    {
     "name": "stdout",
     "output_type": "stream",
     "text": [
      "<class 'pandas.core.frame.DataFrame'>\n",
      "RangeIndex: 354369 entries, 0 to 354368\n",
      "Data columns (total 16 columns):\n",
      " #   Column              Non-Null Count   Dtype         \n",
      "---  ------              --------------   -----         \n",
      " 0   date_crawled        354369 non-null  datetime64[ns]\n",
      " 1   price               354369 non-null  int64         \n",
      " 2   vehicle_type        316879 non-null  object        \n",
      " 3   registration_year   354369 non-null  int64         \n",
      " 4   gearbox             334536 non-null  object        \n",
      " 5   power               354369 non-null  int64         \n",
      " 6   model               334664 non-null  object        \n",
      " 7   kilometer           354369 non-null  int64         \n",
      " 8   registration_month  354369 non-null  int64         \n",
      " 9   fuel_type           321474 non-null  object        \n",
      " 10  brand               354369 non-null  object        \n",
      " 11  repaired            283215 non-null  object        \n",
      " 12  date_created        354369 non-null  datetime64[ns]\n",
      " 13  number_of_pictures  354369 non-null  int64         \n",
      " 14  postal_code         354369 non-null  int64         \n",
      " 15  last_seen           354369 non-null  datetime64[ns]\n",
      "dtypes: datetime64[ns](3), int64(7), object(6)\n",
      "memory usage: 43.3+ MB\n"
     ]
    },
    {
     "data": {
      "text/html": [
       "<div>\n",
       "<style scoped>\n",
       "    .dataframe tbody tr th:only-of-type {\n",
       "        vertical-align: middle;\n",
       "    }\n",
       "\n",
       "    .dataframe tbody tr th {\n",
       "        vertical-align: top;\n",
       "    }\n",
       "\n",
       "    .dataframe thead th {\n",
       "        text-align: right;\n",
       "    }\n",
       "</style>\n",
       "<table border=\"1\" class=\"dataframe\">\n",
       "  <thead>\n",
       "    <tr style=\"text-align: right;\">\n",
       "      <th></th>\n",
       "      <th>date_crawled</th>\n",
       "      <th>price</th>\n",
       "      <th>vehicle_type</th>\n",
       "      <th>registration_year</th>\n",
       "      <th>gearbox</th>\n",
       "      <th>power</th>\n",
       "      <th>model</th>\n",
       "      <th>kilometer</th>\n",
       "      <th>registration_month</th>\n",
       "      <th>fuel_type</th>\n",
       "      <th>brand</th>\n",
       "      <th>repaired</th>\n",
       "      <th>date_created</th>\n",
       "      <th>number_of_pictures</th>\n",
       "      <th>postal_code</th>\n",
       "      <th>last_seen</th>\n",
       "    </tr>\n",
       "  </thead>\n",
       "  <tbody>\n",
       "    <tr>\n",
       "      <th>0</th>\n",
       "      <td>2016-03-24 11:52:17</td>\n",
       "      <td>480</td>\n",
       "      <td>NaN</td>\n",
       "      <td>1993</td>\n",
       "      <td>manual</td>\n",
       "      <td>0</td>\n",
       "      <td>golf</td>\n",
       "      <td>150000</td>\n",
       "      <td>0</td>\n",
       "      <td>petrol</td>\n",
       "      <td>volkswagen</td>\n",
       "      <td>NaN</td>\n",
       "      <td>2016-03-24</td>\n",
       "      <td>0</td>\n",
       "      <td>70435</td>\n",
       "      <td>2016-04-07 03:16:57</td>\n",
       "    </tr>\n",
       "    <tr>\n",
       "      <th>1</th>\n",
       "      <td>2016-03-24 10:58:45</td>\n",
       "      <td>18300</td>\n",
       "      <td>coupe</td>\n",
       "      <td>2011</td>\n",
       "      <td>manual</td>\n",
       "      <td>190</td>\n",
       "      <td>NaN</td>\n",
       "      <td>125000</td>\n",
       "      <td>5</td>\n",
       "      <td>gasoline</td>\n",
       "      <td>audi</td>\n",
       "      <td>yes</td>\n",
       "      <td>2016-03-24</td>\n",
       "      <td>0</td>\n",
       "      <td>66954</td>\n",
       "      <td>2016-04-07 01:46:50</td>\n",
       "    </tr>\n",
       "    <tr>\n",
       "      <th>2</th>\n",
       "      <td>2016-03-14 12:52:21</td>\n",
       "      <td>9800</td>\n",
       "      <td>suv</td>\n",
       "      <td>2004</td>\n",
       "      <td>auto</td>\n",
       "      <td>163</td>\n",
       "      <td>grand</td>\n",
       "      <td>125000</td>\n",
       "      <td>8</td>\n",
       "      <td>gasoline</td>\n",
       "      <td>jeep</td>\n",
       "      <td>NaN</td>\n",
       "      <td>2016-03-14</td>\n",
       "      <td>0</td>\n",
       "      <td>90480</td>\n",
       "      <td>2016-04-05 12:47:46</td>\n",
       "    </tr>\n",
       "    <tr>\n",
       "      <th>3</th>\n",
       "      <td>2016-03-17 16:54:04</td>\n",
       "      <td>1500</td>\n",
       "      <td>small</td>\n",
       "      <td>2001</td>\n",
       "      <td>manual</td>\n",
       "      <td>75</td>\n",
       "      <td>golf</td>\n",
       "      <td>150000</td>\n",
       "      <td>6</td>\n",
       "      <td>petrol</td>\n",
       "      <td>volkswagen</td>\n",
       "      <td>no</td>\n",
       "      <td>2016-03-17</td>\n",
       "      <td>0</td>\n",
       "      <td>91074</td>\n",
       "      <td>2016-03-17 17:40:17</td>\n",
       "    </tr>\n",
       "    <tr>\n",
       "      <th>4</th>\n",
       "      <td>2016-03-31 17:25:20</td>\n",
       "      <td>3600</td>\n",
       "      <td>small</td>\n",
       "      <td>2008</td>\n",
       "      <td>manual</td>\n",
       "      <td>69</td>\n",
       "      <td>fabia</td>\n",
       "      <td>90000</td>\n",
       "      <td>7</td>\n",
       "      <td>gasoline</td>\n",
       "      <td>skoda</td>\n",
       "      <td>no</td>\n",
       "      <td>2016-03-31</td>\n",
       "      <td>0</td>\n",
       "      <td>60437</td>\n",
       "      <td>2016-04-06 10:17:21</td>\n",
       "    </tr>\n",
       "  </tbody>\n",
       "</table>\n",
       "</div>"
      ],
      "text/plain": [
       "         date_crawled  price vehicle_type  registration_year gearbox  power  \\\n",
       "0 2016-03-24 11:52:17    480          NaN               1993  manual      0   \n",
       "1 2016-03-24 10:58:45  18300        coupe               2011  manual    190   \n",
       "2 2016-03-14 12:52:21   9800          suv               2004    auto    163   \n",
       "3 2016-03-17 16:54:04   1500        small               2001  manual     75   \n",
       "4 2016-03-31 17:25:20   3600        small               2008  manual     69   \n",
       "\n",
       "   model  kilometer  registration_month fuel_type       brand repaired  \\\n",
       "0   golf     150000                   0    petrol  volkswagen      NaN   \n",
       "1    NaN     125000                   5  gasoline        audi      yes   \n",
       "2  grand     125000                   8  gasoline        jeep      NaN   \n",
       "3   golf     150000                   6    petrol  volkswagen       no   \n",
       "4  fabia      90000                   7  gasoline       skoda       no   \n",
       "\n",
       "  date_created  number_of_pictures  postal_code           last_seen  \n",
       "0   2016-03-24                   0        70435 2016-04-07 03:16:57  \n",
       "1   2016-03-24                   0        66954 2016-04-07 01:46:50  \n",
       "2   2016-03-14                   0        90480 2016-04-05 12:47:46  \n",
       "3   2016-03-17                   0        91074 2016-03-17 17:40:17  \n",
       "4   2016-03-31                   0        60437 2016-04-06 10:17:21  "
      ]
     },
     "metadata": {},
     "output_type": "display_data"
    }
   ],
   "source": [
    "df_autos.info()\n",
    "display(df_autos.head())"
   ]
  },
  {
   "cell_type": "code",
   "execution_count": 9,
   "metadata": {},
   "outputs": [
    {
     "data": {
      "text/html": [
       "<div>\n",
       "<style scoped>\n",
       "    .dataframe tbody tr th:only-of-type {\n",
       "        vertical-align: middle;\n",
       "    }\n",
       "\n",
       "    .dataframe tbody tr th {\n",
       "        vertical-align: top;\n",
       "    }\n",
       "\n",
       "    .dataframe thead th {\n",
       "        text-align: right;\n",
       "    }\n",
       "</style>\n",
       "<table border=\"1\" class=\"dataframe\">\n",
       "  <thead>\n",
       "    <tr style=\"text-align: right;\">\n",
       "      <th></th>\n",
       "      <th>price</th>\n",
       "      <th>registration_year</th>\n",
       "      <th>power</th>\n",
       "      <th>kilometer</th>\n",
       "      <th>registration_month</th>\n",
       "      <th>number_of_pictures</th>\n",
       "      <th>postal_code</th>\n",
       "    </tr>\n",
       "  </thead>\n",
       "  <tbody>\n",
       "    <tr>\n",
       "      <th>count</th>\n",
       "      <td>354369.000000</td>\n",
       "      <td>354369.000000</td>\n",
       "      <td>354369.000000</td>\n",
       "      <td>354369.000000</td>\n",
       "      <td>354369.000000</td>\n",
       "      <td>354369.0</td>\n",
       "      <td>354369.000000</td>\n",
       "    </tr>\n",
       "    <tr>\n",
       "      <th>mean</th>\n",
       "      <td>4416.656776</td>\n",
       "      <td>2004.234448</td>\n",
       "      <td>110.094337</td>\n",
       "      <td>128211.172535</td>\n",
       "      <td>5.714645</td>\n",
       "      <td>0.0</td>\n",
       "      <td>50508.689087</td>\n",
       "    </tr>\n",
       "    <tr>\n",
       "      <th>std</th>\n",
       "      <td>4514.158514</td>\n",
       "      <td>90.227958</td>\n",
       "      <td>189.850405</td>\n",
       "      <td>37905.341530</td>\n",
       "      <td>3.726421</td>\n",
       "      <td>0.0</td>\n",
       "      <td>25783.096248</td>\n",
       "    </tr>\n",
       "    <tr>\n",
       "      <th>min</th>\n",
       "      <td>0.000000</td>\n",
       "      <td>1000.000000</td>\n",
       "      <td>0.000000</td>\n",
       "      <td>5000.000000</td>\n",
       "      <td>0.000000</td>\n",
       "      <td>0.0</td>\n",
       "      <td>1067.000000</td>\n",
       "    </tr>\n",
       "    <tr>\n",
       "      <th>25%</th>\n",
       "      <td>1050.000000</td>\n",
       "      <td>1999.000000</td>\n",
       "      <td>69.000000</td>\n",
       "      <td>125000.000000</td>\n",
       "      <td>3.000000</td>\n",
       "      <td>0.0</td>\n",
       "      <td>30165.000000</td>\n",
       "    </tr>\n",
       "    <tr>\n",
       "      <th>50%</th>\n",
       "      <td>2700.000000</td>\n",
       "      <td>2003.000000</td>\n",
       "      <td>105.000000</td>\n",
       "      <td>150000.000000</td>\n",
       "      <td>6.000000</td>\n",
       "      <td>0.0</td>\n",
       "      <td>49413.000000</td>\n",
       "    </tr>\n",
       "    <tr>\n",
       "      <th>75%</th>\n",
       "      <td>6400.000000</td>\n",
       "      <td>2008.000000</td>\n",
       "      <td>143.000000</td>\n",
       "      <td>150000.000000</td>\n",
       "      <td>9.000000</td>\n",
       "      <td>0.0</td>\n",
       "      <td>71083.000000</td>\n",
       "    </tr>\n",
       "    <tr>\n",
       "      <th>max</th>\n",
       "      <td>20000.000000</td>\n",
       "      <td>9999.000000</td>\n",
       "      <td>20000.000000</td>\n",
       "      <td>150000.000000</td>\n",
       "      <td>12.000000</td>\n",
       "      <td>0.0</td>\n",
       "      <td>99998.000000</td>\n",
       "    </tr>\n",
       "  </tbody>\n",
       "</table>\n",
       "</div>"
      ],
      "text/plain": [
       "               price  registration_year          power      kilometer  \\\n",
       "count  354369.000000      354369.000000  354369.000000  354369.000000   \n",
       "mean     4416.656776        2004.234448     110.094337  128211.172535   \n",
       "std      4514.158514          90.227958     189.850405   37905.341530   \n",
       "min         0.000000        1000.000000       0.000000    5000.000000   \n",
       "25%      1050.000000        1999.000000      69.000000  125000.000000   \n",
       "50%      2700.000000        2003.000000     105.000000  150000.000000   \n",
       "75%      6400.000000        2008.000000     143.000000  150000.000000   \n",
       "max     20000.000000        9999.000000   20000.000000  150000.000000   \n",
       "\n",
       "       registration_month  number_of_pictures    postal_code  \n",
       "count       354369.000000            354369.0  354369.000000  \n",
       "mean             5.714645                 0.0   50508.689087  \n",
       "std              3.726421                 0.0   25783.096248  \n",
       "min              0.000000                 0.0    1067.000000  \n",
       "25%              3.000000                 0.0   30165.000000  \n",
       "50%              6.000000                 0.0   49413.000000  \n",
       "75%              9.000000                 0.0   71083.000000  \n",
       "max             12.000000                 0.0   99998.000000  "
      ]
     },
     "execution_count": 9,
     "metadata": {},
     "output_type": "execute_result"
    }
   ],
   "source": [
    "df_autos.describe()"
   ]
  },
  {
   "cell_type": "code",
   "execution_count": 10,
   "metadata": {},
   "outputs": [],
   "source": [
    "df_autos = df_autos.drop('number_of_pictures', axis=1)"
   ]
  },
  {
   "cell_type": "markdown",
   "metadata": {},
   "source": [
    "Избавляемся от признака \"количество картинок\", так как он неинформативен. Во всех строках значение 0."
   ]
  },
  {
   "cell_type": "code",
   "execution_count": 11,
   "metadata": {},
   "outputs": [],
   "source": [
    "df_autos = df_autos[df_autos.price >= 500]\n",
    "df_autos = df_autos[(df_autos.power >= 20) & (df_autos.power <= 500)]\n",
    "df_autos = df_autos[(df_autos.registration_year >= 1980) & (df_autos.registration_year <= 2016)]\n",
    "df_autos = df_autos[df_autos.registration_month.isin(range(1,13))]"
   ]
  },
  {
   "cell_type": "code",
   "execution_count": 12,
   "metadata": {},
   "outputs": [],
   "source": [
    "max_date_crawled = df_autos.date_crawled.max()\n",
    "df_autos = df_autos[\n",
    "    (df_autos.registration_year < max_date_crawled.year) | \n",
    "    (\n",
    "        (df_autos.registration_year == max_date_crawled.year) & \n",
    "        (df_autos.registration_month <= max_date_crawled.month)\n",
    "    )\n",
    "]"
   ]
  },
  {
   "cell_type": "markdown",
   "metadata": {},
   "source": [
    "Отбираем данные так, чтобы дата регистрации автомобиля не была больше максимальной даты скачивания анкеты из базы."
   ]
  },
  {
   "cell_type": "code",
   "execution_count": 13,
   "metadata": {},
   "outputs": [
    {
     "data": {
      "text/html": [
       "<div>\n",
       "<style scoped>\n",
       "    .dataframe tbody tr th:only-of-type {\n",
       "        vertical-align: middle;\n",
       "    }\n",
       "\n",
       "    .dataframe tbody tr th {\n",
       "        vertical-align: top;\n",
       "    }\n",
       "\n",
       "    .dataframe thead th {\n",
       "        text-align: right;\n",
       "    }\n",
       "</style>\n",
       "<table border=\"1\" class=\"dataframe\">\n",
       "  <thead>\n",
       "    <tr style=\"text-align: right;\">\n",
       "      <th></th>\n",
       "      <th>price</th>\n",
       "      <th>registration_year</th>\n",
       "      <th>power</th>\n",
       "      <th>kilometer</th>\n",
       "      <th>registration_month</th>\n",
       "      <th>postal_code</th>\n",
       "    </tr>\n",
       "  </thead>\n",
       "  <tbody>\n",
       "    <tr>\n",
       "      <th>count</th>\n",
       "      <td>260137.000000</td>\n",
       "      <td>260137.000000</td>\n",
       "      <td>260137.000000</td>\n",
       "      <td>260137.000000</td>\n",
       "      <td>260137.000000</td>\n",
       "      <td>260137.000000</td>\n",
       "    </tr>\n",
       "    <tr>\n",
       "      <th>mean</th>\n",
       "      <td>5248.962170</td>\n",
       "      <td>2003.314450</td>\n",
       "      <td>123.642692</td>\n",
       "      <td>127537.028566</td>\n",
       "      <td>6.381076</td>\n",
       "      <td>51600.800851</td>\n",
       "    </tr>\n",
       "    <tr>\n",
       "      <th>std</th>\n",
       "      <td>4634.393844</td>\n",
       "      <td>5.599016</td>\n",
       "      <td>53.400955</td>\n",
       "      <td>36793.346468</td>\n",
       "      <td>3.352100</td>\n",
       "      <td>25709.387199</td>\n",
       "    </tr>\n",
       "    <tr>\n",
       "      <th>min</th>\n",
       "      <td>500.000000</td>\n",
       "      <td>1980.000000</td>\n",
       "      <td>20.000000</td>\n",
       "      <td>5000.000000</td>\n",
       "      <td>1.000000</td>\n",
       "      <td>1067.000000</td>\n",
       "    </tr>\n",
       "    <tr>\n",
       "      <th>25%</th>\n",
       "      <td>1600.000000</td>\n",
       "      <td>2000.000000</td>\n",
       "      <td>82.000000</td>\n",
       "      <td>125000.000000</td>\n",
       "      <td>3.000000</td>\n",
       "      <td>31224.000000</td>\n",
       "    </tr>\n",
       "    <tr>\n",
       "      <th>50%</th>\n",
       "      <td>3600.000000</td>\n",
       "      <td>2004.000000</td>\n",
       "      <td>116.000000</td>\n",
       "      <td>150000.000000</td>\n",
       "      <td>6.000000</td>\n",
       "      <td>50858.000000</td>\n",
       "    </tr>\n",
       "    <tr>\n",
       "      <th>75%</th>\n",
       "      <td>7500.000000</td>\n",
       "      <td>2007.000000</td>\n",
       "      <td>150.000000</td>\n",
       "      <td>150000.000000</td>\n",
       "      <td>9.000000</td>\n",
       "      <td>72336.000000</td>\n",
       "    </tr>\n",
       "    <tr>\n",
       "      <th>max</th>\n",
       "      <td>20000.000000</td>\n",
       "      <td>2016.000000</td>\n",
       "      <td>500.000000</td>\n",
       "      <td>150000.000000</td>\n",
       "      <td>12.000000</td>\n",
       "      <td>99998.000000</td>\n",
       "    </tr>\n",
       "  </tbody>\n",
       "</table>\n",
       "</div>"
      ],
      "text/plain": [
       "               price  registration_year          power      kilometer  \\\n",
       "count  260137.000000      260137.000000  260137.000000  260137.000000   \n",
       "mean     5248.962170        2003.314450     123.642692  127537.028566   \n",
       "std      4634.393844           5.599016      53.400955   36793.346468   \n",
       "min       500.000000        1980.000000      20.000000    5000.000000   \n",
       "25%      1600.000000        2000.000000      82.000000  125000.000000   \n",
       "50%      3600.000000        2004.000000     116.000000  150000.000000   \n",
       "75%      7500.000000        2007.000000     150.000000  150000.000000   \n",
       "max     20000.000000        2016.000000     500.000000  150000.000000   \n",
       "\n",
       "       registration_month    postal_code  \n",
       "count       260137.000000  260137.000000  \n",
       "mean             6.381076   51600.800851  \n",
       "std              3.352100   25709.387199  \n",
       "min              1.000000    1067.000000  \n",
       "25%              3.000000   31224.000000  \n",
       "50%              6.000000   50858.000000  \n",
       "75%              9.000000   72336.000000  \n",
       "max             12.000000   99998.000000  "
      ]
     },
     "execution_count": 13,
     "metadata": {},
     "output_type": "execute_result"
    }
   ],
   "source": [
    "df_autos.describe()"
   ]
  },
  {
   "cell_type": "markdown",
   "metadata": {},
   "source": [
    "Избавляемся от выбросов и аномалий."
   ]
  },
  {
   "cell_type": "code",
   "execution_count": 14,
   "metadata": {},
   "outputs": [
    {
     "name": "stdout",
     "output_type": "stream",
     "text": [
      "Количество дубликатов:  4\n",
      "Количество дубликатов:  0\n"
     ]
    }
   ],
   "source": [
    "print('Количество дубликатов: ', df_autos.duplicated().sum())\n",
    "df_autos = df_autos.drop_duplicates()\n",
    "print('Количество дубликатов: ', df_autos.duplicated().sum())"
   ]
  },
  {
   "cell_type": "code",
   "execution_count": 15,
   "metadata": {},
   "outputs": [
    {
     "data": {
      "text/html": [
       "<style  type=\"text/css\" >\n",
       "#T_a20a5_row0_col0,#T_a20a5_row1_col0,#T_a20a5_row3_col0,#T_a20a5_row5_col0,#T_a20a5_row7_col0,#T_a20a5_row8_col0,#T_a20a5_row10_col0,#T_a20a5_row12_col0,#T_a20a5_row13_col0,#T_a20a5_row14_col0{\n",
       "            background-color:  #3b4cc0;\n",
       "            color:  #f1f1f1;\n",
       "        }#T_a20a5_row2_col0,#T_a20a5_row4_col0{\n",
       "            background-color:  #5d7ce6;\n",
       "            color:  #000000;\n",
       "        }#T_a20a5_row6_col0{\n",
       "            background-color:  #8fb1fe;\n",
       "            color:  #000000;\n",
       "        }#T_a20a5_row9_col0{\n",
       "            background-color:  #98b9ff;\n",
       "            color:  #000000;\n",
       "        }#T_a20a5_row11_col0{\n",
       "            background-color:  #b40426;\n",
       "            color:  #f1f1f1;\n",
       "        }</style><table id=\"T_a20a5_\" ><thead>    <tr>        <th class=\"blank level0\" ></th>        <th class=\"col_heading level0 col0\" >0</th>    </tr></thead><tbody>\n",
       "                <tr>\n",
       "                        <th id=\"T_a20a5_level0_row0\" class=\"row_heading level0 row0\" >date_crawled</th>\n",
       "                        <td id=\"T_a20a5_row0_col0\" class=\"data row0 col0\" >0.000000</td>\n",
       "            </tr>\n",
       "            <tr>\n",
       "                        <th id=\"T_a20a5_level0_row1\" class=\"row_heading level0 row1\" >price</th>\n",
       "                        <td id=\"T_a20a5_row1_col0\" class=\"data row1 col0\" >0.000000</td>\n",
       "            </tr>\n",
       "            <tr>\n",
       "                        <th id=\"T_a20a5_level0_row2\" class=\"row_heading level0 row2\" >vehicle_type</th>\n",
       "                        <td id=\"T_a20a5_row2_col0\" class=\"data row2 col0\" >1.200000</td>\n",
       "            </tr>\n",
       "            <tr>\n",
       "                        <th id=\"T_a20a5_level0_row3\" class=\"row_heading level0 row3\" >registration_year</th>\n",
       "                        <td id=\"T_a20a5_row3_col0\" class=\"data row3 col0\" >0.000000</td>\n",
       "            </tr>\n",
       "            <tr>\n",
       "                        <th id=\"T_a20a5_level0_row4\" class=\"row_heading level0 row4\" >gearbox</th>\n",
       "                        <td id=\"T_a20a5_row4_col0\" class=\"data row4 col0\" >1.200000</td>\n",
       "            </tr>\n",
       "            <tr>\n",
       "                        <th id=\"T_a20a5_level0_row5\" class=\"row_heading level0 row5\" >power</th>\n",
       "                        <td id=\"T_a20a5_row5_col0\" class=\"data row5 col0\" >0.000000</td>\n",
       "            </tr>\n",
       "            <tr>\n",
       "                        <th id=\"T_a20a5_level0_row6\" class=\"row_heading level0 row6\" >model</th>\n",
       "                        <td id=\"T_a20a5_row6_col0\" class=\"data row6 col0\" >2.800000</td>\n",
       "            </tr>\n",
       "            <tr>\n",
       "                        <th id=\"T_a20a5_level0_row7\" class=\"row_heading level0 row7\" >kilometer</th>\n",
       "                        <td id=\"T_a20a5_row7_col0\" class=\"data row7 col0\" >0.000000</td>\n",
       "            </tr>\n",
       "            <tr>\n",
       "                        <th id=\"T_a20a5_level0_row8\" class=\"row_heading level0 row8\" >registration_month</th>\n",
       "                        <td id=\"T_a20a5_row8_col0\" class=\"data row8 col0\" >0.000000</td>\n",
       "            </tr>\n",
       "            <tr>\n",
       "                        <th id=\"T_a20a5_level0_row9\" class=\"row_heading level0 row9\" >fuel_type</th>\n",
       "                        <td id=\"T_a20a5_row9_col0\" class=\"data row9 col0\" >3.100000</td>\n",
       "            </tr>\n",
       "            <tr>\n",
       "                        <th id=\"T_a20a5_level0_row10\" class=\"row_heading level0 row10\" >brand</th>\n",
       "                        <td id=\"T_a20a5_row10_col0\" class=\"data row10 col0\" >0.000000</td>\n",
       "            </tr>\n",
       "            <tr>\n",
       "                        <th id=\"T_a20a5_level0_row11\" class=\"row_heading level0 row11\" >repaired</th>\n",
       "                        <td id=\"T_a20a5_row11_col0\" class=\"data row11 col0\" >10.900000</td>\n",
       "            </tr>\n",
       "            <tr>\n",
       "                        <th id=\"T_a20a5_level0_row12\" class=\"row_heading level0 row12\" >date_created</th>\n",
       "                        <td id=\"T_a20a5_row12_col0\" class=\"data row12 col0\" >0.000000</td>\n",
       "            </tr>\n",
       "            <tr>\n",
       "                        <th id=\"T_a20a5_level0_row13\" class=\"row_heading level0 row13\" >postal_code</th>\n",
       "                        <td id=\"T_a20a5_row13_col0\" class=\"data row13 col0\" >0.000000</td>\n",
       "            </tr>\n",
       "            <tr>\n",
       "                        <th id=\"T_a20a5_level0_row14\" class=\"row_heading level0 row14\" >last_seen</th>\n",
       "                        <td id=\"T_a20a5_row14_col0\" class=\"data row14 col0\" >0.000000</td>\n",
       "            </tr>\n",
       "    </tbody></table>"
      ],
      "text/plain": [
       "<pandas.io.formats.style.Styler at 0x197db3de040>"
      ]
     },
     "execution_count": 15,
     "metadata": {},
     "output_type": "execute_result"
    }
   ],
   "source": [
    "pd.DataFrame(round(df_autos.isna().mean()*100,1)).style.background_gradient('coolwarm')"
   ]
  },
  {
   "cell_type": "code",
   "execution_count": 16,
   "metadata": {},
   "outputs": [],
   "source": [
    "df_autos = df_autos.dropna(subset=['model'])\n",
    "df_autos.vehicle_type = df_autos.groupby(['brand', 'model'])['vehicle_type'].transform(lambda x: x.mode()[0] if not x.mode().empty\\\n",
    "                                                                                     else None)\n",
    "df_autos = df_autos.fillna('unknown')"
   ]
  },
  {
   "cell_type": "code",
   "execution_count": 17,
   "metadata": {},
   "outputs": [
    {
     "data": {
      "text/html": [
       "<style  type=\"text/css\" >\n",
       "#T_e0771_row0_col0,#T_e0771_row1_col0,#T_e0771_row2_col0,#T_e0771_row3_col0,#T_e0771_row4_col0,#T_e0771_row5_col0,#T_e0771_row6_col0,#T_e0771_row7_col0,#T_e0771_row8_col0,#T_e0771_row9_col0,#T_e0771_row10_col0,#T_e0771_row11_col0,#T_e0771_row12_col0,#T_e0771_row13_col0,#T_e0771_row14_col0{\n",
       "            background-color:  #3b4cc0;\n",
       "            color:  #f1f1f1;\n",
       "        }</style><table id=\"T_e0771_\" ><thead>    <tr>        <th class=\"blank level0\" ></th>        <th class=\"col_heading level0 col0\" >0</th>    </tr></thead><tbody>\n",
       "                <tr>\n",
       "                        <th id=\"T_e0771_level0_row0\" class=\"row_heading level0 row0\" >date_crawled</th>\n",
       "                        <td id=\"T_e0771_row0_col0\" class=\"data row0 col0\" >0.000000</td>\n",
       "            </tr>\n",
       "            <tr>\n",
       "                        <th id=\"T_e0771_level0_row1\" class=\"row_heading level0 row1\" >price</th>\n",
       "                        <td id=\"T_e0771_row1_col0\" class=\"data row1 col0\" >0.000000</td>\n",
       "            </tr>\n",
       "            <tr>\n",
       "                        <th id=\"T_e0771_level0_row2\" class=\"row_heading level0 row2\" >vehicle_type</th>\n",
       "                        <td id=\"T_e0771_row2_col0\" class=\"data row2 col0\" >0.000000</td>\n",
       "            </tr>\n",
       "            <tr>\n",
       "                        <th id=\"T_e0771_level0_row3\" class=\"row_heading level0 row3\" >registration_year</th>\n",
       "                        <td id=\"T_e0771_row3_col0\" class=\"data row3 col0\" >0.000000</td>\n",
       "            </tr>\n",
       "            <tr>\n",
       "                        <th id=\"T_e0771_level0_row4\" class=\"row_heading level0 row4\" >gearbox</th>\n",
       "                        <td id=\"T_e0771_row4_col0\" class=\"data row4 col0\" >0.000000</td>\n",
       "            </tr>\n",
       "            <tr>\n",
       "                        <th id=\"T_e0771_level0_row5\" class=\"row_heading level0 row5\" >power</th>\n",
       "                        <td id=\"T_e0771_row5_col0\" class=\"data row5 col0\" >0.000000</td>\n",
       "            </tr>\n",
       "            <tr>\n",
       "                        <th id=\"T_e0771_level0_row6\" class=\"row_heading level0 row6\" >model</th>\n",
       "                        <td id=\"T_e0771_row6_col0\" class=\"data row6 col0\" >0.000000</td>\n",
       "            </tr>\n",
       "            <tr>\n",
       "                        <th id=\"T_e0771_level0_row7\" class=\"row_heading level0 row7\" >kilometer</th>\n",
       "                        <td id=\"T_e0771_row7_col0\" class=\"data row7 col0\" >0.000000</td>\n",
       "            </tr>\n",
       "            <tr>\n",
       "                        <th id=\"T_e0771_level0_row8\" class=\"row_heading level0 row8\" >registration_month</th>\n",
       "                        <td id=\"T_e0771_row8_col0\" class=\"data row8 col0\" >0.000000</td>\n",
       "            </tr>\n",
       "            <tr>\n",
       "                        <th id=\"T_e0771_level0_row9\" class=\"row_heading level0 row9\" >fuel_type</th>\n",
       "                        <td id=\"T_e0771_row9_col0\" class=\"data row9 col0\" >0.000000</td>\n",
       "            </tr>\n",
       "            <tr>\n",
       "                        <th id=\"T_e0771_level0_row10\" class=\"row_heading level0 row10\" >brand</th>\n",
       "                        <td id=\"T_e0771_row10_col0\" class=\"data row10 col0\" >0.000000</td>\n",
       "            </tr>\n",
       "            <tr>\n",
       "                        <th id=\"T_e0771_level0_row11\" class=\"row_heading level0 row11\" >repaired</th>\n",
       "                        <td id=\"T_e0771_row11_col0\" class=\"data row11 col0\" >0.000000</td>\n",
       "            </tr>\n",
       "            <tr>\n",
       "                        <th id=\"T_e0771_level0_row12\" class=\"row_heading level0 row12\" >date_created</th>\n",
       "                        <td id=\"T_e0771_row12_col0\" class=\"data row12 col0\" >0.000000</td>\n",
       "            </tr>\n",
       "            <tr>\n",
       "                        <th id=\"T_e0771_level0_row13\" class=\"row_heading level0 row13\" >postal_code</th>\n",
       "                        <td id=\"T_e0771_row13_col0\" class=\"data row13 col0\" >0.000000</td>\n",
       "            </tr>\n",
       "            <tr>\n",
       "                        <th id=\"T_e0771_level0_row14\" class=\"row_heading level0 row14\" >last_seen</th>\n",
       "                        <td id=\"T_e0771_row14_col0\" class=\"data row14 col0\" >0.000000</td>\n",
       "            </tr>\n",
       "    </tbody></table>"
      ],
      "text/plain": [
       "<pandas.io.formats.style.Styler at 0x197fc19ac40>"
      ]
     },
     "execution_count": 17,
     "metadata": {},
     "output_type": "execute_result"
    }
   ],
   "source": [
    "pd.DataFrame(round(df_autos.isna().mean()*100,1)).style.background_gradient('coolwarm')"
   ]
  },
  {
   "cell_type": "markdown",
   "metadata": {},
   "source": [
    "Меняем значения в признаке тип автомобиля по моде и так же ставим заглушку для оставшихся NaN значений."
   ]
  },
  {
   "cell_type": "code",
   "execution_count": 18,
   "metadata": {},
   "outputs": [],
   "source": [
    "for i in ['date_crawled', 'date_created', 'last_seen']:\n",
    "    df_autos[f'{i}_year'] = df_autos[i].dt.year\n",
    "    df_autos[f'{i}_month'] = df_autos[i].dt.month\n",
    "    df_autos[f'{i}_day'] = df_autos[i].dt.day"
   ]
  },
  {
   "cell_type": "code",
   "execution_count": 19,
   "metadata": {},
   "outputs": [],
   "source": [
    "df_autos = df_autos.drop(['date_crawled', 'date_created', 'last_seen'], axis=1)"
   ]
  },
  {
   "cell_type": "code",
   "execution_count": 20,
   "metadata": {},
   "outputs": [
    {
     "data": {
      "text/plain": [
       "array(['gasoline', 'unknown', 'lpg', 'other', 'hybrid', 'cng', 'electric'],\n",
       "      dtype=object)"
      ]
     },
     "execution_count": 20,
     "metadata": {},
     "output_type": "execute_result"
    }
   ],
   "source": [
    "df_autos.fuel_type = df_autos.fuel_type.str.replace('petrol', 'gasoline', regex=True)\n",
    "df_autos.fuel_type.unique()"
   ]
  },
  {
   "cell_type": "code",
   "execution_count": 21,
   "metadata": {},
   "outputs": [
    {
     "name": "stdout",
     "output_type": "stream",
     "text": [
      "Количество дубликатов:  6117\n",
      "Количество дубликатов:  0\n"
     ]
    }
   ],
   "source": [
    "print('Количество дубликатов: ', df_autos.duplicated().sum())\n",
    "df_autos = df_autos.drop_duplicates()\n",
    "print('Количество дубликатов: ', df_autos.duplicated().sum())"
   ]
  },
  {
   "cell_type": "code",
   "execution_count": 22,
   "metadata": {},
   "outputs": [
    {
     "name": "stdout",
     "output_type": "stream",
     "text": [
      "<class 'pandas.core.frame.DataFrame'>\n",
      "Int64Index: 246849 entries, 2 to 354368\n",
      "Data columns (total 21 columns):\n",
      " #   Column              Non-Null Count   Dtype \n",
      "---  ------              --------------   ----- \n",
      " 0   price               246849 non-null  int64 \n",
      " 1   vehicle_type        246849 non-null  object\n",
      " 2   registration_year   246849 non-null  int64 \n",
      " 3   gearbox             246849 non-null  object\n",
      " 4   power               246849 non-null  int64 \n",
      " 5   model               246849 non-null  object\n",
      " 6   kilometer           246849 non-null  int64 \n",
      " 7   registration_month  246849 non-null  int64 \n",
      " 8   fuel_type           246849 non-null  object\n",
      " 9   brand               246849 non-null  object\n",
      " 10  repaired            246849 non-null  object\n",
      " 11  postal_code         246849 non-null  int64 \n",
      " 12  date_crawled_year   246849 non-null  int64 \n",
      " 13  date_crawled_month  246849 non-null  int64 \n",
      " 14  date_crawled_day    246849 non-null  int64 \n",
      " 15  date_created_year   246849 non-null  int64 \n",
      " 16  date_created_month  246849 non-null  int64 \n",
      " 17  date_created_day    246849 non-null  int64 \n",
      " 18  last_seen_year      246849 non-null  int64 \n",
      " 19  last_seen_month     246849 non-null  int64 \n",
      " 20  last_seen_day       246849 non-null  int64 \n",
      "dtypes: int64(15), object(6)\n",
      "memory usage: 41.4+ MB\n"
     ]
    }
   ],
   "source": [
    "df_autos.info()"
   ]
  },
  {
   "cell_type": "markdown",
   "metadata": {},
   "source": [
    "Сами по себе признаки в datetime не информативны для моделей, поэтому мы вычленили из даты нужные нам признаки."
   ]
  },
  {
   "cell_type": "markdown",
   "metadata": {},
   "source": [
    "Были загрежены dateframe. Изучены данные. Заполнены пропущенные значения и обработаны аномалии в столбцах. Удалены неинформативнеы признаки и добавлены новые. Удалены дубли и обработаны уникальные значения в признаке тип топлива."
   ]
  },
  {
   "cell_type": "markdown",
   "metadata": {},
   "source": [
    "## Обучение и анализ моделей"
   ]
  },
  {
   "cell_type": "code",
   "execution_count": 23,
   "metadata": {},
   "outputs": [],
   "source": [
    "X_train, X_test, y_train, y_test = train_test_split(df_autos.drop('price', axis=1), \n",
    "                                                    df_autos.price, \n",
    "                                                    test_size=TEST_SIZE, \n",
    "                                                    random_state=RANDOM_STATE)\n",
    "X_valid, X_test, y_valid, y_test = train_test_split(X_test,\n",
    "                                                   y_test,\n",
    "                                                   test_size=TEST_SIZE,\n",
    "                                                   random_state=RANDOM_STATE)"
   ]
  },
  {
   "cell_type": "markdown",
   "metadata": {},
   "source": [
    "### LinearRegression"
   ]
  },
  {
   "cell_type": "code",
   "execution_count": 24,
   "metadata": {},
   "outputs": [],
   "source": [
    "ohe_pipe = Pipeline(\n",
    "    [\n",
    "        (\n",
    "            'simpleImputer_ohe', \n",
    "            SimpleImputer(missing_values=np.nan, strategy='most_frequent')\n",
    "        ),\n",
    "        (\n",
    "            'ohe', \n",
    "            OneHotEncoder(drop='first', handle_unknown='ignore', sparse_output=False)\n",
    "        )\n",
    "    ]\n",
    ") "
   ]
  },
  {
   "cell_type": "code",
   "execution_count": 25,
   "metadata": {},
   "outputs": [],
   "source": [
    "ohe_columns = X_train.select_dtypes(include='object').columns.to_list()\n",
    "num_columns = X_train.select_dtypes(include='number').columns.to_list()\n",
    "\n",
    "data_preprocessor = ColumnTransformer(\n",
    "    [\n",
    "        ('ohe', ohe_pipe, ohe_columns),\n",
    "        ('num', MinMaxScaler(), num_columns)\n",
    "    ],\n",
    "    remainder='passthrough'\n",
    ")\n",
    "\n",
    "pipe_final_linear = Pipeline(\n",
    "    [\n",
    "        ('preprocessor', data_preprocessor),\n",
    "        ('models', LinearRegression())\n",
    "    ]\n",
    ")    \n",
    "    \n",
    "    \n",
    "param_grid_linear = {\n",
    "    'preprocessor__num': [\n",
    "        MinMaxScaler(), \n",
    "        StandardScaler(), \n",
    "        RobustScaler(),\n",
    "    ]\n",
    "}"
   ]
  },
  {
   "cell_type": "code",
   "execution_count": 26,
   "metadata": {
    "collapsed": true
   },
   "outputs": [
    {
     "name": "stdout",
     "output_type": "stream",
     "text": [
      "Fitting 5 folds for each of 3 candidates, totalling 15 fits\n",
      "[CV 1/5] END preprocessor__num=MinMaxScaler();, score=-2365.184 total time=   5.9s\n",
      "[CV 2/5] END preprocessor__num=MinMaxScaler();, score=-2334.574 total time=   5.8s\n",
      "[CV 3/5] END preprocessor__num=MinMaxScaler();, score=-2367.600 total time=   5.8s\n",
      "[CV 4/5] END preprocessor__num=MinMaxScaler();, score=-2369.302 total time=   5.8s\n",
      "[CV 5/5] END preprocessor__num=MinMaxScaler();, score=-2374.904 total time=   5.8s\n",
      "[CV 1/5] END preprocessor__num=StandardScaler();, score=-2365.184 total time=   5.9s\n",
      "[CV 2/5] END preprocessor__num=StandardScaler();, score=-2334.574 total time=   5.8s\n",
      "[CV 3/5] END preprocessor__num=StandardScaler();, score=-2367.600 total time=   5.5s\n",
      "[CV 4/5] END preprocessor__num=StandardScaler();, score=-2369.302 total time=   5.5s\n",
      "[CV 5/5] END preprocessor__num=StandardScaler();, score=-2374.904 total time=   5.6s\n",
      "[CV 1/5] END preprocessor__num=RobustScaler();, score=-2365.184 total time=   5.8s\n",
      "[CV 2/5] END preprocessor__num=RobustScaler();, score=-2334.574 total time=   5.8s\n",
      "[CV 3/5] END preprocessor__num=RobustScaler();, score=-2367.600 total time=   5.8s\n",
      "[CV 4/5] END preprocessor__num=RobustScaler();, score=-2369.302 total time=   5.8s\n",
      "[CV 5/5] END preprocessor__num=RobustScaler();, score=-2374.904 total time=   5.9s\n",
      "CPU times: total: 6min 3s\n",
      "Wall time: 1min 35s\n"
     ]
    }
   ],
   "source": [
    "%%time\n",
    "rscv_linear = RandomizedSearchCV(\n",
    "    pipe_final_linear,\n",
    "    param_grid_linear,\n",
    "    scoring='neg_root_mean_squared_error',\n",
    "    random_state=RANDOM_STATE,\n",
    "    n_jobs=1,\n",
    "    error_score='raise',\n",
    "    verbose=3).fit(X_train, y_train)"
   ]
  },
  {
   "cell_type": "code",
   "execution_count": 27,
   "metadata": {},
   "outputs": [],
   "source": [
    "pipe_linear = pipe_final_linear.set_params(**rscv_linear.best_params_) # type: ignore\n",
    "\n",
    "start_fit_time_lnr = time.time()\n",
    "pipe_linear = pipe_linear.fit(X_train, y_train)\n",
    "end_fit_time_lnr = time.time()\n",
    "fit_time_linear = end_fit_time_lnr - start_fit_time_lnr"
   ]
  },
  {
   "cell_type": "code",
   "execution_count": 28,
   "metadata": {},
   "outputs": [],
   "source": [
    "start_linear = time.time()\n",
    "y_pred_linear = pipe_linear.predict(X_valid)\n",
    "end_linear = time.time()\n",
    "pred_time_linear = end_linear - start_linear"
   ]
  },
  {
   "cell_type": "code",
   "execution_count": 29,
   "metadata": {},
   "outputs": [],
   "source": [
    "rmse_linear = root_mean_squared_error(y_valid, y_pred_linear)"
   ]
  },
  {
   "cell_type": "code",
   "execution_count": 30,
   "metadata": {},
   "outputs": [
    {
     "name": "stdout",
     "output_type": "stream",
     "text": [
      "RMSE на валидационной выборке: 2364.4251338600634\n",
      "Время обучения: 7.66s\n",
      "Время предсказания 0.21s\n"
     ]
    }
   ],
   "source": [
    "print(f'RMSE на валидационной выборке: {rmse_linear}')\n",
    "print(f'Время обучения: {fit_time_linear:.2f}s')\n",
    "print(f'Время предсказания {pred_time_linear:.2f}s')"
   ]
  },
  {
   "cell_type": "markdown",
   "metadata": {},
   "source": [
    "### LGBMRegressor"
   ]
  },
  {
   "cell_type": "code",
   "execution_count": 31,
   "metadata": {},
   "outputs": [],
   "source": [
    "#Преобразуем категориальные данные в тип category, чтобы модель корректно обработала значения.\n",
    "\n",
    "for i in [X_train, X_valid, X_test]:\n",
    "    for col in i.select_dtypes(include='object').columns.to_list():\n",
    "        i[col] = i[col].astype('category')"
   ]
  },
  {
   "cell_type": "code",
   "execution_count": 32,
   "metadata": {},
   "outputs": [
    {
     "name": "stdout",
     "output_type": "stream",
     "text": [
      "<class 'pandas.core.frame.DataFrame'>\n",
      "Int64Index: 185136 entries, 212294 to 173024\n",
      "Data columns (total 20 columns):\n",
      " #   Column              Non-Null Count   Dtype   \n",
      "---  ------              --------------   -----   \n",
      " 0   vehicle_type        185136 non-null  category\n",
      " 1   registration_year   185136 non-null  int64   \n",
      " 2   gearbox             185136 non-null  category\n",
      " 3   power               185136 non-null  int64   \n",
      " 4   model               185136 non-null  category\n",
      " 5   kilometer           185136 non-null  int64   \n",
      " 6   registration_month  185136 non-null  int64   \n",
      " 7   fuel_type           185136 non-null  category\n",
      " 8   brand               185136 non-null  category\n",
      " 9   repaired            185136 non-null  category\n",
      " 10  postal_code         185136 non-null  int64   \n",
      " 11  date_crawled_year   185136 non-null  int64   \n",
      " 12  date_crawled_month  185136 non-null  int64   \n",
      " 13  date_crawled_day    185136 non-null  int64   \n",
      " 14  date_created_year   185136 non-null  int64   \n",
      " 15  date_created_month  185136 non-null  int64   \n",
      " 16  date_created_day    185136 non-null  int64   \n",
      " 17  last_seen_year      185136 non-null  int64   \n",
      " 18  last_seen_month     185136 non-null  int64   \n",
      " 19  last_seen_day       185136 non-null  int64   \n",
      "dtypes: category(6), int64(14)\n",
      "memory usage: 22.4 MB\n"
     ]
    },
    {
     "data": {
      "text/plain": [
       "None"
      ]
     },
     "metadata": {},
     "output_type": "display_data"
    },
    {
     "name": "stdout",
     "output_type": "stream",
     "text": [
      "<class 'pandas.core.frame.DataFrame'>\n",
      "Int64Index: 46284 entries, 159408 to 57087\n",
      "Data columns (total 20 columns):\n",
      " #   Column              Non-Null Count  Dtype   \n",
      "---  ------              --------------  -----   \n",
      " 0   vehicle_type        46284 non-null  category\n",
      " 1   registration_year   46284 non-null  int64   \n",
      " 2   gearbox             46284 non-null  category\n",
      " 3   power               46284 non-null  int64   \n",
      " 4   model               46284 non-null  category\n",
      " 5   kilometer           46284 non-null  int64   \n",
      " 6   registration_month  46284 non-null  int64   \n",
      " 7   fuel_type           46284 non-null  category\n",
      " 8   brand               46284 non-null  category\n",
      " 9   repaired            46284 non-null  category\n",
      " 10  postal_code         46284 non-null  int64   \n",
      " 11  date_crawled_year   46284 non-null  int64   \n",
      " 12  date_crawled_month  46284 non-null  int64   \n",
      " 13  date_crawled_day    46284 non-null  int64   \n",
      " 14  date_created_year   46284 non-null  int64   \n",
      " 15  date_created_month  46284 non-null  int64   \n",
      " 16  date_created_day    46284 non-null  int64   \n",
      " 17  last_seen_year      46284 non-null  int64   \n",
      " 18  last_seen_month     46284 non-null  int64   \n",
      " 19  last_seen_day       46284 non-null  int64   \n",
      "dtypes: category(6), int64(14)\n",
      "memory usage: 5.6 MB\n"
     ]
    },
    {
     "data": {
      "text/plain": [
       "None"
      ]
     },
     "metadata": {},
     "output_type": "display_data"
    },
    {
     "name": "stdout",
     "output_type": "stream",
     "text": [
      "<class 'pandas.core.frame.DataFrame'>\n",
      "Int64Index: 15429 entries, 331455 to 327783\n",
      "Data columns (total 20 columns):\n",
      " #   Column              Non-Null Count  Dtype   \n",
      "---  ------              --------------  -----   \n",
      " 0   vehicle_type        15429 non-null  category\n",
      " 1   registration_year   15429 non-null  int64   \n",
      " 2   gearbox             15429 non-null  category\n",
      " 3   power               15429 non-null  int64   \n",
      " 4   model               15429 non-null  category\n",
      " 5   kilometer           15429 non-null  int64   \n",
      " 6   registration_month  15429 non-null  int64   \n",
      " 7   fuel_type           15429 non-null  category\n",
      " 8   brand               15429 non-null  category\n",
      " 9   repaired            15429 non-null  category\n",
      " 10  postal_code         15429 non-null  int64   \n",
      " 11  date_crawled_year   15429 non-null  int64   \n",
      " 12  date_crawled_month  15429 non-null  int64   \n",
      " 13  date_crawled_day    15429 non-null  int64   \n",
      " 14  date_created_year   15429 non-null  int64   \n",
      " 15  date_created_month  15429 non-null  int64   \n",
      " 16  date_created_day    15429 non-null  int64   \n",
      " 17  last_seen_year      15429 non-null  int64   \n",
      " 18  last_seen_month     15429 non-null  int64   \n",
      " 19  last_seen_day       15429 non-null  int64   \n",
      "dtypes: category(6), int64(14)\n",
      "memory usage: 1.9 MB\n"
     ]
    },
    {
     "data": {
      "text/plain": [
       "None"
      ]
     },
     "metadata": {},
     "output_type": "display_data"
    }
   ],
   "source": [
    "display(X_train.info())\n",
    "display(X_valid.info())\n",
    "display(X_test.info())"
   ]
  },
  {
   "cell_type": "code",
   "execution_count": 33,
   "metadata": {},
   "outputs": [],
   "source": [
    "pipe_final = Pipeline(\n",
    "    [\n",
    "        ('models', LGBMRegressor())\n",
    "    ]\n",
    ")    \n",
    "    \n",
    "    \n",
    "param_grid = {\n",
    "    'models__num_leaves': range(5,101),\n",
    "    'models__max_depth': range(5,101)\n",
    "}"
   ]
  },
  {
   "cell_type": "code",
   "execution_count": 34,
   "metadata": {
    "scrolled": true
   },
   "outputs": [
    {
     "name": "stdout",
     "output_type": "stream",
     "text": [
      "Fitting 5 folds for each of 10 candidates, totalling 50 fits\n",
      "[LightGBM] [Info] Auto-choosing row-wise multi-threading, the overhead of testing was 0.006309 seconds.\n",
      "You can set `force_row_wise=true` to remove the overhead.\n",
      "And if memory is not enough, you can set `force_col_wise=true`.\n",
      "[LightGBM] [Info] Total Bins 946\n",
      "[LightGBM] [Info] Number of data points in the train set: 185136, number of used features: 17\n",
      "[LightGBM] [Info] Start training from score 5273.962660\n",
      "CPU times: total: 5.94 s\n",
      "Wall time: 52.5 s\n"
     ]
    }
   ],
   "source": [
    "%%time\n",
    "rscv = RandomizedSearchCV(\n",
    "    pipe_final,\n",
    "    param_grid,\n",
    "    scoring='neg_root_mean_squared_error',\n",
    "    random_state=RANDOM_STATE,\n",
    "    n_jobs=-1,\n",
    "    error_score='raise',\n",
    "    verbose=3).fit(X_train, y_train)"
   ]
  },
  {
   "cell_type": "code",
   "execution_count": 35,
   "metadata": {},
   "outputs": [
    {
     "name": "stdout",
     "output_type": "stream",
     "text": [
      "[LightGBM] [Info] Auto-choosing row-wise multi-threading, the overhead of testing was 0.006543 seconds.\n",
      "You can set `force_row_wise=true` to remove the overhead.\n",
      "And if memory is not enough, you can set `force_col_wise=true`.\n",
      "[LightGBM] [Info] Total Bins 946\n",
      "[LightGBM] [Info] Number of data points in the train set: 185136, number of used features: 17\n",
      "[LightGBM] [Info] Start training from score 5273.962660\n"
     ]
    }
   ],
   "source": [
    "pipe_lgbmr = pipe_final.set_params(**rscv.best_params_) # type: ignore\n",
    "\n",
    "start_fit_time_lgbmr = time.time()\n",
    "pipe_lgbmr = pipe_lgbmr.fit(X_train, y_train)\n",
    "end_fit_time_lgbmr = time.time()\n",
    "fit_time_lgbmr = end_fit_time_lgbmr - start_fit_time_lgbmr"
   ]
  },
  {
   "cell_type": "code",
   "execution_count": 36,
   "metadata": {},
   "outputs": [],
   "source": [
    "start_lgbmr = time.time()\n",
    "y_pred = pipe_lgbmr.predict(X_valid)\n",
    "end_lgbmr = time.time()\n",
    "pred_time_lgbmr = end_lgbmr - start_lgbmr"
   ]
  },
  {
   "cell_type": "code",
   "execution_count": 37,
   "metadata": {},
   "outputs": [],
   "source": [
    "rmse_lgbmr = root_mean_squared_error(y_valid, y_pred)"
   ]
  },
  {
   "cell_type": "code",
   "execution_count": 38,
   "metadata": {},
   "outputs": [
    {
     "name": "stdout",
     "output_type": "stream",
     "text": [
      "RMSE на валидационной выборке: 1488.5165560218281\n",
      "Время обучения: 1.40s\n",
      "Время предсказания 0.19s\n"
     ]
    }
   ],
   "source": [
    "print(f'RMSE на валидационной выборке: {rmse_lgbmr}')\n",
    "print(f'Время обучения: {fit_time_lgbmr:.2f}s')\n",
    "print(f'Время предсказания {pred_time_lgbmr:.2f}s')"
   ]
  },
  {
   "cell_type": "markdown",
   "metadata": {},
   "source": [
    "Обе модели уложились в необходимый порог RMSE, но модель LGBMRegressor сделала это лучше всего. По всем показателям, кроме времени предсказания LGBMRegressor выигрывает."
   ]
  },
  {
   "cell_type": "markdown",
   "metadata": {},
   "source": [
    "## Проверка лучшей модели"
   ]
  },
  {
   "cell_type": "code",
   "execution_count": 39,
   "metadata": {},
   "outputs": [
    {
     "name": "stdout",
     "output_type": "stream",
     "text": [
      "Параметры лучшей модели: {'models__num_leaves': 97, 'models__max_depth': 13}\n"
     ]
    }
   ],
   "source": [
    "print(f'Параметры лучшей модели: {rscv.best_params_}') # type: ignore"
   ]
  },
  {
   "cell_type": "code",
   "execution_count": 40,
   "metadata": {},
   "outputs": [],
   "source": [
    "start_best = time.time()\n",
    "y_pred_best = rscv.best_estimator_.predict(X_test) # type: ignore\n",
    "end_best = time.time()\n",
    "pred_time_best = end_best - start_best\n",
    "rmse_best_model = root_mean_squared_error(y_test, y_pred_best)"
   ]
  },
  {
   "cell_type": "code",
   "execution_count": 41,
   "metadata": {},
   "outputs": [
    {
     "name": "stdout",
     "output_type": "stream",
     "text": [
      "RMSE на тестовой выборке: 1527.59\n",
      "Время предсказания: 0.16s\n"
     ]
    }
   ],
   "source": [
    "print(f'RMSE на тестовой выборке: {rmse_best_model:.2f}')\n",
    "print(f'Время предсказания: {pred_time_best:.2f}s')"
   ]
  },
  {
   "cell_type": "markdown",
   "metadata": {},
   "source": [
    "## Вывод"
   ]
  },
  {
   "cell_type": "markdown",
   "metadata": {},
   "source": [
    "- Были загружены и обработаны данные. Найдены и устранены аномалии с пропусками. Избавились от неинформативных признаков.\n",
    "- Обучены модели: LinearRegression и LGBMRegressor\n",
    "- Проанализированы и определена LGBMRegressor как наиболее эффективная с точки зрения запроса бизнеса модель.\n",
    "- Проверено качество лучшей модели на тестовой выборке: RMSE на тестовой выборке: 1527.59<br>Время предсказания: 0.16s"
   ]
  }
 ],
 "metadata": {
  "ExecuteTimeLog": [
   {
    "duration": 51,
    "start_time": "2025-06-03T17:05:30.827Z"
   },
   {
    "duration": 477,
    "start_time": "2025-06-03T17:05:33.613Z"
   },
   {
    "duration": 1118,
    "start_time": "2025-06-03T17:05:34.404Z"
   },
   {
    "duration": 101,
    "start_time": "2025-06-03T17:07:31.352Z"
   },
   {
    "duration": 1016,
    "start_time": "2025-06-03T17:09:59.184Z"
   },
   {
    "duration": 3,
    "start_time": "2025-06-03T17:10:14.635Z"
   },
   {
    "duration": 524,
    "start_time": "2025-06-03T17:11:33.367Z"
   },
   {
    "duration": 1350,
    "start_time": "2025-06-03T17:12:37.985Z"
   },
   {
    "duration": 195,
    "start_time": "2025-06-03T17:15:06.191Z"
   },
   {
    "duration": 5,
    "start_time": "2025-06-03T17:24:37.662Z"
   },
   {
    "duration": 105,
    "start_time": "2025-06-03T17:28:26.945Z"
   },
   {
    "duration": 1098,
    "start_time": "2025-06-03T17:28:31.677Z"
   },
   {
    "duration": 171,
    "start_time": "2025-06-03T17:29:01.521Z"
   },
   {
    "duration": 95,
    "start_time": "2025-06-03T17:31:28.828Z"
   },
   {
    "duration": 148,
    "start_time": "2025-06-03T17:31:29.502Z"
   },
   {
    "duration": 78,
    "start_time": "2025-06-03T17:31:38.599Z"
   },
   {
    "duration": 151,
    "start_time": "2025-06-03T17:31:39.075Z"
   },
   {
    "duration": 12,
    "start_time": "2025-06-03T17:31:48.539Z"
   },
   {
    "duration": 7787,
    "start_time": "2025-06-03T17:32:03.564Z"
   },
   {
    "duration": 1239,
    "start_time": "2025-06-03T17:32:11.354Z"
   },
   {
    "duration": 3,
    "start_time": "2025-06-03T17:32:12.594Z"
   },
   {
    "duration": 1178,
    "start_time": "2025-06-03T17:32:12.598Z"
   },
   {
    "duration": 112,
    "start_time": "2025-06-03T17:32:13.778Z"
   },
   {
    "duration": 145,
    "start_time": "2025-06-03T17:32:13.891Z"
   },
   {
    "duration": 156,
    "start_time": "2025-06-03T17:32:14.038Z"
   },
   {
    "duration": 1376,
    "start_time": "2025-06-03T17:32:14.196Z"
   },
   {
    "duration": 185,
    "start_time": "2025-06-03T17:32:15.573Z"
   },
   {
    "duration": 7,
    "start_time": "2025-06-03T17:33:00.697Z"
   },
   {
    "duration": 6,
    "start_time": "2025-06-03T17:33:37.931Z"
   },
   {
    "duration": 179,
    "start_time": "2025-06-03T17:34:07.110Z"
   },
   {
    "duration": 130,
    "start_time": "2025-06-03T17:34:07.779Z"
   },
   {
    "duration": 36,
    "start_time": "2025-06-03T17:36:49.831Z"
   },
   {
    "duration": 4,
    "start_time": "2025-06-03T17:37:02.765Z"
   },
   {
    "duration": 91,
    "start_time": "2025-06-03T17:37:10.956Z"
   },
   {
    "duration": 87,
    "start_time": "2025-06-03T17:37:29.066Z"
   },
   {
    "duration": 5,
    "start_time": "2025-06-03T17:38:10.867Z"
   },
   {
    "duration": 7,
    "start_time": "2025-06-03T17:38:19.879Z"
   },
   {
    "duration": 6,
    "start_time": "2025-06-03T17:41:28.069Z"
   },
   {
    "duration": 6,
    "start_time": "2025-06-03T17:41:31.835Z"
   },
   {
    "duration": 6,
    "start_time": "2025-06-03T17:41:39.616Z"
   },
   {
    "duration": 5,
    "start_time": "2025-06-03T17:41:43.680Z"
   },
   {
    "duration": 8,
    "start_time": "2025-06-03T17:42:13.882Z"
   },
   {
    "duration": 6,
    "start_time": "2025-06-03T17:42:18.341Z"
   },
   {
    "duration": 7,
    "start_time": "2025-06-03T17:42:24.593Z"
   },
   {
    "duration": 34,
    "start_time": "2025-06-03T17:46:03.549Z"
   },
   {
    "duration": 50,
    "start_time": "2025-06-03T17:46:12.168Z"
   },
   {
    "duration": 26,
    "start_time": "2025-06-03T17:47:01.307Z"
   },
   {
    "duration": 28,
    "start_time": "2025-06-03T17:47:26.489Z"
   },
   {
    "duration": 67,
    "start_time": "2025-06-03T17:53:56.689Z"
   },
   {
    "duration": 73,
    "start_time": "2025-06-03T17:53:59.053Z"
   },
   {
    "duration": 3254,
    "start_time": "2025-06-03T17:54:25.718Z"
   },
   {
    "duration": 1230,
    "start_time": "2025-06-03T17:54:28.975Z"
   },
   {
    "duration": 2,
    "start_time": "2025-06-03T17:54:30.207Z"
   },
   {
    "duration": 1185,
    "start_time": "2025-06-03T17:54:30.211Z"
   },
   {
    "duration": 343,
    "start_time": "2025-06-03T17:54:31.405Z"
   },
   {
    "duration": 118,
    "start_time": "2025-06-03T17:54:31.750Z"
   },
   {
    "duration": 120,
    "start_time": "2025-06-03T17:54:31.870Z"
   },
   {
    "duration": 35,
    "start_time": "2025-06-03T17:54:31.992Z"
   },
   {
    "duration": 94,
    "start_time": "2025-06-03T17:54:32.029Z"
   },
   {
    "duration": 740,
    "start_time": "2025-06-03T17:54:32.126Z"
   },
   {
    "duration": 140,
    "start_time": "2025-06-03T17:54:32.868Z"
   },
   {
    "duration": 75,
    "start_time": "2025-06-03T17:54:36.146Z"
   },
   {
    "duration": 77,
    "start_time": "2025-06-03T17:55:08.285Z"
   },
   {
    "duration": 735,
    "start_time": "2025-06-03T17:55:44.203Z"
   },
   {
    "duration": 112,
    "start_time": "2025-06-03T17:55:44.940Z"
   },
   {
    "duration": 1035,
    "start_time": "2025-06-03T17:57:12.380Z"
   },
   {
    "duration": 165,
    "start_time": "2025-06-03T17:57:18.501Z"
   },
   {
    "duration": 24,
    "start_time": "2025-06-03T17:58:20.268Z"
   },
   {
    "duration": 8378,
    "start_time": "2025-06-04T18:11:03.295Z"
   },
   {
    "duration": 1452,
    "start_time": "2025-06-04T18:11:11.676Z"
   },
   {
    "duration": 17,
    "start_time": "2025-06-04T18:11:13.130Z"
   },
   {
    "duration": 1277,
    "start_time": "2025-06-04T18:11:13.149Z"
   },
   {
    "duration": 344,
    "start_time": "2025-06-04T18:11:14.436Z"
   },
   {
    "duration": 138,
    "start_time": "2025-06-04T18:11:14.782Z"
   },
   {
    "duration": 131,
    "start_time": "2025-06-04T18:11:14.922Z"
   },
   {
    "duration": 27,
    "start_time": "2025-06-04T18:11:15.055Z"
   },
   {
    "duration": 273,
    "start_time": "2025-06-04T18:11:15.084Z"
   },
   {
    "duration": 87,
    "start_time": "2025-06-04T18:11:15.359Z"
   },
   {
    "duration": 815,
    "start_time": "2025-06-04T18:11:15.449Z"
   },
   {
    "duration": 149,
    "start_time": "2025-06-04T18:11:16.266Z"
   },
   {
    "duration": 135,
    "start_time": "2025-06-04T18:11:16.417Z"
   },
   {
    "duration": 0,
    "start_time": "2025-06-04T18:11:16.556Z"
   },
   {
    "duration": 0,
    "start_time": "2025-06-04T18:11:16.557Z"
   },
   {
    "duration": 20,
    "start_time": "2025-06-04T18:11:26.501Z"
   },
   {
    "duration": 3274,
    "start_time": "2025-06-04T18:11:27.092Z"
   },
   {
    "duration": 6078,
    "start_time": "2025-06-04T18:25:05.152Z"
   },
   {
    "duration": 6317,
    "start_time": "2025-06-04T18:25:14.477Z"
   },
   {
    "duration": 303,
    "start_time": "2025-06-04T18:25:43.122Z"
   },
   {
    "duration": 128,
    "start_time": "2025-06-04T18:34:08.837Z"
   },
   {
    "duration": 13,
    "start_time": "2025-06-04T18:34:37.357Z"
   },
   {
    "duration": 10,
    "start_time": "2025-06-04T18:34:43.842Z"
   },
   {
    "duration": 12,
    "start_time": "2025-06-04T18:36:00.276Z"
   },
   {
    "duration": 4,
    "start_time": "2025-06-04T18:36:10.661Z"
   },
   {
    "duration": 3,
    "start_time": "2025-06-04T18:38:03.934Z"
   },
   {
    "duration": 115,
    "start_time": "2025-06-04T18:38:28.593Z"
   },
   {
    "duration": 10,
    "start_time": "2025-06-04T18:53:23.634Z"
   },
   {
    "duration": 35,
    "start_time": "2025-06-04T18:53:27.716Z"
   },
   {
    "duration": 33,
    "start_time": "2025-06-04T18:54:13.039Z"
   },
   {
    "duration": 24,
    "start_time": "2025-06-04T18:54:18.897Z"
   },
   {
    "duration": 125,
    "start_time": "2025-06-04T18:54:27.218Z"
   },
   {
    "duration": 12,
    "start_time": "2025-06-04T18:55:45.594Z"
   },
   {
    "duration": 5945,
    "start_time": "2025-06-04T18:56:04.851Z"
   },
   {
    "duration": 1414,
    "start_time": "2025-06-04T18:56:10.798Z"
   },
   {
    "duration": 3,
    "start_time": "2025-06-04T18:56:12.214Z"
   },
   {
    "duration": 9,
    "start_time": "2025-06-04T18:56:12.218Z"
   },
   {
    "duration": 1157,
    "start_time": "2025-06-04T18:56:12.236Z"
   },
   {
    "duration": 349,
    "start_time": "2025-06-04T18:56:13.394Z"
   },
   {
    "duration": 123,
    "start_time": "2025-06-04T18:56:13.745Z"
   },
   {
    "duration": 122,
    "start_time": "2025-06-04T18:56:13.869Z"
   },
   {
    "duration": 30,
    "start_time": "2025-06-04T18:56:13.992Z"
   },
   {
    "duration": 94,
    "start_time": "2025-06-04T18:56:14.024Z"
   },
   {
    "duration": 85,
    "start_time": "2025-06-04T18:56:14.120Z"
   },
   {
    "duration": 781,
    "start_time": "2025-06-04T18:56:14.207Z"
   },
   {
    "duration": 137,
    "start_time": "2025-06-04T18:56:14.989Z"
   },
   {
    "duration": 86,
    "start_time": "2025-06-04T18:56:15.136Z"
   },
   {
    "duration": 12,
    "start_time": "2025-06-04T18:56:15.224Z"
   },
   {
    "duration": 10641,
    "start_time": "2025-06-05T17:38:38.549Z"
   },
   {
    "duration": 1668,
    "start_time": "2025-06-05T17:38:49.193Z"
   },
   {
    "duration": 4,
    "start_time": "2025-06-05T17:38:50.862Z"
   },
   {
    "duration": 12,
    "start_time": "2025-06-05T17:38:50.868Z"
   },
   {
    "duration": 1196,
    "start_time": "2025-06-05T17:38:50.882Z"
   },
   {
    "duration": 347,
    "start_time": "2025-06-05T17:38:52.079Z"
   },
   {
    "duration": 133,
    "start_time": "2025-06-05T17:38:52.428Z"
   },
   {
    "duration": 127,
    "start_time": "2025-06-05T17:38:52.563Z"
   },
   {
    "duration": 28,
    "start_time": "2025-06-05T17:38:52.692Z"
   },
   {
    "duration": 128,
    "start_time": "2025-06-05T17:38:52.723Z"
   },
   {
    "duration": 79,
    "start_time": "2025-06-05T17:38:52.853Z"
   },
   {
    "duration": 763,
    "start_time": "2025-06-05T17:38:52.934Z"
   },
   {
    "duration": 143,
    "start_time": "2025-06-05T17:38:53.699Z"
   },
   {
    "duration": 94,
    "start_time": "2025-06-05T17:38:53.844Z"
   },
   {
    "duration": 4,
    "start_time": "2025-06-05T17:38:53.939Z"
   },
   {
    "duration": 138,
    "start_time": "2025-06-05T17:43:15.424Z"
   },
   {
    "duration": 13,
    "start_time": "2025-06-05T17:43:39.739Z"
   },
   {
    "duration": 4,
    "start_time": "2025-06-05T17:43:49.336Z"
   },
   {
    "duration": 63,
    "start_time": "2025-06-05T17:44:07.128Z"
   },
   {
    "duration": 628,
    "start_time": "2025-06-05T17:47:36.082Z"
   },
   {
    "duration": 6125,
    "start_time": "2025-06-05T17:50:06.792Z"
   },
   {
    "duration": 1400,
    "start_time": "2025-06-05T17:50:12.923Z"
   },
   {
    "duration": 4,
    "start_time": "2025-06-05T17:50:14.324Z"
   },
   {
    "duration": 3,
    "start_time": "2025-06-05T17:50:14.330Z"
   },
   {
    "duration": 1230,
    "start_time": "2025-06-05T17:50:14.335Z"
   },
   {
    "duration": 369,
    "start_time": "2025-06-05T17:50:15.567Z"
   },
   {
    "duration": 133,
    "start_time": "2025-06-05T17:50:15.938Z"
   },
   {
    "duration": 144,
    "start_time": "2025-06-05T17:50:16.072Z"
   },
   {
    "duration": 31,
    "start_time": "2025-06-05T17:50:16.218Z"
   },
   {
    "duration": 88,
    "start_time": "2025-06-05T17:50:16.251Z"
   },
   {
    "duration": 88,
    "start_time": "2025-06-05T17:50:16.341Z"
   },
   {
    "duration": 766,
    "start_time": "2025-06-05T17:50:16.431Z"
   },
   {
    "duration": 139,
    "start_time": "2025-06-05T17:50:17.200Z"
   },
   {
    "duration": 723,
    "start_time": "2025-06-05T17:50:17.340Z"
   },
   {
    "duration": 0,
    "start_time": "2025-06-05T17:50:18.065Z"
   },
   {
    "duration": 0,
    "start_time": "2025-06-05T17:50:18.066Z"
   },
   {
    "duration": 623,
    "start_time": "2025-06-05T17:50:51.227Z"
   },
   {
    "duration": 622,
    "start_time": "2025-06-05T17:52:12.883Z"
   },
   {
    "duration": 610,
    "start_time": "2025-06-05T17:55:51.977Z"
   },
   {
    "duration": 617,
    "start_time": "2025-06-05T17:56:23.752Z"
   },
   {
    "duration": 614,
    "start_time": "2025-06-05T17:56:46.656Z"
   },
   {
    "duration": 643,
    "start_time": "2025-06-05T17:57:04.474Z"
   },
   {
    "duration": 636,
    "start_time": "2025-06-05T17:59:23.562Z"
   },
   {
    "duration": 606,
    "start_time": "2025-06-05T17:59:47.290Z"
   },
   {
    "duration": 570,
    "start_time": "2025-06-05T18:00:04.564Z"
   },
   {
    "duration": 590,
    "start_time": "2025-06-05T18:01:32.796Z"
   },
   {
    "duration": 14,
    "start_time": "2025-06-05T18:15:14.924Z"
   },
   {
    "duration": 4,
    "start_time": "2025-06-05T18:15:24.215Z"
   },
   {
    "duration": 7,
    "start_time": "2025-06-05T18:39:55.533Z"
   },
   {
    "duration": 6130,
    "start_time": "2025-06-05T18:40:46.291Z"
   },
   {
    "duration": 1415,
    "start_time": "2025-06-05T18:40:52.424Z"
   },
   {
    "duration": 3,
    "start_time": "2025-06-05T18:40:53.841Z"
   },
   {
    "duration": 15,
    "start_time": "2025-06-05T18:40:53.847Z"
   },
   {
    "duration": 1210,
    "start_time": "2025-06-05T18:40:53.864Z"
   },
   {
    "duration": 351,
    "start_time": "2025-06-05T18:40:55.076Z"
   },
   {
    "duration": 120,
    "start_time": "2025-06-05T18:40:55.429Z"
   },
   {
    "duration": 114,
    "start_time": "2025-06-05T18:40:55.561Z"
   },
   {
    "duration": 28,
    "start_time": "2025-06-05T18:40:55.677Z"
   },
   {
    "duration": 121,
    "start_time": "2025-06-05T18:40:55.707Z"
   },
   {
    "duration": 91,
    "start_time": "2025-06-05T18:40:55.830Z"
   },
   {
    "duration": 777,
    "start_time": "2025-06-05T18:40:55.923Z"
   },
   {
    "duration": 145,
    "start_time": "2025-06-05T18:40:56.702Z"
   },
   {
    "duration": 95,
    "start_time": "2025-06-05T18:40:56.850Z"
   },
   {
    "duration": 4,
    "start_time": "2025-06-05T18:40:56.947Z"
   },
   {
    "duration": 188,
    "start_time": "2025-06-05T18:40:56.961Z"
   },
   {
    "duration": 0,
    "start_time": "2025-06-05T18:40:57.151Z"
   },
   {
    "duration": 27,
    "start_time": "2025-06-05T18:41:17.576Z"
   },
   {
    "duration": 3,
    "start_time": "2025-06-05T18:42:00.213Z"
   },
   {
    "duration": 15,
    "start_time": "2025-06-05T18:42:37.592Z"
   },
   {
    "duration": 57340,
    "start_time": "2025-06-05T18:43:31.183Z"
   },
   {
    "duration": 315,
    "start_time": "2025-06-05T18:52:17.532Z"
   },
   {
    "duration": 368,
    "start_time": "2025-06-05T18:53:37.892Z"
   },
   {
    "duration": 93,
    "start_time": "2025-06-05T18:53:43.491Z"
   },
   {
    "duration": 391,
    "start_time": "2025-06-05T18:54:27.149Z"
   },
   {
    "duration": 97,
    "start_time": "2025-06-05T18:54:29.874Z"
   },
   {
    "duration": 96,
    "start_time": "2025-06-05T18:54:50.937Z"
   },
   {
    "duration": 1510,
    "start_time": "2025-06-05T19:02:40.633Z"
   },
   {
    "duration": 3,
    "start_time": "2025-06-05T19:04:25.505Z"
   },
   {
    "duration": 6003,
    "start_time": "2025-06-05T19:05:16.327Z"
   },
   {
    "duration": 1512,
    "start_time": "2025-06-05T19:05:22.332Z"
   },
   {
    "duration": 3,
    "start_time": "2025-06-05T19:05:23.846Z"
   },
   {
    "duration": 10,
    "start_time": "2025-06-05T19:05:23.860Z"
   },
   {
    "duration": 1175,
    "start_time": "2025-06-05T19:05:23.873Z"
   },
   {
    "duration": 340,
    "start_time": "2025-06-05T19:05:25.049Z"
   },
   {
    "duration": 3,
    "start_time": "2025-06-05T19:05:25.391Z"
   },
   {
    "duration": 134,
    "start_time": "2025-06-05T19:05:25.396Z"
   },
   {
    "duration": 0,
    "start_time": "2025-06-05T19:05:25.532Z"
   },
   {
    "duration": 0,
    "start_time": "2025-06-05T19:05:25.534Z"
   },
   {
    "duration": 0,
    "start_time": "2025-06-05T19:05:25.535Z"
   },
   {
    "duration": 0,
    "start_time": "2025-06-05T19:05:25.537Z"
   },
   {
    "duration": 0,
    "start_time": "2025-06-05T19:05:25.538Z"
   },
   {
    "duration": 0,
    "start_time": "2025-06-05T19:05:25.539Z"
   },
   {
    "duration": 0,
    "start_time": "2025-06-05T19:05:25.540Z"
   },
   {
    "duration": 0,
    "start_time": "2025-06-05T19:05:25.542Z"
   },
   {
    "duration": 0,
    "start_time": "2025-06-05T19:05:25.543Z"
   },
   {
    "duration": 0,
    "start_time": "2025-06-05T19:05:25.561Z"
   },
   {
    "duration": 0,
    "start_time": "2025-06-05T19:05:25.562Z"
   },
   {
    "duration": 0,
    "start_time": "2025-06-05T19:05:25.563Z"
   },
   {
    "duration": 0,
    "start_time": "2025-06-05T19:05:25.565Z"
   },
   {
    "duration": 4,
    "start_time": "2025-06-05T19:05:50.630Z"
   },
   {
    "duration": 5,
    "start_time": "2025-06-05T19:05:57.696Z"
   },
   {
    "duration": 4,
    "start_time": "2025-06-05T19:14:03.444Z"
   },
   {
    "duration": 17,
    "start_time": "2025-06-05T19:14:03.778Z"
   },
   {
    "duration": 4,
    "start_time": "2025-06-05T19:14:14.040Z"
   },
   {
    "duration": 3,
    "start_time": "2025-06-05T19:14:14.370Z"
   },
   {
    "duration": 5,
    "start_time": "2025-06-05T19:14:33.036Z"
   },
   {
    "duration": 4,
    "start_time": "2025-06-05T19:14:36.888Z"
   },
   {
    "duration": 121,
    "start_time": "2025-06-05T19:14:44.216Z"
   },
   {
    "duration": 6359,
    "start_time": "2025-06-05T19:16:04.675Z"
   },
   {
    "duration": 1504,
    "start_time": "2025-06-05T19:16:11.038Z"
   },
   {
    "duration": 3,
    "start_time": "2025-06-05T19:16:12.544Z"
   },
   {
    "duration": 11,
    "start_time": "2025-06-05T19:16:12.549Z"
   },
   {
    "duration": 1241,
    "start_time": "2025-06-05T19:16:12.562Z"
   },
   {
    "duration": 361,
    "start_time": "2025-06-05T19:16:13.805Z"
   },
   {
    "duration": 4,
    "start_time": "2025-06-05T19:16:14.168Z"
   },
   {
    "duration": 14,
    "start_time": "2025-06-05T19:16:14.173Z"
   },
   {
    "duration": 135,
    "start_time": "2025-06-05T19:16:14.189Z"
   },
   {
    "duration": 119,
    "start_time": "2025-06-05T19:16:14.327Z"
   },
   {
    "duration": 34,
    "start_time": "2025-06-05T19:16:14.448Z"
   },
   {
    "duration": 110,
    "start_time": "2025-06-05T19:16:14.484Z"
   },
   {
    "duration": 89,
    "start_time": "2025-06-05T19:16:14.597Z"
   },
   {
    "duration": 784,
    "start_time": "2025-06-05T19:16:14.688Z"
   },
   {
    "duration": 157,
    "start_time": "2025-06-05T19:16:15.475Z"
   },
   {
    "duration": 792,
    "start_time": "2025-06-05T19:16:15.634Z"
   },
   {
    "duration": 0,
    "start_time": "2025-06-05T19:16:16.429Z"
   },
   {
    "duration": 0,
    "start_time": "2025-06-05T19:16:16.430Z"
   },
   {
    "duration": 0,
    "start_time": "2025-06-05T19:16:16.431Z"
   },
   {
    "duration": 0,
    "start_time": "2025-06-05T19:16:16.432Z"
   },
   {
    "duration": 0,
    "start_time": "2025-06-05T19:16:16.434Z"
   },
   {
    "duration": 6166,
    "start_time": "2025-06-05T19:17:44.328Z"
   },
   {
    "duration": 1430,
    "start_time": "2025-06-05T19:17:50.497Z"
   },
   {
    "duration": 4,
    "start_time": "2025-06-05T19:17:51.928Z"
   },
   {
    "duration": 30,
    "start_time": "2025-06-05T19:17:51.933Z"
   },
   {
    "duration": 1222,
    "start_time": "2025-06-05T19:17:51.965Z"
   },
   {
    "duration": 353,
    "start_time": "2025-06-05T19:17:53.189Z"
   },
   {
    "duration": 4,
    "start_time": "2025-06-05T19:17:53.544Z"
   },
   {
    "duration": 10,
    "start_time": "2025-06-05T19:17:53.550Z"
   },
   {
    "duration": 125,
    "start_time": "2025-06-05T19:17:53.562Z"
   },
   {
    "duration": 124,
    "start_time": "2025-06-05T19:17:53.689Z"
   },
   {
    "duration": 31,
    "start_time": "2025-06-05T19:17:53.815Z"
   },
   {
    "duration": 97,
    "start_time": "2025-06-05T19:17:53.848Z"
   },
   {
    "duration": 94,
    "start_time": "2025-06-05T19:17:53.947Z"
   },
   {
    "duration": 777,
    "start_time": "2025-06-05T19:17:54.045Z"
   },
   {
    "duration": 173,
    "start_time": "2025-06-05T19:17:54.825Z"
   },
   {
    "duration": 765,
    "start_time": "2025-06-05T19:17:55.001Z"
   },
   {
    "duration": 0,
    "start_time": "2025-06-05T19:17:55.769Z"
   },
   {
    "duration": 0,
    "start_time": "2025-06-05T19:17:55.770Z"
   },
   {
    "duration": 0,
    "start_time": "2025-06-05T19:17:55.772Z"
   },
   {
    "duration": 0,
    "start_time": "2025-06-05T19:17:55.774Z"
   },
   {
    "duration": 0,
    "start_time": "2025-06-05T19:17:55.776Z"
   },
   {
    "duration": 83,
    "start_time": "2025-06-05T19:19:03.756Z"
   },
   {
    "duration": 38,
    "start_time": "2025-06-05T19:19:12.056Z"
   },
   {
    "duration": 92,
    "start_time": "2025-06-05T19:19:16.286Z"
   },
   {
    "duration": 112,
    "start_time": "2025-06-05T19:19:19.002Z"
   },
   {
    "duration": 39,
    "start_time": "2025-06-05T19:19:21.541Z"
   },
   {
    "duration": 38,
    "start_time": "2025-06-05T19:20:20.253Z"
   },
   {
    "duration": 94,
    "start_time": "2025-06-05T19:20:22.241Z"
   },
   {
    "duration": 5985,
    "start_time": "2025-06-05T19:21:24.439Z"
   },
   {
    "duration": 1417,
    "start_time": "2025-06-05T19:21:30.426Z"
   },
   {
    "duration": 3,
    "start_time": "2025-06-05T19:21:31.845Z"
   },
   {
    "duration": 84,
    "start_time": "2025-06-05T19:21:31.850Z"
   },
   {
    "duration": 1224,
    "start_time": "2025-06-05T19:21:31.937Z"
   },
   {
    "duration": 359,
    "start_time": "2025-06-05T19:21:33.164Z"
   },
   {
    "duration": 4,
    "start_time": "2025-06-05T19:21:33.525Z"
   },
   {
    "duration": 9,
    "start_time": "2025-06-05T19:21:33.531Z"
   },
   {
    "duration": 135,
    "start_time": "2025-06-05T19:21:33.542Z"
   },
   {
    "duration": 120,
    "start_time": "2025-06-05T19:21:33.679Z"
   },
   {
    "duration": 29,
    "start_time": "2025-06-05T19:21:33.801Z"
   },
   {
    "duration": 102,
    "start_time": "2025-06-05T19:21:33.832Z"
   },
   {
    "duration": 88,
    "start_time": "2025-06-05T19:21:33.936Z"
   },
   {
    "duration": 783,
    "start_time": "2025-06-05T19:21:34.027Z"
   },
   {
    "duration": 145,
    "start_time": "2025-06-05T19:21:34.812Z"
   },
   {
    "duration": 39,
    "start_time": "2025-06-05T19:21:34.958Z"
   },
   {
    "duration": 109,
    "start_time": "2025-06-05T19:21:34.999Z"
   },
   {
    "duration": 147,
    "start_time": "2025-06-05T19:21:35.110Z"
   },
   {
    "duration": 0,
    "start_time": "2025-06-05T19:21:35.260Z"
   },
   {
    "duration": 0,
    "start_time": "2025-06-05T19:21:35.262Z"
   },
   {
    "duration": 0,
    "start_time": "2025-06-05T19:21:35.264Z"
   },
   {
    "duration": 2861,
    "start_time": "2025-06-05T19:22:20.458Z"
   },
   {
    "duration": 95,
    "start_time": "2025-06-05T19:22:25.368Z"
   },
   {
    "duration": 96,
    "start_time": "2025-06-05T19:22:40.351Z"
   },
   {
    "duration": 52,
    "start_time": "2025-06-05T19:22:49.221Z"
   },
   {
    "duration": 98,
    "start_time": "2025-06-05T19:22:51.735Z"
   },
   {
    "duration": 6179,
    "start_time": "2025-06-05T19:22:59.046Z"
   },
   {
    "duration": 1517,
    "start_time": "2025-06-05T19:23:05.227Z"
   },
   {
    "duration": 4,
    "start_time": "2025-06-05T19:23:06.747Z"
   },
   {
    "duration": 4,
    "start_time": "2025-06-05T19:23:06.761Z"
   },
   {
    "duration": 1203,
    "start_time": "2025-06-05T19:23:06.768Z"
   },
   {
    "duration": 340,
    "start_time": "2025-06-05T19:23:07.973Z"
   },
   {
    "duration": 4,
    "start_time": "2025-06-05T19:23:08.314Z"
   },
   {
    "duration": 5,
    "start_time": "2025-06-05T19:23:08.320Z"
   },
   {
    "duration": 137,
    "start_time": "2025-06-05T19:23:08.327Z"
   },
   {
    "duration": 120,
    "start_time": "2025-06-05T19:23:08.465Z"
   },
   {
    "duration": 30,
    "start_time": "2025-06-05T19:23:08.586Z"
   },
   {
    "duration": 98,
    "start_time": "2025-06-05T19:23:08.618Z"
   },
   {
    "duration": 89,
    "start_time": "2025-06-05T19:23:08.718Z"
   },
   {
    "duration": 792,
    "start_time": "2025-06-05T19:23:08.810Z"
   },
   {
    "duration": 142,
    "start_time": "2025-06-05T19:23:09.604Z"
   },
   {
    "duration": 41,
    "start_time": "2025-06-05T19:23:09.748Z"
   },
   {
    "duration": 107,
    "start_time": "2025-06-05T19:23:09.791Z"
   },
   {
    "duration": 141,
    "start_time": "2025-06-05T19:23:09.899Z"
   },
   {
    "duration": 0,
    "start_time": "2025-06-05T19:23:10.041Z"
   },
   {
    "duration": 0,
    "start_time": "2025-06-05T19:23:10.043Z"
   },
   {
    "duration": 0,
    "start_time": "2025-06-05T19:23:10.044Z"
   },
   {
    "duration": 22,
    "start_time": "2025-06-05T19:23:39.107Z"
   },
   {
    "duration": 34,
    "start_time": "2025-06-05T19:23:51.486Z"
   },
   {
    "duration": 24,
    "start_time": "2025-06-05T19:24:07.001Z"
   },
   {
    "duration": 33,
    "start_time": "2025-06-05T19:24:15.675Z"
   },
   {
    "duration": 52,
    "start_time": "2025-06-05T19:24:28.254Z"
   },
   {
    "duration": 95,
    "start_time": "2025-06-05T19:24:31.395Z"
   },
   {
    "duration": 18,
    "start_time": "2025-06-05T19:26:14.434Z"
   },
   {
    "duration": 25,
    "start_time": "2025-06-05T19:26:17.593Z"
   },
   {
    "duration": 10,
    "start_time": "2025-06-05T19:29:18.140Z"
   },
   {
    "duration": 11,
    "start_time": "2025-06-05T19:29:50.613Z"
   },
   {
    "duration": 15,
    "start_time": "2025-06-05T19:30:26.796Z"
   },
   {
    "duration": 10,
    "start_time": "2025-06-05T19:30:39.651Z"
   },
   {
    "duration": 10,
    "start_time": "2025-06-05T19:30:52.184Z"
   },
   {
    "duration": 6078,
    "start_time": "2025-06-05T19:31:58.289Z"
   },
   {
    "duration": 1494,
    "start_time": "2025-06-05T19:32:04.369Z"
   },
   {
    "duration": 3,
    "start_time": "2025-06-05T19:32:05.865Z"
   },
   {
    "duration": 106,
    "start_time": "2025-06-05T19:32:05.870Z"
   },
   {
    "duration": 1216,
    "start_time": "2025-06-05T19:32:05.978Z"
   },
   {
    "duration": 345,
    "start_time": "2025-06-05T19:32:07.196Z"
   },
   {
    "duration": 4,
    "start_time": "2025-06-05T19:32:07.543Z"
   },
   {
    "duration": 18,
    "start_time": "2025-06-05T19:32:07.548Z"
   },
   {
    "duration": 134,
    "start_time": "2025-06-05T19:32:07.568Z"
   },
   {
    "duration": 134,
    "start_time": "2025-06-05T19:32:07.706Z"
   },
   {
    "duration": 37,
    "start_time": "2025-06-05T19:32:07.842Z"
   },
   {
    "duration": 97,
    "start_time": "2025-06-05T19:32:07.882Z"
   },
   {
    "duration": 104,
    "start_time": "2025-06-05T19:32:07.981Z"
   },
   {
    "duration": 734,
    "start_time": "2025-06-05T19:32:08.088Z"
   },
   {
    "duration": 145,
    "start_time": "2025-06-05T19:32:08.824Z"
   },
   {
    "duration": 43,
    "start_time": "2025-06-05T19:32:08.972Z"
   },
   {
    "duration": 119,
    "start_time": "2025-06-05T19:32:09.017Z"
   },
   {
    "duration": 147,
    "start_time": "2025-06-05T19:32:09.137Z"
   },
   {
    "duration": 0,
    "start_time": "2025-06-05T19:32:09.287Z"
   },
   {
    "duration": 0,
    "start_time": "2025-06-05T19:32:09.288Z"
   },
   {
    "duration": 0,
    "start_time": "2025-06-05T19:32:09.289Z"
   },
   {
    "duration": 400,
    "start_time": "2025-06-05T19:32:36.246Z"
   },
   {
    "duration": 90,
    "start_time": "2025-06-05T19:32:37.208Z"
   },
   {
    "duration": 110,
    "start_time": "2025-06-05T19:32:44.187Z"
   },
   {
    "duration": 3,
    "start_time": "2025-06-05T19:32:45.107Z"
   },
   {
    "duration": 10,
    "start_time": "2025-06-05T19:33:03.168Z"
   },
   {
    "duration": 5,
    "start_time": "2025-06-05T19:33:07.576Z"
   },
   {
    "duration": 14,
    "start_time": "2025-06-05T20:25:18.525Z"
   },
   {
    "duration": 406,
    "start_time": "2025-06-05T20:26:05.670Z"
   },
   {
    "duration": 5,
    "start_time": "2025-06-05T20:26:11.568Z"
   },
   {
    "duration": 221,
    "start_time": "2025-06-05T20:27:43.849Z"
   },
   {
    "duration": 33,
    "start_time": "2025-06-05T20:28:04.881Z"
   },
   {
    "duration": 4,
    "start_time": "2025-06-05T20:28:07.566Z"
   },
   {
    "duration": 93,
    "start_time": "2025-06-05T20:28:23.461Z"
   },
   {
    "duration": 144,
    "start_time": "2025-06-05T20:28:41.553Z"
   },
   {
    "duration": 3,
    "start_time": "2025-06-05T20:28:42.274Z"
   },
   {
    "duration": 32,
    "start_time": "2025-06-05T20:28:44.062Z"
   },
   {
    "duration": 461161,
    "start_time": "2025-06-05T20:28:44.606Z"
   },
   {
    "duration": 10611,
    "start_time": "2025-06-06T10:32:23.026Z"
   },
   {
    "duration": 1626,
    "start_time": "2025-06-06T10:32:33.639Z"
   },
   {
    "duration": 9,
    "start_time": "2025-06-06T10:32:35.267Z"
   },
   {
    "duration": 66,
    "start_time": "2025-06-06T10:32:35.278Z"
   },
   {
    "duration": 1230,
    "start_time": "2025-06-06T10:32:35.346Z"
   },
   {
    "duration": 363,
    "start_time": "2025-06-06T10:32:36.579Z"
   },
   {
    "duration": 4,
    "start_time": "2025-06-06T10:32:36.944Z"
   },
   {
    "duration": 15,
    "start_time": "2025-06-06T10:32:36.950Z"
   },
   {
    "duration": 142,
    "start_time": "2025-06-06T10:32:36.967Z"
   },
   {
    "duration": 108,
    "start_time": "2025-06-06T10:32:37.111Z"
   },
   {
    "duration": 32,
    "start_time": "2025-06-06T10:32:37.221Z"
   },
   {
    "duration": 127,
    "start_time": "2025-06-06T10:32:37.255Z"
   },
   {
    "duration": 77,
    "start_time": "2025-06-06T10:32:37.385Z"
   },
   {
    "duration": 784,
    "start_time": "2025-06-06T10:32:37.465Z"
   },
   {
    "duration": 155,
    "start_time": "2025-06-06T10:32:38.251Z"
   },
   {
    "duration": 432,
    "start_time": "2025-06-06T10:32:38.408Z"
   },
   {
    "duration": 109,
    "start_time": "2025-06-06T10:32:38.842Z"
   },
   {
    "duration": 388,
    "start_time": "2025-06-06T10:32:38.953Z"
   },
   {
    "duration": 97,
    "start_time": "2025-06-06T10:32:39.343Z"
   },
   {
    "duration": 103,
    "start_time": "2025-06-06T10:32:39.442Z"
   },
   {
    "duration": 152,
    "start_time": "2025-06-06T10:32:39.547Z"
   },
   {
    "duration": 3,
    "start_time": "2025-06-06T10:32:39.701Z"
   },
   {
    "duration": 31,
    "start_time": "2025-06-06T10:32:39.705Z"
   },
   {
    "duration": 469940,
    "start_time": "2025-06-06T10:32:39.738Z"
   },
   {
    "duration": 24,
    "start_time": "2025-06-06T10:46:42.504Z"
   },
   {
    "duration": 6141,
    "start_time": "2025-06-06T11:03:23.281Z"
   },
   {
    "duration": 1397,
    "start_time": "2025-06-06T11:03:29.425Z"
   },
   {
    "duration": 3,
    "start_time": "2025-06-06T11:03:30.824Z"
   },
   {
    "duration": 25,
    "start_time": "2025-06-06T11:03:30.829Z"
   },
   {
    "duration": 1258,
    "start_time": "2025-06-06T11:03:30.856Z"
   },
   {
    "duration": 375,
    "start_time": "2025-06-06T11:03:32.116Z"
   },
   {
    "duration": 4,
    "start_time": "2025-06-06T11:03:32.492Z"
   },
   {
    "duration": 32,
    "start_time": "2025-06-06T11:03:32.498Z"
   },
   {
    "duration": 153,
    "start_time": "2025-06-06T11:03:32.532Z"
   },
   {
    "duration": 122,
    "start_time": "2025-06-06T11:03:32.687Z"
   },
   {
    "duration": 30,
    "start_time": "2025-06-06T11:03:32.811Z"
   },
   {
    "duration": 102,
    "start_time": "2025-06-06T11:03:32.842Z"
   },
   {
    "duration": 89,
    "start_time": "2025-06-06T11:03:32.946Z"
   },
   {
    "duration": 800,
    "start_time": "2025-06-06T11:03:33.037Z"
   },
   {
    "duration": 149,
    "start_time": "2025-06-06T11:03:33.839Z"
   },
   {
    "duration": 416,
    "start_time": "2025-06-06T11:03:33.991Z"
   },
   {
    "duration": 105,
    "start_time": "2025-06-06T11:03:34.409Z"
   },
   {
    "duration": 396,
    "start_time": "2025-06-06T11:03:34.516Z"
   },
   {
    "duration": 94,
    "start_time": "2025-06-06T11:03:34.914Z"
   },
   {
    "duration": 106,
    "start_time": "2025-06-06T11:03:35.009Z"
   },
   {
    "duration": 161,
    "start_time": "2025-06-06T11:03:35.117Z"
   },
   {
    "duration": 4,
    "start_time": "2025-06-06T11:03:35.284Z"
   },
   {
    "duration": 60,
    "start_time": "2025-06-06T11:03:35.289Z"
   },
   {
    "duration": 6590,
    "start_time": "2025-06-06T11:04:58.474Z"
   },
   {
    "duration": 1544,
    "start_time": "2025-06-06T11:05:05.067Z"
   },
   {
    "duration": 4,
    "start_time": "2025-06-06T11:05:06.612Z"
   },
   {
    "duration": 21,
    "start_time": "2025-06-06T11:05:06.617Z"
   },
   {
    "duration": 1441,
    "start_time": "2025-06-06T11:05:06.640Z"
   },
   {
    "duration": 370,
    "start_time": "2025-06-06T11:05:08.086Z"
   },
   {
    "duration": 4,
    "start_time": "2025-06-06T11:05:08.458Z"
   },
   {
    "duration": 32,
    "start_time": "2025-06-06T11:05:08.475Z"
   },
   {
    "duration": 150,
    "start_time": "2025-06-06T11:05:08.509Z"
   },
   {
    "duration": 134,
    "start_time": "2025-06-06T11:05:08.661Z"
   },
   {
    "duration": 33,
    "start_time": "2025-06-06T11:05:08.798Z"
   },
   {
    "duration": 104,
    "start_time": "2025-06-06T11:05:08.833Z"
   },
   {
    "duration": 92,
    "start_time": "2025-06-06T11:05:08.939Z"
   },
   {
    "duration": 851,
    "start_time": "2025-06-06T11:05:09.034Z"
   },
   {
    "duration": 144,
    "start_time": "2025-06-06T11:05:09.887Z"
   },
   {
    "duration": 428,
    "start_time": "2025-06-06T11:05:10.033Z"
   },
   {
    "duration": 99,
    "start_time": "2025-06-06T11:05:10.463Z"
   },
   {
    "duration": 422,
    "start_time": "2025-06-06T11:05:10.570Z"
   },
   {
    "duration": 127,
    "start_time": "2025-06-06T11:05:10.994Z"
   },
   {
    "duration": 107,
    "start_time": "2025-06-06T11:05:11.123Z"
   },
   {
    "duration": 163,
    "start_time": "2025-06-06T11:05:11.233Z"
   },
   {
    "duration": 3,
    "start_time": "2025-06-06T11:05:11.399Z"
   },
   {
    "duration": 35,
    "start_time": "2025-06-06T11:05:11.404Z"
   },
   {
    "duration": 6198,
    "start_time": "2025-06-06T11:09:25.327Z"
   },
   {
    "duration": 1409,
    "start_time": "2025-06-06T11:09:31.528Z"
   },
   {
    "duration": 2,
    "start_time": "2025-06-06T11:09:32.939Z"
   },
   {
    "duration": 8,
    "start_time": "2025-06-06T11:09:32.943Z"
   },
   {
    "duration": 1205,
    "start_time": "2025-06-06T11:09:32.954Z"
   },
   {
    "duration": 347,
    "start_time": "2025-06-06T11:09:34.162Z"
   },
   {
    "duration": 4,
    "start_time": "2025-06-06T11:09:34.512Z"
   },
   {
    "duration": 7,
    "start_time": "2025-06-06T11:09:34.518Z"
   },
   {
    "duration": 147,
    "start_time": "2025-06-06T11:09:34.527Z"
   },
   {
    "duration": 113,
    "start_time": "2025-06-06T11:09:34.679Z"
   },
   {
    "duration": 37,
    "start_time": "2025-06-06T11:09:34.793Z"
   },
   {
    "duration": 142,
    "start_time": "2025-06-06T11:09:34.832Z"
   },
   {
    "duration": 86,
    "start_time": "2025-06-06T11:09:34.975Z"
   },
   {
    "duration": 850,
    "start_time": "2025-06-06T11:09:35.071Z"
   },
   {
    "duration": 151,
    "start_time": "2025-06-06T11:09:35.924Z"
   },
   {
    "duration": 435,
    "start_time": "2025-06-06T11:09:36.078Z"
   },
   {
    "duration": 105,
    "start_time": "2025-06-06T11:09:36.515Z"
   },
   {
    "duration": 405,
    "start_time": "2025-06-06T11:09:36.622Z"
   },
   {
    "duration": 100,
    "start_time": "2025-06-06T11:09:37.029Z"
   },
   {
    "duration": 108,
    "start_time": "2025-06-06T11:09:37.131Z"
   },
   {
    "duration": 160,
    "start_time": "2025-06-06T11:09:37.241Z"
   },
   {
    "duration": 3,
    "start_time": "2025-06-06T11:09:37.403Z"
   },
   {
    "duration": 44,
    "start_time": "2025-06-06T11:09:37.409Z"
   },
   {
    "duration": 904727,
    "start_time": "2025-06-06T11:09:37.455Z"
   },
   {
    "duration": 5,
    "start_time": "2025-06-06T11:30:44.738Z"
   },
   {
    "duration": 46,
    "start_time": "2025-06-06T11:32:05.107Z"
   },
   {
    "duration": 11,
    "start_time": "2025-06-06T11:32:22.426Z"
   },
   {
    "duration": 11,
    "start_time": "2025-06-06T11:32:38.341Z"
   },
   {
    "duration": 27,
    "start_time": "2025-06-06T11:34:14.663Z"
   },
   {
    "duration": 120,
    "start_time": "2025-06-06T11:35:29.876Z"
   },
   {
    "duration": 7,
    "start_time": "2025-06-06T11:35:40.203Z"
   },
   {
    "duration": 1649,
    "start_time": "2025-06-06T11:38:10.140Z"
   },
   {
    "duration": 21,
    "start_time": "2025-06-06T11:38:32.721Z"
   },
   {
    "duration": 4,
    "start_time": "2025-06-06T11:39:04.296Z"
   },
   {
    "duration": 20,
    "start_time": "2025-06-06T11:39:53.929Z"
   },
   {
    "duration": 11,
    "start_time": "2025-06-06T11:47:27.875Z"
   },
   {
    "duration": 1507,
    "start_time": "2025-06-06T11:51:39.474Z"
   },
   {
    "duration": 1504,
    "start_time": "2025-06-06T11:53:52.375Z"
   },
   {
    "duration": 4,
    "start_time": "2025-06-06T11:55:05.532Z"
   },
   {
    "duration": 6,
    "start_time": "2025-06-06T11:55:32.586Z"
   },
   {
    "duration": 8,
    "start_time": "2025-06-06T11:56:49.612Z"
   },
   {
    "duration": 97,
    "start_time": "2025-06-06T11:58:06.057Z"
   },
   {
    "duration": 22,
    "start_time": "2025-06-06T12:00:05.745Z"
   },
   {
    "duration": 5,
    "start_time": "2025-06-06T12:00:08.892Z"
   },
   {
    "duration": 5,
    "start_time": "2025-06-06T12:00:09.622Z"
   },
   {
    "duration": 9,
    "start_time": "2025-06-06T12:01:17.469Z"
   },
   {
    "duration": 1593,
    "start_time": "2025-06-06T12:01:26.591Z"
   },
   {
    "duration": 9,
    "start_time": "2025-06-06T12:01:34.240Z"
   },
   {
    "duration": 1495,
    "start_time": "2025-06-06T12:01:34.294Z"
   },
   {
    "duration": 10,
    "start_time": "2025-06-06T12:03:25.366Z"
   },
   {
    "duration": 1251,
    "start_time": "2025-06-06T12:03:41.311Z"
   },
   {
    "duration": 10,
    "start_time": "2025-06-06T12:03:49.253Z"
   },
   {
    "duration": 8,
    "start_time": "2025-06-06T12:04:06.092Z"
   },
   {
    "duration": 20,
    "start_time": "2025-06-06T12:04:47.325Z"
   },
   {
    "duration": 11,
    "start_time": "2025-06-06T12:05:00.426Z"
   },
   {
    "duration": 9,
    "start_time": "2025-06-06T12:08:57.713Z"
   },
   {
    "duration": 4,
    "start_time": "2025-06-06T12:09:08.291Z"
   },
   {
    "duration": 4,
    "start_time": "2025-06-06T12:09:11.664Z"
   },
   {
    "duration": 5,
    "start_time": "2025-06-06T12:09:38.340Z"
   },
   {
    "duration": 4,
    "start_time": "2025-06-06T12:09:48.577Z"
   },
   {
    "duration": 4,
    "start_time": "2025-06-06T12:10:04.094Z"
   },
   {
    "duration": 13,
    "start_time": "2025-06-06T12:11:11.534Z"
   },
   {
    "duration": 1486,
    "start_time": "2025-06-06T12:11:14.103Z"
   },
   {
    "duration": 5,
    "start_time": "2025-06-06T12:11:16.627Z"
   },
   {
    "duration": 4,
    "start_time": "2025-06-06T12:11:17.028Z"
   },
   {
    "duration": 4,
    "start_time": "2025-06-06T12:11:31.325Z"
   },
   {
    "duration": 13,
    "start_time": "2025-06-06T12:13:16.889Z"
   },
   {
    "duration": 4,
    "start_time": "2025-06-06T12:13:24.866Z"
   },
   {
    "duration": 12,
    "start_time": "2025-06-06T12:16:59.602Z"
   },
   {
    "duration": 4,
    "start_time": "2025-06-06T12:17:07.044Z"
   },
   {
    "duration": 5952,
    "start_time": "2025-06-06T12:35:49.364Z"
   },
   {
    "duration": 1423,
    "start_time": "2025-06-06T12:35:55.319Z"
   },
   {
    "duration": 3,
    "start_time": "2025-06-06T12:35:56.744Z"
   },
   {
    "duration": 4,
    "start_time": "2025-06-06T12:35:56.749Z"
   },
   {
    "duration": 1246,
    "start_time": "2025-06-06T12:35:56.756Z"
   },
   {
    "duration": 353,
    "start_time": "2025-06-06T12:35:58.004Z"
   },
   {
    "duration": 4,
    "start_time": "2025-06-06T12:35:58.359Z"
   },
   {
    "duration": 9,
    "start_time": "2025-06-06T12:35:58.364Z"
   },
   {
    "duration": 127,
    "start_time": "2025-06-06T12:35:58.375Z"
   },
   {
    "duration": 114,
    "start_time": "2025-06-06T12:35:58.504Z"
   },
   {
    "duration": 29,
    "start_time": "2025-06-06T12:35:58.620Z"
   },
   {
    "duration": 100,
    "start_time": "2025-06-06T12:35:58.651Z"
   },
   {
    "duration": 91,
    "start_time": "2025-06-06T12:35:58.753Z"
   },
   {
    "duration": 733,
    "start_time": "2025-06-06T12:35:58.847Z"
   },
   {
    "duration": 136,
    "start_time": "2025-06-06T12:35:59.582Z"
   },
   {
    "duration": 397,
    "start_time": "2025-06-06T12:35:59.720Z"
   },
   {
    "duration": 95,
    "start_time": "2025-06-06T12:36:00.118Z"
   },
   {
    "duration": 381,
    "start_time": "2025-06-06T12:36:00.215Z"
   },
   {
    "duration": 122,
    "start_time": "2025-06-06T12:36:00.598Z"
   },
   {
    "duration": 97,
    "start_time": "2025-06-06T12:36:00.721Z"
   },
   {
    "duration": 255,
    "start_time": "2025-06-06T12:36:00.820Z"
   },
   {
    "duration": 3,
    "start_time": "2025-06-06T12:36:01.077Z"
   },
   {
    "duration": 32,
    "start_time": "2025-06-06T12:36:01.082Z"
   },
   {
    "duration": 719561,
    "start_time": "2025-06-06T12:36:01.116Z"
   },
   {
    "duration": 7,
    "start_time": "2025-06-06T12:48:00.679Z"
   },
   {
    "duration": 1590,
    "start_time": "2025-06-06T12:48:00.688Z"
   },
   {
    "duration": 6,
    "start_time": "2025-06-06T12:48:02.280Z"
   },
   {
    "duration": 10,
    "start_time": "2025-06-06T12:48:02.289Z"
   },
   {
    "duration": 34,
    "start_time": "2025-06-06T12:48:02.301Z"
   },
   {
    "duration": 5915,
    "start_time": "2025-06-06T14:27:36.066Z"
   },
   {
    "duration": 1483,
    "start_time": "2025-06-06T14:27:41.984Z"
   },
   {
    "duration": 3,
    "start_time": "2025-06-06T14:27:43.470Z"
   },
   {
    "duration": 12,
    "start_time": "2025-06-06T14:27:43.475Z"
   },
   {
    "duration": 1254,
    "start_time": "2025-06-06T14:27:43.490Z"
   },
   {
    "duration": 353,
    "start_time": "2025-06-06T14:27:44.745Z"
   },
   {
    "duration": 3,
    "start_time": "2025-06-06T14:27:45.100Z"
   },
   {
    "duration": 76,
    "start_time": "2025-06-06T14:27:45.105Z"
   },
   {
    "duration": 145,
    "start_time": "2025-06-06T14:27:45.183Z"
   },
   {
    "duration": 120,
    "start_time": "2025-06-06T14:27:45.330Z"
   },
   {
    "duration": 41,
    "start_time": "2025-06-06T14:27:45.452Z"
   },
   {
    "duration": 104,
    "start_time": "2025-06-06T14:27:45.495Z"
   },
   {
    "duration": 90,
    "start_time": "2025-06-06T14:27:45.601Z"
   },
   {
    "duration": 792,
    "start_time": "2025-06-06T14:27:45.695Z"
   },
   {
    "duration": 136,
    "start_time": "2025-06-06T14:27:46.489Z"
   },
   {
    "duration": 402,
    "start_time": "2025-06-06T14:27:46.628Z"
   },
   {
    "duration": 101,
    "start_time": "2025-06-06T14:27:47.032Z"
   },
   {
    "duration": 386,
    "start_time": "2025-06-06T14:27:47.136Z"
   },
   {
    "duration": 130,
    "start_time": "2025-06-06T14:27:47.524Z"
   },
   {
    "duration": 93,
    "start_time": "2025-06-06T14:27:47.656Z"
   },
   {
    "duration": 154,
    "start_time": "2025-06-06T14:27:47.752Z"
   },
   {
    "duration": 4,
    "start_time": "2025-06-06T14:27:47.908Z"
   },
   {
    "duration": 38,
    "start_time": "2025-06-06T14:27:47.914Z"
   },
   {
    "duration": 757227,
    "start_time": "2025-06-06T14:27:47.954Z"
   },
   {
    "duration": 9,
    "start_time": "2025-06-06T14:40:25.182Z"
   },
   {
    "duration": 1593,
    "start_time": "2025-06-06T14:40:25.193Z"
   },
   {
    "duration": 5,
    "start_time": "2025-06-06T14:40:26.787Z"
   },
   {
    "duration": 14,
    "start_time": "2025-06-06T14:40:26.793Z"
   },
   {
    "duration": 7,
    "start_time": "2025-06-06T14:40:26.809Z"
   },
   {
    "duration": 5951,
    "start_time": "2025-06-06T14:47:49.888Z"
   },
   {
    "duration": 1502,
    "start_time": "2025-06-06T14:47:55.841Z"
   },
   {
    "duration": 4,
    "start_time": "2025-06-06T14:47:57.344Z"
   },
   {
    "duration": 77,
    "start_time": "2025-06-06T14:47:57.350Z"
   },
   {
    "duration": 1188,
    "start_time": "2025-06-06T14:47:57.429Z"
   },
   {
    "duration": 348,
    "start_time": "2025-06-06T14:47:58.618Z"
   },
   {
    "duration": 4,
    "start_time": "2025-06-06T14:47:58.968Z"
   },
   {
    "duration": 23,
    "start_time": "2025-06-06T14:47:58.974Z"
   },
   {
    "duration": 126,
    "start_time": "2025-06-06T14:47:58.998Z"
   },
   {
    "duration": 110,
    "start_time": "2025-06-06T14:47:59.127Z"
   },
   {
    "duration": 42,
    "start_time": "2025-06-06T14:47:59.239Z"
   },
   {
    "duration": 88,
    "start_time": "2025-06-06T14:47:59.283Z"
   },
   {
    "duration": 76,
    "start_time": "2025-06-06T14:47:59.373Z"
   },
   {
    "duration": 754,
    "start_time": "2025-06-06T14:47:59.451Z"
   },
   {
    "duration": 135,
    "start_time": "2025-06-06T14:48:00.207Z"
   },
   {
    "duration": 393,
    "start_time": "2025-06-06T14:48:00.343Z"
   },
   {
    "duration": 96,
    "start_time": "2025-06-06T14:48:00.738Z"
   },
   {
    "duration": 397,
    "start_time": "2025-06-06T14:48:00.835Z"
   },
   {
    "duration": 128,
    "start_time": "2025-06-06T14:48:01.233Z"
   },
   {
    "duration": 94,
    "start_time": "2025-06-06T14:48:01.363Z"
   },
   {
    "duration": 155,
    "start_time": "2025-06-06T14:48:01.459Z"
   },
   {
    "duration": 3,
    "start_time": "2025-06-06T14:48:01.616Z"
   },
   {
    "duration": 69,
    "start_time": "2025-06-06T14:48:01.621Z"
   },
   {
    "duration": 97,
    "start_time": "2025-06-06T14:48:01.693Z"
   },
   {
    "duration": 0,
    "start_time": "2025-06-06T14:48:01.792Z"
   },
   {
    "duration": 0,
    "start_time": "2025-06-06T14:48:01.793Z"
   },
   {
    "duration": 0,
    "start_time": "2025-06-06T14:48:01.794Z"
   },
   {
    "duration": 0,
    "start_time": "2025-06-06T14:48:01.795Z"
   },
   {
    "duration": 0,
    "start_time": "2025-06-06T14:48:01.796Z"
   },
   {
    "duration": 0,
    "start_time": "2025-06-06T14:48:01.797Z"
   },
   {
    "duration": 0,
    "start_time": "2025-06-06T14:48:01.798Z"
   },
   {
    "duration": 3,
    "start_time": "2025-06-06T14:48:07.073Z"
   },
   {
    "duration": 5910,
    "start_time": "2025-06-06T14:50:09.819Z"
   },
   {
    "duration": 1411,
    "start_time": "2025-06-06T14:50:15.732Z"
   },
   {
    "duration": 3,
    "start_time": "2025-06-06T14:50:17.145Z"
   },
   {
    "duration": 17,
    "start_time": "2025-06-06T14:50:17.150Z"
   },
   {
    "duration": 1196,
    "start_time": "2025-06-06T14:50:17.169Z"
   },
   {
    "duration": 340,
    "start_time": "2025-06-06T14:50:18.367Z"
   },
   {
    "duration": 4,
    "start_time": "2025-06-06T14:50:18.709Z"
   },
   {
    "duration": 6,
    "start_time": "2025-06-06T14:50:18.715Z"
   },
   {
    "duration": 136,
    "start_time": "2025-06-06T14:50:18.723Z"
   },
   {
    "duration": 118,
    "start_time": "2025-06-06T14:50:18.861Z"
   },
   {
    "duration": 34,
    "start_time": "2025-06-06T14:50:18.981Z"
   },
   {
    "duration": 109,
    "start_time": "2025-06-06T14:50:19.016Z"
   },
   {
    "duration": 96,
    "start_time": "2025-06-06T14:50:19.127Z"
   },
   {
    "duration": 780,
    "start_time": "2025-06-06T14:50:19.225Z"
   },
   {
    "duration": 141,
    "start_time": "2025-06-06T14:50:20.007Z"
   },
   {
    "duration": 400,
    "start_time": "2025-06-06T14:50:20.150Z"
   },
   {
    "duration": 97,
    "start_time": "2025-06-06T14:50:20.552Z"
   },
   {
    "duration": 384,
    "start_time": "2025-06-06T14:50:20.651Z"
   },
   {
    "duration": 107,
    "start_time": "2025-06-06T14:50:21.037Z"
   },
   {
    "duration": 100,
    "start_time": "2025-06-06T14:50:21.146Z"
   },
   {
    "duration": 137,
    "start_time": "2025-06-06T14:50:21.248Z"
   },
   {
    "duration": 3,
    "start_time": "2025-06-06T14:50:21.387Z"
   },
   {
    "duration": 87,
    "start_time": "2025-06-06T14:50:21.392Z"
   },
   {
    "duration": 3,
    "start_time": "2025-06-06T14:50:21.481Z"
   },
   {
    "duration": 6024,
    "start_time": "2025-06-06T14:59:02.442Z"
   },
   {
    "duration": 1460,
    "start_time": "2025-06-06T14:59:08.469Z"
   },
   {
    "duration": 4,
    "start_time": "2025-06-06T14:59:09.931Z"
   },
   {
    "duration": 4,
    "start_time": "2025-06-06T14:59:09.937Z"
   },
   {
    "duration": 1189,
    "start_time": "2025-06-06T14:59:09.943Z"
   },
   {
    "duration": 336,
    "start_time": "2025-06-06T14:59:11.134Z"
   },
   {
    "duration": 4,
    "start_time": "2025-06-06T14:59:11.471Z"
   },
   {
    "duration": 24,
    "start_time": "2025-06-06T14:59:11.476Z"
   },
   {
    "duration": 122,
    "start_time": "2025-06-06T14:59:11.502Z"
   },
   {
    "duration": 118,
    "start_time": "2025-06-06T14:59:11.627Z"
   },
   {
    "duration": 41,
    "start_time": "2025-06-06T14:59:11.747Z"
   },
   {
    "duration": 103,
    "start_time": "2025-06-06T14:59:11.789Z"
   },
   {
    "duration": 90,
    "start_time": "2025-06-06T14:59:11.894Z"
   },
   {
    "duration": 842,
    "start_time": "2025-06-06T14:59:11.986Z"
   },
   {
    "duration": 138,
    "start_time": "2025-06-06T14:59:12.830Z"
   },
   {
    "duration": 396,
    "start_time": "2025-06-06T14:59:12.970Z"
   },
   {
    "duration": 88,
    "start_time": "2025-06-06T14:59:13.372Z"
   },
   {
    "duration": 35,
    "start_time": "2025-06-06T14:59:13.462Z"
   },
   {
    "duration": 399,
    "start_time": "2025-06-06T14:59:13.499Z"
   },
   {
    "duration": 94,
    "start_time": "2025-06-06T14:59:13.900Z"
   },
   {
    "duration": 94,
    "start_time": "2025-06-06T14:59:13.996Z"
   },
   {
    "duration": 164,
    "start_time": "2025-06-06T14:59:14.092Z"
   },
   {
    "duration": 3,
    "start_time": "2025-06-06T14:59:14.258Z"
   },
   {
    "duration": 32,
    "start_time": "2025-06-06T14:59:14.270Z"
   },
   {
    "duration": 3,
    "start_time": "2025-06-06T14:59:14.304Z"
   },
   {
    "duration": 5897,
    "start_time": "2025-06-06T15:16:15.451Z"
   },
   {
    "duration": 1514,
    "start_time": "2025-06-06T15:16:21.351Z"
   },
   {
    "duration": 4,
    "start_time": "2025-06-06T15:16:22.867Z"
   },
   {
    "duration": 18,
    "start_time": "2025-06-06T15:16:22.873Z"
   },
   {
    "duration": 1222,
    "start_time": "2025-06-06T15:16:22.893Z"
   },
   {
    "duration": 345,
    "start_time": "2025-06-06T15:16:24.117Z"
   },
   {
    "duration": 7,
    "start_time": "2025-06-06T15:16:24.464Z"
   },
   {
    "duration": 25,
    "start_time": "2025-06-06T15:16:24.473Z"
   },
   {
    "duration": 155,
    "start_time": "2025-06-06T15:16:24.500Z"
   },
   {
    "duration": 130,
    "start_time": "2025-06-06T15:16:24.657Z"
   },
   {
    "duration": 32,
    "start_time": "2025-06-06T15:16:24.789Z"
   },
   {
    "duration": 104,
    "start_time": "2025-06-06T15:16:24.823Z"
   },
   {
    "duration": 86,
    "start_time": "2025-06-06T15:16:24.929Z"
   },
   {
    "duration": 756,
    "start_time": "2025-06-06T15:16:25.018Z"
   },
   {
    "duration": 139,
    "start_time": "2025-06-06T15:16:25.776Z"
   },
   {
    "duration": 406,
    "start_time": "2025-06-06T15:16:25.917Z"
   },
   {
    "duration": 96,
    "start_time": "2025-06-06T15:16:26.324Z"
   },
   {
    "duration": 103,
    "start_time": "2025-06-06T15:16:26.422Z"
   },
   {
    "duration": 371,
    "start_time": "2025-06-06T15:16:26.527Z"
   },
   {
    "duration": 122,
    "start_time": "2025-06-06T15:16:26.900Z"
   },
   {
    "duration": 100,
    "start_time": "2025-06-06T15:16:27.024Z"
   },
   {
    "duration": 158,
    "start_time": "2025-06-06T15:16:27.125Z"
   },
   {
    "duration": 4,
    "start_time": "2025-06-06T15:16:27.285Z"
   },
   {
    "duration": 43,
    "start_time": "2025-06-06T15:16:27.290Z"
   },
   {
    "duration": 3,
    "start_time": "2025-06-06T15:16:27.335Z"
   },
   {
    "duration": 1787,
    "start_time": "2025-06-06T15:16:27.340Z"
   },
   {
    "duration": 5976,
    "start_time": "2025-06-06T15:17:50.854Z"
   },
   {
    "duration": 1387,
    "start_time": "2025-06-06T15:17:56.833Z"
   },
   {
    "duration": 3,
    "start_time": "2025-06-06T15:17:58.222Z"
   },
   {
    "duration": 13,
    "start_time": "2025-06-06T15:17:58.227Z"
   },
   {
    "duration": 1195,
    "start_time": "2025-06-06T15:17:58.242Z"
   },
   {
    "duration": 352,
    "start_time": "2025-06-06T15:17:59.440Z"
   },
   {
    "duration": 4,
    "start_time": "2025-06-06T15:17:59.794Z"
   },
   {
    "duration": 7,
    "start_time": "2025-06-06T15:17:59.800Z"
   },
   {
    "duration": 142,
    "start_time": "2025-06-06T15:17:59.809Z"
   },
   {
    "duration": 124,
    "start_time": "2025-06-06T15:17:59.952Z"
   },
   {
    "duration": 31,
    "start_time": "2025-06-06T15:18:00.078Z"
   },
   {
    "duration": 105,
    "start_time": "2025-06-06T15:18:00.111Z"
   },
   {
    "duration": 91,
    "start_time": "2025-06-06T15:18:00.218Z"
   },
   {
    "duration": 754,
    "start_time": "2025-06-06T15:18:00.312Z"
   },
   {
    "duration": 141,
    "start_time": "2025-06-06T15:18:01.071Z"
   },
   {
    "duration": 398,
    "start_time": "2025-06-06T15:18:01.214Z"
   },
   {
    "duration": 96,
    "start_time": "2025-06-06T15:18:01.614Z"
   },
   {
    "duration": 62,
    "start_time": "2025-06-06T15:18:01.712Z"
   },
   {
    "duration": 368,
    "start_time": "2025-06-06T15:18:01.776Z"
   },
   {
    "duration": 131,
    "start_time": "2025-06-06T15:18:02.146Z"
   },
   {
    "duration": 102,
    "start_time": "2025-06-06T15:18:02.278Z"
   },
   {
    "duration": 139,
    "start_time": "2025-06-06T15:18:02.381Z"
   },
   {
    "duration": 3,
    "start_time": "2025-06-06T15:18:02.522Z"
   },
   {
    "duration": 58,
    "start_time": "2025-06-06T15:18:02.527Z"
   },
   {
    "duration": 22,
    "start_time": "2025-06-06T15:18:02.587Z"
   },
   {
    "duration": 1848,
    "start_time": "2025-06-06T15:18:02.611Z"
   },
   {
    "duration": 5957,
    "start_time": "2025-06-06T15:19:39.369Z"
   },
   {
    "duration": 1433,
    "start_time": "2025-06-06T15:19:45.329Z"
   },
   {
    "duration": 3,
    "start_time": "2025-06-06T15:19:46.764Z"
   },
   {
    "duration": 24,
    "start_time": "2025-06-06T15:19:46.768Z"
   },
   {
    "duration": 1159,
    "start_time": "2025-06-06T15:19:46.794Z"
   },
   {
    "duration": 346,
    "start_time": "2025-06-06T15:19:47.954Z"
   },
   {
    "duration": 4,
    "start_time": "2025-06-06T15:19:48.301Z"
   },
   {
    "duration": 5,
    "start_time": "2025-06-06T15:19:48.307Z"
   },
   {
    "duration": 131,
    "start_time": "2025-06-06T15:19:48.314Z"
   },
   {
    "duration": 120,
    "start_time": "2025-06-06T15:19:48.446Z"
   },
   {
    "duration": 30,
    "start_time": "2025-06-06T15:19:48.570Z"
   },
   {
    "duration": 103,
    "start_time": "2025-06-06T15:19:48.601Z"
   },
   {
    "duration": 91,
    "start_time": "2025-06-06T15:19:48.705Z"
   },
   {
    "duration": 791,
    "start_time": "2025-06-06T15:19:48.799Z"
   },
   {
    "duration": 144,
    "start_time": "2025-06-06T15:19:49.591Z"
   },
   {
    "duration": 417,
    "start_time": "2025-06-06T15:19:49.736Z"
   },
   {
    "duration": 95,
    "start_time": "2025-06-06T15:19:50.154Z"
   },
   {
    "duration": 114,
    "start_time": "2025-06-06T15:19:50.251Z"
   },
   {
    "duration": 383,
    "start_time": "2025-06-06T15:19:50.371Z"
   },
   {
    "duration": 139,
    "start_time": "2025-06-06T15:19:50.756Z"
   },
   {
    "duration": 108,
    "start_time": "2025-06-06T15:19:50.897Z"
   },
   {
    "duration": 150,
    "start_time": "2025-06-06T15:19:51.007Z"
   },
   {
    "duration": 12,
    "start_time": "2025-06-06T15:19:51.160Z"
   },
   {
    "duration": 40,
    "start_time": "2025-06-06T15:19:51.174Z"
   },
   {
    "duration": 49,
    "start_time": "2025-06-06T15:19:51.216Z"
   },
   {
    "duration": 1853,
    "start_time": "2025-06-06T15:19:51.266Z"
   },
   {
    "duration": 5912,
    "start_time": "2025-06-06T15:20:27.242Z"
   },
   {
    "duration": 1461,
    "start_time": "2025-06-06T15:20:33.156Z"
   },
   {
    "duration": 3,
    "start_time": "2025-06-06T15:20:34.619Z"
   },
   {
    "duration": 4,
    "start_time": "2025-06-06T15:20:34.624Z"
   },
   {
    "duration": 1178,
    "start_time": "2025-06-06T15:20:34.631Z"
   },
   {
    "duration": 355,
    "start_time": "2025-06-06T15:20:35.810Z"
   },
   {
    "duration": 5,
    "start_time": "2025-06-06T15:20:36.167Z"
   },
   {
    "duration": 19,
    "start_time": "2025-06-06T15:20:36.174Z"
   },
   {
    "duration": 125,
    "start_time": "2025-06-06T15:20:36.195Z"
   },
   {
    "duration": 121,
    "start_time": "2025-06-06T15:20:36.322Z"
   },
   {
    "duration": 39,
    "start_time": "2025-06-06T15:20:36.445Z"
   },
   {
    "duration": 94,
    "start_time": "2025-06-06T15:20:36.486Z"
   },
   {
    "duration": 90,
    "start_time": "2025-06-06T15:20:36.582Z"
   },
   {
    "duration": 747,
    "start_time": "2025-06-06T15:20:36.675Z"
   },
   {
    "duration": 140,
    "start_time": "2025-06-06T15:20:37.424Z"
   },
   {
    "duration": 502,
    "start_time": "2025-06-06T15:20:37.566Z"
   },
   {
    "duration": 88,
    "start_time": "2025-06-06T15:20:38.071Z"
   },
   {
    "duration": 118,
    "start_time": "2025-06-06T15:20:38.161Z"
   },
   {
    "duration": 379,
    "start_time": "2025-06-06T15:20:38.281Z"
   },
   {
    "duration": 138,
    "start_time": "2025-06-06T15:20:38.662Z"
   },
   {
    "duration": 100,
    "start_time": "2025-06-06T15:20:38.802Z"
   },
   {
    "duration": 143,
    "start_time": "2025-06-06T15:20:38.904Z"
   },
   {
    "duration": 3,
    "start_time": "2025-06-06T15:20:39.049Z"
   },
   {
    "duration": 39,
    "start_time": "2025-06-06T15:20:39.054Z"
   },
   {
    "duration": 36,
    "start_time": "2025-06-06T15:20:39.095Z"
   },
   {
    "duration": 1765,
    "start_time": "2025-06-06T15:20:39.133Z"
   },
   {
    "duration": 5963,
    "start_time": "2025-06-06T15:21:21.066Z"
   },
   {
    "duration": 1402,
    "start_time": "2025-06-06T15:21:27.032Z"
   },
   {
    "duration": 3,
    "start_time": "2025-06-06T15:21:28.436Z"
   },
   {
    "duration": 19,
    "start_time": "2025-06-06T15:21:28.441Z"
   },
   {
    "duration": 1172,
    "start_time": "2025-06-06T15:21:28.462Z"
   },
   {
    "duration": 344,
    "start_time": "2025-06-06T15:21:29.635Z"
   },
   {
    "duration": 3,
    "start_time": "2025-06-06T15:21:29.981Z"
   },
   {
    "duration": 37,
    "start_time": "2025-06-06T15:21:29.986Z"
   },
   {
    "duration": 156,
    "start_time": "2025-06-06T15:21:30.025Z"
   },
   {
    "duration": 117,
    "start_time": "2025-06-06T15:21:30.183Z"
   },
   {
    "duration": 32,
    "start_time": "2025-06-06T15:21:30.302Z"
   },
   {
    "duration": 131,
    "start_time": "2025-06-06T15:21:30.336Z"
   },
   {
    "duration": 86,
    "start_time": "2025-06-06T15:21:30.468Z"
   },
   {
    "duration": 847,
    "start_time": "2025-06-06T15:21:30.557Z"
   },
   {
    "duration": 154,
    "start_time": "2025-06-06T15:21:31.406Z"
   },
   {
    "duration": 410,
    "start_time": "2025-06-06T15:21:31.561Z"
   },
   {
    "duration": 103,
    "start_time": "2025-06-06T15:21:31.973Z"
   },
   {
    "duration": 48,
    "start_time": "2025-06-06T15:21:32.078Z"
   },
   {
    "duration": 407,
    "start_time": "2025-06-06T15:21:32.128Z"
   },
   {
    "duration": 134,
    "start_time": "2025-06-06T15:21:32.537Z"
   },
   {
    "duration": 100,
    "start_time": "2025-06-06T15:21:32.673Z"
   },
   {
    "duration": 156,
    "start_time": "2025-06-06T15:21:32.775Z"
   },
   {
    "duration": 4,
    "start_time": "2025-06-06T15:21:32.933Z"
   },
   {
    "duration": 51,
    "start_time": "2025-06-06T15:21:32.939Z"
   },
   {
    "duration": 64,
    "start_time": "2025-06-06T15:21:32.992Z"
   },
   {
    "duration": 6001,
    "start_time": "2025-06-06T15:38:29.137Z"
   },
   {
    "duration": 1402,
    "start_time": "2025-06-06T15:38:35.142Z"
   },
   {
    "duration": 3,
    "start_time": "2025-06-06T15:38:36.545Z"
   },
   {
    "duration": 13,
    "start_time": "2025-06-06T15:38:36.550Z"
   },
   {
    "duration": 1164,
    "start_time": "2025-06-06T15:38:36.565Z"
   },
   {
    "duration": 354,
    "start_time": "2025-06-06T15:38:37.730Z"
   },
   {
    "duration": 4,
    "start_time": "2025-06-06T15:38:38.085Z"
   },
   {
    "duration": 6,
    "start_time": "2025-06-06T15:38:38.091Z"
   },
   {
    "duration": 132,
    "start_time": "2025-06-06T15:38:38.098Z"
   },
   {
    "duration": 125,
    "start_time": "2025-06-06T15:38:38.233Z"
   },
   {
    "duration": 36,
    "start_time": "2025-06-06T15:38:38.360Z"
   },
   {
    "duration": 103,
    "start_time": "2025-06-06T15:38:38.398Z"
   },
   {
    "duration": 88,
    "start_time": "2025-06-06T15:38:38.503Z"
   },
   {
    "duration": 777,
    "start_time": "2025-06-06T15:38:38.594Z"
   },
   {
    "duration": 140,
    "start_time": "2025-06-06T15:38:39.373Z"
   },
   {
    "duration": 401,
    "start_time": "2025-06-06T15:38:39.515Z"
   },
   {
    "duration": 101,
    "start_time": "2025-06-06T15:38:39.919Z"
   },
   {
    "duration": 400,
    "start_time": "2025-06-06T15:38:40.021Z"
   },
   {
    "duration": 126,
    "start_time": "2025-06-06T15:38:40.423Z"
   },
   {
    "duration": 92,
    "start_time": "2025-06-06T15:38:40.551Z"
   },
   {
    "duration": 150,
    "start_time": "2025-06-06T15:38:40.645Z"
   },
   {
    "duration": 3,
    "start_time": "2025-06-06T15:38:40.797Z"
   },
   {
    "duration": 41,
    "start_time": "2025-06-06T15:38:40.801Z"
   },
   {
    "duration": 4,
    "start_time": "2025-06-06T15:38:40.844Z"
   },
   {
    "duration": 5898,
    "start_time": "2025-06-06T15:42:26.879Z"
   },
   {
    "duration": 1461,
    "start_time": "2025-06-06T15:42:32.781Z"
   },
   {
    "duration": 3,
    "start_time": "2025-06-06T15:42:34.244Z"
   },
   {
    "duration": 43,
    "start_time": "2025-06-06T15:42:34.248Z"
   },
   {
    "duration": 1247,
    "start_time": "2025-06-06T15:42:34.294Z"
   },
   {
    "duration": 351,
    "start_time": "2025-06-06T15:42:35.543Z"
   },
   {
    "duration": 4,
    "start_time": "2025-06-06T15:42:35.895Z"
   },
   {
    "duration": 6,
    "start_time": "2025-06-06T15:42:35.901Z"
   },
   {
    "duration": 141,
    "start_time": "2025-06-06T15:42:35.909Z"
   },
   {
    "duration": 129,
    "start_time": "2025-06-06T15:42:36.051Z"
   },
   {
    "duration": 33,
    "start_time": "2025-06-06T15:42:36.181Z"
   },
   {
    "duration": 109,
    "start_time": "2025-06-06T15:42:36.216Z"
   },
   {
    "duration": 89,
    "start_time": "2025-06-06T15:42:36.327Z"
   },
   {
    "duration": 790,
    "start_time": "2025-06-06T15:42:36.420Z"
   },
   {
    "duration": 148,
    "start_time": "2025-06-06T15:42:37.212Z"
   },
   {
    "duration": 403,
    "start_time": "2025-06-06T15:42:37.371Z"
   },
   {
    "duration": 107,
    "start_time": "2025-06-06T15:42:37.776Z"
   },
   {
    "duration": 430,
    "start_time": "2025-06-06T15:42:37.885Z"
   },
   {
    "duration": 131,
    "start_time": "2025-06-06T15:42:38.318Z"
   },
   {
    "duration": 97,
    "start_time": "2025-06-06T15:42:38.451Z"
   },
   {
    "duration": 152,
    "start_time": "2025-06-06T15:42:38.550Z"
   },
   {
    "duration": 4,
    "start_time": "2025-06-06T15:42:38.704Z"
   },
   {
    "duration": 36,
    "start_time": "2025-06-06T15:42:38.710Z"
   },
   {
    "duration": 25,
    "start_time": "2025-06-06T15:42:38.749Z"
   },
   {
    "duration": 148,
    "start_time": "2025-06-06T15:42:38.776Z"
   },
   {
    "duration": 0,
    "start_time": "2025-06-06T15:42:38.925Z"
   },
   {
    "duration": 0,
    "start_time": "2025-06-06T15:42:38.926Z"
   },
   {
    "duration": 0,
    "start_time": "2025-06-06T15:42:38.928Z"
   },
   {
    "duration": 0,
    "start_time": "2025-06-06T15:42:38.930Z"
   },
   {
    "duration": 0,
    "start_time": "2025-06-06T15:42:38.931Z"
   },
   {
    "duration": 0,
    "start_time": "2025-06-06T15:42:38.933Z"
   },
   {
    "duration": 0,
    "start_time": "2025-06-06T15:42:38.934Z"
   },
   {
    "duration": 6845,
    "start_time": "2025-06-06T15:58:54.518Z"
   },
   {
    "duration": 1587,
    "start_time": "2025-06-06T15:59:01.366Z"
   },
   {
    "duration": 3,
    "start_time": "2025-06-06T15:59:02.955Z"
   },
   {
    "duration": 18,
    "start_time": "2025-06-06T15:59:02.960Z"
   },
   {
    "duration": 1245,
    "start_time": "2025-06-06T15:59:02.980Z"
   },
   {
    "duration": 344,
    "start_time": "2025-06-06T15:59:04.227Z"
   },
   {
    "duration": 3,
    "start_time": "2025-06-06T15:59:04.573Z"
   },
   {
    "duration": 50,
    "start_time": "2025-06-06T15:59:04.578Z"
   },
   {
    "duration": 153,
    "start_time": "2025-06-06T15:59:04.630Z"
   },
   {
    "duration": 125,
    "start_time": "2025-06-06T15:59:04.786Z"
   },
   {
    "duration": 31,
    "start_time": "2025-06-06T15:59:04.912Z"
   },
   {
    "duration": 102,
    "start_time": "2025-06-06T15:59:04.945Z"
   },
   {
    "duration": 87,
    "start_time": "2025-06-06T15:59:05.049Z"
   },
   {
    "duration": 771,
    "start_time": "2025-06-06T15:59:05.139Z"
   },
   {
    "duration": 140,
    "start_time": "2025-06-06T15:59:05.911Z"
   },
   {
    "duration": 419,
    "start_time": "2025-06-06T15:59:06.052Z"
   },
   {
    "duration": 101,
    "start_time": "2025-06-06T15:59:06.473Z"
   },
   {
    "duration": 376,
    "start_time": "2025-06-06T15:59:06.576Z"
   },
   {
    "duration": 88,
    "start_time": "2025-06-06T15:59:06.954Z"
   },
   {
    "duration": 101,
    "start_time": "2025-06-06T15:59:07.044Z"
   },
   {
    "duration": 160,
    "start_time": "2025-06-06T15:59:07.147Z"
   },
   {
    "duration": 4,
    "start_time": "2025-06-06T15:59:07.309Z"
   },
   {
    "duration": 51,
    "start_time": "2025-06-06T15:59:07.315Z"
   },
   {
    "duration": 127,
    "start_time": "2025-06-06T15:59:07.368Z"
   },
   {
    "duration": 0,
    "start_time": "2025-06-06T15:59:07.496Z"
   },
   {
    "duration": 0,
    "start_time": "2025-06-06T15:59:07.498Z"
   },
   {
    "duration": 0,
    "start_time": "2025-06-06T15:59:07.499Z"
   },
   {
    "duration": 0,
    "start_time": "2025-06-06T15:59:07.500Z"
   },
   {
    "duration": 0,
    "start_time": "2025-06-06T15:59:07.501Z"
   },
   {
    "duration": 0,
    "start_time": "2025-06-06T15:59:07.502Z"
   },
   {
    "duration": 0,
    "start_time": "2025-06-06T15:59:07.504Z"
   },
   {
    "duration": 3,
    "start_time": "2025-06-06T15:59:32.452Z"
   },
   {
    "duration": 5882,
    "start_time": "2025-06-06T16:01:37.022Z"
   },
   {
    "duration": 1332,
    "start_time": "2025-06-06T16:01:42.907Z"
   },
   {
    "duration": 3,
    "start_time": "2025-06-06T16:01:44.241Z"
   },
   {
    "duration": 4,
    "start_time": "2025-06-06T16:01:44.246Z"
   },
   {
    "duration": 1153,
    "start_time": "2025-06-06T16:01:44.252Z"
   },
   {
    "duration": 344,
    "start_time": "2025-06-06T16:01:45.407Z"
   },
   {
    "duration": 4,
    "start_time": "2025-06-06T16:01:45.753Z"
   },
   {
    "duration": 38,
    "start_time": "2025-06-06T16:01:45.759Z"
   },
   {
    "duration": 129,
    "start_time": "2025-06-06T16:01:45.799Z"
   },
   {
    "duration": 115,
    "start_time": "2025-06-06T16:01:45.929Z"
   },
   {
    "duration": 37,
    "start_time": "2025-06-06T16:01:46.046Z"
   },
   {
    "duration": 120,
    "start_time": "2025-06-06T16:01:46.085Z"
   },
   {
    "duration": 91,
    "start_time": "2025-06-06T16:01:46.206Z"
   },
   {
    "duration": 771,
    "start_time": "2025-06-06T16:01:46.300Z"
   },
   {
    "duration": 139,
    "start_time": "2025-06-06T16:01:47.072Z"
   },
   {
    "duration": 394,
    "start_time": "2025-06-06T16:01:47.213Z"
   },
   {
    "duration": 95,
    "start_time": "2025-06-06T16:01:47.609Z"
   },
   {
    "duration": 383,
    "start_time": "2025-06-06T16:01:47.706Z"
   },
   {
    "duration": 94,
    "start_time": "2025-06-06T16:01:48.091Z"
   },
   {
    "duration": 96,
    "start_time": "2025-06-06T16:01:48.187Z"
   },
   {
    "duration": 150,
    "start_time": "2025-06-06T16:01:48.285Z"
   },
   {
    "duration": 4,
    "start_time": "2025-06-06T16:01:48.436Z"
   },
   {
    "duration": 42,
    "start_time": "2025-06-06T16:01:48.441Z"
   },
   {
    "duration": 11,
    "start_time": "2025-06-06T16:01:48.485Z"
   },
   {
    "duration": 5926,
    "start_time": "2025-06-06T16:05:37.197Z"
   },
   {
    "duration": 1425,
    "start_time": "2025-06-06T16:05:43.126Z"
   },
   {
    "duration": 3,
    "start_time": "2025-06-06T16:05:44.553Z"
   },
   {
    "duration": 35,
    "start_time": "2025-06-06T16:05:44.558Z"
   },
   {
    "duration": 1173,
    "start_time": "2025-06-06T16:05:44.594Z"
   },
   {
    "duration": 334,
    "start_time": "2025-06-06T16:05:45.771Z"
   },
   {
    "duration": 4,
    "start_time": "2025-06-06T16:05:46.107Z"
   },
   {
    "duration": 10,
    "start_time": "2025-06-06T16:05:46.112Z"
   },
   {
    "duration": 136,
    "start_time": "2025-06-06T16:05:46.124Z"
   },
   {
    "duration": 113,
    "start_time": "2025-06-06T16:05:46.270Z"
   },
   {
    "duration": 32,
    "start_time": "2025-06-06T16:05:46.384Z"
   },
   {
    "duration": 120,
    "start_time": "2025-06-06T16:05:46.418Z"
   },
   {
    "duration": 88,
    "start_time": "2025-06-06T16:05:46.540Z"
   },
   {
    "duration": 800,
    "start_time": "2025-06-06T16:05:46.630Z"
   },
   {
    "duration": 136,
    "start_time": "2025-06-06T16:05:47.431Z"
   },
   {
    "duration": 386,
    "start_time": "2025-06-06T16:05:47.571Z"
   },
   {
    "duration": 94,
    "start_time": "2025-06-06T16:05:47.959Z"
   },
   {
    "duration": 377,
    "start_time": "2025-06-06T16:05:48.054Z"
   },
   {
    "duration": 96,
    "start_time": "2025-06-06T16:05:48.432Z"
   },
   {
    "duration": 102,
    "start_time": "2025-06-06T16:05:48.530Z"
   },
   {
    "duration": 149,
    "start_time": "2025-06-06T16:05:48.634Z"
   },
   {
    "duration": 3,
    "start_time": "2025-06-06T16:05:48.785Z"
   },
   {
    "duration": 39,
    "start_time": "2025-06-06T16:05:48.790Z"
   },
   {
    "duration": 4,
    "start_time": "2025-06-06T16:05:48.831Z"
   },
   {
    "duration": 338142,
    "start_time": "2025-06-06T16:05:48.836Z"
   },
   {
    "duration": 8,
    "start_time": "2025-06-06T16:11:26.980Z"
   },
   {
    "duration": 172,
    "start_time": "2025-06-06T16:11:26.990Z"
   },
   {
    "duration": 0,
    "start_time": "2025-06-06T16:11:27.171Z"
   },
   {
    "duration": 0,
    "start_time": "2025-06-06T16:11:27.172Z"
   },
   {
    "duration": 0,
    "start_time": "2025-06-06T16:11:27.174Z"
   },
   {
    "duration": 0,
    "start_time": "2025-06-06T16:11:27.175Z"
   },
   {
    "duration": 0,
    "start_time": "2025-06-06T16:11:27.177Z"
   },
   {
    "duration": 0,
    "start_time": "2025-06-06T16:11:27.178Z"
   },
   {
    "duration": 0,
    "start_time": "2025-06-06T16:11:27.179Z"
   },
   {
    "duration": 525,
    "start_time": "2025-06-06T16:19:06.052Z"
   },
   {
    "duration": 7,
    "start_time": "2025-06-06T16:19:06.673Z"
   },
   {
    "duration": 18,
    "start_time": "2025-06-06T16:19:06.772Z"
   },
   {
    "duration": 890262,
    "start_time": "2025-06-06T16:19:06.930Z"
   },
   {
    "duration": 85,
    "start_time": "2025-06-06T16:33:57.194Z"
   },
   {
    "duration": 1593,
    "start_time": "2025-06-06T16:33:57.281Z"
   },
   {
    "duration": 5,
    "start_time": "2025-06-06T16:33:58.876Z"
   },
   {
    "duration": 5,
    "start_time": "2025-06-06T16:33:58.883Z"
   },
   {
    "duration": 21,
    "start_time": "2025-06-06T16:40:41.956Z"
   },
   {
    "duration": 160,
    "start_time": "2025-06-06T16:47:27.299Z"
   },
   {
    "duration": 5850,
    "start_time": "2025-06-06T16:49:13.306Z"
   },
   {
    "duration": 1470,
    "start_time": "2025-06-06T16:49:19.158Z"
   },
   {
    "duration": 3,
    "start_time": "2025-06-06T16:49:20.629Z"
   },
   {
    "duration": 36,
    "start_time": "2025-06-06T16:49:20.634Z"
   },
   {
    "duration": 1222,
    "start_time": "2025-06-06T16:49:20.672Z"
   },
   {
    "duration": 359,
    "start_time": "2025-06-06T16:49:21.896Z"
   },
   {
    "duration": 5,
    "start_time": "2025-06-06T16:49:22.258Z"
   },
   {
    "duration": 9,
    "start_time": "2025-06-06T16:49:22.276Z"
   },
   {
    "duration": 121,
    "start_time": "2025-06-06T16:49:22.287Z"
   },
   {
    "duration": 116,
    "start_time": "2025-06-06T16:49:22.411Z"
   },
   {
    "duration": 31,
    "start_time": "2025-06-06T16:49:22.528Z"
   },
   {
    "duration": 93,
    "start_time": "2025-06-06T16:49:22.560Z"
   },
   {
    "duration": 85,
    "start_time": "2025-06-06T16:49:22.654Z"
   },
   {
    "duration": 762,
    "start_time": "2025-06-06T16:49:22.740Z"
   },
   {
    "duration": 134,
    "start_time": "2025-06-06T16:49:23.505Z"
   },
   {
    "duration": 406,
    "start_time": "2025-06-06T16:49:23.641Z"
   },
   {
    "duration": 99,
    "start_time": "2025-06-06T16:49:24.049Z"
   },
   {
    "duration": 388,
    "start_time": "2025-06-06T16:49:24.149Z"
   },
   {
    "duration": 125,
    "start_time": "2025-06-06T16:49:24.539Z"
   },
   {
    "duration": 90,
    "start_time": "2025-06-06T16:49:24.666Z"
   },
   {
    "duration": 187,
    "start_time": "2025-06-06T16:49:24.757Z"
   },
   {
    "duration": 3,
    "start_time": "2025-06-06T16:49:24.946Z"
   },
   {
    "duration": 49,
    "start_time": "2025-06-06T16:49:24.951Z"
   },
   {
    "duration": 4,
    "start_time": "2025-06-06T16:49:25.001Z"
   },
   {
    "duration": 309976,
    "start_time": "2025-06-06T16:49:25.007Z"
   },
   {
    "duration": 8,
    "start_time": "2025-06-06T16:54:35.072Z"
   },
   {
    "duration": 421,
    "start_time": "2025-06-06T16:54:35.082Z"
   },
   {
    "duration": 96,
    "start_time": "2025-06-06T16:54:35.577Z"
   },
   {
    "duration": 42,
    "start_time": "2025-06-06T16:54:35.675Z"
   },
   {
    "duration": 745956,
    "start_time": "2025-06-06T16:54:35.719Z"
   },
   {
    "duration": 7,
    "start_time": "2025-06-06T17:07:01.677Z"
   },
   {
    "duration": 1195,
    "start_time": "2025-06-06T17:07:01.686Z"
   },
   {
    "duration": 5,
    "start_time": "2025-06-06T17:07:02.883Z"
   },
   {
    "duration": 63,
    "start_time": "2025-06-06T17:07:02.890Z"
   },
   {
    "duration": 517,
    "start_time": "2025-06-06T17:45:31.761Z"
   },
   {
    "duration": 362,
    "start_time": "2025-06-06T17:45:53.211Z"
   },
   {
    "duration": 3,
    "start_time": "2025-06-06T17:47:17.963Z"
   },
   {
    "duration": 4,
    "start_time": "2025-06-06T17:47:39.903Z"
   },
   {
    "duration": 3,
    "start_time": "2025-06-06T17:48:11.947Z"
   },
   {
    "duration": 5807,
    "start_time": "2025-06-06T17:53:21.201Z"
   },
   {
    "duration": 1402,
    "start_time": "2025-06-06T17:53:27.011Z"
   },
   {
    "duration": 2,
    "start_time": "2025-06-06T17:53:28.415Z"
   },
   {
    "duration": 29,
    "start_time": "2025-06-06T17:53:28.419Z"
   },
   {
    "duration": 1166,
    "start_time": "2025-06-06T17:53:28.451Z"
   },
   {
    "duration": 343,
    "start_time": "2025-06-06T17:53:29.618Z"
   },
   {
    "duration": 9,
    "start_time": "2025-06-06T17:53:29.962Z"
   },
   {
    "duration": 6,
    "start_time": "2025-06-06T17:53:29.973Z"
   },
   {
    "duration": 123,
    "start_time": "2025-06-06T17:53:29.981Z"
   },
   {
    "duration": 117,
    "start_time": "2025-06-06T17:53:30.105Z"
   },
   {
    "duration": 30,
    "start_time": "2025-06-06T17:53:30.224Z"
   },
   {
    "duration": 99,
    "start_time": "2025-06-06T17:53:30.256Z"
   },
   {
    "duration": 87,
    "start_time": "2025-06-06T17:53:30.357Z"
   },
   {
    "duration": 777,
    "start_time": "2025-06-06T17:53:30.448Z"
   },
   {
    "duration": 139,
    "start_time": "2025-06-06T17:53:31.227Z"
   },
   {
    "duration": 402,
    "start_time": "2025-06-06T17:53:31.371Z"
   },
   {
    "duration": 97,
    "start_time": "2025-06-06T17:53:31.775Z"
   },
   {
    "duration": 406,
    "start_time": "2025-06-06T17:53:31.874Z"
   },
   {
    "duration": 127,
    "start_time": "2025-06-06T17:53:32.282Z"
   },
   {
    "duration": 97,
    "start_time": "2025-06-06T17:53:32.411Z"
   },
   {
    "duration": 176,
    "start_time": "2025-06-06T17:53:32.510Z"
   },
   {
    "duration": 3,
    "start_time": "2025-06-06T17:53:32.688Z"
   },
   {
    "duration": 38,
    "start_time": "2025-06-06T17:53:32.693Z"
   },
   {
    "duration": 3,
    "start_time": "2025-06-06T17:53:32.733Z"
   },
   {
    "duration": 329841,
    "start_time": "2025-06-06T17:53:32.738Z"
   },
   {
    "duration": 8,
    "start_time": "2025-06-06T17:59:02.580Z"
   },
   {
    "duration": 489,
    "start_time": "2025-06-06T17:59:02.589Z"
   },
   {
    "duration": 94,
    "start_time": "2025-06-06T17:59:03.081Z"
   },
   {
    "duration": 96,
    "start_time": "2025-06-06T17:59:03.177Z"
   },
   {
    "duration": 1011008,
    "start_time": "2025-06-06T17:59:03.275Z"
   },
   {
    "duration": 7,
    "start_time": "2025-06-06T18:15:54.285Z"
   },
   {
    "duration": 1194,
    "start_time": "2025-06-06T18:15:54.293Z"
   },
   {
    "duration": 5,
    "start_time": "2025-06-06T18:15:55.488Z"
   },
   {
    "duration": 10,
    "start_time": "2025-06-06T18:15:55.495Z"
   },
   {
    "duration": 377,
    "start_time": "2025-06-06T18:15:55.506Z"
   },
   {
    "duration": 3,
    "start_time": "2025-06-06T18:15:55.884Z"
   },
   {
    "duration": 120,
    "start_time": "2025-06-06T18:15:55.889Z"
   },
   {
    "duration": 9212,
    "start_time": "2025-06-07T15:59:49.562Z"
   },
   {
    "duration": 1446,
    "start_time": "2025-06-07T15:59:58.776Z"
   },
   {
    "duration": 3,
    "start_time": "2025-06-07T16:00:00.224Z"
   },
   {
    "duration": 75,
    "start_time": "2025-06-07T16:00:00.229Z"
   },
   {
    "duration": 986,
    "start_time": "2025-06-07T16:00:00.305Z"
   },
   {
    "duration": 304,
    "start_time": "2025-06-07T16:00:01.293Z"
   },
   {
    "duration": 3,
    "start_time": "2025-06-07T16:00:01.598Z"
   },
   {
    "duration": 62,
    "start_time": "2025-06-07T16:00:01.602Z"
   },
   {
    "duration": 263,
    "start_time": "2025-06-07T16:00:01.666Z"
   },
   {
    "duration": 126,
    "start_time": "2025-06-07T16:00:01.931Z"
   },
   {
    "duration": 25,
    "start_time": "2025-06-07T16:00:02.059Z"
   },
   {
    "duration": 76,
    "start_time": "2025-06-07T16:00:02.085Z"
   },
   {
    "duration": 111,
    "start_time": "2025-06-07T16:00:02.163Z"
   },
   {
    "duration": 0,
    "start_time": "2025-06-07T16:00:02.275Z"
   },
   {
    "duration": 0,
    "start_time": "2025-06-07T16:00:02.276Z"
   },
   {
    "duration": 0,
    "start_time": "2025-06-07T16:00:02.277Z"
   },
   {
    "duration": 0,
    "start_time": "2025-06-07T16:00:02.279Z"
   },
   {
    "duration": 0,
    "start_time": "2025-06-07T16:00:02.280Z"
   },
   {
    "duration": 0,
    "start_time": "2025-06-07T16:00:02.281Z"
   },
   {
    "duration": 0,
    "start_time": "2025-06-07T16:00:02.281Z"
   },
   {
    "duration": 0,
    "start_time": "2025-06-07T16:00:02.282Z"
   },
   {
    "duration": 0,
    "start_time": "2025-06-07T16:00:02.283Z"
   },
   {
    "duration": 0,
    "start_time": "2025-06-07T16:00:02.284Z"
   },
   {
    "duration": 0,
    "start_time": "2025-06-07T16:00:02.285Z"
   },
   {
    "duration": 0,
    "start_time": "2025-06-07T16:00:02.286Z"
   },
   {
    "duration": 0,
    "start_time": "2025-06-07T16:00:02.287Z"
   },
   {
    "duration": 0,
    "start_time": "2025-06-07T16:00:02.288Z"
   },
   {
    "duration": 0,
    "start_time": "2025-06-07T16:00:02.289Z"
   },
   {
    "duration": 0,
    "start_time": "2025-06-07T16:00:02.290Z"
   },
   {
    "duration": 0,
    "start_time": "2025-06-07T16:00:02.291Z"
   },
   {
    "duration": 0,
    "start_time": "2025-06-07T16:00:02.292Z"
   },
   {
    "duration": 0,
    "start_time": "2025-06-07T16:00:02.293Z"
   },
   {
    "duration": 0,
    "start_time": "2025-06-07T16:00:02.294Z"
   },
   {
    "duration": 0,
    "start_time": "2025-06-07T16:00:02.295Z"
   },
   {
    "duration": 0,
    "start_time": "2025-06-07T16:00:02.296Z"
   },
   {
    "duration": 0,
    "start_time": "2025-06-07T16:00:02.297Z"
   },
   {
    "duration": 0,
    "start_time": "2025-06-07T16:00:02.298Z"
   },
   {
    "duration": 5,
    "start_time": "2025-06-07T16:00:32.943Z"
   },
   {
    "duration": 1236,
    "start_time": "2025-06-07T16:01:14.430Z"
   },
   {
    "duration": 23,
    "start_time": "2025-06-07T16:01:32.924Z"
   },
   {
    "duration": 29,
    "start_time": "2025-06-07T16:02:15.497Z"
   },
   {
    "duration": 35,
    "start_time": "2025-06-07T16:02:18.863Z"
   },
   {
    "duration": 27,
    "start_time": "2025-06-07T16:02:23.197Z"
   },
   {
    "duration": 53,
    "start_time": "2025-06-07T16:02:28.011Z"
   },
   {
    "duration": 45,
    "start_time": "2025-06-07T16:02:39.287Z"
   },
   {
    "duration": 9,
    "start_time": "2025-06-07T16:04:25.756Z"
   },
   {
    "duration": 88,
    "start_time": "2025-06-07T16:04:38.807Z"
   },
   {
    "duration": 25,
    "start_time": "2025-06-07T16:04:42.834Z"
   },
   {
    "duration": 5,
    "start_time": "2025-06-07T16:04:50.916Z"
   },
   {
    "duration": 25,
    "start_time": "2025-06-07T16:05:01.164Z"
   },
   {
    "duration": 5,
    "start_time": "2025-06-07T16:05:47.657Z"
   },
   {
    "duration": 10,
    "start_time": "2025-06-07T16:06:43.869Z"
   },
   {
    "duration": 5,
    "start_time": "2025-06-07T16:06:46.769Z"
   },
   {
    "duration": 4,
    "start_time": "2025-06-07T16:07:01.030Z"
   },
   {
    "duration": 4,
    "start_time": "2025-06-07T16:07:06.834Z"
   },
   {
    "duration": 61,
    "start_time": "2025-06-07T16:07:07.248Z"
   },
   {
    "duration": 9,
    "start_time": "2025-06-07T16:07:28.733Z"
   },
   {
    "duration": 9,
    "start_time": "2025-06-07T16:07:37.391Z"
   },
   {
    "duration": 5,
    "start_time": "2025-06-07T16:07:51.882Z"
   },
   {
    "duration": 4,
    "start_time": "2025-06-07T16:07:55.546Z"
   },
   {
    "duration": 5,
    "start_time": "2025-06-07T16:08:07.452Z"
   },
   {
    "duration": 5,
    "start_time": "2025-06-07T16:08:23.493Z"
   },
   {
    "duration": 82,
    "start_time": "2025-06-07T16:08:44.274Z"
   },
   {
    "duration": 7,
    "start_time": "2025-06-07T16:08:46.734Z"
   },
   {
    "duration": 8,
    "start_time": "2025-06-07T16:09:54.174Z"
   },
   {
    "duration": 9,
    "start_time": "2025-06-07T16:10:05.582Z"
   },
   {
    "duration": 85,
    "start_time": "2025-06-07T16:16:33.370Z"
   },
   {
    "duration": 1306,
    "start_time": "2025-06-07T16:16:54.044Z"
   },
   {
    "duration": 89,
    "start_time": "2025-06-07T16:19:39.705Z"
   },
   {
    "duration": 5,
    "start_time": "2025-06-07T16:19:45.900Z"
   },
   {
    "duration": 3,
    "start_time": "2025-06-07T16:19:49.089Z"
   },
   {
    "duration": 5,
    "start_time": "2025-06-07T16:19:54.544Z"
   },
   {
    "duration": 9,
    "start_time": "2025-06-07T16:21:11.793Z"
   },
   {
    "duration": 6,
    "start_time": "2025-06-07T16:21:24.133Z"
   },
   {
    "duration": 10,
    "start_time": "2025-06-07T16:22:42.240Z"
   },
   {
    "duration": 9,
    "start_time": "2025-06-07T16:23:48.550Z"
   },
   {
    "duration": 5,
    "start_time": "2025-06-07T16:24:33.517Z"
   },
   {
    "duration": 84,
    "start_time": "2025-06-07T16:27:22.137Z"
   },
   {
    "duration": 34,
    "start_time": "2025-06-07T16:27:37.777Z"
   },
   {
    "duration": 4,
    "start_time": "2025-06-07T16:35:26.993Z"
   },
   {
    "duration": 3,
    "start_time": "2025-06-07T16:35:32.761Z"
   },
   {
    "duration": 5053,
    "start_time": "2025-06-07T16:36:48.870Z"
   },
   {
    "duration": 1237,
    "start_time": "2025-06-07T16:36:53.925Z"
   },
   {
    "duration": 3,
    "start_time": "2025-06-07T16:36:55.163Z"
   },
   {
    "duration": 9,
    "start_time": "2025-06-07T16:36:55.168Z"
   },
   {
    "duration": 977,
    "start_time": "2025-06-07T16:36:55.178Z"
   },
   {
    "duration": 290,
    "start_time": "2025-06-07T16:36:56.157Z"
   },
   {
    "duration": 3,
    "start_time": "2025-06-07T16:36:56.449Z"
   },
   {
    "duration": 32,
    "start_time": "2025-06-07T16:36:56.453Z"
   },
   {
    "duration": 128,
    "start_time": "2025-06-07T16:36:56.486Z"
   },
   {
    "duration": 96,
    "start_time": "2025-06-07T16:36:56.616Z"
   },
   {
    "duration": 28,
    "start_time": "2025-06-07T16:36:56.714Z"
   },
   {
    "duration": 97,
    "start_time": "2025-06-07T16:36:56.744Z"
   },
   {
    "duration": 19,
    "start_time": "2025-06-07T16:36:56.842Z"
   },
   {
    "duration": 4,
    "start_time": "2025-06-07T16:36:56.862Z"
   },
   {
    "duration": 14,
    "start_time": "2025-06-07T16:36:56.867Z"
   },
   {
    "duration": 3,
    "start_time": "2025-06-07T16:36:56.883Z"
   },
   {
    "duration": 4,
    "start_time": "2025-06-07T16:36:56.887Z"
   },
   {
    "duration": 36,
    "start_time": "2025-06-07T16:36:56.892Z"
   },
   {
    "duration": 125,
    "start_time": "2025-06-07T16:36:56.929Z"
   },
   {
    "duration": 0,
    "start_time": "2025-06-07T16:36:57.061Z"
   },
   {
    "duration": 0,
    "start_time": "2025-06-07T16:36:57.062Z"
   },
   {
    "duration": 0,
    "start_time": "2025-06-07T16:36:57.063Z"
   },
   {
    "duration": 0,
    "start_time": "2025-06-07T16:36:57.064Z"
   },
   {
    "duration": 0,
    "start_time": "2025-06-07T16:36:57.065Z"
   },
   {
    "duration": 0,
    "start_time": "2025-06-07T16:36:57.066Z"
   },
   {
    "duration": 0,
    "start_time": "2025-06-07T16:36:57.067Z"
   },
   {
    "duration": 0,
    "start_time": "2025-06-07T16:36:57.068Z"
   },
   {
    "duration": 0,
    "start_time": "2025-06-07T16:36:57.070Z"
   },
   {
    "duration": 0,
    "start_time": "2025-06-07T16:36:57.071Z"
   },
   {
    "duration": 0,
    "start_time": "2025-06-07T16:36:57.072Z"
   },
   {
    "duration": 0,
    "start_time": "2025-06-07T16:36:57.073Z"
   },
   {
    "duration": 0,
    "start_time": "2025-06-07T16:36:57.074Z"
   },
   {
    "duration": 0,
    "start_time": "2025-06-07T16:36:57.075Z"
   },
   {
    "duration": 0,
    "start_time": "2025-06-07T16:36:57.076Z"
   },
   {
    "duration": 0,
    "start_time": "2025-06-07T16:36:57.077Z"
   },
   {
    "duration": 0,
    "start_time": "2025-06-07T16:36:57.078Z"
   },
   {
    "duration": 0,
    "start_time": "2025-06-07T16:36:57.079Z"
   },
   {
    "duration": 0,
    "start_time": "2025-06-07T16:36:57.079Z"
   },
   {
    "duration": 0,
    "start_time": "2025-06-07T16:36:57.080Z"
   },
   {
    "duration": 0,
    "start_time": "2025-06-07T16:36:57.081Z"
   },
   {
    "duration": 0,
    "start_time": "2025-06-07T16:36:57.082Z"
   },
   {
    "duration": 0,
    "start_time": "2025-06-07T16:36:57.083Z"
   },
   {
    "duration": 5112,
    "start_time": "2025-06-07T16:38:18.678Z"
   },
   {
    "duration": 1236,
    "start_time": "2025-06-07T16:38:23.792Z"
   },
   {
    "duration": 3,
    "start_time": "2025-06-07T16:38:25.030Z"
   },
   {
    "duration": 13,
    "start_time": "2025-06-07T16:38:25.034Z"
   },
   {
    "duration": 955,
    "start_time": "2025-06-07T16:38:25.049Z"
   },
   {
    "duration": 294,
    "start_time": "2025-06-07T16:38:26.006Z"
   },
   {
    "duration": 3,
    "start_time": "2025-06-07T16:38:26.302Z"
   },
   {
    "duration": 4,
    "start_time": "2025-06-07T16:38:26.306Z"
   },
   {
    "duration": 116,
    "start_time": "2025-06-07T16:38:26.312Z"
   },
   {
    "duration": 93,
    "start_time": "2025-06-07T16:38:26.430Z"
   },
   {
    "duration": 28,
    "start_time": "2025-06-07T16:38:26.525Z"
   },
   {
    "duration": 144,
    "start_time": "2025-06-07T16:38:26.560Z"
   },
   {
    "duration": 24,
    "start_time": "2025-06-07T16:38:26.705Z"
   },
   {
    "duration": 4,
    "start_time": "2025-06-07T16:38:26.733Z"
   },
   {
    "duration": 41,
    "start_time": "2025-06-07T16:38:26.738Z"
   },
   {
    "duration": 4,
    "start_time": "2025-06-07T16:38:26.780Z"
   },
   {
    "duration": 13,
    "start_time": "2025-06-07T16:38:26.785Z"
   },
   {
    "duration": 43,
    "start_time": "2025-06-07T16:38:26.799Z"
   },
   {
    "duration": 111,
    "start_time": "2025-06-07T16:38:26.844Z"
   },
   {
    "duration": 0,
    "start_time": "2025-06-07T16:38:26.961Z"
   },
   {
    "duration": 0,
    "start_time": "2025-06-07T16:38:26.961Z"
   },
   {
    "duration": 0,
    "start_time": "2025-06-07T16:38:26.962Z"
   },
   {
    "duration": 0,
    "start_time": "2025-06-07T16:38:26.963Z"
   },
   {
    "duration": 0,
    "start_time": "2025-06-07T16:38:26.964Z"
   },
   {
    "duration": 0,
    "start_time": "2025-06-07T16:38:26.966Z"
   },
   {
    "duration": 0,
    "start_time": "2025-06-07T16:38:26.967Z"
   },
   {
    "duration": 0,
    "start_time": "2025-06-07T16:38:26.968Z"
   },
   {
    "duration": 0,
    "start_time": "2025-06-07T16:38:26.969Z"
   },
   {
    "duration": 0,
    "start_time": "2025-06-07T16:38:26.970Z"
   },
   {
    "duration": 0,
    "start_time": "2025-06-07T16:38:26.971Z"
   },
   {
    "duration": 0,
    "start_time": "2025-06-07T16:38:26.972Z"
   },
   {
    "duration": 0,
    "start_time": "2025-06-07T16:38:26.973Z"
   },
   {
    "duration": 0,
    "start_time": "2025-06-07T16:38:26.974Z"
   },
   {
    "duration": 0,
    "start_time": "2025-06-07T16:38:26.975Z"
   },
   {
    "duration": 0,
    "start_time": "2025-06-07T16:38:26.976Z"
   },
   {
    "duration": 1,
    "start_time": "2025-06-07T16:38:26.977Z"
   },
   {
    "duration": 0,
    "start_time": "2025-06-07T16:38:26.978Z"
   },
   {
    "duration": 0,
    "start_time": "2025-06-07T16:38:26.979Z"
   },
   {
    "duration": 0,
    "start_time": "2025-06-07T16:38:26.980Z"
   },
   {
    "duration": 0,
    "start_time": "2025-06-07T16:38:26.981Z"
   },
   {
    "duration": 0,
    "start_time": "2025-06-07T16:38:26.982Z"
   },
   {
    "duration": 0,
    "start_time": "2025-06-07T16:38:26.983Z"
   },
   {
    "duration": 5066,
    "start_time": "2025-06-07T17:25:56.305Z"
   },
   {
    "duration": 1257,
    "start_time": "2025-06-07T17:26:01.374Z"
   },
   {
    "duration": 2,
    "start_time": "2025-06-07T17:26:02.633Z"
   },
   {
    "duration": 31,
    "start_time": "2025-06-07T17:26:02.638Z"
   },
   {
    "duration": 1034,
    "start_time": "2025-06-07T17:26:02.670Z"
   },
   {
    "duration": 303,
    "start_time": "2025-06-07T17:26:03.706Z"
   },
   {
    "duration": 4,
    "start_time": "2025-06-07T17:26:04.010Z"
   },
   {
    "duration": 206,
    "start_time": "2025-06-07T17:26:04.016Z"
   },
   {
    "duration": 127,
    "start_time": "2025-06-07T17:26:04.224Z"
   },
   {
    "duration": 90,
    "start_time": "2025-06-07T17:26:04.354Z"
   },
   {
    "duration": 35,
    "start_time": "2025-06-07T17:26:04.446Z"
   },
   {
    "duration": 105,
    "start_time": "2025-06-07T17:26:04.483Z"
   },
   {
    "duration": 24,
    "start_time": "2025-06-07T17:26:04.589Z"
   },
   {
    "duration": 4,
    "start_time": "2025-06-07T17:26:04.615Z"
   },
   {
    "duration": 7,
    "start_time": "2025-06-07T17:26:04.621Z"
   },
   {
    "duration": 90,
    "start_time": "2025-06-07T17:26:04.630Z"
   },
   {
    "duration": 115,
    "start_time": "2025-06-07T17:26:04.722Z"
   },
   {
    "duration": 0,
    "start_time": "2025-06-07T17:26:04.839Z"
   },
   {
    "duration": 0,
    "start_time": "2025-06-07T17:26:04.841Z"
   },
   {
    "duration": 0,
    "start_time": "2025-06-07T17:26:04.842Z"
   },
   {
    "duration": 0,
    "start_time": "2025-06-07T17:26:04.843Z"
   },
   {
    "duration": 0,
    "start_time": "2025-06-07T17:26:04.845Z"
   },
   {
    "duration": 0,
    "start_time": "2025-06-07T17:26:04.860Z"
   },
   {
    "duration": 0,
    "start_time": "2025-06-07T17:26:04.861Z"
   },
   {
    "duration": 0,
    "start_time": "2025-06-07T17:26:04.862Z"
   },
   {
    "duration": 0,
    "start_time": "2025-06-07T17:26:04.864Z"
   },
   {
    "duration": 0,
    "start_time": "2025-06-07T17:26:04.865Z"
   },
   {
    "duration": 0,
    "start_time": "2025-06-07T17:26:04.866Z"
   },
   {
    "duration": 0,
    "start_time": "2025-06-07T17:26:04.867Z"
   },
   {
    "duration": 0,
    "start_time": "2025-06-07T17:26:04.868Z"
   },
   {
    "duration": 0,
    "start_time": "2025-06-07T17:26:04.869Z"
   },
   {
    "duration": 0,
    "start_time": "2025-06-07T17:26:04.870Z"
   },
   {
    "duration": 0,
    "start_time": "2025-06-07T17:26:04.871Z"
   },
   {
    "duration": 0,
    "start_time": "2025-06-07T17:26:04.873Z"
   },
   {
    "duration": 0,
    "start_time": "2025-06-07T17:26:04.873Z"
   },
   {
    "duration": 0,
    "start_time": "2025-06-07T17:26:04.875Z"
   },
   {
    "duration": 0,
    "start_time": "2025-06-07T17:26:04.876Z"
   },
   {
    "duration": 0,
    "start_time": "2025-06-07T17:26:04.877Z"
   },
   {
    "duration": 0,
    "start_time": "2025-06-07T17:26:04.878Z"
   },
   {
    "duration": 0,
    "start_time": "2025-06-07T17:26:04.879Z"
   },
   {
    "duration": 610,
    "start_time": "2025-06-07T17:29:38.165Z"
   },
   {
    "duration": 106,
    "start_time": "2025-06-07T17:29:39.147Z"
   },
   {
    "duration": 300,
    "start_time": "2025-06-07T17:29:39.485Z"
   },
   {
    "duration": 70,
    "start_time": "2025-06-07T17:29:40.441Z"
   },
   {
    "duration": 171,
    "start_time": "2025-06-07T17:29:42.174Z"
   },
   {
    "duration": 54,
    "start_time": "2025-06-07T17:29:43.052Z"
   },
   {
    "duration": 71,
    "start_time": "2025-06-07T17:29:46.977Z"
   },
   {
    "duration": 11,
    "start_time": "2025-06-07T17:30:01.921Z"
   },
   {
    "duration": 16,
    "start_time": "2025-06-07T17:30:15.182Z"
   },
   {
    "duration": 115,
    "start_time": "2025-06-07T17:32:37.143Z"
   },
   {
    "duration": 519,
    "start_time": "2025-06-07T17:34:06.299Z"
   },
   {
    "duration": 68,
    "start_time": "2025-06-07T17:34:14.560Z"
   },
   {
    "duration": 5075,
    "start_time": "2025-06-07T17:35:09.267Z"
   },
   {
    "duration": 1295,
    "start_time": "2025-06-07T17:35:14.344Z"
   },
   {
    "duration": 3,
    "start_time": "2025-06-07T17:35:15.640Z"
   },
   {
    "duration": 30,
    "start_time": "2025-06-07T17:35:15.644Z"
   },
   {
    "duration": 963,
    "start_time": "2025-06-07T17:35:15.676Z"
   },
   {
    "duration": 302,
    "start_time": "2025-06-07T17:35:16.640Z"
   },
   {
    "duration": 3,
    "start_time": "2025-06-07T17:35:16.943Z"
   },
   {
    "duration": 52,
    "start_time": "2025-06-07T17:35:16.947Z"
   },
   {
    "duration": 126,
    "start_time": "2025-06-07T17:35:17.000Z"
   },
   {
    "duration": 95,
    "start_time": "2025-06-07T17:35:17.127Z"
   },
   {
    "duration": 26,
    "start_time": "2025-06-07T17:35:17.224Z"
   },
   {
    "duration": 88,
    "start_time": "2025-06-07T17:35:17.260Z"
   },
   {
    "duration": 30,
    "start_time": "2025-06-07T17:35:17.350Z"
   },
   {
    "duration": 4,
    "start_time": "2025-06-07T17:35:17.382Z"
   },
   {
    "duration": 125,
    "start_time": "2025-06-07T17:35:17.387Z"
   },
   {
    "duration": 603,
    "start_time": "2025-06-07T17:35:17.513Z"
   },
   {
    "duration": 113,
    "start_time": "2025-06-07T17:35:18.117Z"
   },
   {
    "duration": 311,
    "start_time": "2025-06-07T17:35:18.232Z"
   },
   {
    "duration": 75,
    "start_time": "2025-06-07T17:35:18.545Z"
   },
   {
    "duration": 177,
    "start_time": "2025-06-07T17:35:18.621Z"
   },
   {
    "duration": 60,
    "start_time": "2025-06-07T17:35:18.800Z"
   },
   {
    "duration": 131,
    "start_time": "2025-06-07T17:35:18.862Z"
   },
   {
    "duration": 466,
    "start_time": "2025-06-07T17:35:18.995Z"
   },
   {
    "duration": 68,
    "start_time": "2025-06-07T17:35:19.463Z"
   },
   {
    "duration": 111,
    "start_time": "2025-06-07T17:35:19.532Z"
   },
   {
    "duration": 2,
    "start_time": "2025-06-07T17:35:19.645Z"
   },
   {
    "duration": 32,
    "start_time": "2025-06-07T17:35:19.649Z"
   },
   {
    "duration": 3,
    "start_time": "2025-06-07T17:35:19.683Z"
   },
   {
    "duration": 234274,
    "start_time": "2025-06-07T17:35:19.687Z"
   },
   {
    "duration": 143,
    "start_time": "2025-06-07T17:39:13.962Z"
   },
   {
    "duration": 0,
    "start_time": "2025-06-07T17:39:14.107Z"
   },
   {
    "duration": 0,
    "start_time": "2025-06-07T17:39:14.108Z"
   },
   {
    "duration": 0,
    "start_time": "2025-06-07T17:39:14.109Z"
   },
   {
    "duration": 0,
    "start_time": "2025-06-07T17:39:14.110Z"
   },
   {
    "duration": 0,
    "start_time": "2025-06-07T17:39:14.111Z"
   },
   {
    "duration": 0,
    "start_time": "2025-06-07T17:39:14.112Z"
   },
   {
    "duration": 0,
    "start_time": "2025-06-07T17:39:14.113Z"
   },
   {
    "duration": 0,
    "start_time": "2025-06-07T17:39:14.114Z"
   },
   {
    "duration": 0,
    "start_time": "2025-06-07T17:39:14.116Z"
   },
   {
    "duration": 0,
    "start_time": "2025-06-07T17:39:14.116Z"
   },
   {
    "duration": 0,
    "start_time": "2025-06-07T17:39:14.118Z"
   },
   {
    "duration": 4,
    "start_time": "2025-06-07T17:46:09.122Z"
   },
   {
    "duration": 37,
    "start_time": "2025-06-07T17:53:34.558Z"
   },
   {
    "duration": 18574,
    "start_time": "2025-06-07T18:02:25.287Z"
   },
   {
    "duration": 18156,
    "start_time": "2025-06-07T18:10:23.513Z"
   },
   {
    "duration": 429,
    "start_time": "2025-06-07T18:10:41.671Z"
   },
   {
    "duration": 5,
    "start_time": "2025-06-07T18:10:42.164Z"
   },
   {
    "duration": 97,
    "start_time": "2025-06-07T18:10:42.171Z"
   },
   {
    "duration": 5081,
    "start_time": "2025-06-07T18:14:56.452Z"
   },
   {
    "duration": 1296,
    "start_time": "2025-06-07T18:15:01.535Z"
   },
   {
    "duration": 3,
    "start_time": "2025-06-07T18:15:02.833Z"
   },
   {
    "duration": 39,
    "start_time": "2025-06-07T18:15:02.837Z"
   },
   {
    "duration": 993,
    "start_time": "2025-06-07T18:15:02.879Z"
   },
   {
    "duration": 288,
    "start_time": "2025-06-07T18:15:03.873Z"
   },
   {
    "duration": 4,
    "start_time": "2025-06-07T18:15:04.163Z"
   },
   {
    "duration": 62,
    "start_time": "2025-06-07T18:15:04.169Z"
   },
   {
    "duration": 378,
    "start_time": "2025-06-07T18:15:04.233Z"
   },
   {
    "duration": 106,
    "start_time": "2025-06-07T18:15:04.613Z"
   },
   {
    "duration": 40,
    "start_time": "2025-06-07T18:15:04.721Z"
   },
   {
    "duration": 99,
    "start_time": "2025-06-07T18:15:04.762Z"
   },
   {
    "duration": 23,
    "start_time": "2025-06-07T18:15:04.862Z"
   },
   {
    "duration": 4,
    "start_time": "2025-06-07T18:15:04.887Z"
   },
   {
    "duration": 188,
    "start_time": "2025-06-07T18:15:04.892Z"
   },
   {
    "duration": 641,
    "start_time": "2025-06-07T18:15:05.081Z"
   },
   {
    "duration": 113,
    "start_time": "2025-06-07T18:15:05.723Z"
   },
   {
    "duration": 322,
    "start_time": "2025-06-07T18:15:05.837Z"
   },
   {
    "duration": 70,
    "start_time": "2025-06-07T18:15:06.161Z"
   },
   {
    "duration": 188,
    "start_time": "2025-06-07T18:15:06.233Z"
   },
   {
    "duration": 70,
    "start_time": "2025-06-07T18:15:06.423Z"
   },
   {
    "duration": 137,
    "start_time": "2025-06-07T18:15:06.494Z"
   },
   {
    "duration": 520,
    "start_time": "2025-06-07T18:15:06.633Z"
   },
   {
    "duration": 67,
    "start_time": "2025-06-07T18:15:07.160Z"
   },
   {
    "duration": 132,
    "start_time": "2025-06-07T18:15:07.229Z"
   },
   {
    "duration": 3,
    "start_time": "2025-06-07T18:15:07.362Z"
   },
   {
    "duration": 33,
    "start_time": "2025-06-07T18:15:07.366Z"
   },
   {
    "duration": 28,
    "start_time": "2025-06-07T18:15:07.401Z"
   },
   {
    "duration": 239134,
    "start_time": "2025-06-07T18:15:07.431Z"
   },
   {
    "duration": 17995,
    "start_time": "2025-06-07T18:19:06.566Z"
   },
   {
    "duration": 349,
    "start_time": "2025-06-07T18:19:24.563Z"
   },
   {
    "duration": 4,
    "start_time": "2025-06-07T18:19:24.964Z"
   },
   {
    "duration": 97,
    "start_time": "2025-06-07T18:19:24.970Z"
   },
   {
    "duration": 474601,
    "start_time": "2025-06-07T18:19:25.068Z"
   },
   {
    "duration": 4,
    "start_time": "2025-06-07T18:27:19.670Z"
   },
   {
    "duration": 439,
    "start_time": "2025-06-07T18:27:19.675Z"
   },
   {
    "duration": 0,
    "start_time": "2025-06-07T18:27:20.115Z"
   },
   {
    "duration": 0,
    "start_time": "2025-06-07T18:27:20.117Z"
   },
   {
    "duration": 0,
    "start_time": "2025-06-07T18:27:20.117Z"
   },
   {
    "duration": 0,
    "start_time": "2025-06-07T18:27:20.119Z"
   },
   {
    "duration": 5073,
    "start_time": "2025-06-07T19:59:09.447Z"
   },
   {
    "duration": 1197,
    "start_time": "2025-06-07T19:59:14.522Z"
   },
   {
    "duration": 2,
    "start_time": "2025-06-07T19:59:15.721Z"
   },
   {
    "duration": 21,
    "start_time": "2025-06-07T19:59:15.725Z"
   },
   {
    "duration": 1058,
    "start_time": "2025-06-07T19:59:15.748Z"
   },
   {
    "duration": 306,
    "start_time": "2025-06-07T19:59:16.807Z"
   },
   {
    "duration": 3,
    "start_time": "2025-06-07T19:59:17.115Z"
   },
   {
    "duration": 25,
    "start_time": "2025-06-07T19:59:17.119Z"
   },
   {
    "duration": 109,
    "start_time": "2025-06-07T19:59:17.146Z"
   },
   {
    "duration": 88,
    "start_time": "2025-06-07T19:59:17.257Z"
   },
   {
    "duration": 39,
    "start_time": "2025-06-07T19:59:17.347Z"
   },
   {
    "duration": 198,
    "start_time": "2025-06-07T19:59:17.388Z"
   },
   {
    "duration": 22,
    "start_time": "2025-06-07T19:59:17.588Z"
   },
   {
    "duration": 4,
    "start_time": "2025-06-07T19:59:17.612Z"
   },
   {
    "duration": 102,
    "start_time": "2025-06-07T19:59:17.618Z"
   },
   {
    "duration": 603,
    "start_time": "2025-06-07T19:59:17.722Z"
   },
   {
    "duration": 112,
    "start_time": "2025-06-07T19:59:18.326Z"
   },
   {
    "duration": 313,
    "start_time": "2025-06-07T19:59:18.439Z"
   },
   {
    "duration": 73,
    "start_time": "2025-06-07T19:59:18.754Z"
   },
   {
    "duration": 377,
    "start_time": "2025-06-07T19:59:18.828Z"
   },
   {
    "duration": 59,
    "start_time": "2025-06-07T19:59:19.207Z"
   },
   {
    "duration": 136,
    "start_time": "2025-06-07T19:59:19.267Z"
   },
   {
    "duration": 473,
    "start_time": "2025-06-07T19:59:19.405Z"
   },
   {
    "duration": 68,
    "start_time": "2025-06-07T19:59:19.880Z"
   },
   {
    "duration": 120,
    "start_time": "2025-06-07T19:59:19.950Z"
   },
   {
    "duration": 4,
    "start_time": "2025-06-07T19:59:20.071Z"
   },
   {
    "duration": 22,
    "start_time": "2025-06-07T19:59:20.077Z"
   },
   {
    "duration": 7,
    "start_time": "2025-06-07T19:59:20.101Z"
   },
   {
    "duration": 239059,
    "start_time": "2025-06-07T19:59:20.109Z"
   },
   {
    "duration": 17602,
    "start_time": "2025-06-07T20:03:19.169Z"
   },
   {
    "duration": 401,
    "start_time": "2025-06-07T20:03:36.860Z"
   },
   {
    "duration": 5,
    "start_time": "2025-06-07T20:03:37.263Z"
   },
   {
    "duration": 94,
    "start_time": "2025-06-07T20:03:37.270Z"
   },
   {
    "duration": 521110,
    "start_time": "2025-06-07T20:03:37.365Z"
   },
   {
    "duration": 10793,
    "start_time": "2025-06-07T20:12:18.477Z"
   },
   {
    "duration": 904,
    "start_time": "2025-06-07T20:12:29.271Z"
   },
   {
    "duration": 4,
    "start_time": "2025-06-07T20:12:30.176Z"
   },
   {
    "duration": 8,
    "start_time": "2025-06-07T20:12:30.181Z"
   },
   {
    "duration": 281,
    "start_time": "2025-06-07T20:12:30.190Z"
   },
   {
    "duration": 3,
    "start_time": "2025-06-07T20:12:30.473Z"
   }
  ],
  "kernelspec": {
   "display_name": "practicum",
   "language": "python",
   "name": "python3"
  },
  "language_info": {
   "codemirror_mode": {
    "name": "ipython",
    "version": 3
   },
   "file_extension": ".py",
   "mimetype": "text/x-python",
   "name": "python",
   "nbconvert_exporter": "python",
   "pygments_lexer": "ipython3",
   "version": "3.9.21"
  },
  "toc": {
   "base_numbering": 1,
   "nav_menu": {},
   "number_sections": true,
   "sideBar": true,
   "skip_h1_title": true,
   "title_cell": "Table of Contents",
   "title_sidebar": "Contents",
   "toc_cell": false,
   "toc_position": {
    "height": "calc(100% - 180px)",
    "left": "10px",
    "top": "150px",
    "width": "245.188px"
   },
   "toc_section_display": true,
   "toc_window_display": true
  }
 },
 "nbformat": 4,
 "nbformat_minor": 2
}
